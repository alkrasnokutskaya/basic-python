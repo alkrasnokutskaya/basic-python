{
  "cells": [
    {
      "cell_type": "markdown",
      "metadata": {
        "id": "NVtLgQdl6vgJ"
      },
      "source": [
        "# Прикладное программное обеспечение\n",
        "#### Python для извлечения и обработки данных\n",
        "\n",
        "\n",
        "## Ввод, вывод, целочисленная арифметика\n",
        "\n",
        "*Автор: Татьяна Рогович, Александра Краснокутская НИУ ВШЭ*"
      ]
    },
    {
      "cell_type": "markdown",
      "metadata": {
        "id": "49ZEpHeW6vgM"
      },
      "source": [
        "### Функция ``print()``"
      ]
    },
    {
      "cell_type": "markdown",
      "metadata": {
        "id": "r_GEchxs6vgN"
      },
      "source": [
        "Мы уже поговорили о том, что с помощью Python можно решать огромное количество задач. Мы начнем с очень простых и постепенно будем усложнять. Если кто-то из вас уже сталкивался с программированием (например, в школе), то вы помните, что обычно самой первой программой становится вывод \"Hello, world\". Попробуем сделать это в Python."
      ]
    },
    {
      "cell_type": "code",
      "execution_count": null,
      "metadata": {
        "id": "XQu_UQr96vgN",
        "outputId": "9fc182f7-ce14-415e-f1a0-e6737e55c280"
      },
      "outputs": [
        {
          "name": "stdout",
          "output_type": "stream",
          "text": [
            "Hello, world!\n"
          ]
        }
      ],
      "source": [
        "print('Hello, world!')"
      ]
    },
    {
      "cell_type": "code",
      "execution_count": null,
      "metadata": {
        "id": "jfbtA27h6vgP",
        "outputId": "335bf4cc-cdf2-422b-de9d-973b1b6af218"
      },
      "outputs": [
        {
          "name": "stdout",
          "output_type": "stream",
          "text": [
            "1\n"
          ]
        }
      ],
      "source": [
        "print(1)"
      ]
    },
    {
      "cell_type": "markdown",
      "metadata": {
        "id": "5zYZPuI56vgP"
      },
      "source": [
        "Поздравляем, вы теперь программисты!\n",
        "Обратите внимание, что `\"Hello, world!\"` мы написали в кавычках, а единицу — нет. Это связанно с тем,\n",
        "что в программировании мы имеем дело с разными типами данных. И Python будет воспринимать текст как текст,\n",
        "только в том случае, если мы его возьмем в кавычки (неважно, одинарные или двойные). А при выводе эти кавычки отображаться уже не будут (они служат знаком для Python, что внутри них — текст).\n",
        "\n",
        "\n",
        "`print()` — это функция, которая собственно выводит наш текст. Распознать функцию в питоне можно по скобкам после слова, внутри которых мы передаем аргумент, к которому эту функцию нужно применить (текст `\"Hello, world\"` или `1` в нашем случае). "
      ]
    },
    {
      "cell_type": "code",
      "execution_count": null,
      "metadata": {
        "id": "H-JAhhP_6vgQ",
        "outputId": "d6db895e-79c9-4270-d24e-7add8d63c4cc"
      },
      "outputs": [
        {
          "ename": "SyntaxError",
          "evalue": "invalid syntax (<ipython-input-3-d14e6f3d0ea2>, line 1)",
          "output_type": "error",
          "traceback": [
            "\u001b[1;36m  File \u001b[1;32m\"<ipython-input-3-d14e6f3d0ea2>\"\u001b[1;36m, line \u001b[1;32m1\u001b[0m\n\u001b[1;33m    print(Hello, world!)\u001b[0m\n\u001b[1;37m                      ^\u001b[0m\n\u001b[1;31mSyntaxError\u001b[0m\u001b[1;31m:\u001b[0m invalid syntax\n"
          ]
        }
      ],
      "source": [
        "print(Hello, world!)"
      ]
    },
    {
      "cell_type": "markdown",
      "metadata": {
        "id": "UkIWjXNZ6vgQ"
      },
      "source": [
        "Написали без кавычек — получили ошибку. Кстати, обратите внимание, что очень часто в тексте ошибки есть указание на то, что именно произошло, и можно попробовать догадаться, что же нужно исправить.\n",
        "\n",
        "Иногда мы хотим комментировать наш код, чтобы я-будущий или наши коллеги поменьше задавались вопросом, почему мы что-то реализовали определенным образом. Комментарии можно писать прямо в коде, они не повлияют на работу программы, если их правильно оформить."
      ]
    },
    {
      "cell_type": "code",
      "execution_count": null,
      "metadata": {
        "id": "_LLy90y76vgR",
        "outputId": "0f93f11e-97f2-4ba0-c3cd-a593271892eb"
      },
      "outputs": [
        {
          "name": "stdout",
          "output_type": "stream",
          "text": [
            "Hello, world\n"
          ]
        }
      ],
      "source": [
        "# Обратите внимание: так выглядит комментарий - часть скрипта, которая не будет исполнена \n",
        "# при запуске программы.\n",
        "# Каждую строку комментария мы начинаем со знака хэштега.\n",
        "\n",
        "'''\n",
        "Это тоже комментарий - обычно выделение тремя апострофами мы используем для тех случаев, \n",
        "когда хотим написать длинный, развернутый текст.\n",
        "'''\n",
        "\n",
        "print('Hello, world')"
      ]
    },
    {
      "cell_type": "markdown",
      "metadata": {
        "id": "6hCN5gC66vgW"
      },
      "source": [
        "Следующая вещь, которую нужно знать про язык программирования —  как в нем задаются переменные. Переменные — это \n",
        "контейнеры, которые хранят в себе информацию (текстовую, числовую, какие-то более сложные виды данных). В Python\n",
        "знаком присвоения является знак `=`."
      ]
    },
    {
      "cell_type": "code",
      "execution_count": null,
      "metadata": {
        "id": "856NYsPl6vgW",
        "outputId": "187316d6-b608-4b6e-f661-71244ea85dd8"
      },
      "outputs": [
        {
          "name": "stdout",
          "output_type": "stream",
          "text": [
            "Hello, world!\n"
          ]
        }
      ],
      "source": [
        "x = 'Hello, world!'\n",
        "print(x)    # Обратите внимание, что результат вызова этой функции такой же, как выше, \n",
        "            # только текст теперь хранится внутри переменной."
      ]
    },
    {
      "cell_type": "markdown",
      "metadata": {
        "id": "N9kp4zcK6vgX"
      },
      "source": [
        "Python —  язык чувствительный к регистру. Поэтому, когда создаете/вызываете переменные или функции, обязательно используйте правильный регистр. Так, следующая строка выдаст ошибку."
      ]
    },
    {
      "cell_type": "code",
      "execution_count": null,
      "metadata": {
        "id": "e3rFA8mf6vgX",
        "outputId": "b74fe154-4093-472b-d18b-935951e8eb84"
      },
      "outputs": [
        {
          "ename": "NameError",
          "evalue": "name 'X' is not defined",
          "output_type": "error",
          "traceback": [
            "\u001b[1;31m---------------------------------------------------------------------------\u001b[0m",
            "\u001b[1;31mNameError\u001b[0m                                 Traceback (most recent call last)",
            "\u001b[1;32m<ipython-input-6-fa0134f942c4>\u001b[0m in \u001b[0;36m<module>\u001b[1;34m\u001b[0m\n\u001b[1;32m----> 1\u001b[1;33m \u001b[0mprint\u001b[0m\u001b[1;33m(\u001b[0m\u001b[0mX\u001b[0m\u001b[1;33m)\u001b[0m\u001b[1;33m\u001b[0m\u001b[0m\n\u001b[0m",
            "\u001b[1;31mNameError\u001b[0m: name 'X' is not defined"
          ]
        }
      ],
      "source": [
        "print(X) # Мы создали переменную x, а X не существует"
      ]
    },
    {
      "cell_type": "markdown",
      "metadata": {
        "id": "uFwG7fVs6vgX"
      },
      "source": [
        "Еще раз обратим внимание на ошибку. `NameError: name 'X' is not defined` означает, что переменная с таким названием не была создана в этой программе. Кстати, обратите внимание, что переменные в Jupyter хранятся на протяжении всей сессии (пока вы работаете с блокнотом и не закрыли его), и могут быть созданы в одной ячейке, а вызваны в другой. Давайте опять попробуем обратиться к `x`."
      ]
    },
    {
      "cell_type": "code",
      "execution_count": null,
      "metadata": {
        "id": "voXkCvnj6vgY",
        "outputId": "e2baaf30-6cd1-4207-c8c2-81d3ba781b15"
      },
      "outputs": [
        {
          "name": "stdout",
          "output_type": "stream",
          "text": [
            "Hello, world!\n"
          ]
        }
      ],
      "source": [
        "print(x) # Работает!"
      ]
    },
    {
      "cell_type": "markdown",
      "metadata": {
        "id": "4uhz9wck6vgY"
      },
      "source": [
        "### Типы данных: целочисленные переменные (`integer`) и текстовые переменные (`string`)"
      ]
    },
    {
      "cell_type": "markdown",
      "metadata": {
        "id": "Fb41by5g6vgY"
      },
      "source": [
        "Сегодня мы познакомимся только с двумя типами данных, с которыми умеет работать Python. \n",
        "Если вы вдруг знакомы с другими языками программирования, то стоит отметить, что типизация в Python — динамическая.Это значит, что вам не нужно говорить какой тип данных вы хотите положить в переменную — Python сам все определит. Проверить тип данных можно с помощью функции `type()`, передав ей в качестве аргумента сами данные или переменную.\n",
        "\n",
        "**ЦЕЛЫЕ ЧИСЛА (INT, INTEGER):** 1, 2, 592, 1030523235 — любое целое число без дробной части."
      ]
    },
    {
      "cell_type": "code",
      "execution_count": null,
      "metadata": {
        "id": "f_Eb9H9N6vgY",
        "outputId": "9181b6c3-3c69-4b76-aba9-cff163c6d829"
      },
      "outputs": [
        {
          "name": "stdout",
          "output_type": "stream",
          "text": [
            "<class 'int'>\n",
            "<class 'int'>\n"
          ]
        }
      ],
      "source": [
        "y = 2\n",
        "print(type(2)) # type(2) Если написать без print(), то программа выведет \n",
        "print(type(y)) # type(y) только презультат последней команды"
      ]
    },
    {
      "cell_type": "markdown",
      "metadata": {
        "id": "ZQkVPn0S6vgZ"
      },
      "source": [
        "Обратите внимание — выше мы вызвали функцию внутри функции. \n",
        "`type(2)` возвращает скрытое значение типа переменной (`int` для `integer`). \n",
        "Чтобы вывести это скрытое значение в консоль — мы должны его \"напечатать\".\n",
        "\n",
        "Самое элементарное, что можно делать в Python — использовать его как калькулятор. Давайте посмотрим, как\n",
        "он вычитает, слогает и умножает."
      ]
    },
    {
      "cell_type": "code",
      "execution_count": null,
      "metadata": {
        "id": "AMiIwA9f6vgZ",
        "outputId": "08357674-b668-4fb9-c3dd-c1293564aa93"
      },
      "outputs": [
        {
          "name": "stdout",
          "output_type": "stream",
          "text": [
            "4\n",
            "9\n",
            "12\n"
          ]
        }
      ],
      "source": [
        "print(2 + 2)\n",
        "print(18 - 9)\n",
        "print(4 * 3)"
      ]
    },
    {
      "cell_type": "markdown",
      "metadata": {
        "id": "snwulWmG6vgZ"
      },
      "source": [
        "С делением нужно быть немного осторожней. Существует два типа деления — привычное нам, которое даст в ответе дробь при делении 5 на 2, и целочисленное деление, в результате которого мы получим только целую часть частного."
      ]
    },
    {
      "cell_type": "code",
      "execution_count": null,
      "metadata": {
        "id": "aQw7IKrT6vga",
        "outputId": "495e9bc7-546f-4d96-d7c1-521e40b661cf"
      },
      "outputs": [
        {
          "name": "stdout",
          "output_type": "stream",
          "text": [
            "2.5\n",
            "<class 'float'>\n",
            "2\n"
          ]
        }
      ],
      "source": [
        "print(5 / 2)  # В результате такого деления получается другой тип данных (float), подробнее о нем поговорим позже.\n",
        "print(type(5 / 2)) \n",
        "print(5 // 2)"
      ]
    },
    {
      "cell_type": "markdown",
      "metadata": {
        "id": "zUkAE34h6vga"
      },
      "source": [
        "А если нам надо как раз найти остаток от деления, то мы можем воспользоваться знаком модуло `%`.\n"
      ]
    },
    {
      "cell_type": "code",
      "execution_count": null,
      "metadata": {
        "id": "SmcVMrYm6vga",
        "outputId": "1d20e6c2-3111-4f0f-bedd-d43a27c355b8"
      },
      "outputs": [
        {
          "name": "stdout",
          "output_type": "stream",
          "text": [
            "1\n"
          ]
        }
      ],
      "source": [
        "print(5 % 2)"
      ]
    },
    {
      "cell_type": "markdown",
      "metadata": {
        "id": "J75X8y1m6vga"
      },
      "source": [
        "Стоит заметить, что все эти истории работают и когда мы присваиваем числа переменным.\n"
      ]
    },
    {
      "cell_type": "code",
      "execution_count": null,
      "metadata": {
        "id": "F92czya-6vgb",
        "outputId": "4008a261-1b60-4eba-9286-a333d5115198"
      },
      "outputs": [
        {
          "name": "stdout",
          "output_type": "stream",
          "text": [
            "8\n",
            "125\n"
          ]
        }
      ],
      "source": [
        "a = 2\n",
        "b = 3\n",
        "print(a ** b)\n",
        "\n",
        "# Изменится ли результат, если мы перезапишем переменную a?\n",
        "a = 5\n",
        "print(a ** b)"
      ]
    },
    {
      "cell_type": "markdown",
      "metadata": {
        "id": "fc-Q3jLB6vgb"
      },
      "source": [
        "**ТЕКСТ (СТРОКИ) (STR, STRING):** любой текст внутри одинарных или двойных кавычек. \n",
        "Важно: если целое число мы возьмем в кавычки, то оно станет строкой. Ниже посмотрим, почему это проблематично."
      ]
    },
    {
      "cell_type": "code",
      "execution_count": null,
      "metadata": {
        "id": "VJ8-lGNl6vgb",
        "outputId": "dc5ba1a1-93d2-4346-fa01-f785a4468338"
      },
      "outputs": [
        {
          "name": "stdout",
          "output_type": "stream",
          "text": [
            "<class 'str'>\n",
            "<class 'str'>\n",
            "<class 'str'>\n"
          ]
        }
      ],
      "source": [
        "x = 'text'\n",
        "print(type(x))\n",
        "print(type('Hello, world!'))\n",
        "print(type('2'))"
      ]
    },
    {
      "cell_type": "markdown",
      "metadata": {
        "id": "1QOqg2u86vgb"
      },
      "source": [
        "Если попробовать сложить число-строку и число-число, то получим ошибку."
      ]
    },
    {
      "cell_type": "code",
      "execution_count": null,
      "metadata": {
        "id": "kWJYu0Uu6vgb",
        "outputId": "5d207aa2-8cee-4e19-b4b8-37b5b7e02126"
      },
      "outputs": [
        {
          "ename": "TypeError",
          "evalue": "must be str, not int",
          "output_type": "error",
          "traceback": [
            "\u001b[1;31m---------------------------------------------------------------------------\u001b[0m",
            "\u001b[1;31mTypeError\u001b[0m                                 Traceback (most recent call last)",
            "\u001b[1;32m<ipython-input-15-81ac1f9e7aa0>\u001b[0m in \u001b[0;36m<module>\u001b[1;34m\u001b[0m\n\u001b[1;32m----> 1\u001b[1;33m \u001b[0mprint\u001b[0m\u001b[1;33m(\u001b[0m\u001b[1;34m'2'\u001b[0m \u001b[1;33m+\u001b[0m \u001b[1;36m3\u001b[0m\u001b[1;33m)\u001b[0m\u001b[1;33m\u001b[0m\u001b[0m\n\u001b[0m",
            "\u001b[1;31mTypeError\u001b[0m: must be str, not int"
          ]
        }
      ],
      "source": [
        "print('2' + 3)"
      ]
    },
    {
      "cell_type": "markdown",
      "metadata": {
        "id": "2D43bHjn6vgc"
      },
      "source": [
        "Еще раз обратим внимание на текст ошибки. `TypeError: must be str, not int` — `TypeError` означает, что данная команда не может быть исполнена из-за типа какой-то из переменных. В данном случаем видим, что что-то должно быть `\"str\"`, когда оно типа `\"int\"`. Давайте попробуем сделать 3 тоже строкой. Кстати, неважно какие вы используете кавычки (только если это не текст с кавычками внутри), главное, чтобы открывающая и закрывающая кавычки были одинаковые."
      ]
    },
    {
      "cell_type": "code",
      "execution_count": null,
      "metadata": {
        "id": "VJs6HhlF6vgc",
        "outputId": "c427ea9e-aa95-4295-b4c0-6638f18e7a61"
      },
      "outputs": [
        {
          "name": "stdout",
          "output_type": "stream",
          "text": [
            "23\n"
          ]
        }
      ],
      "source": [
        "print('2' + \"3\")"
      ]
    },
    {
      "cell_type": "markdown",
      "metadata": {
        "id": "hLvAvpUW6vgc"
      },
      "source": [
        "Такая операция называется контакенация (слиянием) строк. "
      ]
    },
    {
      "cell_type": "code",
      "execution_count": null,
      "metadata": {
        "id": "W-rosE9i6vgc",
        "outputId": "f46a8976-7454-4427-f575-c3778c92cc58"
      },
      "outputs": [
        {
          "ename": "TypeError",
          "evalue": "unsupported operand type(s) for +: 'int' and 'str'",
          "output_type": "error",
          "traceback": [
            "\u001b[1;31m---------------------------------------------------------------------------\u001b[0m",
            "\u001b[1;31mTypeError\u001b[0m                                 Traceback (most recent call last)",
            "\u001b[1;32m<ipython-input-17-4f605c4b9ee9>\u001b[0m in \u001b[0;36m<module>\u001b[1;34m\u001b[0m\n\u001b[1;32m----> 1\u001b[1;33m \u001b[0mprint\u001b[0m\u001b[1;33m(\u001b[0m\u001b[1;36m3\u001b[0m \u001b[1;33m+\u001b[0m \u001b[1;34m'2'\u001b[0m\u001b[1;33m)\u001b[0m\u001b[1;33m\u001b[0m\u001b[0m\n\u001b[0m",
            "\u001b[1;31mTypeError\u001b[0m: unsupported operand type(s) for +: 'int' and 'str'"
          ]
        }
      ],
      "source": [
        "print(3 + '2')"
      ]
    },
    {
      "cell_type": "markdown",
      "metadata": {
        "id": "DDBF-wHT6vgc"
      },
      "source": [
        "Кстати, интересно, что если мы поменяем слагаемые местами, то значение ошибки тоже изменится. Это происходит потому, что Python делает вывод о том, какое действие мы хотели совершить, основываясь на первом слогаемом. В прошлый раз это была строка и Python не смог провести контакенацию для строки и числа. Теперь первое слогаемое — целое число, и Python выдает ошибку, что операция арифметического сложения невозможно между числом и строкой.\n",
        "\n",
        "А вот умножить строку на число можно. Такая операция повторит нам строку заданное количество раз."
      ]
    },
    {
      "cell_type": "code",
      "execution_count": null,
      "metadata": {
        "id": "sShKD69r6vgc",
        "outputId": "47132aff-0695-497f-e394-c6c6abf28b0c"
      },
      "outputs": [
        {
          "name": "stdout",
          "output_type": "stream",
          "text": [
            "222\n"
          ]
        }
      ],
      "source": [
        "print('2' * 3)"
      ]
    },
    {
      "cell_type": "markdown",
      "metadata": {
        "id": "gygs9vcz6vgd"
      },
      "source": [
        "Операции со строками тоже работают, если строки лежат внутри переменных."
      ]
    },
    {
      "cell_type": "code",
      "execution_count": null,
      "metadata": {
        "id": "gTVebB-K6vgd",
        "outputId": "73b5d15d-d9a8-41a7-8557-176df1e49a21"
      },
      "outputs": [
        {
          "name": "stdout",
          "output_type": "stream",
          "text": [
            "John Brown\n",
            "John Brown\n"
          ]
        }
      ],
      "source": [
        "word1 = 'John'\n",
        "word2 = ' Brown'\n",
        "print(word1 + word2)\n",
        "word3 = word1 + word2 # Можем результат контакенации положить в новую переменную\n",
        "print(word3)"
      ]
    },
    {
      "cell_type": "markdown",
      "metadata": {
        "id": "3ac4UTkL6vgd"
      },
      "source": [
        "Если мы хотим проверить, совпадает ли значение `word1 + word2` и `word3`, то можем использовать оператор сравнения `==`."
      ]
    },
    {
      "cell_type": "code",
      "execution_count": null,
      "metadata": {
        "id": "H1Ye36qn6vgd",
        "outputId": "ba7decab-7b92-4f7a-8e80-7468790d0a11"
      },
      "outputs": [
        {
          "data": {
            "text/plain": [
              "True"
            ]
          },
          "execution_count": 20,
          "metadata": {},
          "output_type": "execute_result"
        }
      ],
      "source": [
        "word1 + word2 == word3"
      ]
    },
    {
      "cell_type": "code",
      "execution_count": null,
      "metadata": {
        "id": "279Xyo-76vgd",
        "outputId": "82c1dead-4f91-4b58-b389-501a80878288"
      },
      "outputs": [
        {
          "name": "stdout",
          "output_type": "stream",
          "text": [
            "<class 'bool'>\n"
          ]
        }
      ],
      "source": [
        "print(type(word1 + word2 == word3))"
      ]
    },
    {
      "cell_type": "markdown",
      "metadata": {
        "id": "KJgsjnBz6vgd"
      },
      "source": [
        "Команда выдла `True`, значит, наши строки идентичны.  Если посмотреть на тип этого значения, то получим `bool` (логический тип данных, о нем поговорим на последующих занятиях)."
      ]
    },
    {
      "cell_type": "markdown",
      "metadata": {
        "id": "r_mVEr066vge"
      },
      "source": [
        "### Изменение типа переменных"
      ]
    },
    {
      "cell_type": "markdown",
      "metadata": {
        "id": "4UEqbFUY6vge"
      },
      "source": [
        "В Python мы можем изменить тип переменной (если он удовлетворяет условиям). Так отличный кандидат на перевод из одного типа в другой — текстовая переменная, которая содержит число `('12242')`. Превратить строку в число можно с помощью функции `int()` и обратно с помощью функции `str()`."
      ]
    },
    {
      "cell_type": "code",
      "execution_count": null,
      "metadata": {
        "id": "vuwgGA1V6vge",
        "outputId": "505b74d6-1025-47b3-bab7-3afcc0ba2c22"
      },
      "outputs": [
        {
          "name": "stdout",
          "output_type": "stream",
          "text": [
            "2514\n"
          ]
        }
      ],
      "source": [
        "print(2 + int('2512')) # Нет ошибки!"
      ]
    },
    {
      "cell_type": "code",
      "execution_count": null,
      "metadata": {
        "id": "BtuTqpq26vge",
        "outputId": "fe5f7ddd-a776-4003-b9bc-d8f036b8cd46"
      },
      "outputs": [
        {
          "name": "stdout",
          "output_type": "stream",
          "text": [
            "abs123\n"
          ]
        }
      ],
      "source": [
        "print('abs' + str(123))"
      ]
    },
    {
      "cell_type": "markdown",
      "metadata": {
        "id": "ECFlTqFP6vge"
      },
      "source": [
        "Обратите внимание: эти функции не меняют тип самих данных или переменных, в которых они хранятся. Если мы не перезапишем значение, то строка станет числом только в конкретной строчке команды, а ее тип не изменится."
      ]
    },
    {
      "cell_type": "code",
      "execution_count": null,
      "metadata": {
        "id": "LRcqbBTR6vge",
        "outputId": "ca5845a2-e53c-4fb4-d9c5-07f028b283d6"
      },
      "outputs": [
        {
          "name": "stdout",
          "output_type": "stream",
          "text": [
            "<class 'str'>\n",
            "2342125\n",
            "<class 'str'>\n"
          ]
        }
      ],
      "source": [
        "a = '2342123'\n",
        "print(type(a))\n",
        "print(2 + int(a))\n",
        "print(type(a))"
      ]
    },
    {
      "cell_type": "code",
      "execution_count": null,
      "metadata": {
        "id": "gahdz3fu6vge",
        "outputId": "1e38bddb-9099-4bc5-a384-85c9bd56b4e8"
      },
      "outputs": [
        {
          "name": "stdout",
          "output_type": "stream",
          "text": [
            "<class 'int'>\n"
          ]
        }
      ],
      "source": [
        "a = int(a)     # Перезаписываем значение переменной\n",
        "print(type(a)) # Теперь изменился и тип"
      ]
    },
    {
      "cell_type": "markdown",
      "metadata": {
        "id": "Ym6ToXQu6vgf"
      },
      "source": [
        "### Функция `print()`: аргументы и параметры"
      ]
    },
    {
      "cell_type": "markdown",
      "metadata": {
        "id": "xZYrRdE16vgh"
      },
      "source": [
        "На самом деле функция `print()` немного сложнее, чем то, что мы уже видели. Например, мы можем печатать одной функцией больше чем один аргумент и использовать разделители вместо пробелов. "
      ]
    },
    {
      "cell_type": "code",
      "execution_count": null,
      "metadata": {
        "id": "BYCcqb7r6vgh",
        "outputId": "b8872a7f-5bcc-416f-827b-3c51de809fda"
      },
      "outputs": [
        {
          "name": "stdout",
          "output_type": "stream",
          "text": [
            "2 + 3 = 5\n",
            "2 + 3 = 5\n"
          ]
        }
      ],
      "source": [
        "print('2 + 3 =', 2 + 3)\n",
        "z = 5\n",
        "print('2 + 3 =', z)"
      ]
    },
    {
      "cell_type": "markdown",
      "metadata": {
        "id": "A0As2syo6vgh"
      },
      "source": [
        "У функции `print()` есть параметры. Параметры — это такие свойства функций, которые задают значение невидимых нам аргументов внутри функции. Так существует параметр `sep` (separator), благодаря которому мы можем менять тип разделителя между аргументами `print()`. В качестве разделителя может выступать любая строка.  \n",
        "Сравните:"
      ]
    },
    {
      "cell_type": "code",
      "execution_count": null,
      "metadata": {
        "id": "ByRjMK8M6vgh",
        "outputId": "db5cc30a-be2e-490a-9769-172b6b7ce8d2"
      },
      "outputs": [
        {
          "name": "stdout",
          "output_type": "stream",
          "text": [
            "1 2 3\n",
            "1.2.3\n",
            "123\n"
          ]
        }
      ],
      "source": [
        "print('1', '2', '3')\n",
        "print('1', '2', '3', sep='.')\n",
        "print('1', '2', '3', sep='')"
      ]
    },
    {
      "cell_type": "markdown",
      "metadata": {
        "id": "Yo0kXxPw6vgi"
      },
      "source": [
        "Параметр `end` задает то, что будет выведено в конце исполнения функции `print()`. По умолчанию там стоит \n",
        "невидимый символ `\\n`, который осуществляет переход на новую строку. Мы можем заменить его на любую строку. \n",
        "Если мы хотим сохранить переход на новую строку — то обязательно прописываем наш невидимый символ внутри\n",
        "выражения."
      ]
    },
    {
      "cell_type": "code",
      "execution_count": null,
      "metadata": {
        "id": "nS0UZvFa6vgi",
        "outputId": "66c849d0-9602-4dfd-dc65-e1d56a3db0f4"
      },
      "outputs": [
        {
          "name": "stdout",
          "output_type": "stream",
          "text": [
            "1.2.3!2\n",
            "1.2.3!\n",
            "2\n"
          ]
        }
      ],
      "source": [
        "print('1', '2', '3', sep='.', end='!')\n",
        "print('2')  # Строки слились\n",
        "\n",
        "print('1', '2', '3', sep='.', end='!\\n')\n",
        "print('2')  # Вывод на новой строке"
      ]
    },
    {
      "cell_type": "markdown",
      "metadata": {
        "id": "bBO7q1La6vgi"
      },
      "source": [
        "### Чтение строк и чисел с консоли (`input()`)"
      ]
    },
    {
      "cell_type": "markdown",
      "metadata": {
        "id": "F2UUswhT6vgi"
      },
      "source": [
        "Познакомимся с функцией `input()` — ввод. Это функция позволяет нам просить\n",
        "пользователя что-нибудь ввести или принять на ввод какие-то данные."
      ]
    },
    {
      "cell_type": "code",
      "execution_count": null,
      "metadata": {
        "id": "wsdDt3sU6vgi",
        "outputId": "74486856-aa9d-4b95-dc33-af7654eaa93d"
      },
      "outputs": [
        {
          "name": "stdout",
          "output_type": "stream",
          "text": [
            "Print something:2\n",
            "2\n"
          ]
        }
      ],
      "source": [
        "x = input('Print something:')\n",
        "print(x)"
      ]
    },
    {
      "cell_type": "markdown",
      "metadata": {
        "id": "gLYg19uS6vgj"
      },
      "source": [
        "`'Print something:'` — аргумент функции `input()`, который будет отображаться в строке ввода. Он необязателен, но он может быть полезен для вас (особенно, если в задаче требуется ввести больше одной строки данных и нужно не запутаться).\n",
        "\n",
        "Обратите внимание, что функция  `input()` все сохраняет в строковом формате данных. Но мы можем сделать из\n",
        "числа-строки число-число с помощью функции `int()`. Введите `1` в обоих случаях и сравните результат."
      ]
    },
    {
      "cell_type": "code",
      "execution_count": null,
      "metadata": {
        "id": "Cv2Fa6-i6vgj",
        "outputId": "8f1a8870-3b48-4411-f7f0-abfb46b34e9f"
      },
      "outputs": [
        {
          "name": "stdout",
          "output_type": "stream",
          "text": [
            "1\n",
            "<class 'str'>\n",
            "1\n",
            "<class 'int'>\n"
          ]
        }
      ],
      "source": [
        "print(type(input()))\n",
        "print(type(int(input())))"
      ]
    },
    {
      "cell_type": "markdown",
      "metadata": {
        "id": "p-_YmbkW6vgj"
      },
      "source": [
        "Давайте введем значения для двух переменных и сложим их."
      ]
    },
    {
      "cell_type": "code",
      "execution_count": null,
      "metadata": {
        "id": "J2RVG-jz6vgj",
        "outputId": "cbdc1f37-49b0-4298-cd85-1d86d5c26df2"
      },
      "outputs": [
        {
          "name": "stdout",
          "output_type": "stream",
          "text": [
            "Input x value 2\n",
            "Input y value 3\n",
            "23\n"
          ]
        }
      ],
      "source": [
        "x = input('Input x value ')\n",
        "y = input('Input y value ')\n",
        "print(x + y) # Произошла склейка строк, по умолчанию input() сохраняет значение типа str"
      ]
    },
    {
      "cell_type": "markdown",
      "metadata": {
        "id": "VpkpXTDI6vgj"
      },
      "source": [
        "А теперь переведем оба ввода в целые числа."
      ]
    },
    {
      "cell_type": "code",
      "execution_count": null,
      "metadata": {
        "id": "rKLGZ0k26vgj",
        "outputId": "4355b9bb-2509-484e-c2aa-15f0c4e9857d"
      },
      "outputs": [
        {
          "name": "stdout",
          "output_type": "stream",
          "text": [
            "Input x value 2\n",
            "Input y value 3\n",
            "5\n"
          ]
        }
      ],
      "source": [
        "x = int(input('Input x value '))\n",
        "y = int(input('Input y value '))\n",
        "print(x + y) # Вот теперь произошло сложение чисел"
      ]
    },
    {
      "cell_type": "markdown",
      "metadata": {
        "id": "rYfRvBnK6vgj"
      },
      "source": [
        "Если мы попробуем сложить разные типы данных, получим ошибку."
      ]
    },
    {
      "cell_type": "code",
      "execution_count": null,
      "metadata": {
        "id": "BBfiXOMV6vgk",
        "outputId": "6e69be4a-da94-47ad-f7a7-ff50fdc7f5ac"
      },
      "outputs": [
        {
          "name": "stdout",
          "output_type": "stream",
          "text": [
            "Input x value 2\n",
            "Input y value 3\n"
          ]
        },
        {
          "ename": "TypeError",
          "evalue": "must be str, not int",
          "output_type": "error",
          "traceback": [
            "\u001b[1;31m---------------------------------------------------------------------------\u001b[0m",
            "\u001b[1;31mTypeError\u001b[0m                                 Traceback (most recent call last)",
            "\u001b[1;32m<ipython-input-37-92a006262cb2>\u001b[0m in \u001b[0;36m<module>\u001b[1;34m\u001b[0m\n\u001b[0;32m      1\u001b[0m \u001b[0mx\u001b[0m \u001b[1;33m=\u001b[0m \u001b[0minput\u001b[0m\u001b[1;33m(\u001b[0m\u001b[1;34m'Input x value '\u001b[0m\u001b[1;33m)\u001b[0m\u001b[1;33m\u001b[0m\u001b[0m\n\u001b[0;32m      2\u001b[0m \u001b[0my\u001b[0m \u001b[1;33m=\u001b[0m \u001b[0mint\u001b[0m\u001b[1;33m(\u001b[0m\u001b[0minput\u001b[0m\u001b[1;33m(\u001b[0m\u001b[1;34m'Input y value '\u001b[0m\u001b[1;33m)\u001b[0m\u001b[1;33m)\u001b[0m\u001b[1;33m\u001b[0m\u001b[0m\n\u001b[1;32m----> 3\u001b[1;33m \u001b[0mprint\u001b[0m\u001b[1;33m(\u001b[0m\u001b[0mx\u001b[0m \u001b[1;33m+\u001b[0m \u001b[0my\u001b[0m\u001b[1;33m)\u001b[0m\u001b[1;33m\u001b[0m\u001b[0m\n\u001b[0m",
            "\u001b[1;31mTypeError\u001b[0m: must be str, not int"
          ]
        }
      ],
      "source": [
        "x = input('Input x value ')\n",
        "y = int(input('Input y value '))\n",
        "print(x + y) "
      ]
    },
    {
      "cell_type": "markdown",
      "metadata": {
        "id": "THBfXo2V6vgk"
      },
      "source": [
        "## Задачи для тренировки\n",
        "Часть из этих задач мы решим в классе. Но если мы даже не успеем — попытайтесь сделать их дома сами.\n",
        "\n",
        "### Задание 1. Степень двойки\n",
        "\n",
        "**ФОРМАТ ВВОДА**\n",
        "\n",
        "+ Вводится целое неотрицательное число N (N≤100).\n",
        "\n",
        "**ФОРМАТ ВЫВОДА**\n",
        "\n",
        "+ Выведите 2^N.\n",
        "\n",
        "**ПРИМЕР**    \n",
        "\n",
        "Входные данные:  \n",
        "2  \n",
        "Вывод программы:  \n",
        "4"
      ]
    },
    {
      "cell_type": "code",
      "execution_count": null,
      "metadata": {
        "id": "tmQaUhQ66vgk",
        "outputId": "1610756d-ce3b-4097-b664-bc207ef56731"
      },
      "outputs": [
        {
          "name": "stdout",
          "output_type": "stream",
          "text": [
            "4\n"
          ]
        }
      ],
      "source": [
        "N = int(input()) # На вход подается число"
      ]
    },
    {
      "cell_type": "code",
      "execution_count": null,
      "metadata": {
        "id": "0CS1gYpJ6vgk",
        "outputId": "4738c482-84aa-4a6a-fb97-c366e5ea6e52"
      },
      "outputs": [
        {
          "name": "stdout",
          "output_type": "stream",
          "text": [
            "16\n"
          ]
        }
      ],
      "source": [
        "print(2**N) # Возведение в степень в Python осуществляется с помощью **"
      ]
    },
    {
      "cell_type": "markdown",
      "metadata": {
        "id": "ZKA91DVu6vgk"
      },
      "source": [
        "### Задание 2. Следующее и предыдущее\n",
        "Напишите программу, которая считывает целое число и выводит текст, аналогичный приведенному в примере (важно в точности соблюдать вывод программы: обратите внимание на пробелы и на точки). Нельзя пользоваться конкатенацией строк, используйте print с несколькими параметрами.\n",
        "\n",
        "**ФОРМАТ ВВОДА**\n",
        "\n",
        "+ Вводится целое число (гарантируется, что число находится в диапазоне от 1 до 1000).\n",
        "\n",
        "**ФОРМАТ ВЫВОДА**\n",
        "\n",
        "+ Выведите две строки, согласно образцу.\n",
        "\n",
        "**ПРИМЕР**  \n",
        "  \n",
        "Входные данные:  \n",
        "179  \n",
        "\n",
        "Вывод программы:  \n",
        "The next number for the number 179 is 180.  \n",
        "The previous number for the number 179 is 178."
      ]
    },
    {
      "cell_type": "code",
      "execution_count": null,
      "metadata": {
        "id": "nKDfkeC06vgk",
        "outputId": "4aa18842-fd5c-4c9b-9a6b-cc08c279dec7"
      },
      "outputs": [
        {
          "name": "stdout",
          "output_type": "stream",
          "text": [
            "179\n"
          ]
        }
      ],
      "source": [
        "x = int(input()) # На вход подается число"
      ]
    },
    {
      "cell_type": "code",
      "execution_count": null,
      "metadata": {
        "id": "3-jaY5zb6vgl",
        "outputId": "026eb6db-433d-4f55-e135-52a68b2a9c1a"
      },
      "outputs": [
        {
          "data": {
            "text/plain": [
              "180"
            ]
          },
          "execution_count": 43,
          "metadata": {},
          "output_type": "execute_result"
        }
      ],
      "source": [
        "x1 = x+1  # Создадим число, которое больше введенного на 1\n",
        "x1"
      ]
    },
    {
      "cell_type": "code",
      "execution_count": null,
      "metadata": {
        "id": "is3l8Hry6vgl",
        "outputId": "4fbe6e4d-a2ab-4cfc-97c3-5766d9587f64"
      },
      "outputs": [
        {
          "data": {
            "text/plain": [
              "178"
            ]
          },
          "execution_count": 44,
          "metadata": {},
          "output_type": "execute_result"
        }
      ],
      "source": [
        "x2 = x-1  # Создадим число, которое меньше введенного на 1\n",
        "x2"
      ]
    },
    {
      "cell_type": "code",
      "execution_count": null,
      "metadata": {
        "id": "odJriWj26vgl",
        "outputId": "955a2727-3a74-4e45-e582-ae2fd7ab8760"
      },
      "outputs": [
        {
          "name": "stdout",
          "output_type": "stream",
          "text": [
            "The next number for the number  179  is  180 .\n"
          ]
        }
      ],
      "source": [
        "# Можно запиать все агрументы через запятую, однако в таком случае перед точкой в конце будет пробел\n",
        "print(\"The next number for the number \", x, \" is \", x1,\".\") "
      ]
    },
    {
      "cell_type": "code",
      "execution_count": null,
      "metadata": {
        "id": "eUfR9epb6vgl",
        "outputId": "99d928a7-37cb-458e-de01-5e5507426a39"
      },
      "outputs": [
        {
          "ename": "TypeError",
          "evalue": "unsupported operand type(s) for +: 'int' and 'str'",
          "output_type": "error",
          "traceback": [
            "\u001b[1;31m---------------------------------------------------------------------------\u001b[0m",
            "\u001b[1;31mTypeError\u001b[0m                                 Traceback (most recent call last)",
            "\u001b[1;32m<ipython-input-46-666f3095131a>\u001b[0m in \u001b[0;36m<module>\u001b[1;34m\u001b[0m\n\u001b[0;32m      1\u001b[0m \u001b[1;31m# В данном слуаче + не сработает\u001b[0m\u001b[1;33m\u001b[0m\u001b[1;33m\u001b[0m\u001b[0m\n\u001b[1;32m----> 2\u001b[1;33m \u001b[0mprint\u001b[0m\u001b[1;33m(\u001b[0m\u001b[1;34m\"The next number for the number\"\u001b[0m\u001b[1;33m,\u001b[0m \u001b[0mx\u001b[0m\u001b[1;33m,\u001b[0m \u001b[1;34m\"is\"\u001b[0m\u001b[1;33m,\u001b[0m \u001b[0mx1\u001b[0m \u001b[1;33m+\u001b[0m \u001b[1;34m\".\"\u001b[0m\u001b[1;33m)\u001b[0m\u001b[1;33m\u001b[0m\u001b[0m\n\u001b[0m",
            "\u001b[1;31mTypeError\u001b[0m: unsupported operand type(s) for +: 'int' and 'str'"
          ]
        }
      ],
      "source": [
        "# В данном слуаче + не сработает\n",
        "print(\"The next number for the number\", x, \"is\", x1 + \".\") "
      ]
    },
    {
      "cell_type": "code",
      "execution_count": null,
      "metadata": {
        "id": "7cMujdyl6vgl",
        "outputId": "43b52b6f-25c7-44c9-ae15-8a5d2423c614"
      },
      "outputs": [
        {
          "name": "stdout",
          "output_type": "stream",
          "text": [
            "The next number for the number  179  is  180."
          ]
        }
      ],
      "source": [
        "print(\"The next number for the number \", x, \" is \", x1, end='.')"
      ]
    },
    {
      "cell_type": "code",
      "execution_count": null,
      "metadata": {
        "id": "YXLNsev56vgl",
        "outputId": "11d34fce-7be0-45bb-cff3-e1eba930037e"
      },
      "outputs": [
        {
          "name": "stdout",
          "output_type": "stream",
          "text": [
            "The next number for the number 179 is 180.\n",
            "The previous number for the number 179 is 178.\n"
          ]
        }
      ],
      "source": [
        "# Либо можно использовать такой формат записи - в фигурных скобках указаны наши переменные\n",
        "print(f'The next number for the number {x} is {x1}.')\n",
        "print(f'The previous number for the number {x} is {x2}.')"
      ]
    },
    {
      "cell_type": "markdown",
      "metadata": {
        "id": "fC14NBr86vgl"
      },
      "source": [
        "### Задание 3. Последняя цифра\n",
        "\n",
        "Дано натуральное число. Выведите его последнюю цифру.\n",
        "\n",
        "**ФОРМАТ ВВОДА**\n",
        "\n",
        "Вводится единственное целое положительное число (гарантируется, что оно не превышает 10000).\n",
        "\n",
        "**ФОРМАТ ВЫВОДА**\n",
        "\n",
        "Выведите ответ на задачу.\n",
        "\n",
        "**ПРИМЕР**   \n",
        "Входные данные:  \n",
        "179 \n",
        "\n",
        "Вывод программы:  \n",
        "9"
      ]
    },
    {
      "cell_type": "code",
      "execution_count": null,
      "metadata": {
        "id": "nCzML9Yk6vgm",
        "outputId": "032565a5-59fb-41e4-db3f-1eb4cedae880"
      },
      "outputs": [
        {
          "name": "stdout",
          "output_type": "stream",
          "text": [
            "179\n"
          ]
        }
      ],
      "source": [
        "x=int(input()) "
      ]
    },
    {
      "cell_type": "code",
      "execution_count": null,
      "metadata": {
        "id": "h3oNqozY6vgm",
        "outputId": "9bd30f15-ca8c-49f7-eac6-f7369b4cae1c"
      },
      "outputs": [
        {
          "data": {
            "text/plain": [
              "17.9"
            ]
          },
          "execution_count": 35,
          "metadata": {},
          "output_type": "execute_result"
        }
      ],
      "source": [
        "179/10  # Наше обычное деление"
      ]
    },
    {
      "cell_type": "code",
      "execution_count": null,
      "metadata": {
        "id": "yq782tBD6vgm",
        "outputId": "e2bad099-188e-4f5b-8ef3-7471d111179e"
      },
      "outputs": [
        {
          "data": {
            "text/plain": [
              "17"
            ]
          },
          "execution_count": 34,
          "metadata": {},
          "output_type": "execute_result"
        }
      ],
      "source": [
        "179//10 # 179 делится на 10, но в итоге выводится только целое число без остатка"
      ]
    },
    {
      "cell_type": "code",
      "execution_count": null,
      "metadata": {
        "id": "3o9yBh5R6vgm",
        "outputId": "4fff0bf0-0da2-4906-eb3f-86737f7a8818"
      },
      "outputs": [
        {
          "data": {
            "text/plain": [
              "9"
            ]
          },
          "execution_count": 36,
          "metadata": {},
          "output_type": "execute_result"
        }
      ],
      "source": [
        "179%10 # 179 делится на 10, но в итоге выводится только остаток от деления"
      ]
    },
    {
      "cell_type": "code",
      "execution_count": null,
      "metadata": {
        "id": "ctig68SO6vgm",
        "outputId": "702591ca-b1c4-4027-e412-ec5ff5aea3a7"
      },
      "outputs": [
        {
          "name": "stdout",
          "output_type": "stream",
          "text": [
            "9\n"
          ]
        }
      ],
      "source": [
        "print(x %10)"
      ]
    },
    {
      "cell_type": "markdown",
      "metadata": {
        "id": "Lqly5o5S6vgm"
      },
      "source": [
        "### Задание 4. Сумма цифр трехзначного числа\n",
        "\n",
        "Дано трехзначное число. Найдите сумму его цифр.\n",
        "\n",
        "**ФОРМАТ ВВОДА**\n",
        "\n",
        "+ Вводится целое положительное число. Гарантируется, что оно соответствует условию задачи.\n",
        "\n",
        "**ФОРМАТ ВЫВОДА**\n",
        "\n",
        "+ Выведите ответ на задачу.\n",
        "\n",
        "**ПРИМЕР**  \n",
        "  \n",
        "Входные данные:  \n",
        "179 \n",
        "\n",
        "Вывод программы:  \n",
        "17"
      ]
    },
    {
      "cell_type": "code",
      "execution_count": null,
      "metadata": {
        "id": "xD15RdQB6vgn",
        "outputId": "ceaf4dc6-c684-4ef8-eaf5-6a591a84fbe8"
      },
      "outputs": [
        {
          "name": "stdout",
          "output_type": "stream",
          "text": [
            "175\n"
          ]
        }
      ],
      "source": [
        "N = int(input())"
      ]
    },
    {
      "cell_type": "code",
      "execution_count": null,
      "metadata": {
        "id": "bJlJZ8K46vgn",
        "outputId": "46d23744-cc68-49de-bde5-4351708d8383"
      },
      "outputs": [
        {
          "name": "stdout",
          "output_type": "stream",
          "text": [
            "1\n"
          ]
        }
      ],
      "source": [
        "print(N // 100) # Первая цифра"
      ]
    },
    {
      "cell_type": "code",
      "execution_count": null,
      "metadata": {
        "id": "FdwXbvhb6vgn",
        "outputId": "48179460-3864-4476-b6f6-30b6949e0802"
      },
      "outputs": [
        {
          "name": "stdout",
          "output_type": "stream",
          "text": [
            "17\n",
            "7\n"
          ]
        }
      ],
      "source": [
        "print(N // 10) \n",
        "print(N // 10 % 10) # Вторая цифра"
      ]
    },
    {
      "cell_type": "code",
      "execution_count": null,
      "metadata": {
        "id": "VpWgVvlP6vgn",
        "outputId": "60ce55e2-b839-42c0-b605-54776d069b2b"
      },
      "outputs": [
        {
          "name": "stdout",
          "output_type": "stream",
          "text": [
            "5\n"
          ]
        }
      ],
      "source": [
        "print(N%10) #Третья цифра"
      ]
    },
    {
      "cell_type": "code",
      "execution_count": null,
      "metadata": {
        "id": "-gpa_IY06vgn",
        "outputId": "cddbe5c7-d145-480c-d6c0-78f01a0b44e5"
      },
      "outputs": [
        {
          "name": "stdout",
          "output_type": "stream",
          "text": [
            "13\n"
          ]
        }
      ],
      "source": [
        "n_1 = N // 100\n",
        "n_2 = N // 10 % 10\n",
        "n_3 = N%10\n",
        "print(n_1+n_2+n_3)"
      ]
    },
    {
      "cell_type": "markdown",
      "metadata": {
        "id": "70rjnb6K6vgn"
      },
      "source": [
        "### Задание 5. Стоимость покупки\n",
        "\n",
        "Пирожок в столовой стоит A рублей и B копеек. Определите, сколько рублей и копеек нужно заплатить за N пирожков.\n",
        "\n",
        "**ФОРМАТ ВВОДА**\n",
        "\n",
        "Программа получает на вход три числа: A, B, N — целые, неотрицательные, не превышают 10000.\n",
        "\n",
        "**ФОРМАТ ВЫВОДА**\n",
        "\n",
        "Программа должна вывести два числа: стоимость покупки в рублях и копейках.\n",
        "\n",
        "**ПРИМЕР**  \n",
        " \n",
        "Входные данные:  \n",
        "2  \n",
        "50  \n",
        "3  \n",
        "\n",
        "Вывод программы:  \n",
        "7 50"
      ]
    },
    {
      "cell_type": "code",
      "execution_count": null,
      "metadata": {
        "id": "vyjl02O66vgn",
        "outputId": "1c7acb1b-a83b-4e1c-e14f-b23ce6fbb0ae"
      },
      "outputs": [
        {
          "name": "stdout",
          "output_type": "stream",
          "text": [
            "2\n",
            "50\n",
            "3\n"
          ]
        }
      ],
      "source": [
        "A=int(input())\n",
        "B=int(input())\n",
        "N=int(input())"
      ]
    },
    {
      "cell_type": "code",
      "execution_count": null,
      "metadata": {
        "id": "p8W0o2I06vgo",
        "outputId": "33a86a87-21e5-44b5-a860-122e0d019b28"
      },
      "outputs": [
        {
          "data": {
            "text/plain": [
              "750"
            ]
          },
          "execution_count": 64,
          "metadata": {},
          "output_type": "execute_result"
        }
      ],
      "source": [
        "(A*100 + B)*N # Сколько стоят пирожки в копейках"
      ]
    },
    {
      "cell_type": "code",
      "execution_count": null,
      "metadata": {
        "id": "00oSBngK6vgo",
        "outputId": "5f9916b8-6003-4b22-92f4-122079aab80c"
      },
      "outputs": [
        {
          "name": "stdout",
          "output_type": "stream",
          "text": [
            "7\n",
            "50\n"
          ]
        }
      ],
      "source": [
        "print((A*100 + B)*N // 100) # Смотрим, сколько целых рублей в этой сумме копеек\n",
        "print((A*100 + B)*N % 100) # Смотрим, сколько копеек останется, если убрать целые рубли в этой сумме копеек"
      ]
    },
    {
      "cell_type": "code",
      "execution_count": null,
      "metadata": {
        "id": "MjGA6sSZ6vgo",
        "outputId": "fa33e4f4-49e5-4aeb-9bf4-2e54ab298454"
      },
      "outputs": [
        {
          "name": "stdout",
          "output_type": "stream",
          "text": [
            "7 50\n"
          ]
        }
      ],
      "source": [
        "# В итоге вывод, который требуется по заданию \n",
        "print((A*100 + B)*N // 100, (A*100 + B)*N % 100)"
      ]
    }
  ],
  "metadata": {
    "kernelspec": {
      "display_name": "Python 3",
      "language": "python",
      "name": "python3"
    },
    "language_info": {
      "codemirror_mode": {
        "name": "ipython",
        "version": 3
      },
      "file_extension": ".py",
      "mimetype": "text/x-python",
      "name": "python",
      "nbconvert_exporter": "python",
      "pygments_lexer": "ipython3",
      "version": "3.6.5"
    },
    "colab": {
      "name": "sw_01.ipynb",
      "provenance": [],
      "collapsed_sections": [
        "4uhz9wck6vgY",
        "r_mVEr066vge",
        "Ym6ToXQu6vgf",
        "bBO7q1La6vgi",
        "ZKA91DVu6vgk",
        "fC14NBr86vgl",
        "Lqly5o5S6vgm",
        "70rjnb6K6vgn"
      ]
    }
  },
  "nbformat": 4,
  "nbformat_minor": 0
}
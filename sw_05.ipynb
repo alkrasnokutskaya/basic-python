{
  "cells": [
    {
      "cell_type": "markdown",
      "metadata": {
        "id": "pdniRiAO8FAk"
      },
      "source": [
        "# Прикладное программное обеспечение\n",
        "#### Python для извлечения и обработки данных\n",
        "\n",
        "\n",
        "## Методы строк и списков\n",
        "\n",
        "*Автор: Татьяна Рогович, Александра Краснокутская, НИУ ВШЭ*"
      ]
    },
    {
      "cell_type": "markdown",
      "metadata": {
        "id": "4_bkG2st8FAq"
      },
      "source": [
        "### Методы строк\n",
        "\n",
        "**https://pythonworld.ru/tipy-dannyx-v-python/stroki-funkcii-i-metody-strok.html**\n",
        "\n",
        "Методы строк позволяют нам обрабатывать текст и осуществлять поиск по условиям. В этом блокноте познакомимся с самыми популярными методами, которые чсто пригождаются в работе.\n",
        "\n",
        "Например `news.upper()` — метод `.upper()` вызывается от строковой переменной `news`. По сути методы, это функции, которые применимы только к особому типу данных. Так, например, функция `print()` напечатает все, что бы мы ей не передали, а перевод к верхнему регистру (а именно это делает метод `.upper()`) ни с одним типом данных кроме строки уже не сработает."
      ]
    },
    {
      "cell_type": "code",
      "execution_count": null,
      "metadata": {
        "id": "nJsXgGu08FAs",
        "outputId": "83774c40-b94a-4649-e31d-fcb0f2abc48f"
      },
      "outputs": [
        {
          "name": "stdout",
          "output_type": "stream",
          "text": [
            "SAMSUNG RELEASES NEW DEVICE\n",
            "samsung releases new device\n"
          ]
        }
      ],
      "source": [
        "news = 'Samsung releases new device'\n",
        "print(news.upper()) # Приводит строку к верхнему регистру\n",
        "print(news.lower()) # Приводит строку к нижнему регистру"
      ]
    },
    {
      "cell_type": "markdown",
      "metadata": {
        "id": "FebR0OyC8FAv"
      },
      "source": [
        "Обратите внимание, что строковый метод, как правило, не изменяет объект и наша строка осталась такой как была."
      ]
    },
    {
      "cell_type": "code",
      "execution_count": null,
      "metadata": {
        "id": "s0dhXvs08FAw",
        "outputId": "8b58601a-c113-4666-c8e2-87cc70746b22"
      },
      "outputs": [
        {
          "data": {
            "text/plain": [
              "'Samsung releases new device'"
            ]
          },
          "execution_count": 2,
          "metadata": {},
          "output_type": "execute_result"
        }
      ],
      "source": [
        "news"
      ]
    },
    {
      "cell_type": "markdown",
      "metadata": {
        "id": "U2cZdrF_8FAx"
      },
      "source": [
        "У строк есть множество методов, которые позволяют искать паттерны и как-то их редактировать. Методы `.startswith()` и `.endswith()` проверяют, стоит ли искомая построка в начале или в конце строки.\n",
        "\n",
        "Пусть у нас есть отзыв посетителя о кафе. Мы заранее знаем, что пользователь для отзыва выбирает только последнее слово из предложенных двух: 'good', 'bad'. Попробуем оценить, остался ли доволен клиент."
      ]
    },
    {
      "cell_type": "code",
      "execution_count": null,
      "metadata": {
        "id": "pVKGfYzH8FAy",
        "outputId": "6f3b85c9-3ba3-4dc7-c126-4760ef6ac918"
      },
      "outputs": [
        {
          "name": "stdout",
          "output_type": "stream",
          "text": [
            "Client was disappointed\n"
          ]
        }
      ],
      "source": [
        "feedback = 'This place was bad' # Сам отзыв\n",
        "\n",
        "if feedback.endswith('bad'): # Если строка заканчивается на 'bad'\n",
        "    print('Client was disappointed') # то клиент расстроен\n",
        "else:\n",
        "    print('Client was satisfied') # иначе  — клиенту все понравилось"
      ]
    },
    {
      "cell_type": "markdown",
      "metadata": {
        "id": "lNQOLx1T8FA0"
      },
      "source": [
        "Теперь усложним задачу. Что если слово находится не в конце предложения? Попробуем его найти!"
      ]
    },
    {
      "cell_type": "code",
      "execution_count": null,
      "metadata": {
        "id": "X80JZE6A8FA1",
        "outputId": "dab83109-83e3-4210-8de9-4514fbeab532"
      },
      "outputs": [
        {
          "name": "stdout",
          "output_type": "stream",
          "text": [
            "Client was disappointed\n"
          ]
        }
      ],
      "source": [
        "feedback2 = 'This place was bad enough'\n",
        "\n",
        "if feedback2.find('bad') != -1: \n",
        "    print('Client was disappointed') # то клиент расстроен\n",
        "else:\n",
        "    print('Client was satisfied') # иначе  — клиенту все понравилось"
      ]
    },
    {
      "cell_type": "markdown",
      "metadata": {
        "id": "wggJG1zd8FA3"
      },
      "source": [
        "Метод `.strip()` (и его собратья `.lstrip()` и `.rstrip()`, работающие только с одной стороны строки, удаляет незначимые символы (пробелы, табуляцию и т.д.) с краев строк. Очень полезный метод, когда мы собираем информацию из интернета. Если этим методам передать аргумент, то они удалят подстроку."
      ]
    },
    {
      "cell_type": "code",
      "execution_count": null,
      "metadata": {
        "id": "XbxkCBts8FA3",
        "outputId": "04fbab90-c5f9-4a12-a0d3-2482ed5c162b"
      },
      "outputs": [
        {
          "name": "stdout",
          "output_type": "stream",
          "text": [
            "135133\n",
            "hse.\n",
            "hse.ru\n",
            "ruhse.\n"
          ]
        }
      ],
      "source": [
        "print(' 135133   '.strip())    # удалили пробельные символы слева и справа\n",
        "print('ruhse.ru'.strip('ru'))  # Удалили ru с обеих сторон\n",
        "print('ruhse.ru'.lstrip('ru')) # Удалили ru слева\n",
        "print('ruhse.ru'.rstrip('ru')) # Удалили ru справа"
      ]
    },
    {
      "cell_type": "markdown",
      "metadata": {
        "id": "BaG7OOPp8FA4"
      },
      "source": [
        "В реальности `.strip()` часто используется для нормализации email'ов или дргуих идентификторов."
      ]
    },
    {
      "cell_type": "code",
      "execution_count": null,
      "metadata": {
        "id": "5S4dodoK8FA5",
        "outputId": "38022019-a2c0-43d1-b397-04b10d12cb8c"
      },
      "outputs": [
        {
          "name": "stdout",
          "output_type": "stream",
          "text": [
            "pileyan@gmail.com\n"
          ]
        }
      ],
      "source": [
        "print('      pileyan@gmail.com       '.strip())"
      ]
    },
    {
      "cell_type": "markdown",
      "metadata": {
        "id": "5sWmLcFL8FA5"
      },
      "source": [
        "Также мы можем заменять символы в строке, с помощью метода `.replace()`, который берет два аргумента — что заменяем и на что заменяем. Есть еще опциональный третий аргумент — количество замен, которые нужно сделать."
      ]
    },
    {
      "cell_type": "code",
      "execution_count": null,
      "metadata": {
        "id": "bvkpZvNF8FA6",
        "outputId": "9adb37d6-9122-42a0-8000-5f574ca8f309"
      },
      "outputs": [
        {
          "name": "stdout",
          "output_type": "stream",
          "text": [
            "39 999\n",
            "39 900\n",
            "39 990\n"
          ]
        }
      ],
      "source": [
        "print('39 000'.replace('0', '9'))    # Заменяем все нули на девятки\n",
        "print('39 000'.replace('0', '9', 1)) # Заменяем только первый найденный нуль\n",
        "print('39 000'.replace('0', '9', 2)) # Заменяем только два первых найденных нуля"
      ]
    },
    {
      "cell_type": "markdown",
      "metadata": {
        "id": "RHG-9g_e8FA7"
      },
      "source": [
        "Теперь научимся считать количество вхождений подстроки в строку с помощью метода `.count()`."
      ]
    },
    {
      "cell_type": "code",
      "execution_count": null,
      "metadata": {
        "id": "4NwdJ_wY8FA7",
        "outputId": "35764ca7-6f57-4e0f-ce7d-e37d30cb159f"
      },
      "outputs": [
        {
          "name": "stdout",
          "output_type": "stream",
          "text": [
            "0\n",
            "5\n",
            "2\n",
            "1\n",
            "0\n",
            "2\n",
            "3\n",
            "0\n"
          ]
        }
      ],
      "source": [
        "s = \"Mushroooom soup\"     # Исходная строка\n",
        "print(s.count(\"O\"))       # Ищем заглавную букву О, не находим\n",
        "print(s.count(\"o\"))       # Ищем строчную букву о, находим 5 штук\n",
        "print(s.count(\"oo\"))      # Ищем две буквы о подряд, находим две таких подстроки\n",
        "print(s.count(\"ooo\"))     # Ищем три букв о подряд, находим одно такое вхождение\n",
        "print(s.count(\"push\"))    # Ищем подстроку 'push', не находим\n",
        "print(s.count(\"o\", 4, 7)) # Ищем букву о в s[4:7]\n",
        "print(s.count(\"o\", 7))    # Ищем букву о в s[7:]\n",
        "print(s.count(\"o\", 0, 3)) # Ищем букву о в s[0:3]"
      ]
    },
    {
      "cell_type": "markdown",
      "metadata": {
        "id": "vWv3SMLU8FA8"
      },
      "source": [
        "Отдельное семейство методов строк отвечает за проверку на соответствие условиям."
      ]
    },
    {
      "cell_type": "code",
      "execution_count": null,
      "metadata": {
        "id": "PQGQWRoL8FA8",
        "outputId": "9a73dc9b-26da-4083-f608-b21eb53a089f"
      },
      "outputs": [
        {
          "name": "stdout",
          "output_type": "stream",
          "text": [
            "False\n",
            "True\n",
            "True\n",
            "False\n",
            "True\n",
            "True\n",
            "False\n"
          ]
        }
      ],
      "source": [
        "# isalpha  — проверяет, что все символы строки являются буквами.\n",
        "print('Ask me a question!'.isalpha())\n",
        "print('Ask'.isalpha())\n",
        "\n",
        "# isdigit  — проверяет, что все символы строки являются цифрами.\n",
        "print('13242'.isdigit())\n",
        "\n",
        "# isalnum  — проверяет, что все символы строки являются буквами или цифрами.\n",
        "print('Ask me a question!'.isalnum())\n",
        "print('Ask232'.isalnum())\n",
        "\n",
        "# islower  — проверяет, что все символы строки являются маленькими (строчными) буквами.\n",
        "print('ask me a question!'.islower())\n",
        "\n",
        "# isupper — проверяет, что все символы строки являются большими (заглавными, прописными) буквами.\n",
        "print('Ask me a question!'.isupper())"
      ]
    },
    {
      "cell_type": "markdown",
      "metadata": {
        "id": "vovKjcDN8FA9"
      },
      "source": [
        "На этом методы строк не заканчиваются) Например, можно менять регистр букв или переводить в верхний регистр первые буквы слов."
      ]
    },
    {
      "cell_type": "code",
      "execution_count": null,
      "metadata": {
        "id": "TdjZNLrR8FA9"
      },
      "outputs": [],
      "source": [
        "# title — переводит первую букву всех слов к верхнему регистру\n",
        "print('ask me a question!'.title())\n",
        "\n",
        "# swapcase — меняет регистр на противоположный\n",
        "print('ask me a question!'.swapcase())"
      ]
    },
    {
      "cell_type": "markdown",
      "metadata": {
        "id": "B8z_sqy68FA-"
      },
      "source": [
        "Метод строки `.split()` получает на вход строку-разделитель и возвращает список строк, разбитый по этому разделителю.\n",
        "\n",
        "По умолчанию метод разбивает строку по пробелу."
      ]
    },
    {
      "cell_type": "code",
      "execution_count": null,
      "metadata": {
        "id": "LFJlqQgy8FA-",
        "outputId": "07de9ba9-a974-4698-8de3-d3691b782c92"
      },
      "outputs": [
        {
          "name": "stdout",
          "output_type": "stream",
          "text": [
            "['Hello', 'darkness', 'my', 'old', 'friend']\n",
            "['Hello', 'darkness', 'my', 'old', 'friend']\n"
          ]
        }
      ],
      "source": [
        "print('Hello darkness my old friend'.split())\n",
        "print('Hello    darkness  my old     friend'.split()) # несколько разделителей подряд? не беда, они будут прочитаны как один"
      ]
    },
    {
      "cell_type": "code",
      "execution_count": null,
      "metadata": {
        "id": "oERqtkhJ8FA_",
        "outputId": "3878f425-e41e-45b2-97b6-d82d8db3f70f"
      },
      "outputs": [
        {
          "name": "stdout",
          "output_type": "stream",
          "text": [
            "['Ночь', 'Улица', 'Фонарь', 'Аптека']\n"
          ]
        }
      ],
      "source": [
        "print('Ночь. Улица. Фонарь. Аптека'.split('. '))"
      ]
    },
    {
      "cell_type": "markdown",
      "metadata": {
        "id": "qyRQFGed8FA_"
      },
      "source": [
        "Также можно совмещать `.split()` с `input()`."
      ]
    },
    {
      "cell_type": "code",
      "execution_count": null,
      "metadata": {
        "id": "RgEsGKNd8FBA"
      },
      "outputs": [],
      "source": [
        "L = input().split(', ')\n",
        "print(L)"
      ]
    },
    {
      "cell_type": "markdown",
      "metadata": {
        "id": "mGbUNIMl8FBA"
      },
      "source": [
        "### Методы списков и функция `map()`\n",
        "\n",
        "**https://pythonworld.ru/tipy-dannyx-v-python/spiski-list-funkcii-i-metody-spiskov.html**\n",
        "\n",
        "Способ расширить список — метод `.append()`, который добавляет аргумент в список в качестве последнего элемента."
      ]
    },
    {
      "cell_type": "code",
      "execution_count": null,
      "metadata": {
        "id": "c-BdZ5DD8FBA",
        "outputId": "84271cbd-3392-4fb0-d502-7baca932ac00"
      },
      "outputs": [
        {
          "name": "stdout",
          "output_type": "stream",
          "text": [
            "[0, 10, 2, 3, 4, 'cat', 'dog', 5]\n",
            "[0, 10, 2, 3, 4, 'cat', 'dog', 5, 5]\n"
          ]
        }
      ],
      "source": [
        "lst = [0, 10, 2, 3, 4, 'cat', 'dog']\n",
        "\n",
        "lst.append(5)\n",
        "print(lst)\n",
        "\n",
        "\n",
        "lst += [5] # Эквивалентное append выражение\n",
        "print(lst)"
      ]
    },
    {
      "cell_type": "markdown",
      "metadata": {
        "id": "nCEWlv9S8FBB"
      },
      "source": [
        "Удалить элемент из списка можно с помощью метода `.remove()` (без возвращения удаленного элемента) или `.pop()` (с возвращением удаленного элемента)."
      ]
    },
    {
      "cell_type": "code",
      "execution_count": null,
      "metadata": {
        "id": "vW3SnjFc8FBB",
        "outputId": "3fd958f6-b166-49d7-ba63-a805d2ee2627"
      },
      "outputs": [
        {
          "name": "stdout",
          "output_type": "stream",
          "text": [
            "[0, 10, 2, 3, 4, 'dog', 5, 5]\n"
          ]
        }
      ],
      "source": [
        "lst.remove('cat') # Аргумент — объект, который ходим удалить\n",
        "print(lst)"
      ]
    },
    {
      "cell_type": "code",
      "execution_count": null,
      "metadata": {
        "id": "W0HUB4-N8FBB",
        "outputId": "24217f11-647a-4916-e603-4d2f191d5846"
      },
      "outputs": [
        {
          "name": "stdout",
          "output_type": "stream",
          "text": [
            "[0, 2, 3, 4, 'dog', 5, 5]\n",
            "10\n"
          ]
        }
      ],
      "source": [
        "x = lst.pop(1) # Аргумент — индекс объекта. Результат операции можно сохранить в переменную\n",
        "print(lst)\n",
        "print(x)"
      ]
    },
    {
      "cell_type": "markdown",
      "metadata": {
        "id": "tNZGaRYI8FBB"
      },
      "source": [
        "Поиском в списках занимается метод `.index()`, который вернет индекс объекта, переданного в качестве аргумента."
      ]
    },
    {
      "cell_type": "code",
      "execution_count": null,
      "metadata": {
        "id": "XBOzuw9g8FBC",
        "outputId": "be7ecc45-7038-4e49-8b99-54089b932283"
      },
      "outputs": [
        {
          "name": "stdout",
          "output_type": "stream",
          "text": [
            "4\n",
            "dog\n"
          ]
        }
      ],
      "source": [
        "print(lst.index('dog'))      # Находим индекс объекта 'dog'\n",
        "print(lst[lst.index('dog')]) # Используем метод, возвращающий индекс, для обращения к объекту"
      ]
    },
    {
      "cell_type": "markdown",
      "metadata": {
        "id": "ylHOujXa8FBC"
      },
      "source": [
        "Можно совместить его с методом `.pop()`."
      ]
    },
    {
      "cell_type": "code",
      "execution_count": null,
      "metadata": {
        "id": "wf1z3SOk8FBC",
        "outputId": "044c8f45-024f-4b66-9d9b-8f5ab728f4af"
      },
      "outputs": [
        {
          "name": "stdout",
          "output_type": "stream",
          "text": [
            "[0, 2, 3, 4, 5, 5]\n",
            "dog\n"
          ]
        }
      ],
      "source": [
        "x = lst.pop(lst.index('dog'))\n",
        "print(lst)\n",
        "print(x)"
      ]
    },
    {
      "cell_type": "markdown",
      "metadata": {
        "id": "ZQ5nW91Z8FBC"
      },
      "source": [
        "Если говорить еще о полезных методах, то это `.count()`, который подсчитывает количество элементов и `.reverse()`, который разворачивает список. Ниже еще отдельно поговорим о сортировке."
      ]
    },
    {
      "cell_type": "code",
      "execution_count": null,
      "metadata": {
        "id": "nb7Dp8Gc8FBD",
        "outputId": "facd9050-dcd6-40e0-8236-10e1c70c63cb"
      },
      "outputs": [
        {
          "name": "stdout",
          "output_type": "stream",
          "text": [
            "0\n",
            "[5, 5, 4, 3, 2, 0]\n"
          ]
        }
      ],
      "source": [
        "print(lst.count('dog')) # Считаем количество 'dog' в списке\n",
        "lst.reverse()           # Разворачиваем список. Осторожно — метод меняет список!\n",
        "print(lst)"
      ]
    },
    {
      "cell_type": "markdown",
      "metadata": {
        "id": "knlthz6j8FBD"
      },
      "source": [
        "Отдельно следует рассказать про метод `.sort()`. Метод производит сортировку списка. Задачи сортировки — очень распространены в программировании. В общем случае, они сводятся к выстроению элементов списка в заданном порядке. В Python есть встроенные методы для сортировки объектов для того, чтобы программист мог не усложнять себе задачу написанием алгоритма сортировки. Метод `.sort()` — как раз, один из таких случаев."
      ]
    },
    {
      "cell_type": "code",
      "execution_count": null,
      "metadata": {
        "id": "W3IT3rBk8FBE",
        "outputId": "f2d93bdd-8257-402a-90fc-4968290b190d"
      },
      "outputs": [
        {
          "name": "stdout",
          "output_type": "stream",
          "text": [
            "[5, 8, 1, 4, 3, 7, 2]\n",
            "[1, 2, 3, 4, 5, 7, 8]\n"
          ]
        }
      ],
      "source": [
        "test_list = [5, 8, 1, 4, 3, 7, 2]\n",
        "print(test_list)  # Элементы списка расположены в хаотичном порядке\n",
        "test_list.sort()\n",
        "print(test_list)  # Теперь элементы списка теперь расположены по возрастанию"
      ]
    },
    {
      "cell_type": "markdown",
      "metadata": {
        "id": "mss_HDmk8FBE"
      },
      "source": [
        "Таким образом, метод `.sort()` упорядочил элементы списка `test_list`. Если нужно отсортировать элементы в обратном порядке, то можно использовать именнованный параметр `reverse`."
      ]
    },
    {
      "cell_type": "code",
      "execution_count": null,
      "metadata": {
        "id": "DdPOairG8FBE",
        "outputId": "7c30ac17-4fc9-43a5-b5f3-2ecffd0bfced"
      },
      "outputs": [
        {
          "name": "stdout",
          "output_type": "stream",
          "text": [
            "[8, 7, 5, 4, 3, 2, 1]\n"
          ]
        }
      ],
      "source": [
        "test_list.sort(reverse=True)  # Параметр reverse указывает на то, что нужно отсортировать список в обратном порядке\n",
        "print(test_list)"
      ]
    },
    {
      "cell_type": "markdown",
      "metadata": {
        "id": "w26_LiH78FBE"
      },
      "source": [
        "Следует обратить внимание, что метод `.sort()` изменяет сам список, на котором его вызвали. Таким образом, при каждом вызове метода `.sort()`, наш список `test_list` изменяется. Это может быть удобно, если нам не нужно держать в памяти исходный список. Однако, в противном случае, или же — в случае неизменяемого типа данных (например, кортежа или строки) — этот метод не сработает. В таком случае, на помощь приходит встроенная в питон функция `sorted()`."
      ]
    },
    {
      "cell_type": "code",
      "execution_count": null,
      "metadata": {
        "id": "fjDTu2Hr8FBE",
        "outputId": "c3a35b2f-7195-4159-afbb-aea4361702c3"
      },
      "outputs": [
        {
          "name": "stdout",
          "output_type": "stream",
          "text": [
            "[1, 2, 3, 4, 5, 7, 8]\n"
          ]
        }
      ],
      "source": [
        "print(sorted(test_list))  # Сам список при сортировке не изменяется"
      ]
    },
    {
      "cell_type": "markdown",
      "metadata": {
        "id": "Ch9DLACT8FBF"
      },
      "source": [
        "Так как `sorted()` функция, а не метод, то будет работать и с другими типами данных."
      ]
    },
    {
      "cell_type": "code",
      "execution_count": null,
      "metadata": {
        "id": "mf8pAZZR8FBF",
        "outputId": "44788841-fc87-46b9-b281-4a90542fdcd0"
      },
      "outputs": [
        {
          "name": "stdout",
          "output_type": "stream",
          "text": [
            "['e', 'g', 'h', 'i', 'm', 'n', 'o', 's', 't']\n",
            "eghimnost\n"
          ]
        }
      ],
      "source": [
        "print(sorted('something')) # Отсортирует буквы в строке, но выведет список\n",
        "print(''.join(sorted('something'))) # С помощью метода join можно собрать отсортированную строку, чуть ниже подробнее про него"
      ]
    },
    {
      "cell_type": "markdown",
      "metadata": {
        "id": "OHw2ojbk8FBF"
      },
      "source": [
        "У функции `sorted()`, как и у метода `.sort()` есть параметр `key`, с помощью которого можно указать функцию, которая будет применена к каждому элементу последовательности при сортировке."
      ]
    },
    {
      "cell_type": "code",
      "execution_count": null,
      "metadata": {
        "id": "HkawlkPr8FBF",
        "outputId": "81d10ec3-ccea-440f-cbb7-dc170d823686"
      },
      "outputs": [
        {
          "name": "stdout",
          "output_type": "stream",
          "text": [
            "['A', 'AND', 'With', 'cases', 'lower', 'string', 'upper']\n",
            "['A', 'AND', 'cases', 'lower', 'string', 'upper', 'With']\n"
          ]
        }
      ],
      "source": [
        "test_string = 'A string With upper AND lower cases'\n",
        "print(sorted(test_string.split())) # Заглавные буквы получили приоритет над строчными\n",
        "print(sorted(test_string.split(), key=str.upper)) # Все буквы были приведены к верхнему регистру, сортировка получилась по алфавиту"
      ]
    },
    {
      "cell_type": "markdown",
      "metadata": {
        "id": "9L4o4kAR8FBG"
      },
      "source": [
        "Функция `map()` берет функцию и последовательность и применяет эту функцию ко всем ее элементам (`map()` всегда будет ожидать от вас два аргумента).\n",
        "\n",
        "Обратите внимание, чтобы увидеть результат работы этой функции надо дополнительно вручную преобразовать в список (или в кортеж, в зависимости от ваших целей)."
      ]
    },
    {
      "cell_type": "code",
      "execution_count": null,
      "metadata": {
        "id": "yykgfI2L8FBG",
        "outputId": "12dedcae-c434-48f0-ea7e-43c325d14f3e"
      },
      "outputs": [
        {
          "name": "stdout",
          "output_type": "stream",
          "text": [
            "<map object at 0x000001CF223EDA20>\n",
            "['9', '0', '8', '-288', '998', '0']\n"
          ]
        }
      ],
      "source": [
        "print(map(str, [9, 0, 8, -288, 998, 0])) # не совсем то, что надо\n",
        "print(list(map(str, [9, 0, 8, -288, 998, 0]))) # а теперь работает, каждое число преобразовалось в логическую переменную"
      ]
    },
    {
      "cell_type": "code",
      "execution_count": null,
      "metadata": {
        "id": "HFEUnF-H8FBG"
      },
      "outputs": [],
      "source": [
        ""
      ]
    },
    {
      "cell_type": "markdown",
      "metadata": {
        "id": "n6aT3bKP8FBG"
      },
      "source": [
        "# Задачи для тренировки\n",
        "Часть из этих задач мы решим в классе. Но если мы даже не успеем - попытайтесь сделать их дома сами.\n",
        "\n",
        "### Задание 1. Пароль\n",
        "\n",
        "Пусть программа просит пользователя ввести пароль. Ваш код должен проверять, что код состояит ровно из 10 символов и состоит только из букв. Если эти условия соблюдены, то программа выводит фразу \"Пароль принят\", в противном случае — \"Попробуйте ввести пароль снова\".\n",
        "\n",
        "**ФОРМАТ ВВОДА**\n",
        "\n",
        "+ Строка.\n",
        "\n",
        "**ФОРМАТ ВЫВОДА**\n",
        "\n",
        "+ Строка \"Пароль принят\" или \"Попробуйте ввести пароль снова\".\n",
        "\n",
        "**ПРИМЕР**\n",
        "\n",
        "Входные данные:  \n",
        "qweABCjoHn   \n",
        "Вывод программы:  \n",
        "Пароль принят"
      ]
    },
    {
      "cell_type": "code",
      "execution_count": null,
      "metadata": {
        "id": "AhB1JTER8FBH",
        "outputId": "f2d8e90c-a66f-4bdf-c546-57848780436a"
      },
      "outputs": [
        {
          "name": "stdout",
          "output_type": "stream",
          "text": [
            "пролджтиар\n",
            "Пароль принят\n"
          ]
        }
      ],
      "source": [
        "password = input()\n",
        "\n",
        "if len(password) == 10 and password.isalpha():\n",
        "    print('Пароль принят')\n",
        "else: \n",
        "    print('Попробуйте ввести пароль снова')"
      ]
    },
    {
      "cell_type": "markdown",
      "metadata": {
        "id": "DA3o_9dK8FBH"
      },
      "source": [
        "### Задание 2. Диета\n",
        "\n",
        "Петя решил придерживаться новой диеты - есть на ужин только продукты, названия которых имеют определенную длину и начинаются с определенной буквы. Помогите Пете определить, чем можно поужинать в рамках новой диеты. На вход подается список продуктов через запятую. На выходе программа выдает только те продукты, которые можно есть Пете, а если таких продуктов нет, пишет \"Нужно идти в магазин\".\n",
        "\n",
        "**ФОРМАТ ВВОДА**\n",
        "\n",
        "+ Строка с названиями продуктов через запятую и пробел.\n",
        "\n",
        "+ Буква.\n",
        "\n",
        "+ Число.\n",
        "\n",
        "+ Каждый ввод с новой строки.\n",
        "\n",
        "**ФОРМАТ ВЫВОДА**\n",
        "\n",
        "+ Строка типа \"Сегодня Петя может съесть на ужин следующие продукты: \" и перечисление продуктов через запятую (см. пример), либо строка \"Нужно идти в магазин.\"\n",
        "\n",
        "\n",
        "**ПРИМЕР**\n",
        "\n",
        "Входные данные:  \n",
        "бананы, яблоки, малина, молоко, батон, морковь   \n",
        "м  \n",
        "6\n",
        "\n",
        "Вывод программы:  \n",
        "Сегодня Петя может съесть на ужин следующие продукты: малина, молоко.\n",
        "\n"
      ]
    },
    {
      "cell_type": "code",
      "execution_count": null,
      "metadata": {
        "id": "j1DEAYTE8FBH",
        "outputId": "88392dc4-4c5d-4f6e-8c24-f10ee434cbcc"
      },
      "outputs": [
        {
          "name": "stdout",
          "output_type": "stream",
          "text": [
            "орехи\n",
            "д\n",
            "5\n",
            "Нужно идти в магазин.\n"
          ]
        }
      ],
      "source": [
        "products = input().split(', ') \n",
        "letter = input() \n",
        "number = int(input())  \n",
        "products_new = []  \n",
        "for i in products:     \n",
        "    if i[0] == letter and  len(i) == number:                  \n",
        "        products_new.append(i)          \n",
        "if len(products_new) == 0:     \n",
        "    print('Нужно идти в магазин.') \n",
        "else:     \n",
        "    print('Сегодня Петя может съесть на ужин следующие продукты:', ', '.join(products_new) + '.')"
      ]
    },
    {
      "cell_type": "markdown",
      "metadata": {
        "id": "xyZwEZFQ8FBH"
      },
      "source": [
        "### Задание 3. Волшебные палочки\n",
        "Менеджер магазина волшебных палочек Олливандера проверяет работоспособность магической системы учета проданных палочек. Выборочно он записывает информацию о проданных волшебных палочках в виде списка, содержащего фамилию и имя владельца, год приобретения и материал, из которого изготовлена палочка. Записи вводятся до тех пор, пока менеджер не введет слово \"Конец\".  Иногда владелец магазина, Олливандер, хочет вспомнить всех, кто покупал у него палочку в определенный год. Если никто не купил палочку в указанный год, то выводится фраза: \"В этот год никто не покупал волшебные палочки\".\n",
        "\n",
        "**ФОРМАТ ВВОДА** \n",
        "\n",
        "+ Строки типа \"ИФ владельца, год, материал\".\n",
        "\n",
        "+ Год.\n",
        "\n",
        "+ Каждый с новой строки.\n",
        "\n",
        "**ФОРМАТ ВЫВОДА**\n",
        "\n",
        "+ Строка типа \"В xxxx году волшебную палочку купили:\" и перечисление ИФ тех, кто купил волшебную палочку, а также уточнение материала, из которого она изготовлена (см. пример).\n",
        "\n",
        "\n",
        "**ПРИМЕР**\n",
        "\n",
        "Входные данные:  \n",
        "+ Долорес Амбридж, 1957, береза\n",
        "+ Гермиона Грейнджер, 1989, виноградная лоза  \n",
        "+ Седрик Диггори, 1985, ясень\n",
        "+ Невилл Долгопупс, 1989, вишневое дерево\n",
        "+ Конец  \n",
        "+ 1989\n",
        "\n",
        "Вывод программы:  \n",
        "\"В 1989 году волшебную палочку купили: Невилл Долгопупс (материал - вишневое дерево), Гермиона Грейнджер (материал - виноградная лоза)\"."
      ]
    },
    {
      "cell_type": "code",
      "execution_count": null,
      "metadata": {
        "id": "7Wb_TQjb8FBI",
        "outputId": "023e6c7f-91f9-481b-db44-0dec23aa8d6a"
      },
      "outputs": [
        {
          "name": "stdout",
          "output_type": "stream",
          "text": [
            "Долорес Амбридж, 1957, береза\n",
            "Гермиона Грейнджер, 1989, виноградная лоза\n",
            "Седрик Диггори, 1985, ясень\n",
            "Конец\n",
            "1989\n",
            "В 1989 году волшебную палочку купили: Гермиона Грейнджер (материал - виноградная лоза).\n"
          ]
        }
      ],
      "source": [
        "item = input().split(', ')\n",
        "\n",
        "wizard_list = []\n",
        "\n",
        "while item != ['Конец']:\n",
        "    wizard_list.append(item)\n",
        "    \n",
        "    item = input().split(', ')\n",
        "    \n",
        "year = int(input())\n",
        "\n",
        "test_system = []\n",
        "\n",
        "for i in wizard_list:\n",
        "    if int(i[1]) == year:\n",
        "        test_system.append(f'{i[0]} (материал - {i[2]})')\n",
        "\n",
        "\n",
        "if len(test_system) == 0:\n",
        "    print('В этот год никто не покупал волшебные палочки.')\n",
        "else:\n",
        "    print(f'В {year} году волшебную палочку купили:', ', '.join(test_system) + '.')"
      ]
    }
  ],
  "metadata": {
    "kernelspec": {
      "display_name": "Python 3",
      "language": "python",
      "name": "python3"
    },
    "language_info": {
      "codemirror_mode": {
        "name": "ipython",
        "version": 3
      },
      "file_extension": ".py",
      "mimetype": "text/x-python",
      "name": "python",
      "nbconvert_exporter": "python",
      "pygments_lexer": "ipython3",
      "version": "3.6.5"
    },
    "colab": {
      "name": "sw_05.ipynb",
      "provenance": [],
      "collapsed_sections": []
    }
  },
  "nbformat": 4,
  "nbformat_minor": 0
}
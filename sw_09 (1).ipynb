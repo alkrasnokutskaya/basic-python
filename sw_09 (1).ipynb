{
  "cells": [
    {
      "cell_type": "markdown",
      "metadata": {
        "id": "UzlrnSml9PiC"
      },
      "source": [
        "# Прикладное программное обеспечение\n",
        "#### Python для извлечения и обработки данных\n",
        "\n",
        "\n",
        "##  Работа с текстовыми файлами\n",
        "\n",
        "*Автор: Татьяна Рогович, Александра Краснокутская, НИУ ВШЭ*"
      ]
    },
    {
      "cell_type": "markdown",
      "metadata": {
        "id": "0rQaZnap9PiN"
      },
      "source": [
        "### Файловый ввод-вывод\n",
        "Мы начинаем работать с файлами. Сейчас будем обсуждать только чтение и запись. О том, как запускать файлы на исполнение, отдельная история. Также для начала речь пойдёт о текстовых файлах или похожих на текстовые (например, код на Python или CSV-файл будет текстовым).\n",
        "\n",
        "Как правило, если указать в Python не полный путь к файлу, а только его название, то он будет искать файл в рабочей директории. Как узнать, где это?"
      ]
    },
    {
      "cell_type": "code",
      "execution_count": null,
      "metadata": {
        "id": "JdH2HbJn9PiP",
        "outputId": "2f623100-33a3-480c-a5f4-8973d1d06dc2"
      },
      "outputs": [
        {
          "data": {
            "text/plain": [
              "'C:\\\\Users\\\\User\\\\ППО 2021'"
            ]
          },
          "execution_count": 1,
          "metadata": {},
          "output_type": "execute_result"
        }
      ],
      "source": [
        "import os\n",
        "os.getcwd()"
      ]
    },
    {
      "cell_type": "markdown",
      "metadata": {
        "id": "T2jNx_HE9PiU"
      },
      "source": [
        "Функция `getcwd()` из модуля `os` возвращает нам путь к вашей рабочей папке. Так, например, в Windows по умолчанию Anaconda делает рабочей папкой для Jupyter папку пользователя в Users. Если вы создали блокнот в какой-то другой папке — по умолчанию его директория и будет рабочей. Это можно изменить или глобально, прописав путь к вашей папке в свойствах, или локально в рамках сессии.\n",
        "\n",
        "Функция `chdir()` принимает в качестве аргумента путь к папке и меняет рабочую директорию. Теперь к файлам, хранящимся в ней вы сможете обращаться без полного пути. Также все новые файлы будут сохраняться туда же."
      ]
    },
    {
      "cell_type": "code",
      "execution_count": null,
      "metadata": {
        "id": "WINA9mbh9PiV",
        "outputId": "a4bf7238-9b08-4848-df94-0e9ea06771cf"
      },
      "outputs": [
        {
          "data": {
            "text/plain": [
              "'C:\\\\Users\\\\User\\\\Desktop\\\\2020_HSE_SOC_PPO-master'"
            ]
          },
          "execution_count": 5,
          "metadata": {},
          "output_type": "execute_result"
        }
      ],
      "source": [
        "os.chdir('C:\\\\Users\\\\User\\\\Desktop\\\\2020_HSE_SOC_PPO-master')\n",
        "os.getcwd()"
      ]
    },
    {
      "cell_type": "markdown",
      "metadata": {
        "id": "rGcOtZfY9PiW"
      },
      "source": [
        "`listdir()` вернет нам список содержимого директории. Очень полезная функция  —  можно запустить цикл, если нужно обработать все файлы в папке."
      ]
    },
    {
      "cell_type": "code",
      "execution_count": null,
      "metadata": {
        "id": "KGWMF6yG9PiX",
        "outputId": "654360b4-5967-49fe-8e49-529702da0ab0"
      },
      "outputs": [
        {
          "data": {
            "text/plain": [
              "['.gitattributes',\n",
              " '1 Seminar',\n",
              " '1_Test',\n",
              " '2 Seminar',\n",
              " '2_Test',\n",
              " '3 Seminar',\n",
              " '4 Seminar',\n",
              " '5 Seminar',\n",
              " '6_Seminar',\n",
              " '7_Seminar',\n",
              " 'README.md']"
            ]
          },
          "execution_count": 6,
          "metadata": {},
          "output_type": "execute_result"
        }
      ],
      "source": [
        "os.listdir()"
      ]
    },
    {
      "cell_type": "markdown",
      "metadata": {
        "id": "QxYcayie9PiY"
      },
      "source": [
        "Давайте попробуем создать файл, записать в него что-нибудь и сохранить."
      ]
    },
    {
      "cell_type": "code",
      "execution_count": null,
      "metadata": {
        "id": "fjG-WjT_9Pib"
      },
      "outputs": [],
      "source": [
        "f = open(\"test.txt\", 'w', encoding='utf8')"
      ]
    },
    {
      "cell_type": "markdown",
      "metadata": {
        "id": "cuBsvIvP9Pib"
      },
      "source": [
        "Функция `open()` возвращает файловый объект и мы используем ее обычно с двумя аргументами — имя файла и режим (например, запись или чтение). Выше мы открыли файл `test.txt` в режиме записи `'w'` (если такого файла не существовало, он будет создан).\n",
        "\n",
        "Такой объект называется `file handle` или дескриптор файла.\n",
        "\n",
        "![](https://www.py4e.com/images/handle.svg)  \n",
        "Source: https://www.py4e.com/html3/07-files\n",
        "\n",
        "Какие могут быть режимы открытия файла (mode):\n",
        "\n",
        "* `'r'` — `read`, только чтение\n",
        "* `'w'` — `write`, только запись (если файл с таким именем существовал, он будет удален).\n",
        "* `'a'` — `append`, новые данные будут записаны в конец файла\n",
        "* `'r+'` — чтение+запись.\n",
        "\n",
        "Если не передать второй аргумент, то файл автоматически откроется в режиме чтения.\n",
        "\n",
        "`encoding` — именнованный параметр, если работаете с кириллицей или языками со спецсимволами, то лучше задать `utf8`."
      ]
    },
    {
      "cell_type": "code",
      "execution_count": null,
      "metadata": {
        "id": "uXNZ5FgE9Pid"
      },
      "outputs": [],
      "source": [
        "f.write('Hello, world!')\n",
        "f.close()"
      ]
    },
    {
      "cell_type": "markdown",
      "metadata": {
        "id": "pRRDjrNf9Pie"
      },
      "source": [
        "Метод `write` записал данные в наш файл. После этого файл нужно закрыть, чтобы он выгрузился из оперативной памяти. Если этого не сделать, то в какой-то момент питоновский сборщик мусора все равно до него доберется и закроет файл, но большие файлы могут съедать достаточно много ресурсов, поэтому лучше за этим следить.\n",
        "\n",
        "Теперь дававайте попробуем открыть в режиме чтения."
      ]
    },
    {
      "cell_type": "code",
      "execution_count": null,
      "metadata": {
        "id": "r589RqvU9Pie",
        "outputId": "d45ae113-7ab6-4780-c326-195c7eb1fda1"
      },
      "outputs": [
        {
          "name": "stdout",
          "output_type": "stream",
          "text": [
            "Hello, world!\n"
          ]
        }
      ],
      "source": [
        "f = open(\"test.txt\", 'r', encoding='utf8')\n",
        "print(f.read())\n",
        "f.close()"
      ]
    },
    {
      "cell_type": "markdown",
      "metadata": {
        "id": "AbtM-5LT9Pif"
      },
      "source": [
        "После того, как мы закрыли файл, обратиться к нему больше нельзя."
      ]
    },
    {
      "cell_type": "code",
      "execution_count": null,
      "metadata": {
        "id": "efLSW9Vs9Pif",
        "outputId": "ac3f42d0-0812-4f69-b68c-e82129f67ef1"
      },
      "outputs": [
        {
          "ename": "ValueError",
          "evalue": "I/O operation on closed file.",
          "output_type": "error",
          "traceback": [
            "\u001b[1;31m---------------------------------------------------------------------------\u001b[0m",
            "\u001b[1;31mValueError\u001b[0m                                Traceback (most recent call last)",
            "\u001b[1;32m<ipython-input-10-571e9fb02258>\u001b[0m in \u001b[0;36m<module>\u001b[1;34m\u001b[0m\n\u001b[1;32m----> 1\u001b[1;33m \u001b[0mf\u001b[0m\u001b[1;33m.\u001b[0m\u001b[0mread\u001b[0m\u001b[1;33m(\u001b[0m\u001b[1;33m)\u001b[0m\u001b[1;33m\u001b[0m\u001b[0m\n\u001b[0m",
            "\u001b[1;31mValueError\u001b[0m: I/O operation on closed file."
          ]
        }
      ],
      "source": [
        "f.read()"
      ]
    },
    {
      "cell_type": "markdown",
      "metadata": {
        "id": "lkTGsWiK9Pif"
      },
      "source": [
        "Хорошим тоном при работе с файлами считается открывать их с помощью ключевого слова `with`. Преимущество этого способа в том, что файл закроется автоматически, когда закончатся вложенные операции."
      ]
    },
    {
      "cell_type": "code",
      "execution_count": null,
      "metadata": {
        "id": "fpmN4qlD9Pig"
      },
      "outputs": [],
      "source": [
        "with open('test.txt') as f: # Открыли файл, не указали режим, по умолчанию — чтение\n",
        "    read_data = f.read()    # Считали данные из файла в переменную\n",
        "                            # Операции закончились, файл сам закрылся"
      ]
    },
    {
      "cell_type": "code",
      "execution_count": null,
      "metadata": {
        "id": "c6jVeH2h9Pig",
        "outputId": "17082bf6-39f6-4229-9ff9-3d3274d2ee8b"
      },
      "outputs": [
        {
          "name": "stdout",
          "output_type": "stream",
          "text": [
            "Hello, world!\n"
          ]
        }
      ],
      "source": [
        "print(read_data)"
      ]
    },
    {
      "cell_type": "markdown",
      "metadata": {
        "id": "HgNuiODo9Pih"
      },
      "source": [
        "А теперь попробуем записать в файл новые строки."
      ]
    },
    {
      "cell_type": "code",
      "execution_count": null,
      "metadata": {
        "id": "UOIPd8969Pih"
      },
      "outputs": [],
      "source": [
        "with open('test.txt', 'a') as f: # Открыли файл\n",
        "    f.write('\\n Is this an african swallow?\\n Or an european swallow?') # Дозаписали строки в файл"
      ]
    },
    {
      "cell_type": "markdown",
      "metadata": {
        "id": "TOao1fGZ9Pii"
      },
      "source": [
        "Еще один вариант записать данные в файл вот так:"
      ]
    },
    {
      "cell_type": "code",
      "execution_count": null,
      "metadata": {
        "id": "k5JF41f89Pij"
      },
      "outputs": [],
      "source": [
        "with open('test.txt', 'a') as f:\n",
        "    print(\"\\nAnd another string\", file = f)"
      ]
    },
    {
      "cell_type": "code",
      "execution_count": null,
      "metadata": {
        "id": "ojZI9wj89Pij",
        "outputId": "57e21d4a-6834-40eb-8aab-6e93e3881d78"
      },
      "outputs": [
        {
          "name": "stdout",
          "output_type": "stream",
          "text": [
            "Hello, world!\n",
            " Is this an african swallow?\n",
            " Or an european swallow?\n",
            "And another string\n",
            "\n"
          ]
        }
      ],
      "source": [
        "with open('test.txt') as f: \n",
        "    print(f.read())"
      ]
    },
    {
      "cell_type": "markdown",
      "metadata": {
        "id": "bzLH5Lac9Pij"
      },
      "source": [
        "Мы выше уже видели два метода файла `.write()` и `.read()`. Еще один метод, который очень часто используется — это `readline`. Он позволяет не загружать файл целиком в память, а считывать его построчно. Знаком остановки здесь будет выступать `\\n`."
      ]
    },
    {
      "cell_type": "code",
      "execution_count": null,
      "metadata": {
        "id": "ee4CD_jW9Pik",
        "outputId": "d7859d08-f918-43af-936f-4bf0297e24d8"
      },
      "outputs": [
        {
          "data": {
            "text/plain": [
              "'Hello, world!\\n'"
            ]
          },
          "execution_count": 16,
          "metadata": {},
          "output_type": "execute_result"
        }
      ],
      "source": [
        "f = open('test.txt', 'r')\n",
        "f.readline()"
      ]
    },
    {
      "cell_type": "code",
      "execution_count": null,
      "metadata": {
        "id": "nbCIQDr49Pik",
        "outputId": "fabfbd5b-6a20-44d6-ac12-acef649dc8c6"
      },
      "outputs": [
        {
          "data": {
            "text/plain": [
              "' Is this an african swallow?\\n'"
            ]
          },
          "execution_count": 17,
          "metadata": {},
          "output_type": "execute_result"
        }
      ],
      "source": [
        "f.readline()"
      ]
    },
    {
      "cell_type": "markdown",
      "metadata": {
        "id": "9vkg6S8m9Pik"
      },
      "source": [
        "`.readline()` — генератор. При обращении он выдает нам новую строку."
      ]
    },
    {
      "cell_type": "code",
      "execution_count": null,
      "metadata": {
        "id": "S6iz33J29Pik",
        "outputId": "5b31768a-b852-46af-bb89-79bfdf5ba161"
      },
      "outputs": [
        {
          "data": {
            "text/plain": [
              "' Or an european swallow?\\n'"
            ]
          },
          "execution_count": 18,
          "metadata": {},
          "output_type": "execute_result"
        }
      ],
      "source": [
        "f.readline() # Вызвали третий раз"
      ]
    },
    {
      "cell_type": "code",
      "execution_count": null,
      "metadata": {
        "id": "HhDHRZ6T9Pil"
      },
      "outputs": [],
      "source": [
        "f.close()"
      ]
    },
    {
      "cell_type": "markdown",
      "metadata": {
        "id": "PC2tEwed9Pil"
      },
      "source": [
        "Также, чтобы прочитать все строки поочередно, можно запустить цикл. Тут не стоит забывать, что переменная `f`, хоть и прикидывается списком строк, когда мы её итерируем, на самом деле таковым не является. В действительности при открытии файла мы запоминаем позицию, на которой мы этот файл читаем. Изначально она указывает на самое начало файла, но с каждой итерацией сдвигается. Когда мы прочитаем файл целиком, дальнейшие попытки из него что-то прочитать ни к чему не приведут: указатель текущей позиции сдвинулся до самого конца и файл закончился."
      ]
    },
    {
      "cell_type": "code",
      "execution_count": null,
      "metadata": {
        "id": "fBHCiLtd9Pil",
        "outputId": "170a961f-2264-4288-ef40-463971320e6d"
      },
      "outputs": [
        {
          "name": "stdout",
          "output_type": "stream",
          "text": [
            "Hello, world!\n",
            " Is this an african swallow?\n",
            " Or an european swallow?\n",
            "And another string\n"
          ]
        }
      ],
      "source": [
        "f = open('test.txt', 'r')\n",
        "\n",
        "for line in f:\n",
        "    print(line, end='')\n",
        "    \n",
        "for line in f: # Обратите внимание, что этот цикл не выполняется\n",
        "    print(line, end='')\n",
        "    \n",
        "f.close()"
      ]
    },
    {
      "cell_type": "markdown",
      "metadata": {
        "id": "czNIPK9u9Pil"
      },
      "source": [
        "Файл можно перемотать на начало, если воспользоваться методом `.seek()`, который возвращается к символу на этой позиции."
      ]
    },
    {
      "cell_type": "code",
      "execution_count": null,
      "metadata": {
        "id": "-LhW_f9l9Pim",
        "outputId": "1002fb6c-4537-469b-b5e8-2bccdbbc62aa"
      },
      "outputs": [
        {
          "name": "stdout",
          "output_type": "stream",
          "text": [
            "Hello, world!\n",
            " Is this an african swallow?\n",
            " Or an european swallow?\n",
            "And another string\n",
            "Hello, world!\n",
            " Is this an african swallow?\n",
            " Or an european swallow?\n",
            "And another string\n"
          ]
        }
      ],
      "source": [
        "f = open('test.txt', 'r')\n",
        "\n",
        "for line in f:\n",
        "    print(line, end='')\n",
        "\n",
        "f.seek(0) # Вернули файл на начало    \n",
        "    \n",
        "for line in f: # Теперь печатает!\n",
        "    print(line, end='')\n",
        "    \n",
        "f.close()"
      ]
    },
    {
      "cell_type": "markdown",
      "metadata": {
        "id": "YdKCEm_69Pim"
      },
      "source": [
        "Если методу `read()` передать целое число, то питон прочитает только заданное количество символов или битов, если информация в файле записана в бинарном формате."
      ]
    },
    {
      "cell_type": "code",
      "execution_count": null,
      "metadata": {
        "id": "VzZA2gVw9Pim",
        "outputId": "4f656aff-c812-46a9-8f72-b1b327e8a24d"
      },
      "outputs": [
        {
          "name": "stdout",
          "output_type": "stream",
          "text": [
            "Hello,\n"
          ]
        }
      ],
      "source": [
        "with open('test.txt') as f: \n",
        "    print(f.read(6))"
      ]
    },
    {
      "cell_type": "markdown",
      "metadata": {
        "id": "pBVFh0Ao9Pim"
      },
      "source": [
        "Чтобы считать все строки файла в список, можно вызвать список от файлового объекта или использовать метод `.readlines()`."
      ]
    },
    {
      "cell_type": "code",
      "execution_count": null,
      "metadata": {
        "id": "KVa8h-0j9Pin",
        "outputId": "d85115ec-fccc-498a-f0c5-c137a56ee2f3"
      },
      "outputs": [
        {
          "name": "stdout",
          "output_type": "stream",
          "text": [
            "['Hello, world!\\n', ' Is this an african swallow?\\n', ' Or an european swallow?\\n', 'And another string\\n']\n"
          ]
        }
      ],
      "source": [
        "f = open('test.txt', 'r')\n",
        "print(list(f))\n",
        "f.close()"
      ]
    },
    {
      "cell_type": "code",
      "execution_count": null,
      "metadata": {
        "id": "entSIXz89Pin",
        "outputId": "4ab973f5-5849-4fe7-a6f5-2dd8e875764a"
      },
      "outputs": [
        {
          "data": {
            "text/plain": [
              "['Hello, world!\\n',\n",
              " ' Is this an african swallow?\\n',\n",
              " ' Or an european swallow?\\n',\n",
              " 'And another string\\n']"
            ]
          },
          "execution_count": 24,
          "metadata": {},
          "output_type": "execute_result"
        }
      ],
      "source": [
        "f = open('test.txt', 'r')\n",
        "L = list(f)\n",
        "f.close()\n",
        "L"
      ]
    },
    {
      "cell_type": "code",
      "execution_count": null,
      "metadata": {
        "id": "T1HkWkjL9Pin",
        "outputId": "226e63ab-505d-4f41-b985-8cf9192d75b2"
      },
      "outputs": [
        {
          "name": "stdout",
          "output_type": "stream",
          "text": [
            "['Hello, world!\\n', ' Is this an african swallow?\\n', ' Or an european swallow?\\n', 'And another string\\n']\n"
          ]
        }
      ],
      "source": [
        "f = open('test.txt', 'r')\n",
        "print(f.readlines())\n",
        "f.close()"
      ]
    },
    {
      "cell_type": "markdown",
      "metadata": {
        "id": "OB-FxFW49Pin"
      },
      "source": [
        "# Задачи для тренировки\n",
        "Часть из этих задач мы решим в классе. Но если мы даже не успеем  — попытайтесь сделать их дома сами.\n",
        "\n",
        "### Задание 1. Обработка файла\n",
        "\n",
        "Каждый пункт — разные задания, не нужно сразу умещать все в один код.\n",
        "\n",
        "+ в файле mbox.txt есть строки формата \"Date: Sat, 5 Jan 2008 09:12:18 -0500\" — время, когда ушло письмо; напечатайте их\n",
        "+ у каждого письма на самом деле две строки, начинающихся с 'Date: ', напечатайте только одну из них\n",
        "+ напечатайте час, в который было отправлено каждое сообщение\n",
        "+ (самое сложное) сделайте словарь, в который будете сохранять, в каком часу люди пишут письма (час от 0 до 23 — ключ, количество писем, написанных в это время, — значение)\n",
        "+ напечатайте данные словаря в следующем виде \"В NN часов было отправлено XX писем\" (часы должны быть отсортированы по возрастанию)"
      ]
    },
    {
      "cell_type": "code",
      "execution_count": null,
      "metadata": {
        "id": "i4grtV6b9Pin",
        "outputId": "44c26f4b-481e-4ee0-944e-e2710f49b870"
      },
      "outputs": [
        {
          "name": "stdout",
          "output_type": "stream",
          "text": [
            "Date: Sat, 5 Jan 2008 09:12:18 -0500\n",
            "\n"
          ]
        }
      ],
      "source": [
        "with open('mbox.txt') as f:\n",
        "    for line in f:\n",
        "        if line.startswith('Date: '):\n",
        "            print(line)\n",
        "            break # закомментируйте или удалите break, если хотите увидеть весь вывод."
      ]
    },
    {
      "cell_type": "code",
      "execution_count": null,
      "metadata": {
        "id": "L_eL4m0M9Pio",
        "outputId": "0b348cf9-51db-4be1-9fab-76f7f77b28e0"
      },
      "outputs": [
        {
          "name": "stdout",
          "output_type": "stream",
          "text": [
            "Date: 2008-01-05 09:12:07 -0500 (Sat, 05 Jan 2008)\n",
            "\n"
          ]
        }
      ],
      "source": [
        "with open('mbox.txt') as f:\n",
        "    for line in f:\n",
        "        if line.startswith('Date: ') and line.endswith(')\\n'):\n",
        "            print(line)\n",
        "            break"
      ]
    },
    {
      "cell_type": "code",
      "execution_count": null,
      "metadata": {
        "id": "xqPimHY-9Pio",
        "outputId": "c4c153b8-8aeb-481e-f591-800aaf90782a"
      },
      "outputs": [
        {
          "name": "stdout",
          "output_type": "stream",
          "text": [
            "09\n"
          ]
        }
      ],
      "source": [
        "with open('mbox.txt') as f:\n",
        "    for line in f:\n",
        "        if line.startswith('Date: ') and line.endswith(')\\n'):\n",
        "            print(line.split()[2].split(':')[0])\n",
        "            break"
      ]
    },
    {
      "cell_type": "code",
      "execution_count": null,
      "metadata": {
        "id": "mndafzel9Pio"
      },
      "outputs": [],
      "source": [
        "hours = {}\n",
        "\n",
        "with open('mbox.txt') as f:\n",
        "    for line in f:\n",
        "        if line.startswith('Date: ') and line.endswith(')\\n'):\n",
        "            hours[line.split()[2].split(':')[0]] = hours.get(line.split()[2].split(':')[0], 0) + 1\n",
        "            \n",
        "for hour in sorted(hours):\n",
        "    print(f'В {hour} часов было отправлено {hours[hour]} писем')"
      ]
    },
    {
      "cell_type": "markdown",
      "metadata": {
        "id": "RrVy-Bag9Pio"
      },
      "source": [
        "### Задание 2. Подсчет суммы и запись в файл\n",
        "\n",
        "Каждый пункт — разные задания, не нужно сразу умещать все в один код.\n",
        "\n",
        "+ сохраните данные из файла export_file.txt в список `read_data`\n",
        "+ создайте словарь, где ключом будет номер варианта, а значением — сумма вещественных чисел, относящихся в нему в файле\n",
        "+ обратитесь к отсортированным значениям словаря и запишите в новый файл строки типа \"Вариант NN - сумма FFF\" (после каждой не забудьте `\\n`)\n",
        "+ откройте созданный фал, напечатайте каждую строку в нем"
      ]
    },
    {
      "cell_type": "code",
      "execution_count": null,
      "metadata": {
        "id": "dpiRiwWC9Pio"
      },
      "outputs": [],
      "source": [
        "with open('export_file.txt') as f:\n",
        "    read_data = f.read()"
      ]
    },
    {
      "cell_type": "code",
      "execution_count": null,
      "metadata": {
        "id": "fgQobbA_9Pio"
      },
      "outputs": [],
      "source": [
        "ALL = {}\n",
        "var = 1\n",
        "for i in range(1, len(read_data.split('\\n')), 3):\n",
        "    L = sum(list(map(float, read_data.split('\\n')[i].split(','))))\n",
        "    ALL[var] = L\n",
        "    var += 1"
      ]
    },
    {
      "cell_type": "code",
      "execution_count": null,
      "metadata": {
        "id": "PymGqKEm9Pip",
        "outputId": "cf6a9d5f-662c-47e8-b511-b1c242176f01"
      },
      "outputs": [
        {
          "data": {
            "text/plain": [
              "{1: 21946.633700000002,\n",
              " 4: 44128.50140000001,\n",
              " 7: 62389.97879999999,\n",
              " 10: 86089.6422,\n",
              " 13: 107034.00159999999,\n",
              " 16: 122788.47629999998,\n",
              " 19: 143195.21050000007,\n",
              " 22: 164068.6310000001,\n",
              " 25: 183697.25570000004,\n",
              " 28: 204655.95400000003,\n",
              " 31: 225000.81380000012,\n",
              " 34: 244702.6490000001,\n",
              " 37: -49628.431900000025,\n",
              " 40: -53221.384,\n",
              " 43: -57285.70600000003,\n",
              " 46: -60932.03610000002,\n",
              " 49: -64742.69259999999,\n",
              " 52: -68733.43980000001,\n",
              " 55: 22997.026300000005,\n",
              " 58: 24515.4141,\n",
              " 61: 25310.256200000003,\n",
              " 64: 26806.00299999998,\n",
              " 67: 27961.228700000014,\n",
              " 70: 28928.131499999996,\n",
              " 73: 14264.622399999997,\n",
              " 76: 14908.872399999998,\n",
              " 79: 15391.797199999995,\n",
              " 82: 16021.422900000003,\n",
              " 85: 16586.042099999995,\n",
              " 88: 17107.292700000005,\n",
              " 91: 23882.1506,\n",
              " 94: 24737.289399999987,\n",
              " 97: 25416.770800000013,\n",
              " 100: 26238.793500000007,\n",
              " 103: 27011.68429999999,\n",
              " 106: 27726.50119999999,\n",
              " 109: 28503.669200000004,\n",
              " 112: 29369.45090000001,\n",
              " 115: 30037.616700000017,\n",
              " 118: 30866.143000000004}"
            ]
          },
          "execution_count": 67,
          "metadata": {},
          "output_type": "execute_result"
        }
      ],
      "source": [
        "ALL"
      ]
    },
    {
      "cell_type": "code",
      "execution_count": null,
      "metadata": {
        "id": "nVubywvA9Pip"
      },
      "outputs": [],
      "source": [
        "f = open(\"new_file.txt\", 'w', encoding='utf8')\n",
        "\n",
        "for j in sorted(ALL.values()):\n",
        "    for k,v in ALL.items():\n",
        "        if v == j:\n",
        "            f.write(f'Вариант {k} - сумма {v}\\n') \n",
        "f.close()"
      ]
    },
    {
      "cell_type": "code",
      "execution_count": null,
      "metadata": {
        "id": "zxUEvYDc9Pip",
        "outputId": "d21646be-1878-4fc6-ce37-45a9a2e85d10"
      },
      "outputs": [
        {
          "name": "stdout",
          "output_type": "stream",
          "text": [
            "Вариант 52 - сумма -68733.43980000001\n",
            "\n",
            "Вариант 49 - сумма -64742.69259999999\n",
            "\n",
            "Вариант 46 - сумма -60932.03610000002\n",
            "\n",
            "Вариант 43 - сумма -57285.70600000003\n",
            "\n",
            "Вариант 40 - сумма -53221.384\n",
            "\n",
            "Вариант 37 - сумма -49628.431900000025\n",
            "\n",
            "Вариант 73 - сумма 14264.622399999997\n",
            "\n",
            "Вариант 76 - сумма 14908.872399999998\n",
            "\n",
            "Вариант 79 - сумма 15391.797199999995\n",
            "\n",
            "Вариант 82 - сумма 16021.422900000003\n",
            "\n",
            "Вариант 85 - сумма 16586.042099999995\n",
            "\n",
            "Вариант 88 - сумма 17107.292700000005\n",
            "\n",
            "Вариант 1 - сумма 21946.633700000002\n",
            "\n",
            "Вариант 55 - сумма 22997.026300000005\n",
            "\n",
            "Вариант 91 - сумма 23882.1506\n",
            "\n",
            "Вариант 58 - сумма 24515.4141\n",
            "\n",
            "Вариант 94 - сумма 24737.289399999987\n",
            "\n",
            "Вариант 61 - сумма 25310.256200000003\n",
            "\n",
            "Вариант 97 - сумма 25416.770800000013\n",
            "\n",
            "Вариант 100 - сумма 26238.793500000007\n",
            "\n",
            "Вариант 64 - сумма 26806.00299999998\n",
            "\n",
            "Вариант 103 - сумма 27011.68429999999\n",
            "\n",
            "Вариант 106 - сумма 27726.50119999999\n",
            "\n",
            "Вариант 67 - сумма 27961.228700000014\n",
            "\n",
            "Вариант 109 - сумма 28503.669200000004\n",
            "\n",
            "Вариант 70 - сумма 28928.131499999996\n",
            "\n",
            "Вариант 112 - сумма 29369.45090000001\n",
            "\n",
            "Вариант 115 - сумма 30037.616700000017\n",
            "\n",
            "Вариант 118 - сумма 30866.143000000004\n",
            "\n",
            "Вариант 4 - сумма 44128.50140000001\n",
            "\n",
            "Вариант 7 - сумма 62389.97879999999\n",
            "\n",
            "Вариант 10 - сумма 86089.6422\n",
            "\n",
            "Вариант 13 - сумма 107034.00159999999\n",
            "\n",
            "Вариант 16 - сумма 122788.47629999998\n",
            "\n",
            "Вариант 19 - сумма 143195.21050000007\n",
            "\n",
            "Вариант 22 - сумма 164068.6310000001\n",
            "\n",
            "Вариант 25 - сумма 183697.25570000004\n",
            "\n",
            "Вариант 28 - сумма 204655.95400000003\n",
            "\n",
            "Вариант 31 - сумма 225000.81380000012\n",
            "\n",
            "Вариант 34 - сумма 244702.6490000001\n",
            "\n"
          ]
        }
      ],
      "source": [
        "with open('new_file.txt', encoding='utf8') as f:\n",
        "    for line in f:\n",
        "        print(line)"
      ]
    },
    {
      "cell_type": "markdown",
      "metadata": {
        "id": "U7k5Yfvz9Piq"
      },
      "source": [
        "### Задание 3. Вспомним функции \n",
        "\n",
        "Каждый год студентам необходимо поменять пароль в системе LMS. C нового года к паролю стали предъявлять новые требования.\n",
        "\n",
        "+ Он должен быть длинее 10 символов\n",
        "+ В нем должна быть одна заглавная буква, но все буквы не могут быть заглавными одновременно\n",
        "+ В нем должна быть хотя бы одна цифра\n",
        "Напишите функцию `checker()`, которая принимает на ввод гипотетический пароль и проверяет его на соответствие эти требованиям.\n"
      ]
    },
    {
      "cell_type": "code",
      "execution_count": null,
      "metadata": {
        "id": "lbQxYHYZ9Piq",
        "outputId": "282e0da3-1919-434c-b033-b4e186e5182a"
      },
      "outputs": [
        {
          "name": "stdout",
          "output_type": "stream",
          "text": [
            "True\n",
            "False\n",
            "False\n",
            "False\n",
            "False\n"
          ]
        }
      ],
      "source": [
        "# ваше решение здесь\n",
        "def checker(x):\n",
        "    if len(x) <= 10:                             # проверка на длину\n",
        "        return False\n",
        "    elif x.isupper() or x.islower(): # проверяем, что не все буквы заглавные, и не все строчные\n",
        "        return False\n",
        "    elif x.isdigit() or x.isalpha(): # проверяем, что есть и буквы и цифры, если только что-то одно, возвращаем False\n",
        "        return False\n",
        "    else:\n",
        "        return True\n",
        "    \n",
        "print(checker('Taaaa1234555'))    # проверяем пароли\n",
        "print(checker('qwerty12345'))\n",
        "print(checker('taaaadffffffff'))\n",
        "print(checker('12341224125'))\n",
        "print(checker('TA2321TA22412'))"
      ]
    }
  ],
  "metadata": {
    "kernelspec": {
      "display_name": "Python 3",
      "language": "python",
      "name": "python3"
    },
    "language_info": {
      "codemirror_mode": {
        "name": "ipython",
        "version": 3
      },
      "file_extension": ".py",
      "mimetype": "text/x-python",
      "name": "python",
      "nbconvert_exporter": "python",
      "pygments_lexer": "ipython3",
      "version": "3.6.5"
    },
    "colab": {
      "name": "sw_09.ipynb",
      "provenance": [],
      "collapsed_sections": [
        "RrVy-Bag9Pio",
        "U7k5Yfvz9Piq"
      ]
    }
  },
  "nbformat": 4,
  "nbformat_minor": 0
}
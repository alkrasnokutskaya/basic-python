{
  "cells": [
    {
      "cell_type": "markdown",
      "metadata": {
        "id": "xWGSyqWo7VT2"
      },
      "source": [
        "# Прикладное программное обеспечение\n",
        "#### Python для извлечения и обработки данных\n",
        "\n",
        "\n",
        "## Логические выражения, условный оператор, цикл `while`\n",
        "\n",
        "*Автор: Александра Краснокутская, Валентина Лебедева, НИУ ВШЭ*"
      ]
    },
    {
      "cell_type": "markdown",
      "metadata": {
        "id": "ZYo08mzd7VT8"
      },
      "source": [
        "### Логический тип данных (`boolean`)"
      ]
    },
    {
      "cell_type": "markdown",
      "metadata": {
        "id": "ZNBmJ4iT7VT9"
      },
      "source": [
        "На прошлом занятии мы познакомились с двумя типами данных:\n",
        "* Целые числа (`int`, `integer`)\n",
        "* Строки (`str`, `string`)\n",
        "\n",
        "Сегодня мы узнаем еще об одном — **логические (или булевые) переменные (`bool`, `boolean`)**.\n",
        "\n",
        "Логические переменные могут принимать два значения — **истина (`True`)** или **ложь (`False`)**."
      ]
    },
    {
      "cell_type": "code",
      "execution_count": null,
      "metadata": {
        "id": "SjBUWySx7VT-",
        "outputId": "c2dce1c5-b6fb-4065-8160-c969429e11b2"
      },
      "outputs": [
        {
          "name": "stdout",
          "output_type": "stream",
          "text": [
            "<class 'bool'> <class 'bool'>\n"
          ]
        }
      ],
      "source": [
        "print(type(True), type(False))"
      ]
    },
    {
      "cell_type": "markdown",
      "metadata": {
        "id": "te-nDtZC7VUB"
      },
      "source": [
        "Как и в случае чисел и строк, с логическими переменными работает преобразование типов. Превратить что-либо в логическую переменную можно с помощью функции `bool()`.\n",
        "\n",
        "Преобразование чисел работает следующим образом — 0 превращается в `False`, все остальное в `True`."
      ]
    },
    {
      "cell_type": "code",
      "execution_count": null,
      "metadata": {
        "id": "ELxk2LcP7VUC",
        "outputId": "859f3199-eee1-497f-cced-7101bdb3c8af"
      },
      "outputs": [
        {
          "name": "stdout",
          "output_type": "stream",
          "text": [
            "False\n",
            "True\n",
            "True\n"
          ]
        }
      ],
      "source": [
        "print(bool(0))\n",
        "print(bool(23))\n",
        "print(bool(-10))"
      ]
    },
    {
      "cell_type": "markdown",
      "metadata": {
        "id": "PxT2PcIX7VUE"
      },
      "source": [
        "Пустая строка преобразуется в `False`, все остальные строки в `True`."
      ]
    },
    {
      "cell_type": "code",
      "execution_count": null,
      "metadata": {
        "id": "7P4XMqfs7VUF",
        "outputId": "23cd24bd-d2b5-4be1-881a-1d056a7a3b8d"
      },
      "outputs": [
        {
          "name": "stdout",
          "output_type": "stream",
          "text": [
            "False\n",
            "True\n",
            "True\n",
            "True\n"
          ]
        }
      ],
      "source": [
        "print(bool(''))\n",
        "print(bool('Hello'))\n",
        "print(bool(' '))     # Даже строка из одного пробела — это True\n",
        "print(bool('False')) # и даже строка 'False' — это True"
      ]
    },
    {
      "cell_type": "markdown",
      "metadata": {
        "id": "j6pjHdY67VUH"
      },
      "source": [
        "Булевые переменные также можно приводить к известным нам типам данных"
      ]
    },
    {
      "cell_type": "code",
      "execution_count": null,
      "metadata": {
        "id": "nWIgS25Z7VUI",
        "outputId": "3d7b6c2b-ebbe-40da-c5d9-c629b11c5504"
      },
      "outputs": [
        {
          "name": "stdout",
          "output_type": "stream",
          "text": [
            "1\n",
            "0\n",
            "True\n",
            "False\n"
          ]
        }
      ],
      "source": [
        "print(int(True))\n",
        "print(int(False))\n",
        "print(str(True))\n",
        "print(str(False))"
      ]
    },
    {
      "cell_type": "markdown",
      "metadata": {
        "id": "OAr113pS7VUJ"
      },
      "source": [
        "Можно выполнять даже по несколько преобразований, но будьте осторожны"
      ]
    },
    {
      "cell_type": "code",
      "execution_count": null,
      "metadata": {
        "id": "JratFSOc7VUK",
        "outputId": "cc8ab610-02a8-4d5d-c668-475657b772bf"
      },
      "outputs": [
        {
          "name": "stdout",
          "output_type": "stream",
          "text": [
            "True\n"
          ]
        }
      ],
      "source": [
        "print(bool(str(False))) #упс"
      ]
    },
    {
      "cell_type": "markdown",
      "metadata": {
        "id": "j01knR2k7VUL"
      },
      "source": [
        "### Логические выражения"
      ]
    },
    {
      "cell_type": "markdown",
      "metadata": {
        "id": "QoNoxjQ07VUL"
      },
      "source": [
        "Давайте посмотрим, где используется новый тип данных.\n",
        "\n",
        "В прошлый раз мы познакомились с арифметическими выражениями — их результатом были числа. Сегодня мы поработаем с логическими выражениями, результат которых — булевые переменные.\n",
        "\n",
        "Логические выражения выполняют проверку на истинность, то есть выражение равно `True`, если оно истинно, и `False`, если ложно.\n",
        "\n",
        "В логических выражениях используются операторы сравнения:\n",
        "* `==`  (равно)\n",
        "* `!=`  (не равно)\n",
        "* `>`  (больше)\n",
        "* `<`  (меньше)\n",
        "* `>=`  (больше или равно)\n",
        "* `<=`  (меньше или равно)"
      ]
    },
    {
      "cell_type": "code",
      "execution_count": null,
      "metadata": {
        "id": "WGVuCGMb7VUN",
        "outputId": "444d490e-1623-47ea-de23-086c33303591"
      },
      "outputs": [
        {
          "name": "stdout",
          "output_type": "stream",
          "text": [
            "True\n",
            "True\n",
            "False\n",
            "<class 'bool'>\n"
          ]
        }
      ],
      "source": [
        "print(1 == 1)\n",
        "print(1 != '1')\n",
        "c = 1 > 3\n",
        "print(c)\n",
        "print(type(c))"
      ]
    },
    {
      "cell_type": "markdown",
      "metadata": {
        "id": "O8CH69KK7VUN"
      },
      "source": [
        "Логические выражения можно комбинировать с помощью следующих логических операторов:\n",
        "\n",
        "* логическое И (`and`) — выражение истинно, только когда обе части истинны, иначе оно ложно\n",
        "* логическое ИЛИ (`or`) — выражение ложно, только когда обе части ложны, иначе оно истинно\n",
        "* логическое отрицание (`not`) — превращает `True` в `False` и наоборот"
      ]
    },
    {
      "cell_type": "code",
      "execution_count": null,
      "metadata": {
        "id": "k3zio9nW7VUO",
        "outputId": "20437685-4b80-43ca-a793-403904bebe7a"
      },
      "outputs": [
        {
          "name": "stdout",
          "output_type": "stream",
          "text": [
            "False\n",
            "True\n",
            "False\n",
            "True\n"
          ]
        }
      ],
      "source": [
        "print((1 == 1) and ('1' == 1))\n",
        "print((1 == 1) or ('1' == 1))\n",
        "print(not(1 == 1))\n",
        "print(((1 == 1) or ('1' == 1)) and (2 == 2))"
      ]
    },
    {
      "cell_type": "markdown",
      "metadata": {
        "id": "je61ia727VUP"
      },
      "source": [
        "### Условия"
      ]
    },
    {
      "cell_type": "markdown",
      "metadata": {
        "id": "YafaxCGR7VUP"
      },
      "source": [
        "**Условия (`if`)** позволяют выполнять код только в случае истинности какого-то логического выражения.\n",
        "\n",
        "Проще говоря, \"если верно, что..., то сделать ...\".\n",
        "\n",
        "Самый простой пример использования `if` — это вывод какой-то фразы по условию."
      ]
    },
    {
      "cell_type": "code",
      "execution_count": null,
      "metadata": {
        "id": "J-1EfDJK7VUQ",
        "outputId": "ed6d75f4-407c-482a-f667-cdede8642b08"
      },
      "outputs": [
        {
          "name": "stdout",
          "output_type": "stream",
          "text": [
            "That is true!\n"
          ]
        }
      ],
      "source": [
        "x = 1\n",
        "if x == 1:                  # Выражение равно True, это условие истинное\n",
        "    print('That is true!')  # Фраза выводится"
      ]
    },
    {
      "cell_type": "code",
      "execution_count": null,
      "metadata": {
        "id": "5fWoCDAV7VUT"
      },
      "outputs": [],
      "source": [
        "if x != 1:                  # Выражение равно False, это условие ложное\n",
        "    print('That is true!')  # Фраза не выводится"
      ]
    },
    {
      "cell_type": "markdown",
      "metadata": {
        "id": "xHK7qK6u7VUT"
      },
      "source": [
        "Обратите внимание, что код, который находится внутри условия, выделяется отступом в 4 пробела.\n",
        "\n",
        "Иначе программа не поймет, что он относится к условию."
      ]
    },
    {
      "cell_type": "code",
      "execution_count": null,
      "metadata": {
        "id": "D7Fj9aJt7VUU",
        "outputId": "6f396b07-deb5-4e85-b620-f7c7cf6b4673"
      },
      "outputs": [
        {
          "ename": "IndentationError",
          "evalue": "expected an indented block (<ipython-input-14-b1fb9bc19953>, line 2)",
          "output_type": "error",
          "traceback": [
            "\u001b[0;36m  File \u001b[0;32m\"<ipython-input-14-b1fb9bc19953>\"\u001b[0;36m, line \u001b[0;32m2\u001b[0m\n\u001b[0;31m    print('That is true!')\u001b[0m\n\u001b[0m        ^\u001b[0m\n\u001b[0;31mIndentationError\u001b[0m\u001b[0;31m:\u001b[0m expected an indented block\n"
          ]
        }
      ],
      "source": [
        "if x == 1:\n",
        "print('That is true!')"
      ]
    },
    {
      "cell_type": "markdown",
      "metadata": {
        "id": "DKjwQKBO7VUV"
      },
      "source": [
        "А что делать, если в том случае, когда условие не истинное, мы тоже хотим совершать какое-то действие? Для этого у нас есть ключевое слово **`else` (\"то\")**. "
      ]
    },
    {
      "cell_type": "code",
      "execution_count": null,
      "metadata": {
        "id": "bK18zL6m7VUV",
        "outputId": "cf76ec16-1f31-4f2b-b764-d2d93ff2266f"
      },
      "outputs": [
        {
          "name": "stdout",
          "output_type": "stream",
          "text": [
            "That is false!\n"
          ]
        }
      ],
      "source": [
        "if x != 1:\n",
        "    print('That is true!')\n",
        "else:\n",
        "    print('That is false!')"
      ]
    },
    {
      "cell_type": "markdown",
      "metadata": {
        "id": "DbE9_Nji7VUV"
      },
      "source": [
        "Мы разобрались, как поступать, если у нас два варианта действий, но их может быть и больше.\n",
        "\n",
        "Для примера давайте решим простую задачу — найти минимум из двух введенных чисел. Пока ничего нового:"
      ]
    },
    {
      "cell_type": "code",
      "execution_count": null,
      "metadata": {
        "id": "45sEkrRK7VUW",
        "outputId": "aef7fa29-f41c-425b-c1f3-ee6c83466695"
      },
      "outputs": [
        {
          "name": "stdout",
          "output_type": "stream",
          "text": [
            "Введите первое число: 5\n",
            "Введите второе число: 3\n",
            "Минимум равен 3\n"
          ]
        }
      ],
      "source": [
        "a = input('Введите первое число: ')\n",
        "b = input('Введите второе число: ')\n",
        "if a < b:\n",
        "    min = a\n",
        "else:\n",
        "    min = b\n",
        "print('Минимум равен', min)"
      ]
    },
    {
      "cell_type": "markdown",
      "metadata": {
        "id": "bHfLnJa87VUW"
      },
      "source": [
        "А теперь усложним задание, добавив третий вариант развития событий — если числа равны, будем печатать *'Равные числа'*.\n",
        "\n",
        "Можно решить эту задачу с помощью вложенных условий:"
      ]
    },
    {
      "cell_type": "code",
      "execution_count": null,
      "metadata": {
        "id": "xpqsuaMI7VUW",
        "outputId": "395a7088-7877-4e34-aef7-8de38bd0d011"
      },
      "outputs": [
        {
          "name": "stdout",
          "output_type": "stream",
          "text": [
            "Введите первое число: 5\n",
            "Введите второе число: 5\n",
            "Равные числа: 5\n"
          ]
        }
      ],
      "source": [
        "a = input('Введите первое число: ')\n",
        "b = input('Введите второе число: ')\n",
        "if a < b: \n",
        "    print(a)\n",
        "else:\n",
        "    if a > b:       # Обратите внимание, здесь одно условие находится внутри другого, \n",
        "                    # и код ниже будет писаться после двойного отступа\n",
        "        print(b)\n",
        "    else:\n",
        "        print('Равные числа:', a)"
      ]
    },
    {
      "cell_type": "markdown",
      "metadata": {
        "id": "NNkX_Yb07VUX"
      },
      "source": [
        "Неплохо, но можно упростить это решение с помощью конструкции **`else if` (или `elif`)**, которая позволяет в случае ложности условия сразу же написать еще одну проверку.\n",
        "\n",
        "Вот как будет выглядеть решение нашей задачи с помощью `elif`:"
      ]
    },
    {
      "cell_type": "code",
      "execution_count": null,
      "metadata": {
        "id": "frAqugWM7VUX",
        "outputId": "8c493c16-8b00-4c80-9568-5f59fae26669"
      },
      "outputs": [
        {
          "name": "stdout",
          "output_type": "stream",
          "text": [
            "Введите первое число: 3\n",
            "Введите второе число: 3\n",
            "Равные числа: 3\n"
          ]
        }
      ],
      "source": [
        "a = input('Введите первое число: ')\n",
        "b = input('Введите второе число: ')\n",
        "if a < b: \n",
        "    print(a)\n",
        "elif a > b: \n",
        "    print(b)\n",
        "else:\n",
        "    print('Равные числа:', a)"
      ]
    },
    {
      "cell_type": "markdown",
      "metadata": {
        "id": "P2jJdWIp7VUX"
      },
      "source": [
        "### Цикл `while`"
      ]
    },
    {
      "cell_type": "markdown",
      "metadata": {
        "id": "BfVO4W5T7VUX"
      },
      "source": [
        "Довольно часто задачи требуют от нас несколько раз выполнить однотипный код.\n",
        "\n",
        "Если писать несколько раз одни и те же строки, это загромождает программу. Иногда несколько раз превращается в много (100 или 10000).\n",
        "А иногда это число вообще зависит от параметров ввода.\n",
        "\n",
        "Справиться с этим помогают **циклы**. На этом семинаре мы поработаем с циклом **`while` (пока)**"
      ]
    },
    {
      "cell_type": "markdown",
      "metadata": {
        "id": "H3VZueop7VUY"
      },
      "source": [
        "Прицип использования цикла `while`: записываем логическое выражение и некоторый код. Код будет выполняться до тех пор, пока логическое выражение верно.\n",
        "\n",
        "Например, давайте напечатаем все целые числа от 1 до 10."
      ]
    },
    {
      "cell_type": "code",
      "execution_count": null,
      "metadata": {
        "id": "31M-9bzo7VUY",
        "outputId": "25b426f4-6f1c-40c2-9666-a14a84a6bf02"
      },
      "outputs": [
        {
          "name": "stdout",
          "output_type": "stream",
          "text": [
            "1\n",
            "2\n",
            "3\n",
            "4\n",
            "5\n",
            "6\n",
            "7\n",
            "8\n",
            "9\n",
            "10\n"
          ]
        }
      ],
      "source": [
        "i = 1 \n",
        "while i <= 10:\n",
        "    print(i) \n",
        "    i += 1 "
      ]
    },
    {
      "cell_type": "markdown",
      "metadata": {
        "id": "UvcKdJGU7VUY"
      },
      "source": [
        "Здесь мы использовали запись `i += 1`. Она эквивалентна `i = i + 1`.  \n",
        "Аналогично можно записывать и другие арифметические операции: например, `-=`"
      ]
    },
    {
      "cell_type": "markdown",
      "metadata": {
        "id": "KJgy5-M37VUY"
      },
      "source": [
        "Обратите внимание, что код внутри цикла (тот, который мы хотим повторно выполнять), выделяется отступом."
      ]
    },
    {
      "cell_type": "markdown",
      "metadata": {
        "id": "Uoyk8XFP7VUZ"
      },
      "source": [
        "### Оператор `break` "
      ]
    },
    {
      "cell_type": "markdown",
      "metadata": {
        "id": "SpfLqtKD7VUZ"
      },
      "source": [
        "Циклами можно управлять с помощью операторов **`break`**, **`continue`**."
      ]
    },
    {
      "cell_type": "markdown",
      "metadata": {
        "id": "w4mtbHn_7VUZ"
      },
      "source": [
        "**`break`** внутри цикла позволяет прервать его выполнение и сразу же перейти к коду, который идет после цикла (либо завершить программу).  \n",
        "\n",
        "В этом случае мы можем написать сразу после цикла секцию **`else`** (синтаксис при этом такой же, как и в условиях).  \n",
        "Код, написанный после **`else`**, будет выполняться, если цикл завершился \"естественным путем\" (т.е. не был прерван с помощью `break`)."
      ]
    },
    {
      "cell_type": "markdown",
      "metadata": {
        "id": "S3rKhsS67VUZ"
      },
      "source": [
        "#### Задача\n",
        "\n",
        "Рассмотрим пример задачи, которую можно решить с использованием `break`. \n",
        "\n",
        "Пусть студент сдал 5 предметов во время сессии и мы хотим узнать, есть ли у него пересдачи\n",
        "\n",
        "**ФОРМАТ ВВОДА**  \n",
        "+ До пяти оценок от 1 до 10\n",
        "\n",
        "**ФОРМАТ ВЫВОДА**  \n",
        "+ Если хотя бы одна из оценок меньше 4, завершаем программу и печатаем 'YES' (пересдачи есть)  \n",
        "+ Если все пять оценок больше 3, печатаем 'NO' (студент закрыл сессию без пересдач)"
      ]
    },
    {
      "cell_type": "code",
      "execution_count": null,
      "metadata": {
        "id": "pIyxL4KV7VUZ",
        "outputId": "e4f48f96-a09d-48ee-8249-c72af9241f48"
      },
      "outputs": [
        {
          "name": "stdout",
          "output_type": "stream",
          "text": [
            "Введите оценку: 7\n",
            "Введите оценку: 8\n",
            "Введите оценку: 9\n",
            "Введите оценку: 10\n",
            "Введите оценку: 7\n",
            "NO\n"
          ]
        }
      ],
      "source": [
        "i = 1\n",
        "while i <= 5:\n",
        "    note = int(input(\"Введите оценку: \"))\n",
        "    if note < 4:\n",
        "        print('YES')\n",
        "        break\n",
        "    i += 1\n",
        "else:              # else находится на том же уровне отступа, что и while, \n",
        "                   # поэтому относится именно к циклу, а не к условию внутри цикла\n",
        "    print ('NO')"
      ]
    },
    {
      "cell_type": "markdown",
      "metadata": {
        "id": "2Fnesek17VUa"
      },
      "source": [
        "# Задачи для тренировки\n",
        "Часть из этих задач мы решим в классе. Но если мы даже не успеем — попытайтесь сделать их дома сами."
      ]
    },
    {
      "cell_type": "markdown",
      "metadata": {
        "id": "nRMg6MKw7VUa"
      },
      "source": [
        "### Задание 1. Распродажа\n",
        "\n",
        "В магазине проходит акция:\n",
        "* На все товары дешевле 1000 рублей скидка 15%\n",
        "* На все товары дороже 1000, но дешевле 5000 рублей скидка 20%\n",
        "* На все товары дороже 5000 рублей скидка 25%\n",
        "\n",
        "**ФОРМАТ ВВОДА**  \n",
        "+ Целое неотрицательное число — цена товара в рублях\n",
        "\n",
        "**ФОРМАТ ВЫВОДА**  \n",
        "+ Целое неотрицательное число — скидка на товар в рублях"
      ]
    },
    {
      "cell_type": "code",
      "execution_count": null,
      "metadata": {
        "id": "Faj8BQjW7VUa",
        "outputId": "bebccdda-d259-4462-b617-f0b6372fbed7"
      },
      "outputs": [
        {
          "name": "stdout",
          "output_type": "stream",
          "text": [
            "1536\n",
            "307.20000000000005\n"
          ]
        }
      ],
      "source": [
        "N = int(input())\n",
        "if N > 5000:\n",
        "    print(N*0.25)\n",
        "elif 1000 < N <= 5000:\n",
        "    print(N*0.2)\n",
        "else:\n",
        "    print(N*0.15)"
      ]
    },
    {
      "cell_type": "markdown",
      "metadata": {
        "id": "2Q4f_a467VUb"
      },
      "source": [
        "### Задание 2. Сколько чисел совпадает?\n",
        "\n",
        "Даны три целых числа. Определите, сколько среди них совпадающих. Программа должна вывести одно из чисел: 3 (если все совпадают), 2 (если два совпадает) или 0 (если все числа различны).\n",
        "\n",
        "**ФОРМАТ ВВОДА**  \n",
        "+ Вводятся три целых числа\n",
        "\n",
        "**ФОРМАТ ВЫВОДА**  \n",
        "+ Целое число"
      ]
    },
    {
      "cell_type": "code",
      "execution_count": null,
      "metadata": {
        "id": "GParRb7N7VUb",
        "outputId": "0aecdf5e-619d-4b9e-f823-95ba30b04a59"
      },
      "outputs": [
        {
          "name": "stdout",
          "output_type": "stream",
          "text": [
            "1\n",
            "0\n",
            "3\n"
          ]
        }
      ],
      "source": [
        "N1 = int(input())\n",
        "N2 = int(input())\n",
        "N3 = int(input())"
      ]
    },
    {
      "cell_type": "code",
      "execution_count": null,
      "metadata": {
        "id": "J9F7Guww7VUb",
        "outputId": "413004d4-249f-48ed-9b4b-10ad1ee511fa"
      },
      "outputs": [
        {
          "name": "stdout",
          "output_type": "stream",
          "text": [
            "0\n"
          ]
        }
      ],
      "source": [
        "if N1 == N2 == N3:\n",
        "    print(3)\n",
        "elif N1 == N2 or N1 == N3 or N2 == N3:\n",
        "    print(2)\n",
        "else:\n",
        "    print(0)"
      ]
    },
    {
      "cell_type": "markdown",
      "metadata": {
        "id": "DQ3yb3h27VUb"
      },
      "source": [
        "### Задание 3. Наименьший делитель\n",
        "\n",
        "Дано целое число, не меньшее 2. Выведите его наименьший натуральный делитель, отличный от 1.\n",
        "\n",
        "**ФОРМАТ ВВОДА**  \n",
        "+ Вводится целое положительное число\n",
        "\n",
        "**ФОРМАТ ВЫВОДА**  \n",
        "+ Выведите ответ на задачу\n",
        "\n",
        "**ПРИМЕР**\n",
        "\n",
        "Входные данные:    \n",
        "15\n",
        "\n",
        "Вывод программы:  \n",
        "3"
      ]
    },
    {
      "cell_type": "code",
      "execution_count": null,
      "metadata": {
        "id": "Ok1YAcu67VUc",
        "outputId": "621b9d29-2111-48f2-cc0a-ea2110c432bc"
      },
      "outputs": [
        {
          "name": "stdout",
          "output_type": "stream",
          "text": [
            "17\n"
          ]
        }
      ],
      "source": [
        "N = int(input())"
      ]
    },
    {
      "cell_type": "code",
      "execution_count": null,
      "metadata": {
        "id": "HdVek0zA7VUc",
        "outputId": "0632a597-92a2-4270-f77a-24c53890238d"
      },
      "outputs": [
        {
          "name": "stdout",
          "output_type": "stream",
          "text": [
            "17\n"
          ]
        }
      ],
      "source": [
        "i = 1\n",
        "while i != N:\n",
        "    i +=1\n",
        "    if N%i == 0:\n",
        "        print(i)\n",
        "        break"
      ]
    },
    {
      "cell_type": "markdown",
      "metadata": {
        "id": "zm6-5LoE7VUc"
      },
      "source": [
        "### Задание 4.* Количество палиндромов\n",
        "\n",
        "Назовем число палиндромом, если оно не меняется при перестановке его цифр в обратном порядке. \n",
        "Напишите программу, которая по заданному числу K выводит количество натуральных палиндромов, не превосходящих K.\n",
        "\n",
        "**ФОРМАТ ВВОДА**  \n",
        "+ Задано единственное число K (1 ≤ K ≤ 100 000)\n",
        "\n",
        "**ФОРМАТ ВЫВОДА**  \n",
        "+ Необходимо вывести **количество** натуральных палиндромов, не превосходящих K\n",
        "\n",
        "**ПРИМЕР**\n",
        "\n",
        "Входные данные:    \n",
        "10\n",
        "\n",
        "Вывод программы:  \n",
        "9"
      ]
    },
    {
      "cell_type": "markdown",
      "metadata": {
        "id": "Dmu1O5VI7VUc"
      },
      "source": [
        "Эта задача достаточна сложная, поэтому давайте попробуем разобраться с ней вместе.\n",
        "\n",
        "Заведем переменную, которая будет хранить количество палиндромов.\n",
        "Будем перебирать все числа от одного до K и для каждого проверять, палиндром ли оно.\n",
        "Проверку будем осуществлять, строя для числа его перевернутую версию и затем сравнивая ее с оригинальной.\n",
        "Строить перевертыш будем так: стираем одну цифру из переворачиваемого числа и приписываем ее к перевернутому.\n",
        "И повторяем это действие, пока переворачиваемое число не исчезнет, то есть не станет равным нулю."
      ]
    },
    {
      "cell_type": "code",
      "execution_count": null,
      "metadata": {
        "id": "exbLgIxJ7VUc",
        "outputId": "5e63f68c-a5a9-46b4-bc7a-4235299b3dc7"
      },
      "outputs": [
        {
          "name": "stdout",
          "output_type": "stream",
          "text": [
            "3\n",
            "3\n"
          ]
        }
      ],
      "source": [
        "K = int(input()) # вводим исходное число\n",
        "palindromes = 0 # здесь будем хранить количество палиндромов, изначально оно равно нулю\n",
        "index = 1 # в этой переменной будет храниться число, которое мы в данный момент проверяем на \"палиндромность\"\n",
        "while index <= K: # согласно условию задачи, палиндромы могут быть в диапазоне от 1 до K\n",
        "    reverse = 0 # здесь будет храниться перевернутое число\n",
        "    tmpIndex = index # создаем копию проверяемого числа, так как сейчас мы будем его \"ломать\", отбрасывая по одной цифре с конца\n",
        "    while tmpIndex: # цикл перестанет работать, когда число будет равно 0, т.е. отбрасывать будет нечего\n",
        "        lastNumber = tmpIndex % 10 # цифра, которую хотим переписать в перевернутое число\n",
        "        reverse = reverse * 10 + lastNumber # сдвинули предыдущие цифры ближе к началу и поставили в конец то, что откусили\n",
        "        tmpIndex = tmpIndex // 10 # отбросили последнюю цифру\n",
        "    # например, хотим перевернуть число 692. тогда tmpIndex и reverse по ходу работы цикла \n",
        "    # будут равны 0 и 692, 2 и 69, 29 и 6, 296 и 0\n",
        "    if index == reverse: # проверяем, что число палиндром. Здесь нам пригодилось то, что мы создали копию index\n",
        "        palindromes += 1\n",
        "    index += 1 # не забываем увеличить index\n",
        "print(palindromes)"
      ]
    }
  ],
  "metadata": {
    "kernelspec": {
      "display_name": "Python 3",
      "language": "python",
      "name": "python3"
    },
    "language_info": {
      "codemirror_mode": {
        "name": "ipython",
        "version": 3
      },
      "file_extension": ".py",
      "mimetype": "text/x-python",
      "name": "python",
      "nbconvert_exporter": "python",
      "pygments_lexer": "ipython3",
      "version": "3.6.5"
    },
    "colab": {
      "name": "sw_02.ipynb",
      "provenance": [],
      "collapsed_sections": []
    }
  },
  "nbformat": 4,
  "nbformat_minor": 0
}
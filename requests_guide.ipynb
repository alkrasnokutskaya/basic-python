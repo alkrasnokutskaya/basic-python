{
  "cells": [
    {
      "cell_type": "markdown",
      "metadata": {
        "id": "4zcmK3gOL2TL"
      },
      "source": [
        "# Основы программирования в Python\n",
        "\n",
        "*Светлана Жучкова, НИУ ВШЭ*"
      ]
    },
    {
      "cell_type": "markdown",
      "metadata": {
        "id": "rgL3xV_sL2TT"
      },
      "source": [
        "Основная задача: собрать данные об учебных курсах вашей образовательной программы [с этой страницы](https://www.hse.ru/ba/political/courses), то есть получить таблицу, в которой будут представлены \n",
        "- название курса\n",
        "- ссылка на курс\n",
        "- статус курса: обязательный, по выбору, факультатив\n",
        "- язык курса\n",
        "- время проведения курса (какой курс и модули)"
      ]
    },
    {
      "cell_type": "markdown",
      "metadata": {
        "id": "B5u9s35BL2TW"
      },
      "source": [
        "**Шаг 1.** Импортируйте модули `requests` и `pandas` (под псевдонимом `pd`), а также функцию `BeautifulSoup` из модуля `bs4`."
      ]
    },
    {
      "cell_type": "code",
      "execution_count": null,
      "metadata": {
        "id": "8xAGszpVL2TX"
      },
      "outputs": [],
      "source": [
        "import pandas as pd\n",
        "import requests\n",
        "from bs4 import BeautifulSoup"
      ]
    },
    {
      "cell_type": "markdown",
      "metadata": {
        "id": "ohO-i3DwL2TZ"
      },
      "source": [
        "**Шаг 2.** Отправьте get-запрос на [эту страницу](https://www.hse.ru/ba/political/courses) и сохраните результат в переменную `response`. Убедитесь, что получили код ответа 200. Что он означает?"
      ]
    },
    {
      "cell_type": "code",
      "execution_count": null,
      "metadata": {
        "colab": {
          "base_uri": "https://localhost:8080/"
        },
        "id": "5sNbH_eLL2Ta",
        "outputId": "ee39e6ee-e3f7-456f-9015-3d752fa18032"
      },
      "outputs": [
        {
          "output_type": "execute_result",
          "data": {
            "text/plain": [
              "<Response [200]>"
            ]
          },
          "metadata": {},
          "execution_count": 2
        }
      ],
      "source": [
        "url = 'https://www.hse.ru/ba/political/courses'\n",
        "response = requests.get(url)\n",
        "response"
      ]
    },
    {
      "cell_type": "markdown",
      "metadata": {
        "id": "Sv7-W-ztL2Tc"
      },
      "source": [
        "**Шаг 3.** Выведите на экран неструктурированный html-код страницы."
      ]
    },
    {
      "cell_type": "code",
      "execution_count": null,
      "metadata": {
        "colab": {
          "base_uri": "https://localhost:8080/",
          "height": 142
        },
        "id": "OHuXzSR4L2Tc",
        "outputId": "dd63fd9e-1d35-40e2-b1c5-d7a2609afa54"
      },
      "outputs": [
        {
          "output_type": "execute_result",
          "data": {
            "text/plain": [
              "'<!DOCTYPE html>\\n<!-- (c) Art. Lebedev Studio | http://www.artlebedev.com/ -->\\n<html xmlns:perl=\"urn:perl\" lang=\"ru\"><head><meta http-equiv=\"Content-Type\" content=\"text/html; charset=UTF-8\"><meta http-equiv=\"X-UA-Compatible\" content=\"IE=Edge\"><meta name=\"theme-color\" content=\"#1658DA\"><meta name=\"viewport\" content=\"width=device-width, initial-scale=1\"><link rel=\"apple-touch-icon\" sizes=\"180x180\" href=\"/f/src/global/i/favicon/favicon_ios_180x180.png\"><link rel=\"icon\" type=\"image/png\" sizes=\"32x32\" href=\"/f/src/global/i/favicon/favicon_32x32.png\"><link rel=\"icon\" type=\"image/png\" sizes=\"16x16\" href=\"/f/src/global/i/favicon/favicon_16x16.png\"><link rel=\"mask-icon\" href=\"/f/src/global/i/favicon/favicon.svg\" color=\"#242f63\"><link rel=\"manifest\" href=\"/f/src/manifest/manifest_ru.json\"><meta name=\"msapplication-config\" content=\"/f/src/global/i/favicon/browserconfig.xml\"><link rel=\"shortcut icon\" type=\"image/x-icon\" href=\"/favicon.ico\"><!--[if lt IE 10]><script src=\"/f/src/global/bower_components/es5-shim/es5-shim.min.js\"></script><![endif]--><link rel=\"stylesheet\" href=\"/f/src/global/css/main.css?v2\" media=\"all\"><link rel=\"stylesheet\" href=\"/f/src/global/css/vision.css\" media=\"all\"><link rel=\"stylesheet\" href=\"/f/src/global/css/sitemap.css\" media=\"all\"><link rel=\"stylesheet\" href=\"/f/src/global/css/fotorama.css\" media=\"all\"><link rel=\"stylesheet\" href=\"/f/src/global/css/owl.carousel2.min.css\" media=\"all\"><link rel=\"stylesheet\" href=\"/f/src/edu_card/edu_card.css?v3\" media=\"all\"><link rel=\"stylesheet\" href=\"/f/src/promo/gallery-promo.css\" media=\"all\"><link rel=\"stylesheet\" href=\"/f/src/postupi/postupi.css\" media=\"all\"><link rel=\"stylesheet\" href=\"/f/src/courses/courses.css\" media=\"all\"><script src=\"//www.hse.ru/f/src/global/js/cache/jquery-1.12.4.min/jquery-ui/jquery.ui.touch-punch.min/hse.utils/errtrack/main/modernizr/popup/switcher/tag/fixes/email-obfuscator/jquery.cookie/vision/jquery.rwdImageMaps.min/sitemap.ajax/fotorama/slider/jquery.menu-aim/menu-aim-init/jquery.carouFredSel-6.2.1-packed/hs/mag/init-social-carousel/init-media-carousel/owl.carousel2.min/edu-card/edu_mobile/courses.js\"></script><script src=\"/f/src/global/js/gibs.js\"></script><link href=\"https://www.hse.ru/ba/political/courses\" rel=\"canonical\"><link href=\"https://www.hse.ru/ba/political/courses/page2.html?year=2021\" rel=\"next\"><link rel=\"first\" href=\"https://www.hse.ru/ba/political/courses/index.html\"><link rel=\"last\" href=\"https://www.hse.ru/ba/political/courses/page4.html?year=2021\"><script src=\"https://www.hse.ru/f/src/global/js/job.js\" async=\"async\"></script><title>Учебные курсы — Образовательная программа «Политология» — Национальный исследовательский университет «Высшая школа экономики»</title><script src=\"/f/gtm/ip\"></script><script>\\n(function(w,d,s,l,i){w[l]=w[l]||[];w[l].push({\\'gtm.start\\':\\n\\tnew Date().getTime(),event:\\'gtm.js\\'});var f=d.getElementsByTagName(s)[0],\\n\\tj=d.createElement(s),dl=l!=\\'dataLayer\\'?\\'&l=\\'+l:\\'\\';j.async=true;j.src=\\n\\t\\'https://www.googletagmanager.com/gtm.js?id=\\'+i+dl;f.parentNode.insertBefore(j,f);\\n\\t})(window,document,\\'script\\',\\'dataLayer\\',\\'GTM-P6DCQX\\');\\n</script><meta content=\"Образовательная программа «Политология»\" property=\"og:title\"><meta content=\"Образовательная программа «Политология»\" name=\"mrc__share_title\"><meta content=\"Образовательная программа «Политология»\" itemprop=\"name\"><meta content=\"summary\" name=\"twitter:card\"><meta content=\"Образовательная программа «Политология»\" name=\"twitter:title\"><meta content=\"Наряду с изучением специальных дисциплин — политического анализа, сравнительной политологии, политической теории — студенты получают знания в области экономики, социологии, права, иностранных языков\" property=\"og:description\"><meta content=\"Наряду с изучением специальных дисциплин — политического анализа, сравнительной политологии, политической теории — студенты получают знания в области экономики, социологии, права, иностранных языков\" name=\"mrc__share_description\"><meta content=\"Наряду с изучением специальных дисциплин — политического анализа, сравнительной политологии, политической теории — студенты получают знания в области экономики, социологии, права, иностранных языков\" itemprop=\"description\"><meta content=\"Наряду с изучением специальных дисциплин — политического анализа, сравнительной политологии, политической теории — студенты получают знания в области экономики, социологии, права, иностранных языков\" name=\"twitter:description\"><meta content=\"https://www.hse.ru/images/fb/hse_ru_thumb.jpg\" property=\"og:image\"><meta content=\"https://www.hse.ru/images/fb/hse_ru_thumb.jpg\" itemprop=\"image\"><link rel=\"image_src\" content=\"https://www.hse.ru/images/fb/hse_ru_thumb.jpg\"><meta content=\"https://www.hse.ru/images/fb/hse_ru_thumb.jpg\" name=\"twitter:image\"><meta content=\"https://www.hse.ru/ba/political/\" property=\"og:url\"><meta content=\"website\" property=\"og:type\"><meta content=\"https://www.hse.ru/ba/political/\" name=\"twitter:url\"><link rel=\"stylesheet\" href=\"/f/src/projects/edu_card/mobile.css\"><script>\\n\\t\\t\\t$(function() {\\n\\t\\t\\t\\tif ($(\\'.from-group\\').length > 0 ) {\\n\\t\\t\\t\\t\\t$(\\'.from-group\\').carouFredSel({\\n\\t\\t\\t\\t\\t\\tauto: false,\\n\\t\\t\\t\\t\\t\\twidth: \\'99%\\',\\n\\t\\t\\t\\t\\t\\theight: \\'auto\\',\\n\\t\\t\\t\\t\\t\\tscroll: 2,\\n\\t\\t\\t\\t\\t\\talign: \\'center\\',\\n\\t\\t\\t\\t\\t\\titems: {\\n\\t\\t\\t\\t \\t\\t\\twidth: \\'200\\',\\n\\t\\t\\t\\t\\t\\t\\tvisible: {\\n\\t\\t\\t\\t\\t\\t\\t\\tmin: 1,\\n\\t\\t\\t\\t\\t\\t\\t\\tmax: 6\\n\\t\\t\\t\\t\\t\\t\\t}\\n\\t\\t\\t\\t\\t\\t},\\n\\t\\t\\t\\t\\t\\tnext: {\\n\\t\\t\\t\\t\\t\\t\\tbutton: function() { return $(this).parent().siblings(\".b-group-next\")},\\n\\t\\t\\t\\t\\t\\t\\tkey: \\'right\\'\\n\\t\\t\\t\\t\\t\\t},\\n\\t\\t\\t\\t\\t\\tprev: {\\n\\t\\t\\t\\t\\t\\t\\tbutton: function() { return $(this).parent().siblings(\".b-group-prev\")},\\n\\t\\t\\t\\t\\t\\t\\tkey: \\'left\\'\\n\\t\\t\\t\\t\\t\\t}\\n\\t\\t\\t\\t\\t});\\n\\t\\t\\t\\t}\\n\\t\\t\\t});\\n\\t\\t</script></head><body data-lang=\"ru\" data-unit=\"122764651\"><div class=\"page\"><!--noindex--><div style=\"display:none;\" class=\"browser_outdate\">\\n\\t\\t\\t\\tВ старых версиях браузеров сайт может отображаться некорректно. Для оптимальной работы с сайтом рекомендуем воспользоваться современным браузером.\\n\\t\\t\\t</div><div style=\"display:none;\" class=\"gdpr_bar\"><div class=\"gdpr_bar__inner\"><noindex>\\n<p class=\"first_child last_child \">Мы используем файлы cookies для улучшения работы сайта НИУ ВШЭ и большего удобства его использования. Более подробную информацию об использовании файлов cookies можно найти\\xa0<a target=\"_blank\" href=\"https://www.hse.ru/cookie.html\" title=\"Пройти по ссылке\" class=\"link\">здесь</a>, наши правила обработки персональных данных –\\xa0<a target=\"_blank\" href=\"https://www.hse.ru/data_protection_regulation\" title=\"Пройти по ссылке\" class=\"link\">здесь</a>. Продолжая пользоваться сайтом, вы подтверждаете, что были проинформированы об использовании файлов cookies сайтом НИУ ВШЭ и согласны с нашими правилами обработки персональных данных. Вы можете отключить файлы cookies в настройках Вашего браузера.</p>\\n</noindex><span class=\"gdpr_bar__close\">✖</span></div></div><!--/noindex--><div class=\"sv-control\"><div class=\"sv-control__block\"><ul class=\"sv-control__list sv-size\"><li data-type=\"size\" data-value=\"normal\" class=\"sv-control__item sv-control__item--s_normal active\">A</li><li data-type=\"size\" data-value=\"medium\" class=\"sv-control__item sv-control__item--s_medium\">A</li><li data-type=\"size\" data-value=\"large\" class=\"sv-control__item sv-control__item--s_large\">A</li></ul></div><div class=\"sv-control__block\"><ul class=\"sv-control__list sv-spacing\"><li data-type=\"spacing\" data-value=\"normal\" class=\"active sv-control__item sv-control__item--ls_normal\">АБВ</li><li data-type=\"spacing\" data-value=\"medium\" class=\"sv-control__item sv-control__item--ls_medium\">АБВ</li><li data-type=\"spacing\" data-value=\"large\" class=\"sv-control__item sv-control__item--ls_large\">АБВ</li></ul></div><div class=\"sv-control__block\"><ul class=\"sv-control__list sv-contrast\"><li data-type=\"contrast\" data-value=\"normal\" class=\"sv-control__item sv-control__item---color1 active\">А</li><li data-type=\"contrast\" data-value=\"invert\" class=\"sv-control__item sv-control__item---color2\">А</li><li data-type=\"contrast\" data-value=\"blue\" class=\"sv-control__item sv-control__item---color3\">А</li><li data-type=\"contrast\" data-value=\"beige\" class=\"sv-control__item sv-control__item---color4\">А</li><li data-type=\"contrast\" data-value=\"brown\" class=\"sv-control__item sv-control__item---color5\">А</li></ul></div><div class=\"sv-control__block\"><ul class=\"sv-control__list sv-image\"><li data-type=\"image\" data-value=\"on\" class=\"sv-control__item sv-control__item--image_on active\"><li data-type=\"image\" data-value=\"off\" class=\"sv-control__item sv-control__item--image_off\"></ul></div><div class=\"sv-control__block\"><div class=\"sv-off js-sv-off\">Обычная версия сайта</div></div></div><div class=\"fa-sidebar\"><div class=\"fa-sidebar__top fa-sidebar__top--overlay fa-sidebar__top--secondary\" style=\"background-image:url(\\'/mirror/pubs/share/direct/354337528.jpg\\');\"><div class=\"fa-sidebar__controls is-mobile\"><ul class=\"control_lang2\"><li class=\"control_lang2_item first_child activated\"><span class=\"link link_no-visited link_no-underline\">RU</span></li><li class=\"control_lang2_item last_child\"><a href=\"https://www.hse.ru/en/ba/political/courses/\" class=\"link link_no-visited link_no-underline\">EN</a></li></ul><a href=\"//www.hse.ru/user/\" class=\"control control_user control_white\" title=\"Личный кабинет сотрудника ВШЭ\"><ins><svg xmlns=\"http://www.w3.org/2000/svg\" class=\"control_svg\" width=\"17\" height=\"18\" viewBox=\"0 0 17 18\"><path d=\"M13.702 13.175c.827.315 1.486.817 1.978 1.506.492.689.738 1.467.738 2.333h-16.419c0-1.417.532-2.5 1.595-3.248.394-.276 1.358-.591 2.894-.945.945-.118 1.457-.374 1.536-.768.039-.157.059-.61.059-1.358 0-.118-.039-.217-.118-.295-.157-.157-.315-.433-.472-.827-.079-.315-.157-.787-.236-1.417-.157.039-.285-.02-.384-.177-.098-.157-.177-.364-.236-.62l-.089-.443c-.157-.866-.098-1.28.177-1.24-.118-.157-.217-.532-.295-1.122-.118-.866-.059-1.634.177-2.303.276-.748.768-1.319 1.476-1.713.709-.394 1.476-.571 2.303-.532.787.039 1.506.276 2.156.709.65.433 1.093 1.024 1.329 1.772.197.551.217 1.319.059 2.303-.079.472-.157.768-.236.886.118-.039.207 0 .266.118.059.118.079.266.059.443l-.059.472c-.02.138-.049.246-.089.325l-.118.413c-.039.276-.108.472-.207.591-.098.118-.226.157-.384.118-.079.866-.217 1.476-.413 1.831 0 .039-.069.138-.207.295-.138.157-.207.256-.207.295v.65c0 .394.039.689.118.886.079.197.354.354.827.472.276.118.679.217 1.211.295.532.079.935.177 1.211.295z\" fill=\"#1658DA\"></path></svg></ins></a><span class=\"control control_search control_white js-search_mobile_control\"><ins><svg xmlns=\"http://www.w3.org/2000/svg\" class=\"control_svg\" width=\"19\" height=\"19\" viewBox=\"0 0 19 19\"><path d=\"M12.927 7.9c0-1.384-.492-2.568-1.476-3.552s-2.168-1.476-3.552-1.476-2.568.492-3.552 1.476-1.476 2.168-1.476 3.552.492 2.568 1.476 3.552 2.168 1.476 3.552 1.476 2.568-.492 3.552-1.476 1.476-2.168 1.476-3.552zm4.053 11.1l-4.603-4.592c-1.339.928-2.832 1.391-4.477 1.391-1.07 0-2.093-.208-3.069-.623-.976-.415-1.818-.976-2.525-1.683-.707-.707-1.268-1.549-1.683-2.525-.415-.976-.623-1.999-.623-3.069 0-1.07.208-2.093.623-3.069.415-.976.976-1.818 1.683-2.525.707-.707 1.549-1.268 2.525-1.683.976-.415 1.999-.623 3.069-.623 1.07 0 2.093.208 3.069.623.976.415 1.818.976 2.525 1.683.707.707 1.268 1.549 1.683 2.525.415.976.623 1.999.623 3.069 0 1.646-.464 3.138-1.391 4.477l4.603 4.603-2.031 2.02z\" fill=\"#1658DA\"></path></svg></ins></span><span style=\"cursor:pointer;\" onclick=\"void(0)\" class=\"control is-mobile control_menu control_menu--close js-control_menu_close\"><ins></ins></span></div><div class=\"js-search_mobile_popup not_display is-mobile\"><div class=\"search-form\"><form action=\"/search/search.html\"><div class=\"search-form__button\"><button class=\"button button--merged button_grey\">Найти</button></div><div class=\"search-form__input\"><input type=\"text\" name=\"text\" placeholder=\"Поиск по сайту\" class=\"input fa-search_input input100 input_mr\"><input type=\"hidden\" name=\"simple\" value=\"1\"></div></form></div><div class=\"popup__block\"><a href=\"//www.hse.ru/search/search.html?simple=0\" class=\"link link_white no-visited\">Расширенный поиск по сайту</a></div></div><div class=\"fa-sidebar__title_inner\"><a class=\"link_white link_no-underline no-visited\" href=\"https://www.hse.ru/ba/political\">Бакалаврская программа «Политология»</a></div></div><ul class=\"fa-sidemenu fa-sidemenu--primary\"><li class=\"fa-sidemenu__section\"><div class=\"fa-sidemenu__header\"><span>О программе</span></div><ul class=\"fa-sidemenu__sub\"><li class=\"fa-sidemenu__item\"><a href=\"https://www.hse.ru/ba/political/about\" class=\"link link_no-underline link_dark2 fa-sidemenu__link\">О программе</a></li><li class=\"fa-sidemenu__item\"><a href=\"https://www.hse.ru/ba/political/partners\" class=\"link link_no-underline link_dark2 fa-sidemenu__link\">Партнеры</a></li><li class=\"fa-sidemenu__item\"><a href=\"https://www.hse.ru/ba/political/news/keywords/197252470/\" class=\"link link_no-underline link_dark2 fa-sidemenu__link\">Достижения студентов</a></li><li class=\"fa-sidemenu__item\"><a href=\"https://www.hse.ru/ba/political/alumni\" class=\"link link_no-underline link_dark2 fa-sidemenu__link\">Выпускники</a></li><li class=\"fa-sidemenu__item\"><a href=\"https://www.hse.ru/ba/political/projects\" class=\"link link_no-underline link_dark2 fa-sidemenu__link\">Проектная и исследовательская работа</a></li><li class=\"fa-sidemenu__item\"><a href=\"https://www.hse.ru/ba/political/seminar\" class=\"link link_no-underline link_dark2 fa-sidemenu__link\">Научно-исследовательский семинар</a></li><li class=\"fa-sidemenu__item\"><a href=\"https://www.hse.ru/ba/political/faq\" class=\"link link_no-underline link_dark2 fa-sidemenu__link\">FAQ</a></li></ul></li><li class=\"fa-sidemenu__section\"><div class=\"fa-sidemenu__header\"><span>Абитуриентам</span></div><ul class=\"fa-sidemenu__sub\"><li class=\"fa-sidemenu__item\"><a href=\"https://www.hse.ru/ba/political/admission/\" class=\"link link_no-underline link_dark2 selected fa-sidemenu__link\">Паспорт программы</a></li><li class=\"fa-sidemenu__item\"><a href=\"https://www.hse.ru/ba/political/career\" class=\"link link_no-underline link_dark2 fa-sidemenu__link\">Будущая профессия</a></li><li class=\"fa-sidemenu__item\"><a href=\"https://www.hse.ru/ba/political/tracks\" class=\"link link_no-underline link_dark2 fa-sidemenu__link\">Траектории поступления</a></li><li class=\"fa-sidemenu__item\"><a href=\"https://www.hse.ru/ba/political/requirements\" class=\"link link_no-underline link_dark2 fa-sidemenu__link\">Подготовка</a></li><li class=\"fa-sidemenu__item\"><a href=\"https://www.hse.ru/ba/political/alumni\" class=\"link link_no-underline link_dark2 fa-sidemenu__link\">Выпускники о программе</a></li><li class=\"fa-sidemenu__item\"><a href=\"https://fdp.hse.ru/ischool/\" class=\"link link_no-underline link_dark2 fa-sidemenu__link\">Онлайн-подготовка</a></li><li class=\"fa-sidemenu__item\"><a href=\"https://www.hse.ru/ba/political/consultations\" class=\"link link_no-underline link_dark2 fa-sidemenu__link\">Консультации для абитуриентов</a></li></ul></li><li class=\"fa-sidemenu__section\"><div class=\"fa-sidemenu__header\"><span>Студентам</span></div><ul class=\"fa-sidemenu__sub\"><li class=\"fa-sidemenu__item\"><a href=\"https://www.hse.ru/ba/political/students/\" class=\"link link_no-underline link_dark2 selected fa-sidemenu__link\">Доска объявлений</a></li><li class=\"fa-sidemenu__item\"><a href=\"https://www.hse.ru/ba/political/first-year\" class=\"link link_no-underline link_dark2 fa-sidemenu__link\">Первокурсникам</a></li><li class=\"fa-sidemenu__item\"><span class=\"link link_no-underline link_dark2 fa-sidemenu__link fa-sidemenu__link--parent\">Расписание</span><i class=\"fa-sidemenu__arr\"></i><div class=\"fa-sidemenu__popup\"><div class=\"fa-sidemenu__sub\"><div class=\"fa-sidemenu__section\"><ul class=\"fa-sidemenu\"><li class=\"fa-sidemenu__item\"><a href=\"https://www.hse.ru/ba/political/schedules\" class=\"link link_no-underline link_dark2 fa-sidemenu__link\">Расписание (XLS)</a></li><li class=\"fa-sidemenu__item\"><a href=\"https://www.hse.ru/ba/political/timetable\" class=\"link link_no-underline link_dark2 fa-sidemenu__link\">Электронное расписание</a></li></ul></div></div></div></li><li class=\"fa-sidemenu__item\"><a href=\"https://www.hse.ru/ba/political/ratings\" class=\"link link_no-underline link_dark2 fa-sidemenu__link\">Рейтинги</a></li><li class=\"fa-sidemenu__item\"><a href=\"http://electives.hse.ru/\" class=\"link link_no-underline link_dark2 fa-sidemenu__link fa-sidemenu__link--parent\">Выбор траектории обучения</a><i class=\"fa-sidemenu__arr\"></i><div class=\"fa-sidemenu__popup\"><div class=\"fa-sidemenu__sub\"><div class=\"fa-sidemenu__section\"><ul class=\"fa-sidemenu\"><li class=\"fa-sidemenu__item\"><a href=\"http://electives.hse.ru/\" class=\"link link_no-underline link_dark2 fa-sidemenu__link\">Выбор траектории обучения</a></li><li class=\"fa-sidemenu__item\"><a href=\"https://www.hse.ru/ba/political/distribution\" class=\"link link_no-underline link_dark2 fa-sidemenu__link\">Правила распределения студентов по профилям</a></li></ul></div></div></div></li><li class=\"fa-sidemenu__item\"><a href=\"https://www.hse.ru/ba/political/moocs\" class=\"link link_no-underline link_dark2 fa-sidemenu__link\">Рекомендованные онлайн-курсы</a></li><li class=\"fa-sidemenu__item\"><a href=\"https://www.hse.ru/ba/political/mobility\" class=\"link link_no-underline link_dark2 fa-sidemenu__link\">Студенческая мобильность</a></li><li class=\"fa-sidemenu__item\"><a href=\"https://www.hse.ru/ba/political/internships\" class=\"link link_no-underline link_dark2 fa-sidemenu__link\">Практическая подготовка</a></li><li class=\"fa-sidemenu__item\"><a href=\"https://www.hse.ru/ba/political/diplomas\" class=\"link link_no-underline link_dark2 fa-sidemenu__link\">Каталог ВКР</a></li><li class=\"fa-sidemenu__item\"><a href=\"https://www.hse.ru/ba/political/assessment\" class=\"link link_no-underline link_dark2 fa-sidemenu__link\">Итоговая аттестация </a></li><li class=\"fa-sidemenu__item\"><a href=\"https://www.hse.ru/ba/political/commition\" class=\"link link_no-underline link_dark2 fa-sidemenu__link\">Аттестационная комиссия</a></li><li class=\"fa-sidemenu__item\"><a href=\"https://www.hse.ru/ba/political/references\" class=\"link link_no-underline link_dark2 fa-sidemenu__link\">Заказ справок и документов</a></li><li class=\"fa-sidemenu__item\"><a href=\"https://www.hse.ru/hselang/\" class=\"link link_no-underline link_dark2 fa-sidemenu__link\">Дополнительные иностранные языки</a></li><li class=\"fa-sidemenu__item\"><a href=\"https://www.hse.ru/ba/political/perevod\" class=\"link link_no-underline link_dark2 fa-sidemenu__link\">Перевод и восстановление</a></li><li class=\"fa-sidemenu__item\"><a href=\"https://www.hse.ru/ba/political/application_form\" class=\"link link_no-underline link_dark2 fa-sidemenu__link\">Шаблоны заявлений</a></li></ul></li><li class=\"fa-sidemenu__section fa-sidemenu__section--add js-sidemenu__section--add\"></ul></div><div class=\"header\" style=\"background-image:url(\\'/mirror/pubs/share/direct/354337528.jpg\\');\"><div class=\"crop\"><div class=\"header-top header-top--stoped links-white\" style=\"background-image:url(\\'/mirror/pubs/share/direct/354337528.jpg\\');\"><div class=\"left\"><span class=\"control control_sitemap\"><span class=\"control_sitemap__line\"></span></span><a href=\"//www.hse.ru/\" class=\"control control_home_white\"><ins><svg xmlns=\"http://www.w3.org/2000/svg\" width=\"18\" height=\"26\" viewBox=\"0 0 18 26\"><path d=\"M6.66 0l.134.002h1.336c2.639 0 3.745.464 4.994 1.428 1.819 1.424 2.105 3.492 2.105 4.525 0 1.283-.393 2.638-1.356 3.742-.714.856-1.955 2.097-4.388 2.388-1.663.2-2.891.127-3.506.061v-1.306c.273.038.676.074 1.222.074 1.656 0 2.829-.827 3.543-1.719.81-.983.98-1.909 1.015-2.737h-4.555v-1.282h4.515c-.116-.866-.448-1.528-.985-2.179-1.035-1.283-2.499-1.497-3.462-1.497l-6.505-.002-.768-1.498h6.66zm-6.317 26l.804-1.564v-21.844h3.55v21.82h2.508v-8.523h3.276v8.514h2.838v-3.878c0-2.351-.122-5.622-2.77-7.311l1.542-.566c3.194 1.186 4.791 4.283 4.791 8.362v3.428l.804 1.562h-17.344z\" fill=\"#1658DA\"></path></svg></ins></a></div><div class=\"right\"><div class=\"header__controls\"><ul class=\"control_lang2\"><li class=\"control_lang2_item first_child activated\"><span class=\"link link_no-visited link_no-underline\">RU</span></li><li class=\"control_lang2_item last_child\"><a href=\"https://www.hse.ru/en/ba/political/courses/\" class=\"link link_no-visited link_no-underline\">EN</a></li></ul><span class=\"control control_vision control_white\" title=\"Версия для слабовидящих\"><svg xmlns=\"http://www.w3.org/2000/svg\" width=\"21\" height=\"12\" viewBox=\"0 0 21 12\"><path d=\"M10.5 0c3.438 0 6.937 2.016 10.5 6.047-.844.844-1.383 1.375-1.617 1.594-.234.219-.805.703-1.711 1.453-.906.75-1.641 1.266-2.203 1.547-.563.281-1.305.578-2.227.891-.922.313-1.836.469-2.742.469-1.125 0-2.156-.141-3.094-.422-.938-.281-1.875-.766-2.813-1.453-.938-.688-1.672-1.273-2.203-1.758-.531-.484-1.328-1.273-2.391-2.367 2.031-2.031 3.836-3.539 5.414-4.523 1.578-.984 3.273-1.477 5.086-1.477zm0 10.266c1.156 0 2.148-.422 2.977-1.266.828-.844 1.242-1.844 1.242-3s-.414-2.156-1.242-3c-.828-.844-1.82-1.266-2.977-1.266-1.156 0-2.148.422-2.977 1.266-.828.844-1.242 1.844-1.242 3s.414 2.156 1.242 3c.828.844 1.82 1.266 2.977 1.266zm0-5.766c0 .438.141.797.422 1.078s.641.422 1.078.422c.313 0 .625-.109.938-.328v.328c0 .688-.234 1.273-.703 1.758-.469.484-1.047.727-1.734.727-.688 0-1.266-.242-1.734-.727-.469-.484-.703-1.07-.703-1.758s.234-1.273.703-1.758c.469-.484 1.047-.727 1.734-.727h.375c-.25.313-.375.641-.375.984z\" fill=\"#1658DA\"></path></svg></span><a href=\"//www.hse.ru/user/\" class=\"control control_user control_white\" title=\"Личный кабинет сотрудника ВШЭ\"><ins><svg xmlns=\"http://www.w3.org/2000/svg\" class=\"control_svg\" width=\"17\" height=\"18\" viewBox=\"0 0 17 18\"><path d=\"M13.702 13.175c.827.315 1.486.817 1.978 1.506.492.689.738 1.467.738 2.333h-16.419c0-1.417.532-2.5 1.595-3.248.394-.276 1.358-.591 2.894-.945.945-.118 1.457-.374 1.536-.768.039-.157.059-.61.059-1.358 0-.118-.039-.217-.118-.295-.157-.157-.315-.433-.472-.827-.079-.315-.157-.787-.236-1.417-.157.039-.285-.02-.384-.177-.098-.157-.177-.364-.236-.62l-.089-.443c-.157-.866-.098-1.28.177-1.24-.118-.157-.217-.532-.295-1.122-.118-.866-.059-1.634.177-2.303.276-.748.768-1.319 1.476-1.713.709-.394 1.476-.571 2.303-.532.787.039 1.506.276 2.156.709.65.433 1.093 1.024 1.329 1.772.197.551.217 1.319.059 2.303-.079.472-.157.768-.236.886.118-.039.207 0 .266.118.059.118.079.266.059.443l-.059.472c-.02.138-.049.246-.089.325l-.118.413c-.039.276-.108.472-.207.591-.098.118-.226.157-.384.118-.079.866-.217 1.476-.413 1.831 0 .039-.069.138-.207.295-.138.157-.207.256-.207.295v.65c0 .394.039.689.118.886.079.197.354.354.827.472.276.118.679.217 1.211.295.532.079.935.177 1.211.295z\" fill=\"#1658DA\"></path></svg></ins></a><span class=\"control control_search control_white\" title=\"Поиск\"><ins class=\"popup_opener\"><svg xmlns=\"http://www.w3.org/2000/svg\" class=\"control_svg\" width=\"19\" height=\"19\" viewBox=\"0 0 19 19\"><path d=\"M12.927 7.9c0-1.384-.492-2.568-1.476-3.552s-2.168-1.476-3.552-1.476-2.568.492-3.552 1.476-1.476 2.168-1.476 3.552.492 2.568 1.476 3.552 2.168 1.476 3.552 1.476 2.568-.492 3.552-1.476 1.476-2.168 1.476-3.552zm4.053 11.1l-4.603-4.592c-1.339.928-2.832 1.391-4.477 1.391-1.07 0-2.093-.208-3.069-.623-.976-.415-1.818-.976-2.525-1.683-.707-.707-1.268-1.549-1.683-2.525-.415-.976-.623-1.999-.623-3.069 0-1.07.208-2.093.623-3.069.415-.976.976-1.818 1.683-2.525.707-.707 1.549-1.268 2.525-1.683.976-.415 1.999-.623 3.069-.623 1.07 0 2.093.208 3.069.623.976.415 1.818.976 2.525 1.683.707.707 1.268 1.549 1.683 2.525.415.976.623 1.999.623 3.069 0 1.646-.464 3.138-1.391 4.477l4.603 4.603-2.031 2.02z\" fill=\"#1658DA\"></path></svg></ins><div class=\"popup popup_search not_display\"><div class=\"popup__inner\"><div class=\"search-form\"><form action=\"https://www.hse.ru/ba/political/search/search.html\"><div class=\"search-form__button\"><button class=\"button button_grey \">Найти</button></div><div class=\"search-form__input\"><input type=\"text\" name=\"text\" placeholder=\"Поиск по сайту\" class=\"input input100 input_mr\"><input type=\"hidden\" name=\"simple\" value=\"1\"><input type=\"hidden\" name=\"searchid\" value=\"2284688\"></div></form></div><div class=\"popup__block popup__block_indent\"><a href=\"//www.hse.ru/search/search.html?simple=0&amp;searchid=2284688\" class=\"link link_dark no-visited\">Расширенный поиск по сайту</a><span class=\"b-adv-search\"></span></div></div></div></span><span style=\"cursor:pointer;\" onclick=\"void(0)\" class=\"control is-mobile control_menu js-control_menu_open\"><ins></ins><span class=\"control__text\">Меню</span></span></div></div><div class=\"header_body\"><div class=\"header_breadcrumb\"><div class=\"header_breadcrumb__inner is-mobile no_crumb_arrow\"><a class=\"link_white no-visited link\" href=\"https://www.hse.ru\">Высшая школа экономики</a></div><div class=\"header_breadcrumb__inner is-desktop no_crumb_arrow\"><ul class=\"header_breadcrumb__list\"><li class=\"header_breadcrumb__item\"><a href=\"//www.hse.ru\" class=\"link no-visited header_breadcrumb__link\"><span>Национальный исследовательский университет «Высшая школа экономики»</span></a></li><li class=\"header_breadcrumb__item\"><a href=\"https://www.hse.ru/education/bachelor/\" class=\"link no-visited header_breadcrumb__link\"><span>Образовательные программы бакалавриата</span></a></li><li class=\"header_breadcrumb__item\"><a href=\"https://social.hse.ru/\" class=\"link no-visited header_breadcrumb__link\"><span>Факультет социальных наук</span></a></li><li class=\"header_breadcrumb__item\"><a href=\"https://www.hse.ru/ba/political/\" class=\"link no-visited header_breadcrumb__link\"><span>Образовательная программа «Политология»</span></a></li><li class=\"header_breadcrumb__item\"><span><span class=\"breadcrumb_current\">Учебные курсы</span></span></li></ul></div></div></div></div><div class=\"header-board row\"><div class=\"extra-left\"><div class=\"g-day g-day_black g-day_right g-day_compact c is-desktop\"><div class=\"g-day_compact__inner\"><div class=\"g-day__month\">Март</div><div class=\"g-day__day\">26</div></div><div class=\"g-day__desc\"><a href=\"https://www.hse.ru/ba/political/announcements/556995458.html\" class=\"link link_dark\">День открытых дверей</a></div></div><div class=\"header-content\"><h2 class=\"h1\"><a class=\"link_white link_no-underline no-visited\" href=\"https://www.hse.ru/ba/political\">Бакалаврская программа «Политология»</a></h2><div class=\"menu edu-menu\"><ul class=\"navigation navigation_horizontal navigation_newl\"><li class=\"selected single\"><span class=\"icon icon-home\"><svg xmlns=\"http://www.w3.org/2000/svg\" width=\"16\" height=\"15\" viewBox=\"0 0 16 15\"><path fill=\"#000\" fill-rule=\"evenodd\" d=\"M6.122 14.692h-3.75V7.346H0L7.958 0l7.959 7.346h-2.373v7.346h-3.75V9.795H6.123z\"></path></svg></span></li><li class=\"\"><a href=\"https://www.hse.ru/ba/political/about/\" class=\"link link_no-underline\"><span class=\"link\">О программе</span></a><i class=\"nav-arr\"></i><ul class=\"navigation_newl-sub navigation_newl-sub_1 navigation_newl-select0\"><li class=\"single\"><a href=\"https://www.hse.ru/ba/political/about\" class=\"link link_no-underline\"><span class=\"link\">О программе</span></a></li><li class=\"single\"><a href=\"https://www.hse.ru/ba/political/partners\" class=\"link link_no-underline\"><span class=\"link\">Партнеры</span></a></li><li class=\"single\"><a href=\"https://www.hse.ru/ba/political/news/keywords/197252470/\" class=\"link link_no-underline\"><span class=\"link\">Достижения студентов</span></a></li><li class=\"single\"><a href=\"https://www.hse.ru/ba/political/alumni\" class=\"link link_no-underline\"><span class=\"link\">Выпускники</span></a></li><li class=\"single\"><a href=\"https://www.hse.ru/ba/political/projects\" class=\"link link_no-underline\"><span class=\"link\">Проектная и исследовательская работа</span></a></li><li class=\"single\"><a href=\"https://www.hse.ru/ba/political/seminar\" class=\"link link_no-underline\"><span class=\"link\">Научно-исследовательский семинар</span></a></li><li class=\"single\"><a href=\"https://www.hse.ru/ba/political/faq\" class=\"link link_no-underline\"><span class=\"link\">FAQ</span></a></li></ul></li><li class=\"\"><a href=\"https://www.hse.ru/ba/political/admission/\" class=\"link link_no-underline\"><span class=\"link\">Абитуриентам</span></a><i class=\"nav-arr\"></i><ul class=\"navigation_newl-sub navigation_newl-sub_1 navigation_newl-select0\"><li><a href=\"https://www.hse.ru/ba/political/admission/\" class=\"link\">Паспорт программы</a></li><li class=\"single\"><a href=\"https://www.hse.ru/ba/political/career\" class=\"link link_no-underline\"><span class=\"link\">Будущая профессия</span></a></li><li class=\"single\"><a href=\"https://www.hse.ru/ba/political/tracks\" class=\"link link_no-underline\"><span class=\"link\">Траектории поступления</span></a></li><li class=\"single\"><a href=\"https://www.hse.ru/ba/political/requirements\" class=\"link link_no-underline\"><span class=\"link\">Подготовка</span></a></li><li class=\"single\"><a href=\"https://www.hse.ru/ba/political/alumni\" class=\"link link_no-underline\"><span class=\"link\">Выпускники о программе</span></a></li><li class=\"single\"><a href=\"https://fdp.hse.ru/ischool/\" class=\"link link_no-underline\"><span class=\"link\">Онлайн-подготовка</span></a></li><li class=\"single\"><a href=\"https://www.hse.ru/ba/political/consultations\" class=\"link link_no-underline\"><span class=\"link\">Консультации для абитуриентов</span></a></li></ul></li><li class=\"\"><a href=\"https://www.hse.ru/ba/political/students/\" class=\"link link_no-underline\"><span class=\"link\">Студентам</span></a><i class=\"nav-arr\"></i><ul class=\"navigation_newl-sub navigation_newl-sub_1 navigation_newl-select0\"><li><a href=\"https://www.hse.ru/ba/political/students/\" class=\"link\">Доска объявлений</a></li><li class=\"single\"><a href=\"https://www.hse.ru/ba/political/first-year\" class=\"link link_no-underline\"><span class=\"link\">Первокурсникам</span></a></li><li class=\"\"><a href=\"\" class=\"link link_no-underline\"><span class=\"link pseudo_link sub_link\">Расписание</span></a><i class=\"nav-arr\"></i><ul class=\"navigation_newl-sub navigation_newl-sub_2 navigation_newl-select0\"><li class=\"single\"><a href=\"https://www.hse.ru/ba/political/schedules\" class=\"link link_no-underline\"><span class=\"link\">Расписание (XLS)</span></a></li><li class=\"single\"><a href=\"https://www.hse.ru/ba/political/timetable\" class=\"link link_no-underline\"><span class=\"link\">Электронное расписание</span></a></li></ul></li><li class=\"single\"><a href=\"https://www.hse.ru/ba/political/ratings\" class=\"link link_no-underline\"><span class=\"link\">Рейтинги</span></a></li><li class=\"\"><a href=\"http://electives.hse.ru/\" class=\"link link_no-underline\"><span class=\"link pseudo_link sub_link\">Выбор траектории обучения</span></a><i class=\"nav-arr\"></i><ul class=\"navigation_newl-sub navigation_newl-sub_2 navigation_newl-select0\"><li class=\"single\"><a href=\"http://electives.hse.ru/\" class=\"link link_no-underline\"><span class=\"link\">Выбор траектории обучения</span></a></li><li class=\"single\"><a href=\"https://www.hse.ru/ba/political/distribution\" class=\"link link_no-underline\"><span class=\"link\">Правила распределения студентов по профилям</span></a></li></ul></li><li class=\"single\"><a href=\"https://www.hse.ru/ba/political/moocs\" class=\"link link_no-underline\"><span class=\"link\">Рекомендованные онлайн-курсы</span></a></li><li class=\"single\"><a href=\"https://www.hse.ru/ba/political/mobility\" class=\"link link_no-underline\"><span class=\"link\">Студенческая мобильность</span></a></li><li class=\"single\"><a href=\"https://www.hse.ru/ba/political/internships\" class=\"link link_no-underline\"><span class=\"link\">Практическая подготовка</span></a></li><li class=\"single\"><a href=\"https://www.hse.ru/ba/political/diplomas\" class=\"link link_no-underline\"><span class=\"link\">Каталог ВКР</span></a></li><li class=\"single\"><a href=\"https://www.hse.ru/ba/political/assessment\" class=\"link link_no-underline\"><span class=\"link\">Итоговая аттестация </span></a></li><li class=\"single\"><a href=\"https://www.hse.ru/ba/political/commition\" class=\"link link_no-underline\"><span class=\"link\">Аттестационная комиссия</span></a></li><li class=\"single\"><a href=\"https://www.hse.ru/ba/political/references\" class=\"link link_no-underline\"><span class=\"link\">Заказ справок и документов</span></a></li><li class=\"single\"><a href=\"https://www.hse.ru/hselang/\" class=\"link link_no-underline\"><span class=\"link\">Дополнительные иностранные языки</span></a></li><li class=\"single\"><a href=\"https://www.hse.ru/ba/political/perevod\" class=\"link link_no-underline\"><span class=\"link\">Перевод и восстановление</span></a></li><li class=\"single\"><a href=\"https://www.hse.ru/ba/political/application_form\" class=\"link link_no-underline\"><span class=\"link\">Шаблоны заявлений</span></a></li></ul></li></ul></div></div></div></div></div></div><div class=\"g-day g-day--edu g-day_compact is-mobile c\"><div class=\"g-day\"><div class=\"g-day__inner\"><div class=\"g-day__day\">26</div><div class=\"g-day__month\">Март</div></div></div><div class=\"g-day__desc\"><a href=\"https://www.hse.ru/ba/political/announcements/556995458.html\" class=\"link link_dark\">День открытых дверей</a></div></div><div class=\"layout wide\"><div class=\"grid\"><div class=\"sidebar sidebar_clean education_sidebar\"><div class=\"sidebar__inner sidebar__normal\"><div class=\"b-program__side\"><ul class=\"navigation navigation_newl-side\"><li class=\"single b is-mobile\">Главная:</li><li class=\"single\"><a href=\"https://www.hse.ru/ba/political/tracks\" class=\"link link_no-underline\"><span class=\"link\">Траектории поступления</span></a></li> <li class=\"single\"><a href=\"https://www.hse.ru/ba/political/partners\" class=\"link link_no-underline\"><span class=\"link\">Партнеры</span></a></li> <li class=\"single\"><a href=\"https://www.hse.ru/ba/political/news/keywords/197252470/\" class=\"link link_no-underline\"><span class=\"link\">Достижения студентов</span></a></li> <li class=\"single\"><a href=\"https://www.hse.ru/ba/political/alumni\" class=\"link link_no-underline\"><span class=\"link\">Выпускники</span></a></li> </ul><div class=\"with-indent1 b-program__side-button b-program__buttons_ref\"><a style=\"border-radius: 6px;\" class=\"button button_green button_large u-accent\" href=\"https://ba.hse.ru/\">Приемная комиссия</a></div><div class=\"with-indent1 b-program__side-button b-program__buttons_ref\"><a style=\"border-radius: 6px;\" class=\"button button_blue button_large u-accent\" href=\"https://admissions.hse.ru/undergraduate-apply\">Для иностранных абитуриентов</a></div><div class=\"with-indent1 b-program__side-button b-program__download\"><a style=\"border-radius: 6px;\" class=\"button button_clean button_large u-accent\" href=\"/data/2022/02/28/1453554789/01_HSE_Buklet_Bakalavr_A5_Political_Science_2022.pdf\">Скачать буклет</a></div><div class=\"with-indent4\"><ul class=\"navigation icon_set1\"><li><a href=\"https://www.hse.ru/ba/political/courses\" class=\"link icon_sprite3\">Учебные курсы</a></li><li><a href=\"https://www.hse.ru/ba/political/tutors\" class=\"link icon_sprite5\">Преподаватели</a></li><li><a href=\"https://www.hse.ru/ba/political/vacant\" class=\"link icon_sprite1\">Число студентов и вакантные места</a></li><li><a href=\"https://www.hse.ru/ba/political/documents\" class=\"link icon_sprite3\">Документы образовательной программы</a></li><li><a href=\"https://www.hse.ru/ba/political/timetable\" class=\"link icon_sprite2\">Расписание</a></li><li><a href=\"https://www.hse.ru/ba/political/academ_council\" class=\"link icon_sprite5\">Академический совет</a></li></ul></div><div class=\"b-program__persons\"><div class=\"b-program__side-persons-group\"><div class=\"b-peoples__person\"><div class=\"g-pic g-pic_small\"><a href=\"//www.hse.ru/org/persons/14276397\" class=\"link link_no-underline\"><img src=\"https://www.hse.ru/org/persons/cimage/14276397\"></a></div><div class=\"b-peoples__person-position\">Академический руководитель</div><div class=\"b\"><a href=\"//www.hse.ru/org/persons/14276397\" class=\"link\">Локшин Илья Михайлович</a></div><div class=\"b-peoples__person-about\"></div></div><div class=\"b-peoples__person\"><div class=\"g-pic g-pic_small\"><a href=\"//www.hse.ru/org/persons/24835169\" class=\"link link_no-underline\"><img src=\"https://www.hse.ru/org/persons/cimage/24835169\"></a></div><div class=\"b-peoples__person-position\">Менеджер</div><div class=\"b\"><a href=\"//www.hse.ru/org/persons/24835169\" class=\"link\">Черемушкина Галина Андреевна</a></div><div class=\"b-peoples__person-about\"></div></div></div></div><div class=\"js-program__side-info-group\"><div class=\"b-program__side-info with-indent4\"><a href=\"http://www.hse.ru/ba/political/office/\">Учебный офис</a></div><div class=\"b-program__side-info with-indent4\"><div class=\"b-program__side-info\"><p style=\"font-family: Tahoma, Arial, sans-serif; font-size: small; line-height: normal;\"><span style=\"font-weight: 700;\">Контакты</span></p>\\n\\n<p>103070\\xa0<span class=\"with-icon with-icon_flag-msk\">Москва</span></p>\\n\\n<p>Телефон: 8(495) 772-95-90 * 22449<br>\\nФакс:\\xa08(495) 772-95-90 * 22462</p>\\n\\n<p><span style=\"font-family: Tahoma, Arial, sans-serif; font-size: small; line-height: normal;\">E-mail:\\xa0</span><br>\\n<a href=\"mailto:gcheremushkina@hse.ru\">gcheremushkina@hse.ru</a>\\xa0</p>\\n<p><br>\\n<strong><a href=\"https://social.hse.ru/studsovet/\">Студенческий\\xa0совет факультета\\xa0социальных наук</a></strong></p>\\n<h6>Локальный омбудсмен</h6><div class=\"b-greetings__person small\">\\n<div class=\"g-pic\"><img alt=\"\" src=\"https://social.hse.ru/mirror/pubs/share/thumb/341819860:c197x197+239+52:r78x78!?original=1\" style=\"width: 78px; height: 78px;\"></div>\\n</div>\\n\\n<p><a href=\"https://social.hse.ru/studsovet/ombudspersons#polit\">Федор Духновский</a></p>\\n<h6>Международная аккредитация</h6><p><a class=\"link_no-underline\" href=\"https://www.hse.ru/ba/political/certification/#international\"><img alt=\"\" src=\"/mirror/pubs/share/226525465\" style=\"width: 150px; height: 160px;\"></a></p>\\n\\n<p><strong>Международный рейтинг</strong></p>\\n</div></div></div><div class=\"b-program__side-info with-indent4\"><div class=\"b-program__side-info\"><p><a class=\"link_no-underline\" href=\"https://www.topuniversities.com/university-rankings/university-subject-rankings/2021/politics\" target=\"_blank\" rel=\"nofollow\"><img src=\"/pubs/share/direct/450594005.png\" style=\"max-width: 100%;\" title=\"QS Rankings by subject, Politics &amp; International Studies\" alt=\"QS Rankings by subject, Politics &amp; International Studies\"></a></p><p><a class=\"link_no-underline\" href=\"https://www.timeshighereducation.com/world-university-rankings/2021/subject-ranking/social-sciences\" target=\"_blank\" rel=\"nofollow\"><img src=\"/pubs/share/direct/454914710.png\" style=\"max-width: 100%;\" title=\"THE World University Rankings by subject/Social Sciences\" alt=\"THE World University Rankings by subject/Social Sciences\"></a></p></div></div><div class=\"b-program__side-info with-indent4\"><a href=\"https://lk.hse.ru/user-suggestions\" class=\"link link_no-underline button-aside\" onclick=\"event.preventDefault(); $(this).next().slideDown();\"><img src=\"/f/src/global/i/btn-example.png\"></a><ul style=\"display: none;\" class=\"g-ul g-list\"><li><a href=\"https://lk.hse.ru/user-suggestions\">Администрация</a></li><li><a href=\"https://www.hse.ru/expresspolls/poll/208020776.html\">Студсовет</a></li></ul><dl class=\"dl_closer\"><dt class=\"b\">Выразительная кнопка</dt><dd>для срочных сообщений</dd></dl></div><div class=\"b-side b-side_bt \"><div class=\"b-side__inner\"><ul class=\"first_child last_child navigation\"><li><a href=\"https://vk.com/politicalhse\" class=\"with-icon with-icon_vk-blue link\">Наша группа Вконтакте</a></li><li><a href=\"https://t.me/politicalhse\" class=\"with-icon with-icon_tg-blue link\">Наш канал в Телеграме</a></li></ul></div></div><div class=\"b-side b-side_bt \"><div class=\"b-side__inner\"><script type=\"text/javascript\" src=\"//yastatic.net/share2/share.js\" charset=\"utf-8\" async=\"async\"></script><div class=\"last_child ya-share2\" data-services=\"facebook,vkontakte,twitter,telegram,whatsapp,viber\" data-limit=\"6\" data-lang=\"ru\" data-title=\"Образовательная программа «Политология»\" data-description=\"Наряду с изучением специальных дисциплин — политического анализа, сравнительной политологии, политической теории — студенты получают знания в области экономики, социологии, права, иностранных языков\" data-image=\"https://www.hse.ru/images/fb/hse_ru_thumb.jpg\" data-url=\"https://www.hse.ru/ba/political/\"></div></div></div></div><div class=\"b-side b-side_notice\"><div class=\"b-side__inner\"><br><!--noindex--><span class=\"with-icon with-icon_tick\">\\xa0</span><p class=\"last_child with-indent\">\\n\\t\\t\\t\\tНашли <span class=\"wrong\">опечатку</span>?<br>\\n\\t\\t\\t\\tВыделите её, нажмите Ctrl+Enter и отправьте нам уведомление. Спасибо за участие!<br>\\n\\t\\t\\t\\tСервис предназначен только для отправки сообщений об орфографических и пунктуационных ошибках.\\n\\t\\t\\t</p><!--/noindex--><script type=\"text/javascript\">\\n\\t\\t\\t(function() {\\n\\t\\t\\t\\tvar s = document.createElement(\\'script\\'); s.type = \\'text/javascript\\'; s.async = true;\\n\\t\\t\\t\\ts.src = \\'/f/src/_/jquery.orfo.js\\';\\n\\t\\t\\t\\ts.onload = s.onreadystatechange = function() {\\n\\t\\t\\t\\t\\tif ($.fn.hseOrfo) {\\t// old IE...\\n\\t\\t\\t\\t\\t\\t$(document).hseOrfo({\\n\\t\\t\\t\\t\\t\\t\\t\\'lang\\': \\'ru\\'\\n\\t\\t\\t\\t\\t\\t});\\n\\t\\t\\t\\t\\t}\\n\\t\\t\\t\\t};\\n\\t\\t\\t\\tvar t = document.getElementsByTagName(\\'script\\')[0]; t.parentNode.insertBefore(s, t);\\n\\t\\t\\t})();\\n\\t\\t</script></div></div></div></div><div class=\"main row\"><div class=\"content\"><div class=\"content__inner\"><h1>Учебные курсы 2021/2022 учебного года</h1><div class=\"edu-filter smaller with-indent4\"><div class=\"edu-events_stud_year__list small\"><div class=\"edu-events_stud_year__item\"><a href=\"https://www.hse.ru/ba/political/courses?page=1&amp;year=2015\" class=\"link link_dark2\">2015 – 2016</a></div><div class=\"edu-events_stud_year__item\"><a href=\"https://www.hse.ru/ba/political/courses?page=1&amp;year=2016\" class=\"link link_dark2\">2016 – 2017</a></div><div class=\"edu-events_stud_year__item\"><a href=\"https://www.hse.ru/ba/political/courses?page=1&amp;year=2017\" class=\"link link_dark2\">2017 – 2018</a></div><div class=\"edu-events_stud_year__item\"><a href=\"https://www.hse.ru/ba/political/courses?page=1&amp;year=2018\" class=\"link link_dark2\">2018 – 2019</a></div><div class=\"edu-events_stud_year__item\"><a href=\"https://www.hse.ru/ba/political/courses?page=1&amp;year=2019\" class=\"link link_dark2\">2019 – 2020</a></div><div class=\"edu-events_stud_year__item\"><a href=\"https://www.hse.ru/ba/political/courses?page=1&amp;year=2020\" class=\"link link_dark2\">2020 – 2021</a></div><div class=\"edu-events_stud_year__item edu-events_stud_year__item--active\">2021 – 2022</div><div class=\"edu-events_stud_year__item\"><a href=\"https://www.hse.ru/ba/political/courses?page=1&amp;year=2022\" class=\"link link_dark2\">2022 – 2023</a></div><div class=\"edu-events_stud_year__item\"><a href=\"https://www.hse.ru/ba/political/courses?page=1&amp;year=2023\" class=\"link link_dark2\">2023 – 2024</a></div></div><div class=\"edu-filter_modules\" data-years=\"4\" data-modules=\"4\"><ul class=\"edu-filter_modules__list js-filter_modules\"><li class=\"edu-filter_modules__start\"><li data-course=\"1 курс\" data-course-num=\"1\" data-href=\"https://www.hse.ru/ba/political/courses?course=1&amp;page=1&amp;year=2021\" data-module=\"1\" class=\"edu-filter_modules__item edu-filter_modules__item--begin\"><li data-course=\"1 курс\" data-course-num=\"1\" data-href=\"https://www.hse.ru/ba/political/courses?course=1&amp;page=1&amp;year=2021\" data-module=\"2\" class=\"edu-filter_modules__item\"><li data-course=\"1 курс\" data-course-num=\"1\" data-href=\"https://www.hse.ru/ba/political/courses?course=1&amp;page=1&amp;year=2021\" data-module=\"3\" class=\"edu-filter_modules__item\"><li data-course=\"1 курс\" data-course-num=\"1\" data-href=\"https://www.hse.ru/ba/political/courses?course=1&amp;page=1&amp;year=2021\" data-module=\"4\" class=\"edu-filter_modules__item\"><li data-course=\"2 курс\" data-course-num=\"2\" data-href=\"https://www.hse.ru/ba/political/courses?course=2&amp;page=1&amp;year=2021\" data-module=\"1\" class=\"edu-filter_modules__item edu-filter_modules__item--begin\"><li data-course=\"2 курс\" data-course-num=\"2\" data-href=\"https://www.hse.ru/ba/political/courses?course=2&amp;page=1&amp;year=2021\" data-module=\"2\" class=\"edu-filter_modules__item\"><li data-course=\"2 курс\" data-course-num=\"2\" data-href=\"https://www.hse.ru/ba/political/courses?course=2&amp;page=1&amp;year=2021\" data-module=\"3\" class=\"edu-filter_modules__item\"><li data-course=\"2 курс\" data-course-num=\"2\" data-href=\"https://www.hse.ru/ba/political/courses?course=2&amp;page=1&amp;year=2021\" data-module=\"4\" class=\"edu-filter_modules__item\"><li data-course=\"3 курс\" data-course-num=\"3\" data-href=\"https://www.hse.ru/ba/political/courses?course=3&amp;page=1&amp;year=2021\" data-module=\"1\" class=\"edu-filter_modules__item edu-filter_modules__item--begin\"><li data-course=\"3 курс\" data-course-num=\"3\" data-href=\"https://www.hse.ru/ba/political/courses?course=3&amp;page=1&amp;year=2021\" data-module=\"2\" class=\"edu-filter_modules__item\"><li data-course=\"3 курс\" data-course-num=\"3\" data-href=\"https://www.hse.ru/ba/political/courses?course=3&amp;page=1&amp;year=2021\" data-module=\"3\" class=\"edu-filter_modules__item\"><li data-course=\"3 курс\" data-course-num=\"3\" data-href=\"https://www.hse.ru/ba/political/courses?course=3&amp;page=1&amp;year=2021\" data-module=\"4\" class=\"edu-filter_modules__item\"><li data-course=\"4 курс\" data-course-num=\"4\" data-href=\"https://www.hse.ru/ba/political/courses?course=4&amp;page=1&amp;year=2021\" data-module=\"1\" class=\"edu-filter_modules__item edu-filter_modules__item--begin\"><li data-course=\"4 курс\" data-course-num=\"4\" data-href=\"https://www.hse.ru/ba/political/courses?course=4&amp;page=1&amp;year=2021\" data-module=\"2\" class=\"edu-filter_modules__item\"><li data-course=\"4 курс\" data-course-num=\"4\" data-href=\"https://www.hse.ru/ba/political/courses?course=4&amp;page=1&amp;year=2021\" data-module=\"3\" class=\"edu-filter_modules__item\"><li data-course=\"4 курс\" data-course-num=\"4\" data-href=\"https://www.hse.ru/ba/political/courses?course=4&amp;page=1&amp;year=2021\" data-module=\"4\" class=\"edu-filter_modules__item\"><li class=\"edu-filter_modules__end\"><li style=\"left: 50%;\" class=\"edu-filter_modules__item--tooltip\">1 курс 1 модуль - 5 курс 5 модуль</li></ul></div><div class=\"with-indent5\"><div class=\"edu-filter__title b large\">Язык</div><div class=\"edu-filter__list\"><div class=\"edu-filter__item\"><a href=\"https://www.hse.ru/ba/political/courses?page=1&amp;lang=20591&amp;year=2021\" class=\"link no-visited link_dotted link_dark2\">русский</a></div><div class=\"edu-filter__item\"><a href=\"https://www.hse.ru/ba/political/courses?page=1&amp;lang=20592&amp;year=2021\" class=\"link no-visited link_dotted link_dark2\">английский</a></div></div></div><div class=\"with-indent2\"><div class=\"edu-filter__title b large\">Статус</div><div class=\"edu-filter__list\"><div class=\"edu-filter__item\"><select onchange=\"coursesWait(); document.location.href=this.value;\"><option value=\"https://www.hse.ru/ba/political/courses?page=1&amp;year=2021\">Все статусы</option><option value=\"https://www.hse.ru/ba/political/courses?status=1&amp;page=1&amp;year=2021\">Курс обязательный</option><option value=\"https://www.hse.ru/ba/political/courses?status=2&amp;page=1&amp;year=2021\">Курс по выбору</option><option value=\"https://www.hse.ru/ba/political/courses?status=4&amp;page=1&amp;year=2021\">Факультатив</option><option value=\"https://www.hse.ru/ba/political/courses?status=8&amp;page=1&amp;year=2021\">Майнор</option></select></div></div></div><div class=\"with-indent2\"><div class=\"edu-filter__title b large\">Специализация</div><div class=\"edu-filter__list\"><div class=\"edu-filter__item\"><select onchange=\"coursesWait(); document.location.href=this.value;\"><option value=\"https://www.hse.ru/ba/political/courses?page=1&amp;year=2021\" selected>Все специализации</option><option value=\"https://www.hse.ru/ba/political/courses?page=1&amp;specialization=323980837&amp;year=2021\">Политическое управление</option><option value=\"https://www.hse.ru/ba/political/courses?page=1&amp;specialization=323980841&amp;year=2021\">Политический анализ</option></select></div></div></div><div class=\"b-input with-indent2\"><div class=\"edu-filter__title b large\"></div><div class=\"edu-filter__list\"><div class=\"edu-filter__item\"><form class=\"edu-filter_word\" onsubmit=\"coursesWait(); window.location.href = \\'https://www.hse.ru/ba/political/courses?page=1&amp;year=2021&amp;word=\\' +  encodeURIComponent(this.word.value); return false;\" data-href=\"https://www.hse.ru/ba/political/courses?page=1&amp;year=2021\"><input onchange=\"$(this).parent().submit();\" type=\"text\" class=\"input input_search edu-filter_search\" placeholder=\"Название курса\" name=\"word\" value=\"\"></form><div class=\"i-cancel js-cancel\" style=\"display:none\"></div></div></div></div></div><div class=\"edu-events\"><div class=\"edu-events__item--header edu-events__item\"><div class=\"edu-events_persons\">Преподаватели</div><div class=\"edu-events_modules\">\\xa0</div><div class=\"edu-events_courses\"><span class=\"edu-events_courses__caption\">Курсы:</span><span class=\"edu-events_courses__switch edu-events_courses__switch--selected\">По алфавиту</span><a class=\"edu-events_courses__switch no-visited\" href=\"https://www.hse.ru/ba/political/courses?sort=status\">По статусу</a></div></div><div class=\"edu-events__item\" data-href=\"https://www.hse.ru/ba/political/courses/395894430.html\"><div class=\"edu-events_persons\"><div class=\"edu-events_person\"><div class=\"g-pic edu-events_person__pic\" style=\"background-image: url(/org/persons/cimage/499836616);\"></div><div class=\"edu-events_person__name\"><span>Швед Александр Игоревич</span></div></div></div><div class=\"edu-events_modules\"><ul data-tooltip=\"2-й курс, 1 модуль\" class=\"edu-filter_modules__list ui-sortable\"><li data-course=\"2-й курс\" class=\"edu-filter_modules__item edu-filter_modules__item--short edu-filter_modules__item--active edu-filter_modules__item--begin\"><li data-course=\"2-й курс\" class=\"edu-filter_modules__item edu-filter_modules__item--short\"><li data-course=\"2-й курс\" class=\"edu-filter_modules__item edu-filter_modules__item--short\"><li data-course=\"2-й курс\" class=\"edu-filter_modules__item edu-filter_modules__item--short\"></ul></div><div class=\"edu-events_courses\"><div class=\"edu-events_title title large\"><a class=\"link link_dark\" href=\"https://www.hse.ru/ba/political/courses/395894430.html\">GR-практики в системе государственного управления</a></div><div class=\"edu-program_status\">Обязательный</div><div class=\"edu-program_languges b-events__languges with-indent1\"><span class=\"b-program__lang edu-events__lang\">русский</span></div></div></div><div class=\"edu-events__item\" data-href=\"https://www.hse.ru/ba/political/courses/339493143.html\"><div class=\"edu-events_persons\"><div class=\"edu-events_person\"><div class=\"g-pic edu-events_person__pic\" style=\"background-image: url(/org/persons/cimage/192181869);\"></div><div class=\"edu-events_person__name\"><a href=\"/org/persons/192181869\">Гагарина Людмила Александровна</a></div></div></div><div class=\"edu-events_modules\"><ul data-tooltip=\"4-й курс, 1-3 модуль\" class=\"edu-filter_modules__list ui-sortable\"><li data-course=\"4-й курс\" class=\"edu-filter_modules__item edu-filter_modules__item--short edu-filter_modules__item--active edu-filter_modules__item--begin\"><li data-course=\"4-й курс\" class=\"edu-filter_modules__item edu-filter_modules__item--short edu-filter_modules__item--active\"><li data-course=\"4-й курс\" class=\"edu-filter_modules__item edu-filter_modules__item--short edu-filter_modules__item--active\"><li data-course=\"4-й курс\" class=\"edu-filter_modules__item edu-filter_modules__item--short\"></ul></div><div class=\"edu-events_courses\"><div class=\"edu-events_title title large\"><a class=\"link link_dark\" href=\"https://www.hse.ru/ba/political/courses/339493143.html\">Академическое письмо на английском языке</a></div><div class=\"edu-program_status\">Факультатив</div><div class=\"edu-program_languges b-events__languges with-indent1\"><span class=\"b-program__lang edu-events__lang\">русский</span></div></div></div><div class=\"edu-events__item\" data-href=\"https://www.hse.ru/ba/political/courses/476629299.html\"><div class=\"edu-events_persons\"><div class=\"edu-events_person\"><div class=\"g-pic edu-events_person__pic\" style=\"background-image: url(/org/persons/cimage/223276994);\"></div><div class=\"edu-events_person__name\"><a href=\"/staff/rogovich\">Рогович Татьяна Владимировна</a></div></div></div><div class=\"edu-events_modules\"><ul data-tooltip=\"3-й курс, 3, 4 модуль\" class=\"edu-filter_modules__list ui-sortable\"><li data-course=\"3-й курс\" class=\"edu-filter_modules__item edu-filter_modules__item--short edu-filter_modules__item--begin\"><li data-course=\"3-й курс\" class=\"edu-filter_modules__item edu-filter_modules__item--short\"><li data-course=\"3-й курс\" class=\"edu-filter_modules__item edu-filter_modules__item--short edu-filter_modules__item--active\"><li data-course=\"3-й курс\" class=\"edu-filter_modules__item edu-filter_modules__item--short edu-filter_modules__item--active\"></ul></div><div class=\"edu-events_courses\"><div class=\"edu-events_title title large\"><a class=\"link link_dark\" href=\"https://www.hse.ru/ba/political/courses/476629299.html\">Анализ данных в Python</a></div><div class=\"edu-program_status\">По выбору</div><div class=\"edu-program_languges b-events__languges with-indent1\"><span class=\"b-program__lang edu-events__lang\">русский</span></div></div></div><div class=\"edu-events__item\" data-href=\"https://www.hse.ru/ba/political/courses/476613338.html\"><div class=\"edu-events_persons\"><div class=\"edu-events_person\"><div class=\"g-pic edu-events_person__pic\" style=\"background-image: url(/org/persons/cimage/14292437);\"></div><div class=\"edu-events_person__name\"><a href=\"/staff/salnikova\">Сальникова Дарья Вячеславовна</a></div></div></div><div class=\"edu-events_modules\"><ul data-tooltip=\"3-й курс, 3, 4 модуль\" class=\"edu-filter_modules__list ui-sortable\"><li data-course=\"3-й курс\" class=\"edu-filter_modules__item edu-filter_modules__item--short edu-filter_modules__item--begin\"><li data-course=\"3-й курс\" class=\"edu-filter_modules__item edu-filter_modules__item--short\"><li data-course=\"3-й курс\" class=\"edu-filter_modules__item edu-filter_modules__item--short edu-filter_modules__item--active\"><li data-course=\"3-й курс\" class=\"edu-filter_modules__item edu-filter_modules__item--short edu-filter_modules__item--active\"></ul></div><div class=\"edu-events_courses\"><div class=\"edu-events_title title large\"><a class=\"link link_dark\" href=\"https://www.hse.ru/ba/political/courses/476613338.html\">Анализ категориальных данных в статистических пакетах</a></div><div class=\"edu-program_status\">По выбору</div><div class=\"edu-program_languges b-events__languges with-indent1\"><span class=\"b-program__lang edu-events__lang\">русский</span></div></div></div><div class=\"edu-events__item\" data-href=\"https://www.hse.ru/ba/political/courses/470900387.html\"><div class=\"edu-events_persons\"></div><div class=\"edu-events_modules\"><ul data-tooltip=\"1-й курс, 1 модуль\" class=\"edu-filter_modules__list ui-sortable\"><li data-course=\"1-й курс\" class=\"edu-filter_modules__item edu-filter_modules__item--short edu-filter_modules__item--active edu-filter_modules__item--begin\"><li data-course=\"1-й курс\" class=\"edu-filter_modules__item edu-filter_modules__item--short\"><li data-course=\"1-й курс\" class=\"edu-filter_modules__item edu-filter_modules__item--short\"><li data-course=\"1-й курс\" class=\"edu-filter_modules__item edu-filter_modules__item--short\"></ul></div><div class=\"edu-events_courses\"><div class=\"edu-events_title title large\"><a class=\"link link_dark\" href=\"https://www.hse.ru/ba/political/courses/470900387.html\">Безопасность жизнедеятельности</a></div><div class=\"edu-program_status\">Обязательный</div><div class=\"edu-program_languges b-events__languges with-indent1\"><span class=\"b-program__lang edu-events__lang\">русский</span></div></div></div><div class=\"edu-events__item\" data-href=\"https://www.hse.ru/ba/political/courses/470909651.html\"><div class=\"edu-events_persons\"><div class=\"edu-events_person\"><div class=\"g-pic edu-events_person__pic\" style=\"background-image: url(/org/persons/cimage/14292437);\"></div><div class=\"edu-events_person__name\"><a href=\"/staff/salnikova\">Сальникова Дарья Вячеславовна</a></div></div><div class=\"edu-events_person\"><div class=\"g-pic edu-events_person__pic\" style=\"background-image: url(/org/persons/cimage/65853320);\"></div><div class=\"edu-events_person__name\"><a href=\"/staff/allat\">Тамбовцева Алла Андреевна</a></div></div></div><div class=\"edu-events_modules\"><ul data-tooltip=\"2-й курс, 4 модуль\" class=\"edu-filter_modules__list ui-sortable\"><li data-course=\"2-й курс\" class=\"edu-filter_modules__item edu-filter_modules__item--short edu-filter_modules__item--begin\"><li data-course=\"2-й курс\" class=\"edu-filter_modules__item edu-filter_modules__item--short\"><li data-course=\"2-й курс\" class=\"edu-filter_modules__item edu-filter_modules__item--short\"><li data-course=\"2-й курс\" class=\"edu-filter_modules__item edu-filter_modules__item--short edu-filter_modules__item--active\"></ul></div><div class=\"edu-events_courses\"><div class=\"edu-events_title title large\"><a class=\"link link_dark\" href=\"https://www.hse.ru/ba/political/courses/470909651.html\">Введение в многомерный статистический анализ</a></div><div class=\"edu-program_status\">Обязательный</div><div class=\"edu-program_languges b-events__languges with-indent1\"><span class=\"b-program__lang edu-events__lang\">русский</span></div></div></div><div class=\"edu-events__item\" data-href=\"https://www.hse.ru/ba/political/courses/470999603.html\"><div class=\"edu-events_persons\"><div class=\"edu-events_person\"><div class=\"g-pic edu-events_person__pic\" style=\"background-image: url(/org/persons/cimage/181051);\"></div><div class=\"edu-events_person__name\"><a href=\"/org/persons/181051\">Касамара Валерия Александровна</a></div></div><div class=\"edu-events_person\"><div class=\"g-pic edu-events_person__pic\" style=\"background-image: url(/org/persons/cimage/228658);\"></div><div class=\"edu-events_person__name\"><a href=\"/org/persons/228658\">Сорокина Анна Андреевна</a></div></div></div><div class=\"edu-events_modules\"><ul data-tooltip=\"1-й курс, 1 модуль\" class=\"edu-filter_modules__list ui-sortable\"><li data-course=\"1-й курс\" class=\"edu-filter_modules__item edu-filter_modules__item--short edu-filter_modules__item--active edu-filter_modules__item--begin\"><li data-course=\"1-й курс\" class=\"edu-filter_modules__item edu-filter_modules__item--short\"><li data-course=\"1-й курс\" class=\"edu-filter_modules__item edu-filter_modules__item--short\"><li data-course=\"1-й курс\" class=\"edu-filter_modules__item edu-filter_modules__item--short\"></ul></div><div class=\"edu-events_courses\"><div class=\"edu-events_title title large\"><a class=\"link link_dark\" href=\"https://www.hse.ru/ba/political/courses/470999603.html\">Введение в специальность</a></div><div class=\"edu-program_status\">Обязательный</div><div class=\"edu-program_languges b-events__languges with-indent1\"><span class=\"b-program__lang edu-events__lang\">русский</span></div></div></div><div class=\"edu-events__item\" data-href=\"https://www.hse.ru/ba/political/courses/470989869.html\"><div class=\"edu-events_persons\"><div class=\"edu-events_person\"><div class=\"g-pic edu-events_person__pic\" style=\"background-image: url(/org/persons/cimage/135897);\"></div><div class=\"edu-events_person__name\"><a href=\"/org/persons/135897\">Макаров Алексей Алексеевич</a></div></div><div class=\"edu-events_person\"><div class=\"g-pic edu-events_person__pic\" style=\"background-image: url(/org/persons/cimage/208520816);\"></div><div class=\"edu-events_person__name\"><a href=\"/staff/pvrevina\">Ревина Полина Владимировна</a></div></div><div class=\"edu-events_person\"><div class=\"g-pic edu-events_person__pic\" style=\"background-image: url(/org/persons/cimage/65853320);\"></div><div class=\"edu-events_person__name\"><a href=\"/staff/allat\">Тамбовцева Алла Андреевна</a></div></div></div><div class=\"edu-events_modules\"><ul data-tooltip=\"1-й курс, 3, 4 модуль\" class=\"edu-filter_modules__list ui-sortable\"><li data-course=\"1-й курс\" class=\"edu-filter_modules__item edu-filter_modules__item--short edu-filter_modules__item--begin\"><li data-course=\"1-й курс\" class=\"edu-filter_modules__item edu-filter_modules__item--short\"><li data-course=\"1-й курс\" class=\"edu-filter_modules__item edu-filter_modules__item--short edu-filter_modules__item--active\"><li data-course=\"1-й курс\" class=\"edu-filter_modules__item edu-filter_modules__item--short edu-filter_modules__item--active\"></ul></div><div class=\"edu-events_courses\"><div class=\"edu-events_title title large\"><a class=\"link link_dark\" href=\"https://www.hse.ru/ba/political/courses/470989869.html\">Введение в теорию вероятностей и математическую статистику</a></div><div class=\"edu-program_status\">Обязательный</div><div class=\"edu-program_languges b-events__languges with-indent1\"><span class=\"b-program__lang edu-events__lang\">русский</span></div></div></div><div class=\"edu-events__item\" data-href=\"https://www.hse.ru/ba/political/courses/470889625.html\"><div class=\"edu-events_persons\"></div><div class=\"edu-events_modules\"><ul data-tooltip=\"1-й курс, 4 модуль\" class=\"edu-filter_modules__list ui-sortable\"><li data-course=\"1-й курс\" class=\"edu-filter_modules__item edu-filter_modules__item--short edu-filter_modules__item--begin\"><li data-course=\"1-й курс\" class=\"edu-filter_modules__item edu-filter_modules__item--short\"><li data-course=\"1-й курс\" class=\"edu-filter_modules__item edu-filter_modules__item--short\"><li data-course=\"1-й курс\" class=\"edu-filter_modules__item edu-filter_modules__item--short edu-filter_modules__item--active\"></ul></div><div class=\"edu-events_courses\"><div class=\"edu-events_title title large\"><a class=\"link link_dark\" href=\"https://www.hse.ru/ba/political/courses/470889625.html\">English Language Integrative Exam</a></div><div class=\"edu-program_status\">Обязательный</div><div class=\"edu-program_languges b-events__languges with-indent1\"><span class=\"b-program__lang edu-events__lang\">английский</span></div></div></div><div class=\"edu-events__item\" data-href=\"https://www.hse.ru/ba/political/courses/470884821.html\"><div class=\"edu-events_persons\"><div class=\"edu-events_person\"><div class=\"g-pic edu-events_person__pic\" style=\"background-image: url(/org/persons/cimage/190918082);\"></div><div class=\"edu-events_person__name\"><a href=\"/staff/georgy_tarasenko\">Тарасенко Георгий Константинович</a></div></div><div class=\"edu-events_person\"><div class=\"g-pic edu-events_person__pic\" style=\"background-image: url(/org/persons/cimage/63890353);\"></div><div class=\"edu-events_person__name\"><a href=\"/org/persons/63890353\">Филимонов Дмитрий Андреевич</a></div></div></div><div class=\"edu-events_modules\"><ul data-tooltip=\"1-й курс, 1, 2 модуль\" class=\"edu-filter_modules__list ui-sortable\"><li data-course=\"1-й курс\" class=\"edu-filter_modules__item edu-filter_modules__item--short edu-filter_modules__item--active edu-filter_modules__item--begin\"><li data-course=\"1-й курс\" class=\"edu-filter_modules__item edu-filter_modules__item--short edu-filter_modules__item--active\"><li data-course=\"1-й курс\" class=\"edu-filter_modules__item edu-filter_modules__item--short\"><li data-course=\"1-й курс\" class=\"edu-filter_modules__item edu-filter_modules__item--short\"></ul></div><div class=\"edu-events_courses\"><div class=\"edu-events_title title large\"><a class=\"link link_dark\" href=\"https://www.hse.ru/ba/political/courses/470884821.html\">Высшая математика</a></div><div class=\"edu-program_status\">Обязательный</div><div class=\"edu-program_languges b-events__languges with-indent1\"><span class=\"b-program__lang edu-events__lang\">русский</span></div></div></div><div class=\"edu-events__item\" data-href=\"https://www.hse.ru/ba/political/courses/476609800.html\"><div class=\"edu-events_persons\"><div class=\"edu-events_person\"><div class=\"g-pic edu-events_person__pic\" style=\"background-image: url(/org/persons/cimage/94560807);\"></div><div class=\"edu-events_person__name\"><a href=\"/org/persons/94560807\">Уткина Валерия Владимировна</a></div></div></div><div class=\"edu-events_modules\"><ul data-tooltip=\"3-й курс, 4 модуль\" class=\"edu-filter_modules__list ui-sortable\"><li data-course=\"3-й курс\" class=\"edu-filter_modules__item edu-filter_modules__item--short edu-filter_modules__item--begin\"><li data-course=\"3-й курс\" class=\"edu-filter_modules__item edu-filter_modules__item--short\"><li data-course=\"3-й курс\" class=\"edu-filter_modules__item edu-filter_modules__item--short\"><li data-course=\"3-й курс\" class=\"edu-filter_modules__item edu-filter_modules__item--short edu-filter_modules__item--active\"></ul></div><div class=\"edu-events_courses\"><div class=\"edu-events_title title large\"><a class=\"link link_dark\" href=\"https://www.hse.ru/ba/political/courses/476609800.html\">Gender Studies</a></div><div class=\"edu-program_status\">По выбору</div><div class=\"edu-program_languges b-events__languges with-indent1\"><span class=\"b-program__lang edu-events__lang\">английский</span></div></div></div><div class=\"edu-events__item\" data-href=\"https://www.hse.ru/ba/political/courses/452720253.html\"><div class=\"edu-events_persons\"><div class=\"edu-events_person\"><div class=\"g-pic edu-events_person__pic\" style=\"background-image: url(/org/persons/cimage/14257165);\"></div><div class=\"edu-events_person__name\"><a href=\"/staff/agorodnichev\">Городничев Антон Валерьевич</a></div></div></div><div class=\"edu-events_modules\"><ul data-tooltip=\"4-й курс, 1 модуль\" class=\"edu-filter_modules__list ui-sortable\"><li data-course=\"4-й курс\" class=\"edu-filter_modules__item edu-filter_modules__item--short edu-filter_modules__item--active edu-filter_modules__item--begin\"><li data-course=\"4-й курс\" class=\"edu-filter_modules__item edu-filter_modules__item--short\"><li data-course=\"4-й курс\" class=\"edu-filter_modules__item edu-filter_modules__item--short\"><li data-course=\"4-й курс\" class=\"edu-filter_modules__item edu-filter_modules__item--short\"></ul></div><div class=\"edu-events_courses\"><div class=\"edu-events_title title large\"><a class=\"link link_dark\" href=\"https://www.hse.ru/ba/political/courses/452720253.html\">Городская политика</a></div><div class=\"edu-program_status\">По выбору</div><div class=\"edu-program_languges b-events__languges with-indent1\"><span class=\"b-program__lang edu-events__lang\">русский</span></div></div></div><div class=\"edu-events__item\" data-href=\"https://www.hse.ru/ba/political/courses/470905597.html\"><div class=\"edu-events_persons\"><div class=\"edu-events_person\"><div class=\"g-pic edu-events_person__pic\" style=\"background-image: url(/org/persons/cimage/13871059);\"></div><div class=\"edu-events_person__name\"><a href=\"/org/persons/13871059\">Максименкова Марина Сергеевна</a></div></div><div class=\"edu-events_person\"><div class=\"g-pic edu-events_person__pic\" style=\"background-image: url(/org/persons/cimage/67470);\"></div><div class=\"edu-events_person__name\"><a href=\"/staff/nisnevich\">Нисневич Юлий Анатольевич</a></div></div></div><div class=\"edu-events_modules\"><ul data-tooltip=\"2-й курс, 1, 2 модуль\" class=\"edu-filter_modules__list ui-sortable\"><li data-course=\"2-й курс\" class=\"edu-filter_modules__item edu-filter_modules__item--short edu-filter_modules__item--active edu-filter_modules__item--begin\"><li data-course=\"2-й курс\" class=\"edu-filter_modules__item edu-filter_modules__item--short edu-filter_modules__item--active\"><li data-course=\"2-й курс\" class=\"edu-filter_modules__item edu-filter_modules__item--short\"><li data-course=\"2-й курс\" class=\"edu-filter_modules__item edu-filter_modules__item--short\"></ul></div><div class=\"edu-events_courses\"><div class=\"edu-events_title title large\"><a class=\"link link_dark\" href=\"https://www.hse.ru/ba/political/courses/470905597.html\">Государственная власть в РФ</a></div><div class=\"edu-program_status\">Обязательный</div><div class=\"edu-program_languges b-events__languges with-indent1\"><span class=\"b-program__lang edu-events__lang\">русский</span></div></div></div><div class=\"edu-events__item\" data-href=\"https://www.hse.ru/ba/political/courses/395877737.html\"><div class=\"edu-events_persons\"></div><div class=\"edu-events_modules\"><ul data-tooltip=\"4-й курс, 1 модуль\" class=\"edu-filter_modules__list ui-sortable\"><li data-course=\"4-й курс\" class=\"edu-filter_modules__item edu-filter_modules__item--short edu-filter_modules__item--active edu-filter_modules__item--begin\"><li data-course=\"4-й курс\" class=\"edu-filter_modules__item edu-filter_modules__item--short\"><li data-course=\"4-й курс\" class=\"edu-filter_modules__item edu-filter_modules__item--short\"><li data-course=\"4-й курс\" class=\"edu-filter_modules__item edu-filter_modules__item--short\"></ul></div><div class=\"edu-events_courses\"><div class=\"edu-events_title title large\"><a class=\"link link_dark\" href=\"https://www.hse.ru/ba/political/courses/395877737.html\">Гражданское общество и НКО</a></div><div class=\"edu-program_status\">По выбору</div><div class=\"edu-program_languges b-events__languges with-indent1\"><span class=\"b-program__lang edu-events__lang\">русский</span></div></div></div><div class=\"edu-events__item\" data-href=\"https://www.hse.ru/ba/political/courses/470996268.html\"><div class=\"edu-events_persons\"></div><div class=\"edu-events_modules\"><ul data-tooltip=\"4-й курс, 4 модуль\" class=\"edu-filter_modules__list ui-sortable\"><li data-course=\"4-й курс\" class=\"edu-filter_modules__item edu-filter_modules__item--short edu-filter_modules__item--begin\"><li data-course=\"4-й курс\" class=\"edu-filter_modules__item edu-filter_modules__item--short\"><li data-course=\"4-й курс\" class=\"edu-filter_modules__item edu-filter_modules__item--short\"><li data-course=\"4-й курс\" class=\"edu-filter_modules__item edu-filter_modules__item--short edu-filter_modules__item--active\"></ul></div><div class=\"edu-events_courses\"><div class=\"edu-events_title title large\"><a class=\"link link_dark\" href=\"https://www.hse.ru/ba/political/courses/470996268.html\">Защита выпускной квалификационной работы</a></div><div class=\"edu-program_status\">Обязательный</div><div class=\"edu-program_languges b-events__languges with-indent1\"><span class=\"b-program__lang edu-events__lang\">русский</span></div></div></div><div class=\"edu-events__item\" data-href=\"https://www.hse.ru/ba/political/courses/452718728.html\"><div class=\"edu-events_persons\"></div><div class=\"edu-events_modules\"><ul data-tooltip=\"4-й курс, 3 модуль\" class=\"edu-filter_modules__list ui-sortable\"><li data-course=\"4-й курс\" class=\"edu-filter_modules__item edu-filter_modules__item--short edu-filter_modules__item--begin\"><li data-course=\"4-й курс\" class=\"edu-filter_modules__item edu-filter_modules__item--short\"><li data-course=\"4-й курс\" class=\"edu-filter_modules__item edu-filter_modules__item--short edu-filter_modules__item--active\"><li data-course=\"4-й курс\" class=\"edu-filter_modules__item edu-filter_modules__item--short\"></ul></div><div class=\"edu-events_courses\"><div class=\"edu-events_title title large\"><a class=\"link link_dark\" href=\"https://www.hse.ru/ba/political/courses/452718728.html\">Project Proposal</a></div><div class=\"edu-program_status\">Обязательный</div><div class=\"edu-program_languges b-events__languges with-indent1\"><span class=\"b-program__lang edu-events__lang\">английский</span></div></div></div><div class=\"edu-events__item\" data-href=\"https://www.hse.ru/ba/political/courses/452724947.html\"><div class=\"edu-events_persons\"></div><div class=\"edu-events_modules\"><ul data-tooltip=\"3-й курс, 4 модуль\" class=\"edu-filter_modules__list ui-sortable\"><li data-course=\"3-й курс\" class=\"edu-filter_modules__item edu-filter_modules__item--short edu-filter_modules__item--begin\"><li data-course=\"3-й курс\" class=\"edu-filter_modules__item edu-filter_modules__item--short\"><li data-course=\"3-й курс\" class=\"edu-filter_modules__item edu-filter_modules__item--short\"><li data-course=\"3-й курс\" class=\"edu-filter_modules__item edu-filter_modules__item--short edu-filter_modules__item--active\"></ul></div><div class=\"edu-events_courses\"><div class=\"edu-events_title title large\"><a class=\"link link_dark\" href=\"https://www.hse.ru/ba/political/courses/452724947.html\">Интегрированные коммуникации</a></div><div class=\"edu-program_status\">Обязательный</div><div class=\"edu-program_languges b-events__languges with-indent1\"><span class=\"b-program__lang edu-events__lang\">русский</span></div></div></div><div class=\"edu-events__item\" data-href=\"https://www.hse.ru/ba/political/courses/452722954.html\"><div class=\"edu-events_persons\"><div class=\"edu-events_person\"><div class=\"g-pic edu-events_person__pic\" style=\"background-image: url(/org/persons/cimage/12701365);\"></div><div class=\"edu-events_person__name\"><a href=\"/staff/glukyanov\">Лукьянов Григорий Валерьевич</a></div></div></div><div class=\"edu-events_modules\"><ul data-tooltip=\"4-й курс, 3 модуль\" class=\"edu-filter_modules__list ui-sortable\"><li data-course=\"4-й курс\" class=\"edu-filter_modules__item edu-filter_modules__item--short edu-filter_modules__item--begin\"><li data-course=\"4-й курс\" class=\"edu-filter_modules__item edu-filter_modules__item--short\"><li data-course=\"4-й курс\" class=\"edu-filter_modules__item edu-filter_modules__item--short edu-filter_modules__item--active\"><li data-course=\"4-й курс\" class=\"edu-filter_modules__item edu-filter_modules__item--short\"></ul></div><div class=\"edu-events_courses\"><div class=\"edu-events_title title large\"><a class=\"link link_dark\" href=\"https://www.hse.ru/ba/political/courses/452722954.html\">Ислам и политика</a></div><div class=\"edu-program_status\">По выбору</div><div class=\"edu-program_languges b-events__languges with-indent1\"><span class=\"b-program__lang edu-events__lang\">русский</span></div></div></div><div class=\"edu-events__item\" data-href=\"https://www.hse.ru/ba/political/courses/470895492.html\"><div class=\"edu-events_persons\"><div class=\"edu-events_person\"><div class=\"g-pic edu-events_person__pic\" style=\"background-image: url(/org/persons/cimage/208484356);\"></div><div class=\"edu-events_person__name\"><a href=\"/staff/akayevs\">Акаев Санжар Азаматович</a></div></div><div class=\"edu-events_person\"><div class=\"g-pic edu-events_person__pic\" style=\"background-image: url(/org/persons/cimage/101522214);\"></div><div class=\"edu-events_person__name\"><a href=\"/org/persons/101522214\">Иншаков Илья Александрович</a></div></div><div class=\"edu-events_person\"><div class=\"g-pic edu-events_person__pic\" style=\"background-image: url(/org/persons/cimage/14276397);\"></div><div class=\"edu-events_person__name\"><a href=\"/org/persons/14276397\">Локшин Илья Михайлович</a></div></div><div class=\"edu-events_person\"><div class=\"g-pic edu-events_person__pic\" style=\"background-image: url(/org/persons/cimage/67275);\"></div><div class=\"edu-events_person__name\"><a href=\"/org/persons/67275\">Поляков Леонид Владимирович</a></div></div></div><div class=\"edu-events_modules\"><ul data-tooltip=\"1-й курс, 1-4 модуль\" class=\"edu-filter_modules__list ui-sortable\"><li data-course=\"1-й курс\" class=\"edu-filter_modules__item edu-filter_modules__item--short edu-filter_modules__item--active edu-filter_modules__item--begin\"><li data-course=\"1-й курс\" class=\"edu-filter_modules__item edu-filter_modules__item--short edu-filter_modules__item--active\"><li data-course=\"1-й курс\" class=\"edu-filter_modules__item edu-filter_modules__item--short edu-filter_modules__item--active\"><li data-course=\"1-й курс\" class=\"edu-filter_modules__item edu-filter_modules__item--short edu-filter_modules__item--active\"></ul></div><div class=\"edu-events_courses\"><div class=\"edu-events_title title large\"><a class=\"link link_dark\" href=\"https://www.hse.ru/ba/political/courses/470895492.html\">История политических учений</a></div><div class=\"edu-program_status\">Обязательный</div><div class=\"edu-program_languges b-events__languges with-indent1\"><span class=\"b-program__lang edu-events__lang\">русский</span></div></div></div><div class=\"edu-events__item\" data-href=\"https://www.hse.ru/ba/political/courses/470889172.html\"><div class=\"edu-events_persons\"><div class=\"edu-events_person\"><div class=\"g-pic edu-events_person__pic\" style=\"background-image: url(/org/persons/cimage/67220);\"></div><div class=\"edu-events_person__name\"><a href=\"/org/persons/67220\">Орлов Игорь Борисович</a></div></div></div><div class=\"edu-events_modules\"><ul data-tooltip=\"1-й курс, 1, 2 модуль\" class=\"edu-filter_modules__list ui-sortable\"><li data-course=\"1-й курс\" class=\"edu-filter_modules__item edu-filter_modules__item--short edu-filter_modules__item--active edu-filter_modules__item--begin\"><li data-course=\"1-й курс\" class=\"edu-filter_modules__item edu-filter_modules__item--short edu-filter_modules__item--active\"><li data-course=\"1-й курс\" class=\"edu-filter_modules__item edu-filter_modules__item--short\"><li data-course=\"1-й курс\" class=\"edu-filter_modules__item edu-filter_modules__item--short\"></ul></div><div class=\"edu-events_courses\"><div class=\"edu-events_title title large\"><a class=\"link link_dark\" href=\"https://www.hse.ru/ba/political/courses/470889172.html\">История России новейшего времени</a></div><div class=\"edu-program_status\">Обязательный</div><div class=\"edu-program_languges b-events__languges with-indent1\"><span class=\"b-program__lang edu-events__lang\">русский</span></div></div></div><div class=\"with-indent3\"><div class=\"pages\"><span class=\"pages__page pages__page_active\">1</span><a class=\"pages__page\" href=\"https://www.hse.ru/ba/political/courses/page2.html?year=2021\">2</a><a class=\"pages__page\" href=\"https://www.hse.ru/ba/political/courses/page3.html?year=2021\">3</a><a class=\"pages__page\" href=\"https://www.hse.ru/ba/political/courses/page4.html?year=2021\">4</a></div></div></div></div></div></div></div></div><div class=\"footer\"><div class=\"footer__inner row\"><div class=\"footer__border\"></div><div class=\"footer__breadcrumbs\"><a href=\"//www.hse.ru\" class=\"link no-visited\">Национальный исследовательский университет «Высшая школа экономики»</a> → <a href=\"https://www.hse.ru/education/bachelor/\" class=\"link no-visited\">Образовательные программы бакалавриата</a> → <a href=\"https://social.hse.ru/\" class=\"link no-visited\">Факультет социальных наук</a> → <a href=\"https://www.hse.ru/ba/political/\" class=\"link no-visited\">Образовательная программа «Политология»</a> → <span class=\"b\">Учебные курсы</span></div><div class=\"footer__navigation\"><ul class=\"navigation navigation_footer\"><li class=\"parent\"><a href=\"//www.hse.ru/org/hse/info/\" class=\"link link_dark title no-visited\">О Вышке</a>\\xa0\\n\\t\\t\\t\\t</li><li><a href=\"//www.hse.ru/figures/\" class=\"link no-visited\">Цифры и факты</a></li><li><a href=\"//www.hse.ru/orgstructure/\" class=\"link no-visited\">Руководство и структура</a></li><li><a href=\"//www.hse.ru/org/persons/\" class=\"link no-visited\">Преподаватели и сотрудники</a></li><li><a href=\"//www.hse.ru/buildinghse\" class=\"link no-visited\">Корпуса и общежития</a></li><li><a href=\"https://www.hse.ru/org/hse/aup/procurement/\" class=\"link no-visited\">Закупки</a></li><li><a href=\"//www.hse.ru/appeal/\" class=\"link no-visited\">Обращения граждан в НИУ ВШЭ</a></li><li><a href=\"//endowment.hse.ru/\" class=\"link no-visited\">Фонд целевого капитала</a></li><li><a href=\"https://www.hse.ru/anticorruption\" class=\"link no-visited\">Противодействие коррупции</a></li><li><a href=\"https://www.hse.ru/anticorruption/information\" class=\"link no-visited\">Сведения о доходах, расходах, об имуществе и обязательствах имущественного характера</a></li><li><a href=\"//www.hse.ru/sveden/\" class=\"link no-visited\">Сведения об образовательной организации</a></li><li><a href=\"https://inclusive.hse.ru/\" class=\"link no-visited\">Людям с ограниченными возможностями здоровья</a></li><li><a href=\"https://pay.hse.ru/\" class=\"link no-visited\">Единая платежная страница</a></li></ul><ul class=\"navigation navigation_footer\"><li class=\"parent\"><a href=\"//www.hse.ru/education/\" class=\"link link_dark title no-visited\">ОБРАЗОВАНИЕ</a>\\xa0\\n\\t\\t\\t\\t</li><li><a href=\"//school.hse.ru\" class=\"link no-visited\">Лицей</a></li><li><a href=\"https://fdp.hse.ru/\" class=\"link no-visited\">Довузовская подготовка</a></li><li><a href=\"//olymp.hse.ru/\" class=\"link no-visited\">Олимпиады</a></li><li><a href=\"//ba.hse.ru/\" class=\"link no-visited\">Прием в бакалавриат</a></li><li><a href=\"https://www.hse.ru/plus\" class=\"link no-visited\">Вышка+</a></li><li><a href=\"//ma.hse.ru/\" class=\"link no-visited\">Прием в магистратуру</a></li><li><a href=\"//aspirantura.hse.ru/\" class=\"link no-visited\">Аспирантура</a></li><li><a href=\"//busedu.hse.ru/\" class=\"link no-visited\">Дополнительное образование</a></li><li><a href=\"https://career.hse.ru/\" class=\"link no-visited\">Центр развития карьеры</a></li><li><a href=\"http://inc.hse.ru/\" class=\"link no-visited\">Бизнес-инкубатор ВШЭ</a></li></ul><ul class=\"navigation navigation_footer\"><li class=\"parent\"><a href=\"//www.hse.ru/science/\" class=\"link link_dark title no-visited\">НАУКА</a>\\xa0\\n\\t\\t\\t\\t</li><li><a href=\"//www.hse.ru/science/centers\" class=\"link no-visited\">Научные подразделения</a></li><li><a href=\"https://www.hse.ru/org/projects/\" class=\"link no-visited\">Исследовательские проекты</a></li><li><a href=\"//www.hse.ru/monitoring/\" class=\"link no-visited\">Мониторинги</a></li><li><a href=\"//www.hse.ru/science/disscoun/\" class=\"link no-visited\">Диссертационные советы</a></li><li><a href=\"https://aspirantura.hse.ru/defence/announcements/\" class=\"link no-visited\">Защиты диссертаций</a></li><li><a href=\"//academics.hse.ru/\" class=\"link no-visited\">Академическое развитие</a></li><li><a href=\"//www.hse.ru/science/hsegrants\" class=\"link no-visited\">Конкурсы и гранты</a></li><li><a href=\"https://iq.hse.ru/\" class=\"link no-visited\">Научно-образовательный портал IQ.hse.ru</a></li><li><a href=\"https://conf.hse.ru/2022\" class=\"link no-visited\">XXIII Ясинская (Апрельская) международная научная конференция</a></li></ul><ul class=\"navigation navigation_footer\"><li class=\"parent\"><a href=\"//publications.hse.ru\" class=\"link link_dark title no-visited\">Ресурсы</a>\\xa0\\n\\t\\t\\t\\t</li><li><a href=\"https://library.hse.ru/\" class=\"link no-visited\">Библиотека</a></li><li><a href=\"//id.hse.ru\" class=\"link no-visited\">Издательский дом ВШЭ</a></li><li><a href=\"//bookshop.hse.ru/\" class=\"link no-visited\">Книжный магазин «БукВышка»</a></li><li><a href=\"https://print.hse.ru/\" class=\"link no-visited\">Типография</a></li><li><a href=\"https://mc.hse.ru/\" class=\"link no-visited\">Медиацентр</a></li><li><a href=\"//www.hse.ru/science/journals\" class=\"link no-visited\">Журналы ВШЭ</a></li><li><a href=\"//publications.hse.ru\" class=\"link no-visited\">Публикации</a></li><li><a href=\"http://sophist.hse.ru/\" class=\"link no-visited\">Единый архив экономических и социологических данных</a></li></ul><ul class=\"navigation navigation_footer\"><li class=\"parent\">Полезные ссылки</li><li><a href=\"http://www.minobrnauki.gov.ru/\" class=\"link no-visited\" rel=\"nofollow\">Министерство науки и высшего образования РФ</a></li><li><a href=\"https://edu.gov.ru/\" class=\"link no-visited\" rel=\"nofollow\">Министерство просвещения РФ</a></li><li><a href=\"http://www.edu.ru\" class=\"link no-visited\" rel=\"nofollow\">Федеральный портал «Российское образование»</a></li><li><a href=\"https://elearning.hse.ru/mooc\" class=\"link no-visited\">Массовые открытые онлайн-курсы</a></li><li><a href=\"https://studyinrussia.ru/\" class=\"link no-visited\" rel=\"nofollow\">Study In Russia</a></li></ul></div><div class=\"footer__extra\"><div class=\"footer__extra-inner\"><div class=\"editor\"><!--noindex--><a class=\"link link_btm_editor\" href=\"\">Редактору</a><!--/noindex--></div></div></div><div class=\"footer__bottom\"><span class=\"grey\">© НИУ ВШЭ\\xa01993&ndash;2022</span>\\xa0\\n\\t\\t\\t\\t\\t<a href=\"https://www.hse.ru/contacts.html\">Адреса и контакты</a>\\xa0\\n\\t\\t\\t\\t<a href=\"https://www.hse.ru/copyright\">Условия использования материалов</a>\\xa0\\n\\t\\t\\t\\t<a href=\"https://www.hse.ru/data_protection_regulation\">Политика конфиденциальности</a>\\xa0\\n\\t\\t\\t\\t<a href=\"https://www.hse.ru/sitemap.html\">Карта сайта</a>\\xa0\\n\\t\\t\\t\\t</div></div></div></div><div class=\"popups\"></div></body></html>\\n'"
            ],
            "application/vnd.google.colaboratory.intrinsic+json": {
              "type": "string"
            }
          },
          "metadata": {},
          "execution_count": 3
        }
      ],
      "source": [
        "response.text"
      ]
    },
    {
      "cell_type": "markdown",
      "metadata": {
        "id": "zwOGMfOAL2Te"
      },
      "source": [
        "**Шаг 4.** Восстановите структуру html-кода, превратив его в прекрасный суп, и сохраните результат в переменную `soup`."
      ]
    },
    {
      "cell_type": "code",
      "execution_count": null,
      "metadata": {
        "colab": {
          "base_uri": "https://localhost:8080/"
        },
        "id": "BfeY5hEML2Tf",
        "outputId": "83018d5a-aed1-4930-db6c-0b693ed8c0f1"
      },
      "outputs": [
        {
          "output_type": "execute_result",
          "data": {
            "text/plain": [
              "<!DOCTYPE html>\n",
              "<!-- (c) Art. Lebedev Studio | http://www.artlebedev.com/ --><html lang=\"ru\" xmlns:perl=\"urn:perl\"><head><meta content=\"text/html; charset=utf-8\" http-equiv=\"Content-Type\"/><meta content=\"IE=Edge\" http-equiv=\"X-UA-Compatible\"/><meta content=\"#1658DA\" name=\"theme-color\"/><meta content=\"width=device-width, initial-scale=1\" name=\"viewport\"/><link href=\"/f/src/global/i/favicon/favicon_ios_180x180.png\" rel=\"apple-touch-icon\" sizes=\"180x180\"/><link href=\"/f/src/global/i/favicon/favicon_32x32.png\" rel=\"icon\" sizes=\"32x32\" type=\"image/png\"/><link href=\"/f/src/global/i/favicon/favicon_16x16.png\" rel=\"icon\" sizes=\"16x16\" type=\"image/png\"/><link color=\"#242f63\" href=\"/f/src/global/i/favicon/favicon.svg\" rel=\"mask-icon\"/><link href=\"/f/src/manifest/manifest_ru.json\" rel=\"manifest\"/><meta content=\"/f/src/global/i/favicon/browserconfig.xml\" name=\"msapplication-config\"/><link href=\"/favicon.ico\" rel=\"shortcut icon\" type=\"image/x-icon\"/><!--[if lt IE 10]><script src=\"/f/src/global/bower_components/es5-shim/es5-shim.min.js\"></script><![endif]--><link href=\"/f/src/global/css/main.css?v2\" media=\"all\" rel=\"stylesheet\"/><link href=\"/f/src/global/css/vision.css\" media=\"all\" rel=\"stylesheet\"/><link href=\"/f/src/global/css/sitemap.css\" media=\"all\" rel=\"stylesheet\"/><link href=\"/f/src/global/css/fotorama.css\" media=\"all\" rel=\"stylesheet\"/><link href=\"/f/src/global/css/owl.carousel2.min.css\" media=\"all\" rel=\"stylesheet\"/><link href=\"/f/src/edu_card/edu_card.css?v3\" media=\"all\" rel=\"stylesheet\"/><link href=\"/f/src/promo/gallery-promo.css\" media=\"all\" rel=\"stylesheet\"/><link href=\"/f/src/postupi/postupi.css\" media=\"all\" rel=\"stylesheet\"/><link href=\"/f/src/courses/courses.css\" media=\"all\" rel=\"stylesheet\"/><script src=\"//www.hse.ru/f/src/global/js/cache/jquery-1.12.4.min/jquery-ui/jquery.ui.touch-punch.min/hse.utils/errtrack/main/modernizr/popup/switcher/tag/fixes/email-obfuscator/jquery.cookie/vision/jquery.rwdImageMaps.min/sitemap.ajax/fotorama/slider/jquery.menu-aim/menu-aim-init/jquery.carouFredSel-6.2.1-packed/hs/mag/init-social-carousel/init-media-carousel/owl.carousel2.min/edu-card/edu_mobile/courses.js\"></script><script src=\"/f/src/global/js/gibs.js\"></script><link href=\"https://www.hse.ru/ba/political/courses\" rel=\"canonical\"/><link href=\"https://www.hse.ru/ba/political/courses/page2.html?year=2021\" rel=\"next\"/><link href=\"https://www.hse.ru/ba/political/courses/index.html\" rel=\"first\"/><link href=\"https://www.hse.ru/ba/political/courses/page4.html?year=2021\" rel=\"last\"/><script async=\"async\" src=\"https://www.hse.ru/f/src/global/js/job.js\"></script><title>Учебные курсы — Образовательная программа «Политология» — Национальный исследовательский университет «Высшая школа экономики»</title><script src=\"/f/gtm/ip\"></script><script>\n",
              "(function(w,d,s,l,i){w[l]=w[l]||[];w[l].push({'gtm.start':\n",
              "\tnew Date().getTime(),event:'gtm.js'});var f=d.getElementsByTagName(s)[0],\n",
              "\tj=d.createElement(s),dl=l!='dataLayer'?'&l='+l:'';j.async=true;j.src=\n",
              "\t'https://www.googletagmanager.com/gtm.js?id='+i+dl;f.parentNode.insertBefore(j,f);\n",
              "\t})(window,document,'script','dataLayer','GTM-P6DCQX');\n",
              "</script><meta content=\"Образовательная программа «Политология»\" property=\"og:title\"/><meta content=\"Образовательная программа «Политология»\" name=\"mrc__share_title\"/><meta content=\"Образовательная программа «Политология»\" itemprop=\"name\"/><meta content=\"summary\" name=\"twitter:card\"/><meta content=\"Образовательная программа «Политология»\" name=\"twitter:title\"/><meta content=\"Наряду с изучением специальных дисциплин — политического анализа, сравнительной политологии, политической теории — студенты получают знания в области экономики, социологии, права, иностранных языков\" property=\"og:description\"/><meta content=\"Наряду с изучением специальных дисциплин — политического анализа, сравнительной политологии, политической теории — студенты получают знания в области экономики, социологии, права, иностранных языков\" name=\"mrc__share_description\"/><meta content=\"Наряду с изучением специальных дисциплин — политического анализа, сравнительной политологии, политической теории — студенты получают знания в области экономики, социологии, права, иностранных языков\" itemprop=\"description\"/><meta content=\"Наряду с изучением специальных дисциплин — политического анализа, сравнительной политологии, политической теории — студенты получают знания в области экономики, социологии, права, иностранных языков\" name=\"twitter:description\"/><meta content=\"https://www.hse.ru/images/fb/hse_ru_thumb.jpg\" property=\"og:image\"/><meta content=\"https://www.hse.ru/images/fb/hse_ru_thumb.jpg\" itemprop=\"image\"/><link content=\"https://www.hse.ru/images/fb/hse_ru_thumb.jpg\" rel=\"image_src\"/><meta content=\"https://www.hse.ru/images/fb/hse_ru_thumb.jpg\" name=\"twitter:image\"/><meta content=\"https://www.hse.ru/ba/political/\" property=\"og:url\"/><meta content=\"website\" property=\"og:type\"/><meta content=\"https://www.hse.ru/ba/political/\" name=\"twitter:url\"/><link href=\"/f/src/projects/edu_card/mobile.css\" rel=\"stylesheet\"/><script>\n",
              "\t\t\t$(function() {\n",
              "\t\t\t\tif ($('.from-group').length > 0 ) {\n",
              "\t\t\t\t\t$('.from-group').carouFredSel({\n",
              "\t\t\t\t\t\tauto: false,\n",
              "\t\t\t\t\t\twidth: '99%',\n",
              "\t\t\t\t\t\theight: 'auto',\n",
              "\t\t\t\t\t\tscroll: 2,\n",
              "\t\t\t\t\t\talign: 'center',\n",
              "\t\t\t\t\t\titems: {\n",
              "\t\t\t\t \t\t\twidth: '200',\n",
              "\t\t\t\t\t\t\tvisible: {\n",
              "\t\t\t\t\t\t\t\tmin: 1,\n",
              "\t\t\t\t\t\t\t\tmax: 6\n",
              "\t\t\t\t\t\t\t}\n",
              "\t\t\t\t\t\t},\n",
              "\t\t\t\t\t\tnext: {\n",
              "\t\t\t\t\t\t\tbutton: function() { return $(this).parent().siblings(\".b-group-next\")},\n",
              "\t\t\t\t\t\t\tkey: 'right'\n",
              "\t\t\t\t\t\t},\n",
              "\t\t\t\t\t\tprev: {\n",
              "\t\t\t\t\t\t\tbutton: function() { return $(this).parent().siblings(\".b-group-prev\")},\n",
              "\t\t\t\t\t\t\tkey: 'left'\n",
              "\t\t\t\t\t\t}\n",
              "\t\t\t\t\t});\n",
              "\t\t\t\t}\n",
              "\t\t\t});\n",
              "\t\t</script></head><body data-lang=\"ru\" data-unit=\"122764651\"><div class=\"page\"><!--noindex--><div class=\"browser_outdate\" style=\"display:none;\">\n",
              "\t\t\t\tВ старых версиях браузеров сайт может отображаться некорректно. Для оптимальной работы с сайтом рекомендуем воспользоваться современным браузером.\n",
              "\t\t\t</div><div class=\"gdpr_bar\" style=\"display:none;\"><div class=\"gdpr_bar__inner\"><noindex>\n",
              "<p class=\"first_child last_child \">Мы используем файлы cookies для улучшения работы сайта НИУ ВШЭ и большего удобства его использования. Более подробную информацию об использовании файлов cookies можно найти <a class=\"link\" href=\"https://www.hse.ru/cookie.html\" target=\"_blank\" title=\"Пройти по ссылке\">здесь</a>, наши правила обработки персональных данных – <a class=\"link\" href=\"https://www.hse.ru/data_protection_regulation\" target=\"_blank\" title=\"Пройти по ссылке\">здесь</a>. Продолжая пользоваться сайтом, вы подтверждаете, что были проинформированы об использовании файлов cookies сайтом НИУ ВШЭ и согласны с нашими правилами обработки персональных данных. Вы можете отключить файлы cookies в настройках Вашего браузера.</p>\n",
              "</noindex><span class=\"gdpr_bar__close\">✖</span></div></div><!--/noindex--><div class=\"sv-control\"><div class=\"sv-control__block\"><ul class=\"sv-control__list sv-size\"><li class=\"sv-control__item sv-control__item--s_normal active\" data-type=\"size\" data-value=\"normal\">A</li><li class=\"sv-control__item sv-control__item--s_medium\" data-type=\"size\" data-value=\"medium\">A</li><li class=\"sv-control__item sv-control__item--s_large\" data-type=\"size\" data-value=\"large\">A</li></ul></div><div class=\"sv-control__block\"><ul class=\"sv-control__list sv-spacing\"><li class=\"active sv-control__item sv-control__item--ls_normal\" data-type=\"spacing\" data-value=\"normal\">АБВ</li><li class=\"sv-control__item sv-control__item--ls_medium\" data-type=\"spacing\" data-value=\"medium\">АБВ</li><li class=\"sv-control__item sv-control__item--ls_large\" data-type=\"spacing\" data-value=\"large\">АБВ</li></ul></div><div class=\"sv-control__block\"><ul class=\"sv-control__list sv-contrast\"><li class=\"sv-control__item sv-control__item---color1 active\" data-type=\"contrast\" data-value=\"normal\">А</li><li class=\"sv-control__item sv-control__item---color2\" data-type=\"contrast\" data-value=\"invert\">А</li><li class=\"sv-control__item sv-control__item---color3\" data-type=\"contrast\" data-value=\"blue\">А</li><li class=\"sv-control__item sv-control__item---color4\" data-type=\"contrast\" data-value=\"beige\">А</li><li class=\"sv-control__item sv-control__item---color5\" data-type=\"contrast\" data-value=\"brown\">А</li></ul></div><div class=\"sv-control__block\"><ul class=\"sv-control__list sv-image\"><li class=\"sv-control__item sv-control__item--image_on active\" data-type=\"image\" data-value=\"on\"></li><li class=\"sv-control__item sv-control__item--image_off\" data-type=\"image\" data-value=\"off\"></li></ul></div><div class=\"sv-control__block\"><div class=\"sv-off js-sv-off\">Обычная версия сайта</div></div></div><div class=\"fa-sidebar\"><div class=\"fa-sidebar__top fa-sidebar__top--overlay fa-sidebar__top--secondary\" style=\"background-image:url('/mirror/pubs/share/direct/354337528.jpg');\"><div class=\"fa-sidebar__controls is-mobile\"><ul class=\"control_lang2\"><li class=\"control_lang2_item first_child activated\"><span class=\"link link_no-visited link_no-underline\">RU</span></li><li class=\"control_lang2_item last_child\"><a class=\"link link_no-visited link_no-underline\" href=\"https://www.hse.ru/en/ba/political/courses/\">EN</a></li></ul><a class=\"control control_user control_white\" href=\"//www.hse.ru/user/\" title=\"Личный кабинет сотрудника ВШЭ\"><ins><svg class=\"control_svg\" height=\"18\" viewbox=\"0 0 17 18\" width=\"17\" xmlns=\"http://www.w3.org/2000/svg\"><path d=\"M13.702 13.175c.827.315 1.486.817 1.978 1.506.492.689.738 1.467.738 2.333h-16.419c0-1.417.532-2.5 1.595-3.248.394-.276 1.358-.591 2.894-.945.945-.118 1.457-.374 1.536-.768.039-.157.059-.61.059-1.358 0-.118-.039-.217-.118-.295-.157-.157-.315-.433-.472-.827-.079-.315-.157-.787-.236-1.417-.157.039-.285-.02-.384-.177-.098-.157-.177-.364-.236-.62l-.089-.443c-.157-.866-.098-1.28.177-1.24-.118-.157-.217-.532-.295-1.122-.118-.866-.059-1.634.177-2.303.276-.748.768-1.319 1.476-1.713.709-.394 1.476-.571 2.303-.532.787.039 1.506.276 2.156.709.65.433 1.093 1.024 1.329 1.772.197.551.217 1.319.059 2.303-.079.472-.157.768-.236.886.118-.039.207 0 .266.118.059.118.079.266.059.443l-.059.472c-.02.138-.049.246-.089.325l-.118.413c-.039.276-.108.472-.207.591-.098.118-.226.157-.384.118-.079.866-.217 1.476-.413 1.831 0 .039-.069.138-.207.295-.138.157-.207.256-.207.295v.65c0 .394.039.689.118.886.079.197.354.354.827.472.276.118.679.217 1.211.295.532.079.935.177 1.211.295z\" fill=\"#1658DA\"></path></svg></ins></a><span class=\"control control_search control_white js-search_mobile_control\"><ins><svg class=\"control_svg\" height=\"19\" viewbox=\"0 0 19 19\" width=\"19\" xmlns=\"http://www.w3.org/2000/svg\"><path d=\"M12.927 7.9c0-1.384-.492-2.568-1.476-3.552s-2.168-1.476-3.552-1.476-2.568.492-3.552 1.476-1.476 2.168-1.476 3.552.492 2.568 1.476 3.552 2.168 1.476 3.552 1.476 2.568-.492 3.552-1.476 1.476-2.168 1.476-3.552zm4.053 11.1l-4.603-4.592c-1.339.928-2.832 1.391-4.477 1.391-1.07 0-2.093-.208-3.069-.623-.976-.415-1.818-.976-2.525-1.683-.707-.707-1.268-1.549-1.683-2.525-.415-.976-.623-1.999-.623-3.069 0-1.07.208-2.093.623-3.069.415-.976.976-1.818 1.683-2.525.707-.707 1.549-1.268 2.525-1.683.976-.415 1.999-.623 3.069-.623 1.07 0 2.093.208 3.069.623.976.415 1.818.976 2.525 1.683.707.707 1.268 1.549 1.683 2.525.415.976.623 1.999.623 3.069 0 1.646-.464 3.138-1.391 4.477l4.603 4.603-2.031 2.02z\" fill=\"#1658DA\"></path></svg></ins></span><span class=\"control is-mobile control_menu control_menu--close js-control_menu_close\" onclick=\"void(0)\" style=\"cursor:pointer;\"><ins></ins></span></div><div class=\"js-search_mobile_popup not_display is-mobile\"><div class=\"search-form\"><form action=\"/search/search.html\"><div class=\"search-form__button\"><button class=\"button button--merged button_grey\">Найти</button></div><div class=\"search-form__input\"><input class=\"input fa-search_input input100 input_mr\" name=\"text\" placeholder=\"Поиск по сайту\" type=\"text\"/><input name=\"simple\" type=\"hidden\" value=\"1\"/></div></form></div><div class=\"popup__block\"><a class=\"link link_white no-visited\" href=\"//www.hse.ru/search/search.html?simple=0\">Расширенный поиск по сайту</a></div></div><div class=\"fa-sidebar__title_inner\"><a class=\"link_white link_no-underline no-visited\" href=\"https://www.hse.ru/ba/political\">Бакалаврская программа «Политология»</a></div></div><ul class=\"fa-sidemenu fa-sidemenu--primary\"><li class=\"fa-sidemenu__section\"><div class=\"fa-sidemenu__header\"><span>О программе</span></div><ul class=\"fa-sidemenu__sub\"><li class=\"fa-sidemenu__item\"><a class=\"link link_no-underline link_dark2 fa-sidemenu__link\" href=\"https://www.hse.ru/ba/political/about\">О программе</a></li><li class=\"fa-sidemenu__item\"><a class=\"link link_no-underline link_dark2 fa-sidemenu__link\" href=\"https://www.hse.ru/ba/political/partners\">Партнеры</a></li><li class=\"fa-sidemenu__item\"><a class=\"link link_no-underline link_dark2 fa-sidemenu__link\" href=\"https://www.hse.ru/ba/political/news/keywords/197252470/\">Достижения студентов</a></li><li class=\"fa-sidemenu__item\"><a class=\"link link_no-underline link_dark2 fa-sidemenu__link\" href=\"https://www.hse.ru/ba/political/alumni\">Выпускники</a></li><li class=\"fa-sidemenu__item\"><a class=\"link link_no-underline link_dark2 fa-sidemenu__link\" href=\"https://www.hse.ru/ba/political/projects\">Проектная и исследовательская работа</a></li><li class=\"fa-sidemenu__item\"><a class=\"link link_no-underline link_dark2 fa-sidemenu__link\" href=\"https://www.hse.ru/ba/political/seminar\">Научно-исследовательский семинар</a></li><li class=\"fa-sidemenu__item\"><a class=\"link link_no-underline link_dark2 fa-sidemenu__link\" href=\"https://www.hse.ru/ba/political/faq\">FAQ</a></li></ul></li><li class=\"fa-sidemenu__section\"><div class=\"fa-sidemenu__header\"><span>Абитуриентам</span></div><ul class=\"fa-sidemenu__sub\"><li class=\"fa-sidemenu__item\"><a class=\"link link_no-underline link_dark2 selected fa-sidemenu__link\" href=\"https://www.hse.ru/ba/political/admission/\">Паспорт программы</a></li><li class=\"fa-sidemenu__item\"><a class=\"link link_no-underline link_dark2 fa-sidemenu__link\" href=\"https://www.hse.ru/ba/political/career\">Будущая профессия</a></li><li class=\"fa-sidemenu__item\"><a class=\"link link_no-underline link_dark2 fa-sidemenu__link\" href=\"https://www.hse.ru/ba/political/tracks\">Траектории поступления</a></li><li class=\"fa-sidemenu__item\"><a class=\"link link_no-underline link_dark2 fa-sidemenu__link\" href=\"https://www.hse.ru/ba/political/requirements\">Подготовка</a></li><li class=\"fa-sidemenu__item\"><a class=\"link link_no-underline link_dark2 fa-sidemenu__link\" href=\"https://www.hse.ru/ba/political/alumni\">Выпускники о программе</a></li><li class=\"fa-sidemenu__item\"><a class=\"link link_no-underline link_dark2 fa-sidemenu__link\" href=\"https://fdp.hse.ru/ischool/\">Онлайн-подготовка</a></li><li class=\"fa-sidemenu__item\"><a class=\"link link_no-underline link_dark2 fa-sidemenu__link\" href=\"https://www.hse.ru/ba/political/consultations\">Консультации для абитуриентов</a></li></ul></li><li class=\"fa-sidemenu__section\"><div class=\"fa-sidemenu__header\"><span>Студентам</span></div><ul class=\"fa-sidemenu__sub\"><li class=\"fa-sidemenu__item\"><a class=\"link link_no-underline link_dark2 selected fa-sidemenu__link\" href=\"https://www.hse.ru/ba/political/students/\">Доска объявлений</a></li><li class=\"fa-sidemenu__item\"><a class=\"link link_no-underline link_dark2 fa-sidemenu__link\" href=\"https://www.hse.ru/ba/political/first-year\">Первокурсникам</a></li><li class=\"fa-sidemenu__item\"><span class=\"link link_no-underline link_dark2 fa-sidemenu__link fa-sidemenu__link--parent\">Расписание</span><i class=\"fa-sidemenu__arr\"></i><div class=\"fa-sidemenu__popup\"><div class=\"fa-sidemenu__sub\"><div class=\"fa-sidemenu__section\"><ul class=\"fa-sidemenu\"><li class=\"fa-sidemenu__item\"><a class=\"link link_no-underline link_dark2 fa-sidemenu__link\" href=\"https://www.hse.ru/ba/political/schedules\">Расписание (XLS)</a></li><li class=\"fa-sidemenu__item\"><a class=\"link link_no-underline link_dark2 fa-sidemenu__link\" href=\"https://www.hse.ru/ba/political/timetable\">Электронное расписание</a></li></ul></div></div></div></li><li class=\"fa-sidemenu__item\"><a class=\"link link_no-underline link_dark2 fa-sidemenu__link\" href=\"https://www.hse.ru/ba/political/ratings\">Рейтинги</a></li><li class=\"fa-sidemenu__item\"><a class=\"link link_no-underline link_dark2 fa-sidemenu__link fa-sidemenu__link--parent\" href=\"http://electives.hse.ru/\">Выбор траектории обучения</a><i class=\"fa-sidemenu__arr\"></i><div class=\"fa-sidemenu__popup\"><div class=\"fa-sidemenu__sub\"><div class=\"fa-sidemenu__section\"><ul class=\"fa-sidemenu\"><li class=\"fa-sidemenu__item\"><a class=\"link link_no-underline link_dark2 fa-sidemenu__link\" href=\"http://electives.hse.ru/\">Выбор траектории обучения</a></li><li class=\"fa-sidemenu__item\"><a class=\"link link_no-underline link_dark2 fa-sidemenu__link\" href=\"https://www.hse.ru/ba/political/distribution\">Правила распределения студентов по профилям</a></li></ul></div></div></div></li><li class=\"fa-sidemenu__item\"><a class=\"link link_no-underline link_dark2 fa-sidemenu__link\" href=\"https://www.hse.ru/ba/political/moocs\">Рекомендованные онлайн-курсы</a></li><li class=\"fa-sidemenu__item\"><a class=\"link link_no-underline link_dark2 fa-sidemenu__link\" href=\"https://www.hse.ru/ba/political/mobility\">Студенческая мобильность</a></li><li class=\"fa-sidemenu__item\"><a class=\"link link_no-underline link_dark2 fa-sidemenu__link\" href=\"https://www.hse.ru/ba/political/internships\">Практическая подготовка</a></li><li class=\"fa-sidemenu__item\"><a class=\"link link_no-underline link_dark2 fa-sidemenu__link\" href=\"https://www.hse.ru/ba/political/diplomas\">Каталог ВКР</a></li><li class=\"fa-sidemenu__item\"><a class=\"link link_no-underline link_dark2 fa-sidemenu__link\" href=\"https://www.hse.ru/ba/political/assessment\">Итоговая аттестация </a></li><li class=\"fa-sidemenu__item\"><a class=\"link link_no-underline link_dark2 fa-sidemenu__link\" href=\"https://www.hse.ru/ba/political/commition\">Аттестационная комиссия</a></li><li class=\"fa-sidemenu__item\"><a class=\"link link_no-underline link_dark2 fa-sidemenu__link\" href=\"https://www.hse.ru/ba/political/references\">Заказ справок и документов</a></li><li class=\"fa-sidemenu__item\"><a class=\"link link_no-underline link_dark2 fa-sidemenu__link\" href=\"https://www.hse.ru/hselang/\">Дополнительные иностранные языки</a></li><li class=\"fa-sidemenu__item\"><a class=\"link link_no-underline link_dark2 fa-sidemenu__link\" href=\"https://www.hse.ru/ba/political/perevod\">Перевод и восстановление</a></li><li class=\"fa-sidemenu__item\"><a class=\"link link_no-underline link_dark2 fa-sidemenu__link\" href=\"https://www.hse.ru/ba/political/application_form\">Шаблоны заявлений</a></li></ul></li><li class=\"fa-sidemenu__section fa-sidemenu__section--add js-sidemenu__section--add\"></li></ul></div><div class=\"header\" style=\"background-image:url('/mirror/pubs/share/direct/354337528.jpg');\"><div class=\"crop\"><div class=\"header-top header-top--stoped links-white\" style=\"background-image:url('/mirror/pubs/share/direct/354337528.jpg');\"><div class=\"left\"><span class=\"control control_sitemap\"><span class=\"control_sitemap__line\"></span></span><a class=\"control control_home_white\" href=\"//www.hse.ru/\"><ins><svg height=\"26\" viewbox=\"0 0 18 26\" width=\"18\" xmlns=\"http://www.w3.org/2000/svg\"><path d=\"M6.66 0l.134.002h1.336c2.639 0 3.745.464 4.994 1.428 1.819 1.424 2.105 3.492 2.105 4.525 0 1.283-.393 2.638-1.356 3.742-.714.856-1.955 2.097-4.388 2.388-1.663.2-2.891.127-3.506.061v-1.306c.273.038.676.074 1.222.074 1.656 0 2.829-.827 3.543-1.719.81-.983.98-1.909 1.015-2.737h-4.555v-1.282h4.515c-.116-.866-.448-1.528-.985-2.179-1.035-1.283-2.499-1.497-3.462-1.497l-6.505-.002-.768-1.498h6.66zm-6.317 26l.804-1.564v-21.844h3.55v21.82h2.508v-8.523h3.276v8.514h2.838v-3.878c0-2.351-.122-5.622-2.77-7.311l1.542-.566c3.194 1.186 4.791 4.283 4.791 8.362v3.428l.804 1.562h-17.344z\" fill=\"#1658DA\"></path></svg></ins></a></div><div class=\"right\"><div class=\"header__controls\"><ul class=\"control_lang2\"><li class=\"control_lang2_item first_child activated\"><span class=\"link link_no-visited link_no-underline\">RU</span></li><li class=\"control_lang2_item last_child\"><a class=\"link link_no-visited link_no-underline\" href=\"https://www.hse.ru/en/ba/political/courses/\">EN</a></li></ul><span class=\"control control_vision control_white\" title=\"Версия для слабовидящих\"><svg height=\"12\" viewbox=\"0 0 21 12\" width=\"21\" xmlns=\"http://www.w3.org/2000/svg\"><path d=\"M10.5 0c3.438 0 6.937 2.016 10.5 6.047-.844.844-1.383 1.375-1.617 1.594-.234.219-.805.703-1.711 1.453-.906.75-1.641 1.266-2.203 1.547-.563.281-1.305.578-2.227.891-.922.313-1.836.469-2.742.469-1.125 0-2.156-.141-3.094-.422-.938-.281-1.875-.766-2.813-1.453-.938-.688-1.672-1.273-2.203-1.758-.531-.484-1.328-1.273-2.391-2.367 2.031-2.031 3.836-3.539 5.414-4.523 1.578-.984 3.273-1.477 5.086-1.477zm0 10.266c1.156 0 2.148-.422 2.977-1.266.828-.844 1.242-1.844 1.242-3s-.414-2.156-1.242-3c-.828-.844-1.82-1.266-2.977-1.266-1.156 0-2.148.422-2.977 1.266-.828.844-1.242 1.844-1.242 3s.414 2.156 1.242 3c.828.844 1.82 1.266 2.977 1.266zm0-5.766c0 .438.141.797.422 1.078s.641.422 1.078.422c.313 0 .625-.109.938-.328v.328c0 .688-.234 1.273-.703 1.758-.469.484-1.047.727-1.734.727-.688 0-1.266-.242-1.734-.727-.469-.484-.703-1.07-.703-1.758s.234-1.273.703-1.758c.469-.484 1.047-.727 1.734-.727h.375c-.25.313-.375.641-.375.984z\" fill=\"#1658DA\"></path></svg></span><a class=\"control control_user control_white\" href=\"//www.hse.ru/user/\" title=\"Личный кабинет сотрудника ВШЭ\"><ins><svg class=\"control_svg\" height=\"18\" viewbox=\"0 0 17 18\" width=\"17\" xmlns=\"http://www.w3.org/2000/svg\"><path d=\"M13.702 13.175c.827.315 1.486.817 1.978 1.506.492.689.738 1.467.738 2.333h-16.419c0-1.417.532-2.5 1.595-3.248.394-.276 1.358-.591 2.894-.945.945-.118 1.457-.374 1.536-.768.039-.157.059-.61.059-1.358 0-.118-.039-.217-.118-.295-.157-.157-.315-.433-.472-.827-.079-.315-.157-.787-.236-1.417-.157.039-.285-.02-.384-.177-.098-.157-.177-.364-.236-.62l-.089-.443c-.157-.866-.098-1.28.177-1.24-.118-.157-.217-.532-.295-1.122-.118-.866-.059-1.634.177-2.303.276-.748.768-1.319 1.476-1.713.709-.394 1.476-.571 2.303-.532.787.039 1.506.276 2.156.709.65.433 1.093 1.024 1.329 1.772.197.551.217 1.319.059 2.303-.079.472-.157.768-.236.886.118-.039.207 0 .266.118.059.118.079.266.059.443l-.059.472c-.02.138-.049.246-.089.325l-.118.413c-.039.276-.108.472-.207.591-.098.118-.226.157-.384.118-.079.866-.217 1.476-.413 1.831 0 .039-.069.138-.207.295-.138.157-.207.256-.207.295v.65c0 .394.039.689.118.886.079.197.354.354.827.472.276.118.679.217 1.211.295.532.079.935.177 1.211.295z\" fill=\"#1658DA\"></path></svg></ins></a><span class=\"control control_search control_white\" title=\"Поиск\"><ins class=\"popup_opener\"><svg class=\"control_svg\" height=\"19\" viewbox=\"0 0 19 19\" width=\"19\" xmlns=\"http://www.w3.org/2000/svg\"><path d=\"M12.927 7.9c0-1.384-.492-2.568-1.476-3.552s-2.168-1.476-3.552-1.476-2.568.492-3.552 1.476-1.476 2.168-1.476 3.552.492 2.568 1.476 3.552 2.168 1.476 3.552 1.476 2.568-.492 3.552-1.476 1.476-2.168 1.476-3.552zm4.053 11.1l-4.603-4.592c-1.339.928-2.832 1.391-4.477 1.391-1.07 0-2.093-.208-3.069-.623-.976-.415-1.818-.976-2.525-1.683-.707-.707-1.268-1.549-1.683-2.525-.415-.976-.623-1.999-.623-3.069 0-1.07.208-2.093.623-3.069.415-.976.976-1.818 1.683-2.525.707-.707 1.549-1.268 2.525-1.683.976-.415 1.999-.623 3.069-.623 1.07 0 2.093.208 3.069.623.976.415 1.818.976 2.525 1.683.707.707 1.268 1.549 1.683 2.525.415.976.623 1.999.623 3.069 0 1.646-.464 3.138-1.391 4.477l4.603 4.603-2.031 2.02z\" fill=\"#1658DA\"></path></svg></ins><div class=\"popup popup_search not_display\"><div class=\"popup__inner\"><div class=\"search-form\"><form action=\"https://www.hse.ru/ba/political/search/search.html\"><div class=\"search-form__button\"><button class=\"button button_grey \">Найти</button></div><div class=\"search-form__input\"><input class=\"input input100 input_mr\" name=\"text\" placeholder=\"Поиск по сайту\" type=\"text\"/><input name=\"simple\" type=\"hidden\" value=\"1\"/><input name=\"searchid\" type=\"hidden\" value=\"2284688\"/></div></form></div><div class=\"popup__block popup__block_indent\"><a class=\"link link_dark no-visited\" href=\"//www.hse.ru/search/search.html?simple=0&amp;searchid=2284688\">Расширенный поиск по сайту</a><span class=\"b-adv-search\"></span></div></div></div></span><span class=\"control is-mobile control_menu js-control_menu_open\" onclick=\"void(0)\" style=\"cursor:pointer;\"><ins></ins><span class=\"control__text\">Меню</span></span></div></div><div class=\"header_body\"><div class=\"header_breadcrumb\"><div class=\"header_breadcrumb__inner is-mobile no_crumb_arrow\"><a class=\"link_white no-visited link\" href=\"https://www.hse.ru\">Высшая школа экономики</a></div><div class=\"header_breadcrumb__inner is-desktop no_crumb_arrow\"><ul class=\"header_breadcrumb__list\"><li class=\"header_breadcrumb__item\"><a class=\"link no-visited header_breadcrumb__link\" href=\"//www.hse.ru\"><span>Национальный исследовательский университет «Высшая школа экономики»</span></a></li><li class=\"header_breadcrumb__item\"><a class=\"link no-visited header_breadcrumb__link\" href=\"https://www.hse.ru/education/bachelor/\"><span>Образовательные программы бакалавриата</span></a></li><li class=\"header_breadcrumb__item\"><a class=\"link no-visited header_breadcrumb__link\" href=\"https://social.hse.ru/\"><span>Факультет социальных наук</span></a></li><li class=\"header_breadcrumb__item\"><a class=\"link no-visited header_breadcrumb__link\" href=\"https://www.hse.ru/ba/political/\"><span>Образовательная программа «Политология»</span></a></li><li class=\"header_breadcrumb__item\"><span><span class=\"breadcrumb_current\">Учебные курсы</span></span></li></ul></div></div></div></div><div class=\"header-board row\"><div class=\"extra-left\"><div class=\"g-day g-day_black g-day_right g-day_compact c is-desktop\"><div class=\"g-day_compact__inner\"><div class=\"g-day__month\">Март</div><div class=\"g-day__day\">26</div></div><div class=\"g-day__desc\"><a class=\"link link_dark\" href=\"https://www.hse.ru/ba/political/announcements/556995458.html\">День открытых дверей</a></div></div><div class=\"header-content\"><h2 class=\"h1\"><a class=\"link_white link_no-underline no-visited\" href=\"https://www.hse.ru/ba/political\">Бакалаврская программа «Политология»</a></h2><div class=\"menu edu-menu\"><ul class=\"navigation navigation_horizontal navigation_newl\"><li class=\"selected single\"><span class=\"icon icon-home\"><svg height=\"15\" viewbox=\"0 0 16 15\" width=\"16\" xmlns=\"http://www.w3.org/2000/svg\"><path d=\"M6.122 14.692h-3.75V7.346H0L7.958 0l7.959 7.346h-2.373v7.346h-3.75V9.795H6.123z\" fill=\"#000\" fill-rule=\"evenodd\"></path></svg></span></li><li class=\"\"><a class=\"link link_no-underline\" href=\"https://www.hse.ru/ba/political/about/\"><span class=\"link\">О программе</span></a><i class=\"nav-arr\"></i><ul class=\"navigation_newl-sub navigation_newl-sub_1 navigation_newl-select0\"><li class=\"single\"><a class=\"link link_no-underline\" href=\"https://www.hse.ru/ba/political/about\"><span class=\"link\">О программе</span></a></li><li class=\"single\"><a class=\"link link_no-underline\" href=\"https://www.hse.ru/ba/political/partners\"><span class=\"link\">Партнеры</span></a></li><li class=\"single\"><a class=\"link link_no-underline\" href=\"https://www.hse.ru/ba/political/news/keywords/197252470/\"><span class=\"link\">Достижения студентов</span></a></li><li class=\"single\"><a class=\"link link_no-underline\" href=\"https://www.hse.ru/ba/political/alumni\"><span class=\"link\">Выпускники</span></a></li><li class=\"single\"><a class=\"link link_no-underline\" href=\"https://www.hse.ru/ba/political/projects\"><span class=\"link\">Проектная и исследовательская работа</span></a></li><li class=\"single\"><a class=\"link link_no-underline\" href=\"https://www.hse.ru/ba/political/seminar\"><span class=\"link\">Научно-исследовательский семинар</span></a></li><li class=\"single\"><a class=\"link link_no-underline\" href=\"https://www.hse.ru/ba/political/faq\"><span class=\"link\">FAQ</span></a></li></ul></li><li class=\"\"><a class=\"link link_no-underline\" href=\"https://www.hse.ru/ba/political/admission/\"><span class=\"link\">Абитуриентам</span></a><i class=\"nav-arr\"></i><ul class=\"navigation_newl-sub navigation_newl-sub_1 navigation_newl-select0\"><li><a class=\"link\" href=\"https://www.hse.ru/ba/political/admission/\">Паспорт программы</a></li><li class=\"single\"><a class=\"link link_no-underline\" href=\"https://www.hse.ru/ba/political/career\"><span class=\"link\">Будущая профессия</span></a></li><li class=\"single\"><a class=\"link link_no-underline\" href=\"https://www.hse.ru/ba/political/tracks\"><span class=\"link\">Траектории поступления</span></a></li><li class=\"single\"><a class=\"link link_no-underline\" href=\"https://www.hse.ru/ba/political/requirements\"><span class=\"link\">Подготовка</span></a></li><li class=\"single\"><a class=\"link link_no-underline\" href=\"https://www.hse.ru/ba/political/alumni\"><span class=\"link\">Выпускники о программе</span></a></li><li class=\"single\"><a class=\"link link_no-underline\" href=\"https://fdp.hse.ru/ischool/\"><span class=\"link\">Онлайн-подготовка</span></a></li><li class=\"single\"><a class=\"link link_no-underline\" href=\"https://www.hse.ru/ba/political/consultations\"><span class=\"link\">Консультации для абитуриентов</span></a></li></ul></li><li class=\"\"><a class=\"link link_no-underline\" href=\"https://www.hse.ru/ba/political/students/\"><span class=\"link\">Студентам</span></a><i class=\"nav-arr\"></i><ul class=\"navigation_newl-sub navigation_newl-sub_1 navigation_newl-select0\"><li><a class=\"link\" href=\"https://www.hse.ru/ba/political/students/\">Доска объявлений</a></li><li class=\"single\"><a class=\"link link_no-underline\" href=\"https://www.hse.ru/ba/political/first-year\"><span class=\"link\">Первокурсникам</span></a></li><li class=\"\"><a class=\"link link_no-underline\" href=\"\"><span class=\"link pseudo_link sub_link\">Расписание</span></a><i class=\"nav-arr\"></i><ul class=\"navigation_newl-sub navigation_newl-sub_2 navigation_newl-select0\"><li class=\"single\"><a class=\"link link_no-underline\" href=\"https://www.hse.ru/ba/political/schedules\"><span class=\"link\">Расписание (XLS)</span></a></li><li class=\"single\"><a class=\"link link_no-underline\" href=\"https://www.hse.ru/ba/political/timetable\"><span class=\"link\">Электронное расписание</span></a></li></ul></li><li class=\"single\"><a class=\"link link_no-underline\" href=\"https://www.hse.ru/ba/political/ratings\"><span class=\"link\">Рейтинги</span></a></li><li class=\"\"><a class=\"link link_no-underline\" href=\"http://electives.hse.ru/\"><span class=\"link pseudo_link sub_link\">Выбор траектории обучения</span></a><i class=\"nav-arr\"></i><ul class=\"navigation_newl-sub navigation_newl-sub_2 navigation_newl-select0\"><li class=\"single\"><a class=\"link link_no-underline\" href=\"http://electives.hse.ru/\"><span class=\"link\">Выбор траектории обучения</span></a></li><li class=\"single\"><a class=\"link link_no-underline\" href=\"https://www.hse.ru/ba/political/distribution\"><span class=\"link\">Правила распределения студентов по профилям</span></a></li></ul></li><li class=\"single\"><a class=\"link link_no-underline\" href=\"https://www.hse.ru/ba/political/moocs\"><span class=\"link\">Рекомендованные онлайн-курсы</span></a></li><li class=\"single\"><a class=\"link link_no-underline\" href=\"https://www.hse.ru/ba/political/mobility\"><span class=\"link\">Студенческая мобильность</span></a></li><li class=\"single\"><a class=\"link link_no-underline\" href=\"https://www.hse.ru/ba/political/internships\"><span class=\"link\">Практическая подготовка</span></a></li><li class=\"single\"><a class=\"link link_no-underline\" href=\"https://www.hse.ru/ba/political/diplomas\"><span class=\"link\">Каталог ВКР</span></a></li><li class=\"single\"><a class=\"link link_no-underline\" href=\"https://www.hse.ru/ba/political/assessment\"><span class=\"link\">Итоговая аттестация </span></a></li><li class=\"single\"><a class=\"link link_no-underline\" href=\"https://www.hse.ru/ba/political/commition\"><span class=\"link\">Аттестационная комиссия</span></a></li><li class=\"single\"><a class=\"link link_no-underline\" href=\"https://www.hse.ru/ba/political/references\"><span class=\"link\">Заказ справок и документов</span></a></li><li class=\"single\"><a class=\"link link_no-underline\" href=\"https://www.hse.ru/hselang/\"><span class=\"link\">Дополнительные иностранные языки</span></a></li><li class=\"single\"><a class=\"link link_no-underline\" href=\"https://www.hse.ru/ba/political/perevod\"><span class=\"link\">Перевод и восстановление</span></a></li><li class=\"single\"><a class=\"link link_no-underline\" href=\"https://www.hse.ru/ba/political/application_form\"><span class=\"link\">Шаблоны заявлений</span></a></li></ul></li></ul></div></div></div></div></div></div><div class=\"g-day g-day--edu g-day_compact is-mobile c\"><div class=\"g-day\"><div class=\"g-day__inner\"><div class=\"g-day__day\">26</div><div class=\"g-day__month\">Март</div></div></div><div class=\"g-day__desc\"><a class=\"link link_dark\" href=\"https://www.hse.ru/ba/political/announcements/556995458.html\">День открытых дверей</a></div></div><div class=\"layout wide\"><div class=\"grid\"><div class=\"sidebar sidebar_clean education_sidebar\"><div class=\"sidebar__inner sidebar__normal\"><div class=\"b-program__side\"><ul class=\"navigation navigation_newl-side\"><li class=\"single b is-mobile\">Главная:</li><li class=\"single\"><a class=\"link link_no-underline\" href=\"https://www.hse.ru/ba/political/tracks\"><span class=\"link\">Траектории поступления</span></a></li> <li class=\"single\"><a class=\"link link_no-underline\" href=\"https://www.hse.ru/ba/political/partners\"><span class=\"link\">Партнеры</span></a></li> <li class=\"single\"><a class=\"link link_no-underline\" href=\"https://www.hse.ru/ba/political/news/keywords/197252470/\"><span class=\"link\">Достижения студентов</span></a></li> <li class=\"single\"><a class=\"link link_no-underline\" href=\"https://www.hse.ru/ba/political/alumni\"><span class=\"link\">Выпускники</span></a></li> </ul><div class=\"with-indent1 b-program__side-button b-program__buttons_ref\"><a class=\"button button_green button_large u-accent\" href=\"https://ba.hse.ru/\" style=\"border-radius: 6px;\">Приемная комиссия</a></div><div class=\"with-indent1 b-program__side-button b-program__buttons_ref\"><a class=\"button button_blue button_large u-accent\" href=\"https://admissions.hse.ru/undergraduate-apply\" style=\"border-radius: 6px;\">Для иностранных абитуриентов</a></div><div class=\"with-indent1 b-program__side-button b-program__download\"><a class=\"button button_clean button_large u-accent\" href=\"/data/2022/02/28/1453554789/01_HSE_Buklet_Bakalavr_A5_Political_Science_2022.pdf\" style=\"border-radius: 6px;\">Скачать буклет</a></div><div class=\"with-indent4\"><ul class=\"navigation icon_set1\"><li><a class=\"link icon_sprite3\" href=\"https://www.hse.ru/ba/political/courses\">Учебные курсы</a></li><li><a class=\"link icon_sprite5\" href=\"https://www.hse.ru/ba/political/tutors\">Преподаватели</a></li><li><a class=\"link icon_sprite1\" href=\"https://www.hse.ru/ba/political/vacant\">Число студентов и вакантные места</a></li><li><a class=\"link icon_sprite3\" href=\"https://www.hse.ru/ba/political/documents\">Документы образовательной программы</a></li><li><a class=\"link icon_sprite2\" href=\"https://www.hse.ru/ba/political/timetable\">Расписание</a></li><li><a class=\"link icon_sprite5\" href=\"https://www.hse.ru/ba/political/academ_council\">Академический совет</a></li></ul></div><div class=\"b-program__persons\"><div class=\"b-program__side-persons-group\"><div class=\"b-peoples__person\"><div class=\"g-pic g-pic_small\"><a class=\"link link_no-underline\" href=\"//www.hse.ru/org/persons/14276397\"><img src=\"https://www.hse.ru/org/persons/cimage/14276397\"/></a></div><div class=\"b-peoples__person-position\">Академический руководитель</div><div class=\"b\"><a class=\"link\" href=\"//www.hse.ru/org/persons/14276397\">Локшин Илья Михайлович</a></div><div class=\"b-peoples__person-about\"></div></div><div class=\"b-peoples__person\"><div class=\"g-pic g-pic_small\"><a class=\"link link_no-underline\" href=\"//www.hse.ru/org/persons/24835169\"><img src=\"https://www.hse.ru/org/persons/cimage/24835169\"/></a></div><div class=\"b-peoples__person-position\">Менеджер</div><div class=\"b\"><a class=\"link\" href=\"//www.hse.ru/org/persons/24835169\">Черемушкина Галина Андреевна</a></div><div class=\"b-peoples__person-about\"></div></div></div></div><div class=\"js-program__side-info-group\"><div class=\"b-program__side-info with-indent4\"><a href=\"http://www.hse.ru/ba/political/office/\">Учебный офис</a></div><div class=\"b-program__side-info with-indent4\"><div class=\"b-program__side-info\"><p style=\"font-family: Tahoma, Arial, sans-serif; font-size: small; line-height: normal;\"><span style=\"font-weight: 700;\">Контакты</span></p>\n",
              "<p>103070 <span class=\"with-icon with-icon_flag-msk\">Москва</span></p>\n",
              "<p>Телефон: 8(495) 772-95-90 * 22449<br/>\n",
              "Факс: 8(495) 772-95-90 * 22462</p>\n",
              "<p><span style=\"font-family: Tahoma, Arial, sans-serif; font-size: small; line-height: normal;\">E-mail: </span><br/>\n",
              "<a href=\"mailto:gcheremushkina@hse.ru\">gcheremushkina@hse.ru</a> </p>\n",
              "<p><br/>\n",
              "<strong><a href=\"https://social.hse.ru/studsovet/\">Студенческий совет факультета социальных наук</a></strong></p>\n",
              "<h6>Локальный омбудсмен</h6><div class=\"b-greetings__person small\">\n",
              "<div class=\"g-pic\"><img alt=\"\" src=\"https://social.hse.ru/mirror/pubs/share/thumb/341819860:c197x197+239+52:r78x78!?original=1\" style=\"width: 78px; height: 78px;\"/></div>\n",
              "</div>\n",
              "<p><a href=\"https://social.hse.ru/studsovet/ombudspersons#polit\">Федор Духновский</a></p>\n",
              "<h6>Международная аккредитация</h6><p><a class=\"link_no-underline\" href=\"https://www.hse.ru/ba/political/certification/#international\"><img alt=\"\" src=\"/mirror/pubs/share/226525465\" style=\"width: 150px; height: 160px;\"/></a></p>\n",
              "<p><strong>Международный рейтинг</strong></p>\n",
              "</div></div></div><div class=\"b-program__side-info with-indent4\"><div class=\"b-program__side-info\"><p><a class=\"link_no-underline\" href=\"https://www.topuniversities.com/university-rankings/university-subject-rankings/2021/politics\" rel=\"nofollow\" target=\"_blank\"><img alt=\"QS Rankings by subject, Politics &amp; International Studies\" src=\"/pubs/share/direct/450594005.png\" style=\"max-width: 100%;\" title=\"QS Rankings by subject, Politics &amp; International Studies\"/></a></p><p><a class=\"link_no-underline\" href=\"https://www.timeshighereducation.com/world-university-rankings/2021/subject-ranking/social-sciences\" rel=\"nofollow\" target=\"_blank\"><img alt=\"THE World University Rankings by subject/Social Sciences\" src=\"/pubs/share/direct/454914710.png\" style=\"max-width: 100%;\" title=\"THE World University Rankings by subject/Social Sciences\"/></a></p></div></div><div class=\"b-program__side-info with-indent4\"><a class=\"link link_no-underline button-aside\" href=\"https://lk.hse.ru/user-suggestions\" onclick=\"event.preventDefault(); $(this).next().slideDown();\"><img src=\"/f/src/global/i/btn-example.png\"/></a><ul class=\"g-ul g-list\" style=\"display: none;\"><li><a href=\"https://lk.hse.ru/user-suggestions\">Администрация</a></li><li><a href=\"https://www.hse.ru/expresspolls/poll/208020776.html\">Студсовет</a></li></ul><dl class=\"dl_closer\"><dt class=\"b\">Выразительная кнопка</dt><dd>для срочных сообщений</dd></dl></div><div class=\"b-side b-side_bt \"><div class=\"b-side__inner\"><ul class=\"first_child last_child navigation\"><li><a class=\"with-icon with-icon_vk-blue link\" href=\"https://vk.com/politicalhse\">Наша группа Вконтакте</a></li><li><a class=\"with-icon with-icon_tg-blue link\" href=\"https://t.me/politicalhse\">Наш канал в Телеграме</a></li></ul></div></div><div class=\"b-side b-side_bt \"><div class=\"b-side__inner\"><script async=\"async\" charset=\"utf-8\" src=\"//yastatic.net/share2/share.js\" type=\"text/javascript\"></script><div class=\"last_child ya-share2\" data-description=\"Наряду с изучением специальных дисциплин — политического анализа, сравнительной политологии, политической теории — студенты получают знания в области экономики, социологии, права, иностранных языков\" data-image=\"https://www.hse.ru/images/fb/hse_ru_thumb.jpg\" data-lang=\"ru\" data-limit=\"6\" data-services=\"facebook,vkontakte,twitter,telegram,whatsapp,viber\" data-title=\"Образовательная программа «Политология»\" data-url=\"https://www.hse.ru/ba/political/\"></div></div></div></div><div class=\"b-side b-side_notice\"><div class=\"b-side__inner\"><br/><!--noindex--><span class=\"with-icon with-icon_tick\"> </span><p class=\"last_child with-indent\">\n",
              "\t\t\t\tНашли <span class=\"wrong\">опечатку</span>?<br/>\n",
              "\t\t\t\tВыделите её, нажмите Ctrl+Enter и отправьте нам уведомление. Спасибо за участие!<br/>\n",
              "\t\t\t\tСервис предназначен только для отправки сообщений об орфографических и пунктуационных ошибках.\n",
              "\t\t\t</p><!--/noindex--><script type=\"text/javascript\">\n",
              "\t\t\t(function() {\n",
              "\t\t\t\tvar s = document.createElement('script'); s.type = 'text/javascript'; s.async = true;\n",
              "\t\t\t\ts.src = '/f/src/_/jquery.orfo.js';\n",
              "\t\t\t\ts.onload = s.onreadystatechange = function() {\n",
              "\t\t\t\t\tif ($.fn.hseOrfo) {\t// old IE...\n",
              "\t\t\t\t\t\t$(document).hseOrfo({\n",
              "\t\t\t\t\t\t\t'lang': 'ru'\n",
              "\t\t\t\t\t\t});\n",
              "\t\t\t\t\t}\n",
              "\t\t\t\t};\n",
              "\t\t\t\tvar t = document.getElementsByTagName('script')[0]; t.parentNode.insertBefore(s, t);\n",
              "\t\t\t})();\n",
              "\t\t</script></div></div></div></div><div class=\"main row\"><div class=\"content\"><div class=\"content__inner\"><h1>Учебные курсы 2021/2022 учебного года</h1><div class=\"edu-filter smaller with-indent4\"><div class=\"edu-events_stud_year__list small\"><div class=\"edu-events_stud_year__item\"><a class=\"link link_dark2\" href=\"https://www.hse.ru/ba/political/courses?page=1&amp;year=2015\">2015 – 2016</a></div><div class=\"edu-events_stud_year__item\"><a class=\"link link_dark2\" href=\"https://www.hse.ru/ba/political/courses?page=1&amp;year=2016\">2016 – 2017</a></div><div class=\"edu-events_stud_year__item\"><a class=\"link link_dark2\" href=\"https://www.hse.ru/ba/political/courses?page=1&amp;year=2017\">2017 – 2018</a></div><div class=\"edu-events_stud_year__item\"><a class=\"link link_dark2\" href=\"https://www.hse.ru/ba/political/courses?page=1&amp;year=2018\">2018 – 2019</a></div><div class=\"edu-events_stud_year__item\"><a class=\"link link_dark2\" href=\"https://www.hse.ru/ba/political/courses?page=1&amp;year=2019\">2019 – 2020</a></div><div class=\"edu-events_stud_year__item\"><a class=\"link link_dark2\" href=\"https://www.hse.ru/ba/political/courses?page=1&amp;year=2020\">2020 – 2021</a></div><div class=\"edu-events_stud_year__item edu-events_stud_year__item--active\">2021 – 2022</div><div class=\"edu-events_stud_year__item\"><a class=\"link link_dark2\" href=\"https://www.hse.ru/ba/political/courses?page=1&amp;year=2022\">2022 – 2023</a></div><div class=\"edu-events_stud_year__item\"><a class=\"link link_dark2\" href=\"https://www.hse.ru/ba/political/courses?page=1&amp;year=2023\">2023 – 2024</a></div></div><div class=\"edu-filter_modules\" data-modules=\"4\" data-years=\"4\"><ul class=\"edu-filter_modules__list js-filter_modules\"><li class=\"edu-filter_modules__start\"></li><li class=\"edu-filter_modules__item edu-filter_modules__item--begin\" data-course=\"1 курс\" data-course-num=\"1\" data-href=\"https://www.hse.ru/ba/political/courses?course=1&amp;page=1&amp;year=2021\" data-module=\"1\"></li><li class=\"edu-filter_modules__item\" data-course=\"1 курс\" data-course-num=\"1\" data-href=\"https://www.hse.ru/ba/political/courses?course=1&amp;page=1&amp;year=2021\" data-module=\"2\"></li><li class=\"edu-filter_modules__item\" data-course=\"1 курс\" data-course-num=\"1\" data-href=\"https://www.hse.ru/ba/political/courses?course=1&amp;page=1&amp;year=2021\" data-module=\"3\"></li><li class=\"edu-filter_modules__item\" data-course=\"1 курс\" data-course-num=\"1\" data-href=\"https://www.hse.ru/ba/political/courses?course=1&amp;page=1&amp;year=2021\" data-module=\"4\"></li><li class=\"edu-filter_modules__item edu-filter_modules__item--begin\" data-course=\"2 курс\" data-course-num=\"2\" data-href=\"https://www.hse.ru/ba/political/courses?course=2&amp;page=1&amp;year=2021\" data-module=\"1\"></li><li class=\"edu-filter_modules__item\" data-course=\"2 курс\" data-course-num=\"2\" data-href=\"https://www.hse.ru/ba/political/courses?course=2&amp;page=1&amp;year=2021\" data-module=\"2\"></li><li class=\"edu-filter_modules__item\" data-course=\"2 курс\" data-course-num=\"2\" data-href=\"https://www.hse.ru/ba/political/courses?course=2&amp;page=1&amp;year=2021\" data-module=\"3\"></li><li class=\"edu-filter_modules__item\" data-course=\"2 курс\" data-course-num=\"2\" data-href=\"https://www.hse.ru/ba/political/courses?course=2&amp;page=1&amp;year=2021\" data-module=\"4\"></li><li class=\"edu-filter_modules__item edu-filter_modules__item--begin\" data-course=\"3 курс\" data-course-num=\"3\" data-href=\"https://www.hse.ru/ba/political/courses?course=3&amp;page=1&amp;year=2021\" data-module=\"1\"></li><li class=\"edu-filter_modules__item\" data-course=\"3 курс\" data-course-num=\"3\" data-href=\"https://www.hse.ru/ba/political/courses?course=3&amp;page=1&amp;year=2021\" data-module=\"2\"></li><li class=\"edu-filter_modules__item\" data-course=\"3 курс\" data-course-num=\"3\" data-href=\"https://www.hse.ru/ba/political/courses?course=3&amp;page=1&amp;year=2021\" data-module=\"3\"></li><li class=\"edu-filter_modules__item\" data-course=\"3 курс\" data-course-num=\"3\" data-href=\"https://www.hse.ru/ba/political/courses?course=3&amp;page=1&amp;year=2021\" data-module=\"4\"></li><li class=\"edu-filter_modules__item edu-filter_modules__item--begin\" data-course=\"4 курс\" data-course-num=\"4\" data-href=\"https://www.hse.ru/ba/political/courses?course=4&amp;page=1&amp;year=2021\" data-module=\"1\"></li><li class=\"edu-filter_modules__item\" data-course=\"4 курс\" data-course-num=\"4\" data-href=\"https://www.hse.ru/ba/political/courses?course=4&amp;page=1&amp;year=2021\" data-module=\"2\"></li><li class=\"edu-filter_modules__item\" data-course=\"4 курс\" data-course-num=\"4\" data-href=\"https://www.hse.ru/ba/political/courses?course=4&amp;page=1&amp;year=2021\" data-module=\"3\"></li><li class=\"edu-filter_modules__item\" data-course=\"4 курс\" data-course-num=\"4\" data-href=\"https://www.hse.ru/ba/political/courses?course=4&amp;page=1&amp;year=2021\" data-module=\"4\"></li><li class=\"edu-filter_modules__end\"></li><li class=\"edu-filter_modules__item--tooltip\" style=\"left: 50%;\">1 курс 1 модуль - 5 курс 5 модуль</li></ul></div><div class=\"with-indent5\"><div class=\"edu-filter__title b large\">Язык</div><div class=\"edu-filter__list\"><div class=\"edu-filter__item\"><a class=\"link no-visited link_dotted link_dark2\" href=\"https://www.hse.ru/ba/political/courses?page=1&amp;lang=20591&amp;year=2021\">русский</a></div><div class=\"edu-filter__item\"><a class=\"link no-visited link_dotted link_dark2\" href=\"https://www.hse.ru/ba/political/courses?page=1&amp;lang=20592&amp;year=2021\">английский</a></div></div></div><div class=\"with-indent2\"><div class=\"edu-filter__title b large\">Статус</div><div class=\"edu-filter__list\"><div class=\"edu-filter__item\"><select onchange=\"coursesWait(); document.location.href=this.value;\"><option value=\"https://www.hse.ru/ba/political/courses?page=1&amp;year=2021\">Все статусы</option><option value=\"https://www.hse.ru/ba/political/courses?status=1&amp;page=1&amp;year=2021\">Курс обязательный</option><option value=\"https://www.hse.ru/ba/political/courses?status=2&amp;page=1&amp;year=2021\">Курс по выбору</option><option value=\"https://www.hse.ru/ba/political/courses?status=4&amp;page=1&amp;year=2021\">Факультатив</option><option value=\"https://www.hse.ru/ba/political/courses?status=8&amp;page=1&amp;year=2021\">Майнор</option></select></div></div></div><div class=\"with-indent2\"><div class=\"edu-filter__title b large\">Специализация</div><div class=\"edu-filter__list\"><div class=\"edu-filter__item\"><select onchange=\"coursesWait(); document.location.href=this.value;\"><option selected=\"\" value=\"https://www.hse.ru/ba/political/courses?page=1&amp;year=2021\">Все специализации</option><option value=\"https://www.hse.ru/ba/political/courses?page=1&amp;specialization=323980837&amp;year=2021\">Политическое управление</option><option value=\"https://www.hse.ru/ba/political/courses?page=1&amp;specialization=323980841&amp;year=2021\">Политический анализ</option></select></div></div></div><div class=\"b-input with-indent2\"><div class=\"edu-filter__title b large\"></div><div class=\"edu-filter__list\"><div class=\"edu-filter__item\"><form class=\"edu-filter_word\" data-href=\"https://www.hse.ru/ba/political/courses?page=1&amp;year=2021\" onsubmit=\"coursesWait(); window.location.href = 'https://www.hse.ru/ba/political/courses?page=1&amp;year=2021&amp;word=' +  encodeURIComponent(this.word.value); return false;\"><input class=\"input input_search edu-filter_search\" name=\"word\" onchange=\"$(this).parent().submit();\" placeholder=\"Название курса\" type=\"text\" value=\"\"/></form><div class=\"i-cancel js-cancel\" style=\"display:none\"></div></div></div></div></div><div class=\"edu-events\"><div class=\"edu-events__item--header edu-events__item\"><div class=\"edu-events_persons\">Преподаватели</div><div class=\"edu-events_modules\"> </div><div class=\"edu-events_courses\"><span class=\"edu-events_courses__caption\">Курсы:</span><span class=\"edu-events_courses__switch edu-events_courses__switch--selected\">По алфавиту</span><a class=\"edu-events_courses__switch no-visited\" href=\"https://www.hse.ru/ba/political/courses?sort=status\">По статусу</a></div></div><div class=\"edu-events__item\" data-href=\"https://www.hse.ru/ba/political/courses/395894430.html\"><div class=\"edu-events_persons\"><div class=\"edu-events_person\"><div class=\"g-pic edu-events_person__pic\" style=\"background-image: url(/org/persons/cimage/499836616);\"></div><div class=\"edu-events_person__name\"><span>Швед Александр Игоревич</span></div></div></div><div class=\"edu-events_modules\"><ul class=\"edu-filter_modules__list ui-sortable\" data-tooltip=\"2-й курс, 1 модуль\"><li class=\"edu-filter_modules__item edu-filter_modules__item--short edu-filter_modules__item--active edu-filter_modules__item--begin\" data-course=\"2-й курс\"></li><li class=\"edu-filter_modules__item edu-filter_modules__item--short\" data-course=\"2-й курс\"></li><li class=\"edu-filter_modules__item edu-filter_modules__item--short\" data-course=\"2-й курс\"></li><li class=\"edu-filter_modules__item edu-filter_modules__item--short\" data-course=\"2-й курс\"></li></ul></div><div class=\"edu-events_courses\"><div class=\"edu-events_title title large\"><a class=\"link link_dark\" href=\"https://www.hse.ru/ba/political/courses/395894430.html\">GR-практики в системе государственного управления</a></div><div class=\"edu-program_status\">Обязательный</div><div class=\"edu-program_languges b-events__languges with-indent1\"><span class=\"b-program__lang edu-events__lang\">русский</span></div></div></div><div class=\"edu-events__item\" data-href=\"https://www.hse.ru/ba/political/courses/339493143.html\"><div class=\"edu-events_persons\"><div class=\"edu-events_person\"><div class=\"g-pic edu-events_person__pic\" style=\"background-image: url(/org/persons/cimage/192181869);\"></div><div class=\"edu-events_person__name\"><a href=\"/org/persons/192181869\">Гагарина Людмила Александровна</a></div></div></div><div class=\"edu-events_modules\"><ul class=\"edu-filter_modules__list ui-sortable\" data-tooltip=\"4-й курс, 1-3 модуль\"><li class=\"edu-filter_modules__item edu-filter_modules__item--short edu-filter_modules__item--active edu-filter_modules__item--begin\" data-course=\"4-й курс\"></li><li class=\"edu-filter_modules__item edu-filter_modules__item--short edu-filter_modules__item--active\" data-course=\"4-й курс\"></li><li class=\"edu-filter_modules__item edu-filter_modules__item--short edu-filter_modules__item--active\" data-course=\"4-й курс\"></li><li class=\"edu-filter_modules__item edu-filter_modules__item--short\" data-course=\"4-й курс\"></li></ul></div><div class=\"edu-events_courses\"><div class=\"edu-events_title title large\"><a class=\"link link_dark\" href=\"https://www.hse.ru/ba/political/courses/339493143.html\">Академическое письмо на английском языке</a></div><div class=\"edu-program_status\">Факультатив</div><div class=\"edu-program_languges b-events__languges with-indent1\"><span class=\"b-program__lang edu-events__lang\">русский</span></div></div></div><div class=\"edu-events__item\" data-href=\"https://www.hse.ru/ba/political/courses/476629299.html\"><div class=\"edu-events_persons\"><div class=\"edu-events_person\"><div class=\"g-pic edu-events_person__pic\" style=\"background-image: url(/org/persons/cimage/223276994);\"></div><div class=\"edu-events_person__name\"><a href=\"/staff/rogovich\">Рогович Татьяна Владимировна</a></div></div></div><div class=\"edu-events_modules\"><ul class=\"edu-filter_modules__list ui-sortable\" data-tooltip=\"3-й курс, 3, 4 модуль\"><li class=\"edu-filter_modules__item edu-filter_modules__item--short edu-filter_modules__item--begin\" data-course=\"3-й курс\"></li><li class=\"edu-filter_modules__item edu-filter_modules__item--short\" data-course=\"3-й курс\"></li><li class=\"edu-filter_modules__item edu-filter_modules__item--short edu-filter_modules__item--active\" data-course=\"3-й курс\"></li><li class=\"edu-filter_modules__item edu-filter_modules__item--short edu-filter_modules__item--active\" data-course=\"3-й курс\"></li></ul></div><div class=\"edu-events_courses\"><div class=\"edu-events_title title large\"><a class=\"link link_dark\" href=\"https://www.hse.ru/ba/political/courses/476629299.html\">Анализ данных в Python</a></div><div class=\"edu-program_status\">По выбору</div><div class=\"edu-program_languges b-events__languges with-indent1\"><span class=\"b-program__lang edu-events__lang\">русский</span></div></div></div><div class=\"edu-events__item\" data-href=\"https://www.hse.ru/ba/political/courses/476613338.html\"><div class=\"edu-events_persons\"><div class=\"edu-events_person\"><div class=\"g-pic edu-events_person__pic\" style=\"background-image: url(/org/persons/cimage/14292437);\"></div><div class=\"edu-events_person__name\"><a href=\"/staff/salnikova\">Сальникова Дарья Вячеславовна</a></div></div></div><div class=\"edu-events_modules\"><ul class=\"edu-filter_modules__list ui-sortable\" data-tooltip=\"3-й курс, 3, 4 модуль\"><li class=\"edu-filter_modules__item edu-filter_modules__item--short edu-filter_modules__item--begin\" data-course=\"3-й курс\"></li><li class=\"edu-filter_modules__item edu-filter_modules__item--short\" data-course=\"3-й курс\"></li><li class=\"edu-filter_modules__item edu-filter_modules__item--short edu-filter_modules__item--active\" data-course=\"3-й курс\"></li><li class=\"edu-filter_modules__item edu-filter_modules__item--short edu-filter_modules__item--active\" data-course=\"3-й курс\"></li></ul></div><div class=\"edu-events_courses\"><div class=\"edu-events_title title large\"><a class=\"link link_dark\" href=\"https://www.hse.ru/ba/political/courses/476613338.html\">Анализ категориальных данных в статистических пакетах</a></div><div class=\"edu-program_status\">По выбору</div><div class=\"edu-program_languges b-events__languges with-indent1\"><span class=\"b-program__lang edu-events__lang\">русский</span></div></div></div><div class=\"edu-events__item\" data-href=\"https://www.hse.ru/ba/political/courses/470900387.html\"><div class=\"edu-events_persons\"></div><div class=\"edu-events_modules\"><ul class=\"edu-filter_modules__list ui-sortable\" data-tooltip=\"1-й курс, 1 модуль\"><li class=\"edu-filter_modules__item edu-filter_modules__item--short edu-filter_modules__item--active edu-filter_modules__item--begin\" data-course=\"1-й курс\"></li><li class=\"edu-filter_modules__item edu-filter_modules__item--short\" data-course=\"1-й курс\"></li><li class=\"edu-filter_modules__item edu-filter_modules__item--short\" data-course=\"1-й курс\"></li><li class=\"edu-filter_modules__item edu-filter_modules__item--short\" data-course=\"1-й курс\"></li></ul></div><div class=\"edu-events_courses\"><div class=\"edu-events_title title large\"><a class=\"link link_dark\" href=\"https://www.hse.ru/ba/political/courses/470900387.html\">Безопасность жизнедеятельности</a></div><div class=\"edu-program_status\">Обязательный</div><div class=\"edu-program_languges b-events__languges with-indent1\"><span class=\"b-program__lang edu-events__lang\">русский</span></div></div></div><div class=\"edu-events__item\" data-href=\"https://www.hse.ru/ba/political/courses/470909651.html\"><div class=\"edu-events_persons\"><div class=\"edu-events_person\"><div class=\"g-pic edu-events_person__pic\" style=\"background-image: url(/org/persons/cimage/14292437);\"></div><div class=\"edu-events_person__name\"><a href=\"/staff/salnikova\">Сальникова Дарья Вячеславовна</a></div></div><div class=\"edu-events_person\"><div class=\"g-pic edu-events_person__pic\" style=\"background-image: url(/org/persons/cimage/65853320);\"></div><div class=\"edu-events_person__name\"><a href=\"/staff/allat\">Тамбовцева Алла Андреевна</a></div></div></div><div class=\"edu-events_modules\"><ul class=\"edu-filter_modules__list ui-sortable\" data-tooltip=\"2-й курс, 4 модуль\"><li class=\"edu-filter_modules__item edu-filter_modules__item--short edu-filter_modules__item--begin\" data-course=\"2-й курс\"></li><li class=\"edu-filter_modules__item edu-filter_modules__item--short\" data-course=\"2-й курс\"></li><li class=\"edu-filter_modules__item edu-filter_modules__item--short\" data-course=\"2-й курс\"></li><li class=\"edu-filter_modules__item edu-filter_modules__item--short edu-filter_modules__item--active\" data-course=\"2-й курс\"></li></ul></div><div class=\"edu-events_courses\"><div class=\"edu-events_title title large\"><a class=\"link link_dark\" href=\"https://www.hse.ru/ba/political/courses/470909651.html\">Введение в многомерный статистический анализ</a></div><div class=\"edu-program_status\">Обязательный</div><div class=\"edu-program_languges b-events__languges with-indent1\"><span class=\"b-program__lang edu-events__lang\">русский</span></div></div></div><div class=\"edu-events__item\" data-href=\"https://www.hse.ru/ba/political/courses/470999603.html\"><div class=\"edu-events_persons\"><div class=\"edu-events_person\"><div class=\"g-pic edu-events_person__pic\" style=\"background-image: url(/org/persons/cimage/181051);\"></div><div class=\"edu-events_person__name\"><a href=\"/org/persons/181051\">Касамара Валерия Александровна</a></div></div><div class=\"edu-events_person\"><div class=\"g-pic edu-events_person__pic\" style=\"background-image: url(/org/persons/cimage/228658);\"></div><div class=\"edu-events_person__name\"><a href=\"/org/persons/228658\">Сорокина Анна Андреевна</a></div></div></div><div class=\"edu-events_modules\"><ul class=\"edu-filter_modules__list ui-sortable\" data-tooltip=\"1-й курс, 1 модуль\"><li class=\"edu-filter_modules__item edu-filter_modules__item--short edu-filter_modules__item--active edu-filter_modules__item--begin\" data-course=\"1-й курс\"></li><li class=\"edu-filter_modules__item edu-filter_modules__item--short\" data-course=\"1-й курс\"></li><li class=\"edu-filter_modules__item edu-filter_modules__item--short\" data-course=\"1-й курс\"></li><li class=\"edu-filter_modules__item edu-filter_modules__item--short\" data-course=\"1-й курс\"></li></ul></div><div class=\"edu-events_courses\"><div class=\"edu-events_title title large\"><a class=\"link link_dark\" href=\"https://www.hse.ru/ba/political/courses/470999603.html\">Введение в специальность</a></div><div class=\"edu-program_status\">Обязательный</div><div class=\"edu-program_languges b-events__languges with-indent1\"><span class=\"b-program__lang edu-events__lang\">русский</span></div></div></div><div class=\"edu-events__item\" data-href=\"https://www.hse.ru/ba/political/courses/470989869.html\"><div class=\"edu-events_persons\"><div class=\"edu-events_person\"><div class=\"g-pic edu-events_person__pic\" style=\"background-image: url(/org/persons/cimage/135897);\"></div><div class=\"edu-events_person__name\"><a href=\"/org/persons/135897\">Макаров Алексей Алексеевич</a></div></div><div class=\"edu-events_person\"><div class=\"g-pic edu-events_person__pic\" style=\"background-image: url(/org/persons/cimage/208520816);\"></div><div class=\"edu-events_person__name\"><a href=\"/staff/pvrevina\">Ревина Полина Владимировна</a></div></div><div class=\"edu-events_person\"><div class=\"g-pic edu-events_person__pic\" style=\"background-image: url(/org/persons/cimage/65853320);\"></div><div class=\"edu-events_person__name\"><a href=\"/staff/allat\">Тамбовцева Алла Андреевна</a></div></div></div><div class=\"edu-events_modules\"><ul class=\"edu-filter_modules__list ui-sortable\" data-tooltip=\"1-й курс, 3, 4 модуль\"><li class=\"edu-filter_modules__item edu-filter_modules__item--short edu-filter_modules__item--begin\" data-course=\"1-й курс\"></li><li class=\"edu-filter_modules__item edu-filter_modules__item--short\" data-course=\"1-й курс\"></li><li class=\"edu-filter_modules__item edu-filter_modules__item--short edu-filter_modules__item--active\" data-course=\"1-й курс\"></li><li class=\"edu-filter_modules__item edu-filter_modules__item--short edu-filter_modules__item--active\" data-course=\"1-й курс\"></li></ul></div><div class=\"edu-events_courses\"><div class=\"edu-events_title title large\"><a class=\"link link_dark\" href=\"https://www.hse.ru/ba/political/courses/470989869.html\">Введение в теорию вероятностей и математическую статистику</a></div><div class=\"edu-program_status\">Обязательный</div><div class=\"edu-program_languges b-events__languges with-indent1\"><span class=\"b-program__lang edu-events__lang\">русский</span></div></div></div><div class=\"edu-events__item\" data-href=\"https://www.hse.ru/ba/political/courses/470889625.html\"><div class=\"edu-events_persons\"></div><div class=\"edu-events_modules\"><ul class=\"edu-filter_modules__list ui-sortable\" data-tooltip=\"1-й курс, 4 модуль\"><li class=\"edu-filter_modules__item edu-filter_modules__item--short edu-filter_modules__item--begin\" data-course=\"1-й курс\"></li><li class=\"edu-filter_modules__item edu-filter_modules__item--short\" data-course=\"1-й курс\"></li><li class=\"edu-filter_modules__item edu-filter_modules__item--short\" data-course=\"1-й курс\"></li><li class=\"edu-filter_modules__item edu-filter_modules__item--short edu-filter_modules__item--active\" data-course=\"1-й курс\"></li></ul></div><div class=\"edu-events_courses\"><div class=\"edu-events_title title large\"><a class=\"link link_dark\" href=\"https://www.hse.ru/ba/political/courses/470889625.html\">English Language Integrative Exam</a></div><div class=\"edu-program_status\">Обязательный</div><div class=\"edu-program_languges b-events__languges with-indent1\"><span class=\"b-program__lang edu-events__lang\">английский</span></div></div></div><div class=\"edu-events__item\" data-href=\"https://www.hse.ru/ba/political/courses/470884821.html\"><div class=\"edu-events_persons\"><div class=\"edu-events_person\"><div class=\"g-pic edu-events_person__pic\" style=\"background-image: url(/org/persons/cimage/190918082);\"></div><div class=\"edu-events_person__name\"><a href=\"/staff/georgy_tarasenko\">Тарасенко Георгий Константинович</a></div></div><div class=\"edu-events_person\"><div class=\"g-pic edu-events_person__pic\" style=\"background-image: url(/org/persons/cimage/63890353);\"></div><div class=\"edu-events_person__name\"><a href=\"/org/persons/63890353\">Филимонов Дмитрий Андреевич</a></div></div></div><div class=\"edu-events_modules\"><ul class=\"edu-filter_modules__list ui-sortable\" data-tooltip=\"1-й курс, 1, 2 модуль\"><li class=\"edu-filter_modules__item edu-filter_modules__item--short edu-filter_modules__item--active edu-filter_modules__item--begin\" data-course=\"1-й курс\"></li><li class=\"edu-filter_modules__item edu-filter_modules__item--short edu-filter_modules__item--active\" data-course=\"1-й курс\"></li><li class=\"edu-filter_modules__item edu-filter_modules__item--short\" data-course=\"1-й курс\"></li><li class=\"edu-filter_modules__item edu-filter_modules__item--short\" data-course=\"1-й курс\"></li></ul></div><div class=\"edu-events_courses\"><div class=\"edu-events_title title large\"><a class=\"link link_dark\" href=\"https://www.hse.ru/ba/political/courses/470884821.html\">Высшая математика</a></div><div class=\"edu-program_status\">Обязательный</div><div class=\"edu-program_languges b-events__languges with-indent1\"><span class=\"b-program__lang edu-events__lang\">русский</span></div></div></div><div class=\"edu-events__item\" data-href=\"https://www.hse.ru/ba/political/courses/476609800.html\"><div class=\"edu-events_persons\"><div class=\"edu-events_person\"><div class=\"g-pic edu-events_person__pic\" style=\"background-image: url(/org/persons/cimage/94560807);\"></div><div class=\"edu-events_person__name\"><a href=\"/org/persons/94560807\">Уткина Валерия Владимировна</a></div></div></div><div class=\"edu-events_modules\"><ul class=\"edu-filter_modules__list ui-sortable\" data-tooltip=\"3-й курс, 4 модуль\"><li class=\"edu-filter_modules__item edu-filter_modules__item--short edu-filter_modules__item--begin\" data-course=\"3-й курс\"></li><li class=\"edu-filter_modules__item edu-filter_modules__item--short\" data-course=\"3-й курс\"></li><li class=\"edu-filter_modules__item edu-filter_modules__item--short\" data-course=\"3-й курс\"></li><li class=\"edu-filter_modules__item edu-filter_modules__item--short edu-filter_modules__item--active\" data-course=\"3-й курс\"></li></ul></div><div class=\"edu-events_courses\"><div class=\"edu-events_title title large\"><a class=\"link link_dark\" href=\"https://www.hse.ru/ba/political/courses/476609800.html\">Gender Studies</a></div><div class=\"edu-program_status\">По выбору</div><div class=\"edu-program_languges b-events__languges with-indent1\"><span class=\"b-program__lang edu-events__lang\">английский</span></div></div></div><div class=\"edu-events__item\" data-href=\"https://www.hse.ru/ba/political/courses/452720253.html\"><div class=\"edu-events_persons\"><div class=\"edu-events_person\"><div class=\"g-pic edu-events_person__pic\" style=\"background-image: url(/org/persons/cimage/14257165);\"></div><div class=\"edu-events_person__name\"><a href=\"/staff/agorodnichev\">Городничев Антон Валерьевич</a></div></div></div><div class=\"edu-events_modules\"><ul class=\"edu-filter_modules__list ui-sortable\" data-tooltip=\"4-й курс, 1 модуль\"><li class=\"edu-filter_modules__item edu-filter_modules__item--short edu-filter_modules__item--active edu-filter_modules__item--begin\" data-course=\"4-й курс\"></li><li class=\"edu-filter_modules__item edu-filter_modules__item--short\" data-course=\"4-й курс\"></li><li class=\"edu-filter_modules__item edu-filter_modules__item--short\" data-course=\"4-й курс\"></li><li class=\"edu-filter_modules__item edu-filter_modules__item--short\" data-course=\"4-й курс\"></li></ul></div><div class=\"edu-events_courses\"><div class=\"edu-events_title title large\"><a class=\"link link_dark\" href=\"https://www.hse.ru/ba/political/courses/452720253.html\">Городская политика</a></div><div class=\"edu-program_status\">По выбору</div><div class=\"edu-program_languges b-events__languges with-indent1\"><span class=\"b-program__lang edu-events__lang\">русский</span></div></div></div><div class=\"edu-events__item\" data-href=\"https://www.hse.ru/ba/political/courses/470905597.html\"><div class=\"edu-events_persons\"><div class=\"edu-events_person\"><div class=\"g-pic edu-events_person__pic\" style=\"background-image: url(/org/persons/cimage/13871059);\"></div><div class=\"edu-events_person__name\"><a href=\"/org/persons/13871059\">Максименкова Марина Сергеевна</a></div></div><div class=\"edu-events_person\"><div class=\"g-pic edu-events_person__pic\" style=\"background-image: url(/org/persons/cimage/67470);\"></div><div class=\"edu-events_person__name\"><a href=\"/staff/nisnevich\">Нисневич Юлий Анатольевич</a></div></div></div><div class=\"edu-events_modules\"><ul class=\"edu-filter_modules__list ui-sortable\" data-tooltip=\"2-й курс, 1, 2 модуль\"><li class=\"edu-filter_modules__item edu-filter_modules__item--short edu-filter_modules__item--active edu-filter_modules__item--begin\" data-course=\"2-й курс\"></li><li class=\"edu-filter_modules__item edu-filter_modules__item--short edu-filter_modules__item--active\" data-course=\"2-й курс\"></li><li class=\"edu-filter_modules__item edu-filter_modules__item--short\" data-course=\"2-й курс\"></li><li class=\"edu-filter_modules__item edu-filter_modules__item--short\" data-course=\"2-й курс\"></li></ul></div><div class=\"edu-events_courses\"><div class=\"edu-events_title title large\"><a class=\"link link_dark\" href=\"https://www.hse.ru/ba/political/courses/470905597.html\">Государственная власть в РФ</a></div><div class=\"edu-program_status\">Обязательный</div><div class=\"edu-program_languges b-events__languges with-indent1\"><span class=\"b-program__lang edu-events__lang\">русский</span></div></div></div><div class=\"edu-events__item\" data-href=\"https://www.hse.ru/ba/political/courses/395877737.html\"><div class=\"edu-events_persons\"></div><div class=\"edu-events_modules\"><ul class=\"edu-filter_modules__list ui-sortable\" data-tooltip=\"4-й курс, 1 модуль\"><li class=\"edu-filter_modules__item edu-filter_modules__item--short edu-filter_modules__item--active edu-filter_modules__item--begin\" data-course=\"4-й курс\"></li><li class=\"edu-filter_modules__item edu-filter_modules__item--short\" data-course=\"4-й курс\"></li><li class=\"edu-filter_modules__item edu-filter_modules__item--short\" data-course=\"4-й курс\"></li><li class=\"edu-filter_modules__item edu-filter_modules__item--short\" data-course=\"4-й курс\"></li></ul></div><div class=\"edu-events_courses\"><div class=\"edu-events_title title large\"><a class=\"link link_dark\" href=\"https://www.hse.ru/ba/political/courses/395877737.html\">Гражданское общество и НКО</a></div><div class=\"edu-program_status\">По выбору</div><div class=\"edu-program_languges b-events__languges with-indent1\"><span class=\"b-program__lang edu-events__lang\">русский</span></div></div></div><div class=\"edu-events__item\" data-href=\"https://www.hse.ru/ba/political/courses/470996268.html\"><div class=\"edu-events_persons\"></div><div class=\"edu-events_modules\"><ul class=\"edu-filter_modules__list ui-sortable\" data-tooltip=\"4-й курс, 4 модуль\"><li class=\"edu-filter_modules__item edu-filter_modules__item--short edu-filter_modules__item--begin\" data-course=\"4-й курс\"></li><li class=\"edu-filter_modules__item edu-filter_modules__item--short\" data-course=\"4-й курс\"></li><li class=\"edu-filter_modules__item edu-filter_modules__item--short\" data-course=\"4-й курс\"></li><li class=\"edu-filter_modules__item edu-filter_modules__item--short edu-filter_modules__item--active\" data-course=\"4-й курс\"></li></ul></div><div class=\"edu-events_courses\"><div class=\"edu-events_title title large\"><a class=\"link link_dark\" href=\"https://www.hse.ru/ba/political/courses/470996268.html\">Защита выпускной квалификационной работы</a></div><div class=\"edu-program_status\">Обязательный</div><div class=\"edu-program_languges b-events__languges with-indent1\"><span class=\"b-program__lang edu-events__lang\">русский</span></div></div></div><div class=\"edu-events__item\" data-href=\"https://www.hse.ru/ba/political/courses/452718728.html\"><div class=\"edu-events_persons\"></div><div class=\"edu-events_modules\"><ul class=\"edu-filter_modules__list ui-sortable\" data-tooltip=\"4-й курс, 3 модуль\"><li class=\"edu-filter_modules__item edu-filter_modules__item--short edu-filter_modules__item--begin\" data-course=\"4-й курс\"></li><li class=\"edu-filter_modules__item edu-filter_modules__item--short\" data-course=\"4-й курс\"></li><li class=\"edu-filter_modules__item edu-filter_modules__item--short edu-filter_modules__item--active\" data-course=\"4-й курс\"></li><li class=\"edu-filter_modules__item edu-filter_modules__item--short\" data-course=\"4-й курс\"></li></ul></div><div class=\"edu-events_courses\"><div class=\"edu-events_title title large\"><a class=\"link link_dark\" href=\"https://www.hse.ru/ba/political/courses/452718728.html\">Project Proposal</a></div><div class=\"edu-program_status\">Обязательный</div><div class=\"edu-program_languges b-events__languges with-indent1\"><span class=\"b-program__lang edu-events__lang\">английский</span></div></div></div><div class=\"edu-events__item\" data-href=\"https://www.hse.ru/ba/political/courses/452724947.html\"><div class=\"edu-events_persons\"></div><div class=\"edu-events_modules\"><ul class=\"edu-filter_modules__list ui-sortable\" data-tooltip=\"3-й курс, 4 модуль\"><li class=\"edu-filter_modules__item edu-filter_modules__item--short edu-filter_modules__item--begin\" data-course=\"3-й курс\"></li><li class=\"edu-filter_modules__item edu-filter_modules__item--short\" data-course=\"3-й курс\"></li><li class=\"edu-filter_modules__item edu-filter_modules__item--short\" data-course=\"3-й курс\"></li><li class=\"edu-filter_modules__item edu-filter_modules__item--short edu-filter_modules__item--active\" data-course=\"3-й курс\"></li></ul></div><div class=\"edu-events_courses\"><div class=\"edu-events_title title large\"><a class=\"link link_dark\" href=\"https://www.hse.ru/ba/political/courses/452724947.html\">Интегрированные коммуникации</a></div><div class=\"edu-program_status\">Обязательный</div><div class=\"edu-program_languges b-events__languges with-indent1\"><span class=\"b-program__lang edu-events__lang\">русский</span></div></div></div><div class=\"edu-events__item\" data-href=\"https://www.hse.ru/ba/political/courses/452722954.html\"><div class=\"edu-events_persons\"><div class=\"edu-events_person\"><div class=\"g-pic edu-events_person__pic\" style=\"background-image: url(/org/persons/cimage/12701365);\"></div><div class=\"edu-events_person__name\"><a href=\"/staff/glukyanov\">Лукьянов Григорий Валерьевич</a></div></div></div><div class=\"edu-events_modules\"><ul class=\"edu-filter_modules__list ui-sortable\" data-tooltip=\"4-й курс, 3 модуль\"><li class=\"edu-filter_modules__item edu-filter_modules__item--short edu-filter_modules__item--begin\" data-course=\"4-й курс\"></li><li class=\"edu-filter_modules__item edu-filter_modules__item--short\" data-course=\"4-й курс\"></li><li class=\"edu-filter_modules__item edu-filter_modules__item--short edu-filter_modules__item--active\" data-course=\"4-й курс\"></li><li class=\"edu-filter_modules__item edu-filter_modules__item--short\" data-course=\"4-й курс\"></li></ul></div><div class=\"edu-events_courses\"><div class=\"edu-events_title title large\"><a class=\"link link_dark\" href=\"https://www.hse.ru/ba/political/courses/452722954.html\">Ислам и политика</a></div><div class=\"edu-program_status\">По выбору</div><div class=\"edu-program_languges b-events__languges with-indent1\"><span class=\"b-program__lang edu-events__lang\">русский</span></div></div></div><div class=\"edu-events__item\" data-href=\"https://www.hse.ru/ba/political/courses/470895492.html\"><div class=\"edu-events_persons\"><div class=\"edu-events_person\"><div class=\"g-pic edu-events_person__pic\" style=\"background-image: url(/org/persons/cimage/208484356);\"></div><div class=\"edu-events_person__name\"><a href=\"/staff/akayevs\">Акаев Санжар Азаматович</a></div></div><div class=\"edu-events_person\"><div class=\"g-pic edu-events_person__pic\" style=\"background-image: url(/org/persons/cimage/101522214);\"></div><div class=\"edu-events_person__name\"><a href=\"/org/persons/101522214\">Иншаков Илья Александрович</a></div></div><div class=\"edu-events_person\"><div class=\"g-pic edu-events_person__pic\" style=\"background-image: url(/org/persons/cimage/14276397);\"></div><div class=\"edu-events_person__name\"><a href=\"/org/persons/14276397\">Локшин Илья Михайлович</a></div></div><div class=\"edu-events_person\"><div class=\"g-pic edu-events_person__pic\" style=\"background-image: url(/org/persons/cimage/67275);\"></div><div class=\"edu-events_person__name\"><a href=\"/org/persons/67275\">Поляков Леонид Владимирович</a></div></div></div><div class=\"edu-events_modules\"><ul class=\"edu-filter_modules__list ui-sortable\" data-tooltip=\"1-й курс, 1-4 модуль\"><li class=\"edu-filter_modules__item edu-filter_modules__item--short edu-filter_modules__item--active edu-filter_modules__item--begin\" data-course=\"1-й курс\"></li><li class=\"edu-filter_modules__item edu-filter_modules__item--short edu-filter_modules__item--active\" data-course=\"1-й курс\"></li><li class=\"edu-filter_modules__item edu-filter_modules__item--short edu-filter_modules__item--active\" data-course=\"1-й курс\"></li><li class=\"edu-filter_modules__item edu-filter_modules__item--short edu-filter_modules__item--active\" data-course=\"1-й курс\"></li></ul></div><div class=\"edu-events_courses\"><div class=\"edu-events_title title large\"><a class=\"link link_dark\" href=\"https://www.hse.ru/ba/political/courses/470895492.html\">История политических учений</a></div><div class=\"edu-program_status\">Обязательный</div><div class=\"edu-program_languges b-events__languges with-indent1\"><span class=\"b-program__lang edu-events__lang\">русский</span></div></div></div><div class=\"edu-events__item\" data-href=\"https://www.hse.ru/ba/political/courses/470889172.html\"><div class=\"edu-events_persons\"><div class=\"edu-events_person\"><div class=\"g-pic edu-events_person__pic\" style=\"background-image: url(/org/persons/cimage/67220);\"></div><div class=\"edu-events_person__name\"><a href=\"/org/persons/67220\">Орлов Игорь Борисович</a></div></div></div><div class=\"edu-events_modules\"><ul class=\"edu-filter_modules__list ui-sortable\" data-tooltip=\"1-й курс, 1, 2 модуль\"><li class=\"edu-filter_modules__item edu-filter_modules__item--short edu-filter_modules__item--active edu-filter_modules__item--begin\" data-course=\"1-й курс\"></li><li class=\"edu-filter_modules__item edu-filter_modules__item--short edu-filter_modules__item--active\" data-course=\"1-й курс\"></li><li class=\"edu-filter_modules__item edu-filter_modules__item--short\" data-course=\"1-й курс\"></li><li class=\"edu-filter_modules__item edu-filter_modules__item--short\" data-course=\"1-й курс\"></li></ul></div><div class=\"edu-events_courses\"><div class=\"edu-events_title title large\"><a class=\"link link_dark\" href=\"https://www.hse.ru/ba/political/courses/470889172.html\">История России новейшего времени</a></div><div class=\"edu-program_status\">Обязательный</div><div class=\"edu-program_languges b-events__languges with-indent1\"><span class=\"b-program__lang edu-events__lang\">русский</span></div></div></div><div class=\"with-indent3\"><div class=\"pages\"><span class=\"pages__page pages__page_active\">1</span><a class=\"pages__page\" href=\"https://www.hse.ru/ba/political/courses/page2.html?year=2021\">2</a><a class=\"pages__page\" href=\"https://www.hse.ru/ba/political/courses/page3.html?year=2021\">3</a><a class=\"pages__page\" href=\"https://www.hse.ru/ba/political/courses/page4.html?year=2021\">4</a></div></div></div></div></div></div></div></div><div class=\"footer\"><div class=\"footer__inner row\"><div class=\"footer__border\"></div><div class=\"footer__breadcrumbs\"><a class=\"link no-visited\" href=\"//www.hse.ru\">Национальный исследовательский университет «Высшая школа экономики»</a> → <a class=\"link no-visited\" href=\"https://www.hse.ru/education/bachelor/\">Образовательные программы бакалавриата</a> → <a class=\"link no-visited\" href=\"https://social.hse.ru/\">Факультет социальных наук</a> → <a class=\"link no-visited\" href=\"https://www.hse.ru/ba/political/\">Образовательная программа «Политология»</a> → <span class=\"b\">Учебные курсы</span></div><div class=\"footer__navigation\"><ul class=\"navigation navigation_footer\"><li class=\"parent\"><a class=\"link link_dark title no-visited\" href=\"//www.hse.ru/org/hse/info/\">О Вышке</a> \n",
              "\t\t\t\t</li><li><a class=\"link no-visited\" href=\"//www.hse.ru/figures/\">Цифры и факты</a></li><li><a class=\"link no-visited\" href=\"//www.hse.ru/orgstructure/\">Руководство и структура</a></li><li><a class=\"link no-visited\" href=\"//www.hse.ru/org/persons/\">Преподаватели и сотрудники</a></li><li><a class=\"link no-visited\" href=\"//www.hse.ru/buildinghse\">Корпуса и общежития</a></li><li><a class=\"link no-visited\" href=\"https://www.hse.ru/org/hse/aup/procurement/\">Закупки</a></li><li><a class=\"link no-visited\" href=\"//www.hse.ru/appeal/\">Обращения граждан в НИУ ВШЭ</a></li><li><a class=\"link no-visited\" href=\"//endowment.hse.ru/\">Фонд целевого капитала</a></li><li><a class=\"link no-visited\" href=\"https://www.hse.ru/anticorruption\">Противодействие коррупции</a></li><li><a class=\"link no-visited\" href=\"https://www.hse.ru/anticorruption/information\">Сведения о доходах, расходах, об имуществе и обязательствах имущественного характера</a></li><li><a class=\"link no-visited\" href=\"//www.hse.ru/sveden/\">Сведения об образовательной организации</a></li><li><a class=\"link no-visited\" href=\"https://inclusive.hse.ru/\">Людям с ограниченными возможностями здоровья</a></li><li><a class=\"link no-visited\" href=\"https://pay.hse.ru/\">Единая платежная страница</a></li></ul><ul class=\"navigation navigation_footer\"><li class=\"parent\"><a class=\"link link_dark title no-visited\" href=\"//www.hse.ru/education/\">ОБРАЗОВАНИЕ</a> \n",
              "\t\t\t\t</li><li><a class=\"link no-visited\" href=\"//school.hse.ru\">Лицей</a></li><li><a class=\"link no-visited\" href=\"https://fdp.hse.ru/\">Довузовская подготовка</a></li><li><a class=\"link no-visited\" href=\"//olymp.hse.ru/\">Олимпиады</a></li><li><a class=\"link no-visited\" href=\"//ba.hse.ru/\">Прием в бакалавриат</a></li><li><a class=\"link no-visited\" href=\"https://www.hse.ru/plus\">Вышка+</a></li><li><a class=\"link no-visited\" href=\"//ma.hse.ru/\">Прием в магистратуру</a></li><li><a class=\"link no-visited\" href=\"//aspirantura.hse.ru/\">Аспирантура</a></li><li><a class=\"link no-visited\" href=\"//busedu.hse.ru/\">Дополнительное образование</a></li><li><a class=\"link no-visited\" href=\"https://career.hse.ru/\">Центр развития карьеры</a></li><li><a class=\"link no-visited\" href=\"http://inc.hse.ru/\">Бизнес-инкубатор ВШЭ</a></li></ul><ul class=\"navigation navigation_footer\"><li class=\"parent\"><a class=\"link link_dark title no-visited\" href=\"//www.hse.ru/science/\">НАУКА</a> \n",
              "\t\t\t\t</li><li><a class=\"link no-visited\" href=\"//www.hse.ru/science/centers\">Научные подразделения</a></li><li><a class=\"link no-visited\" href=\"https://www.hse.ru/org/projects/\">Исследовательские проекты</a></li><li><a class=\"link no-visited\" href=\"//www.hse.ru/monitoring/\">Мониторинги</a></li><li><a class=\"link no-visited\" href=\"//www.hse.ru/science/disscoun/\">Диссертационные советы</a></li><li><a class=\"link no-visited\" href=\"https://aspirantura.hse.ru/defence/announcements/\">Защиты диссертаций</a></li><li><a class=\"link no-visited\" href=\"//academics.hse.ru/\">Академическое развитие</a></li><li><a class=\"link no-visited\" href=\"//www.hse.ru/science/hsegrants\">Конкурсы и гранты</a></li><li><a class=\"link no-visited\" href=\"https://iq.hse.ru/\">Научно-образовательный портал IQ.hse.ru</a></li><li><a class=\"link no-visited\" href=\"https://conf.hse.ru/2022\">XXIII Ясинская (Апрельская) международная научная конференция</a></li></ul><ul class=\"navigation navigation_footer\"><li class=\"parent\"><a class=\"link link_dark title no-visited\" href=\"//publications.hse.ru\">Ресурсы</a> \n",
              "\t\t\t\t</li><li><a class=\"link no-visited\" href=\"https://library.hse.ru/\">Библиотека</a></li><li><a class=\"link no-visited\" href=\"//id.hse.ru\">Издательский дом ВШЭ</a></li><li><a class=\"link no-visited\" href=\"//bookshop.hse.ru/\">Книжный магазин «БукВышка»</a></li><li><a class=\"link no-visited\" href=\"https://print.hse.ru/\">Типография</a></li><li><a class=\"link no-visited\" href=\"https://mc.hse.ru/\">Медиацентр</a></li><li><a class=\"link no-visited\" href=\"//www.hse.ru/science/journals\">Журналы ВШЭ</a></li><li><a class=\"link no-visited\" href=\"//publications.hse.ru\">Публикации</a></li><li><a class=\"link no-visited\" href=\"http://sophist.hse.ru/\">Единый архив экономических и социологических данных</a></li></ul><ul class=\"navigation navigation_footer\"><li class=\"parent\">Полезные ссылки</li><li><a class=\"link no-visited\" href=\"http://www.minobrnauki.gov.ru/\" rel=\"nofollow\">Министерство науки и высшего образования РФ</a></li><li><a class=\"link no-visited\" href=\"https://edu.gov.ru/\" rel=\"nofollow\">Министерство просвещения РФ</a></li><li><a class=\"link no-visited\" href=\"http://www.edu.ru\" rel=\"nofollow\">Федеральный портал «Российское образование»</a></li><li><a class=\"link no-visited\" href=\"https://elearning.hse.ru/mooc\">Массовые открытые онлайн-курсы</a></li><li><a class=\"link no-visited\" href=\"https://studyinrussia.ru/\" rel=\"nofollow\">Study In Russia</a></li></ul></div><div class=\"footer__extra\"><div class=\"footer__extra-inner\"><div class=\"editor\"><!--noindex--><a class=\"link link_btm_editor\" href=\"\">Редактору</a><!--/noindex--></div></div></div><div class=\"footer__bottom\"><span class=\"grey\">© НИУ ВШЭ 1993–2022</span> \n",
              "\t\t\t\t\t<a href=\"https://www.hse.ru/contacts.html\">Адреса и контакты</a> \n",
              "\t\t\t\t<a href=\"https://www.hse.ru/copyright\">Условия использования материалов</a> \n",
              "\t\t\t\t<a href=\"https://www.hse.ru/data_protection_regulation\">Политика конфиденциальности</a> \n",
              "\t\t\t\t<a href=\"https://www.hse.ru/sitemap.html\">Карта сайта</a> \n",
              "\t\t\t\t</div></div></div></div><div class=\"popups\"></div></body></html>"
            ]
          },
          "metadata": {},
          "execution_count": 4
        }
      ],
      "source": [
        "soup = BeautifulSoup(response.text)\n",
        "soup"
      ]
    },
    {
      "cell_type": "markdown",
      "metadata": {
        "id": "00ND0sJiL2Tg"
      },
      "source": [
        "**Шаг 5.** Сначала поработайте с первым курсом на этой странице. С помощью браузера определите тег, в котором содержится вся нужная информация об этом курсе. Тег должен быть универсальным в том плане, что такие же теги будут агрегировать информацию и по следующим курсам. Затем найдите этот тег в супе и сохраните его в переменную `data_per_course`.  \n",
        "\n",
        "Обратите внимание, что методы `.find()` и `.find_all()` ищут нестрогие совпадения атрибутов тегов. Это означает, что если, например, у вас на странице есть теги `div` с атрибутами `class`, равными `edu-events__item` и `edu-events__item--header edu-events__item`, а вы ищете тег `div` с классом `edu-events__item`, то будут найдены оба тега."
      ]
    },
    {
      "cell_type": "code",
      "execution_count": null,
      "metadata": {
        "colab": {
          "base_uri": "https://localhost:8080/"
        },
        "id": "-dimoz_CL2Th",
        "outputId": "1128296f-06af-43b2-c931-63c7c380da71"
      },
      "outputs": [
        {
          "output_type": "execute_result",
          "data": {
            "text/plain": [
              "<div class=\"edu-events__item\" data-href=\"https://www.hse.ru/ba/political/courses/395894430.html\"><div class=\"edu-events_persons\"><div class=\"edu-events_person\"><div class=\"g-pic edu-events_person__pic\" style=\"background-image: url(/org/persons/cimage/499836616);\"></div><div class=\"edu-events_person__name\"><span>Швед Александр Игоревич</span></div></div></div><div class=\"edu-events_modules\"><ul class=\"edu-filter_modules__list ui-sortable\" data-tooltip=\"2-й курс, 1 модуль\"><li class=\"edu-filter_modules__item edu-filter_modules__item--short edu-filter_modules__item--active edu-filter_modules__item--begin\" data-course=\"2-й курс\"></li><li class=\"edu-filter_modules__item edu-filter_modules__item--short\" data-course=\"2-й курс\"></li><li class=\"edu-filter_modules__item edu-filter_modules__item--short\" data-course=\"2-й курс\"></li><li class=\"edu-filter_modules__item edu-filter_modules__item--short\" data-course=\"2-й курс\"></li></ul></div><div class=\"edu-events_courses\"><div class=\"edu-events_title title large\"><a class=\"link link_dark\" href=\"https://www.hse.ru/ba/political/courses/395894430.html\">GR-практики в системе государственного управления</a></div><div class=\"edu-program_status\">Обязательный</div><div class=\"edu-program_languges b-events__languges with-indent1\"><span class=\"b-program__lang edu-events__lang\">русский</span></div></div></div>"
            ]
          },
          "metadata": {},
          "execution_count": 5
        }
      ],
      "source": [
        "data_per_course = soup.find_all('div', {'class': 'edu-events__item'})[1]\n",
        "data_per_course"
      ]
    },
    {
      "cell_type": "markdown",
      "metadata": {
        "id": "ypLZtPY1L2Th"
      },
      "source": [
        "**Шаг 6.** Из найденного тега извлеките название курса и сохраните в переменную `title`."
      ]
    },
    {
      "cell_type": "code",
      "execution_count": null,
      "metadata": {
        "colab": {
          "base_uri": "https://localhost:8080/",
          "height": 35
        },
        "id": "bitUb3YlL2Ti",
        "outputId": "9488de98-5655-4213-c9c6-045f60296176"
      },
      "outputs": [
        {
          "output_type": "execute_result",
          "data": {
            "text/plain": [
              "'GR-практики в системе государственного управления'"
            ],
            "application/vnd.google.colaboratory.intrinsic+json": {
              "type": "string"
            }
          },
          "metadata": {},
          "execution_count": 6
        }
      ],
      "source": [
        "title = data_per_course.find('div', {'class' : \"edu-events_title title large\"}).get_text().strip()\n",
        "title"
      ]
    },
    {
      "cell_type": "markdown",
      "metadata": {
        "id": "fM3bbdJlL2Ti"
      },
      "source": [
        "**Шаг 7.** Из найденного тега извлеките ссылку на курс и сохраните в переменную `link`."
      ]
    },
    {
      "cell_type": "code",
      "execution_count": null,
      "metadata": {
        "colab": {
          "base_uri": "https://localhost:8080/",
          "height": 35
        },
        "id": "Gtp_LCoKL2Ti",
        "outputId": "8e278745-0dbc-4d6f-8f43-4cedf77d0d7f"
      },
      "outputs": [
        {
          "output_type": "execute_result",
          "data": {
            "text/plain": [
              "'https://www.hse.ru/ba/political/courses/395894430.html'"
            ],
            "application/vnd.google.colaboratory.intrinsic+json": {
              "type": "string"
            }
          },
          "metadata": {},
          "execution_count": 7
        }
      ],
      "source": [
        "link = data_per_course.find('div', {'class' : \"edu-events_title title large\"}).find(\"a\").get('href')\n",
        "link"
      ]
    },
    {
      "cell_type": "markdown",
      "metadata": {
        "id": "gZ51R5ixL2Tj"
      },
      "source": [
        "**Шаг 8.** Из найденного тега извлеките статус курса и сохраните в переменную `status`."
      ]
    },
    {
      "cell_type": "code",
      "execution_count": null,
      "metadata": {
        "colab": {
          "base_uri": "https://localhost:8080/",
          "height": 35
        },
        "id": "1w-i5h7jL2Tj",
        "outputId": "c0199c84-d19b-4a81-9d28-2f7c74fc614f"
      },
      "outputs": [
        {
          "output_type": "execute_result",
          "data": {
            "text/plain": [
              "'Обязательный'"
            ],
            "application/vnd.google.colaboratory.intrinsic+json": {
              "type": "string"
            }
          },
          "metadata": {},
          "execution_count": 8
        }
      ],
      "source": [
        "status = data_per_course.find('div', {'class' : \"edu-program_status\"}).get_text().strip()\n",
        "status"
      ]
    },
    {
      "cell_type": "markdown",
      "metadata": {
        "id": "C2oOE5X8L2Tj"
      },
      "source": [
        "**Шаг 9.** Из найденного тега ивлеките язык курса и сохраните в переменную `language`."
      ]
    },
    {
      "cell_type": "code",
      "execution_count": null,
      "metadata": {
        "colab": {
          "base_uri": "https://localhost:8080/",
          "height": 35
        },
        "id": "4mJFhPyDL2Tj",
        "outputId": "e5844736-a07c-417d-af7f-f20fea639291"
      },
      "outputs": [
        {
          "output_type": "execute_result",
          "data": {
            "text/plain": [
              "'русский'"
            ],
            "application/vnd.google.colaboratory.intrinsic+json": {
              "type": "string"
            }
          },
          "metadata": {},
          "execution_count": 9
        }
      ],
      "source": [
        "language = data_per_course.find('div', {'class' : \"edu-program_languges b-events__languges with-indent1\"}).get_text().strip()\n",
        "language"
      ]
    },
    {
      "cell_type": "markdown",
      "metadata": {
        "id": "jRP1GTvzL2Tk"
      },
      "source": [
        "**Шаг 9.** Из найденного тега ивлеките время проведения курса и сохраните в переменную `modules`. Обратите внимание, что нужная информация в теге представлена не как текст, а как значение одного из атрибутов, то есть нужно использовать не `.get_text()`, а `.get(...)`."
      ]
    },
    {
      "cell_type": "code",
      "execution_count": null,
      "metadata": {
        "colab": {
          "base_uri": "https://localhost:8080/",
          "height": 35
        },
        "id": "67Uu1V7WL2Tl",
        "outputId": "862d5888-4293-4600-fada-ca57f475f5e0"
      },
      "outputs": [
        {
          "output_type": "execute_result",
          "data": {
            "text/plain": [
              "'2-й курс, 1 модуль'"
            ],
            "application/vnd.google.colaboratory.intrinsic+json": {
              "type": "string"
            }
          },
          "metadata": {},
          "execution_count": 10
        }
      ],
      "source": [
        "modules = data_per_course.find('ul', {'class' : \"edu-filter_modules__list ui-sortable\"}).get('data-tooltip')\n",
        "modules"
      ]
    },
    {
      "cell_type": "markdown",
      "metadata": {
        "id": "uVYqRjcnL2Tm"
      },
      "source": [
        "**Шаг 10.** Поместите найденные данные по этому курсу в список, назвав его `list_per_course`. Это будет одна строчка будущего датафрейма."
      ]
    },
    {
      "cell_type": "code",
      "execution_count": null,
      "metadata": {
        "colab": {
          "base_uri": "https://localhost:8080/"
        },
        "id": "0mlmTpOlL2Tm",
        "outputId": "e2332fc0-6d65-4425-dcdc-2ab16e125d16"
      },
      "outputs": [
        {
          "output_type": "execute_result",
          "data": {
            "text/plain": [
              "['GR-практики в системе государственного управления',\n",
              " 'https://www.hse.ru/ba/political/courses/395894430.html',\n",
              " 'Обязательный',\n",
              " '2-й курс, 1 модуль',\n",
              " 'русский']"
            ]
          },
          "metadata": {},
          "execution_count": 11
        }
      ],
      "source": [
        "list_per_course = [title, link, status, modules, language]\n",
        "list_per_course"
      ]
    },
    {
      "cell_type": "markdown",
      "metadata": {
        "id": "NArD1HJDL2Tn"
      },
      "source": [
        "**Шаг 11.** Напишите цикл, который пройдётся по всем курсам с этой страницы и соберёт данные обо всех курсах на ней в список списков.  \n",
        "Для этого: \n",
        "* создайте пустой список `list_per_page`\n",
        "* пройдитесь циклом `for` по всем однотипным тегам из шага 5 (подсказка: скорее всего, вам не нужно трогать тег с индексом 0 по причине, описанной в шаге 5)\n",
        "* [в цикле] повторите для каждого нужного тега действия по сбору названия, ссылки, статуса, языка и времени проведения курса, к которому относится этот тег. Всё это вы уже успешно проделали выше для одного тега\n",
        "* [в цикле] поместите найденные данные по каждому курсу в список. Это вы уже успешно проделали выше для одного тега\n",
        "* [в цикле] присоедините получившийся список к списку `list_per_page`\n",
        "* выведите на экран `list_per_page`"
      ]
    },
    {
      "cell_type": "code",
      "execution_count": null,
      "metadata": {
        "colab": {
          "base_uri": "https://localhost:8080/"
        },
        "id": "F23RqyHfL2Tn",
        "outputId": "83f97557-45b8-4235-ce3e-f54811ae040e"
      },
      "outputs": [
        {
          "output_type": "execute_result",
          "data": {
            "text/plain": [
              "[['GR-практики в системе государственного управления',\n",
              "  'https://www.hse.ru/ba/political/courses/395894430.html',\n",
              "  'Обязательный',\n",
              "  '2-й курс, 1 модуль'],\n",
              " ['Академическое письмо на английском языке',\n",
              "  'https://www.hse.ru/ba/political/courses/339493143.html',\n",
              "  'Факультатив',\n",
              "  '4-й курс, 1-3 модуль'],\n",
              " ['Анализ данных в Python',\n",
              "  'https://www.hse.ru/ba/political/courses/476629299.html',\n",
              "  'По выбору',\n",
              "  '3-й курс, 3, 4 модуль'],\n",
              " ['Анализ категориальных данных в статистических пакетах',\n",
              "  'https://www.hse.ru/ba/political/courses/476613338.html',\n",
              "  'По выбору',\n",
              "  '3-й курс, 3, 4 модуль'],\n",
              " ['Безопасность жизнедеятельности',\n",
              "  'https://www.hse.ru/ba/political/courses/470900387.html',\n",
              "  'Обязательный',\n",
              "  '1-й курс, 1 модуль'],\n",
              " ['Введение в многомерный статистический анализ',\n",
              "  'https://www.hse.ru/ba/political/courses/470909651.html',\n",
              "  'Обязательный',\n",
              "  '2-й курс, 4 модуль'],\n",
              " ['Введение в специальность',\n",
              "  'https://www.hse.ru/ba/political/courses/470999603.html',\n",
              "  'Обязательный',\n",
              "  '1-й курс, 1 модуль'],\n",
              " ['Введение в теорию вероятностей и математическую статистику',\n",
              "  'https://www.hse.ru/ba/political/courses/470989869.html',\n",
              "  'Обязательный',\n",
              "  '1-й курс, 3, 4 модуль'],\n",
              " ['English Language Integrative Exam',\n",
              "  'https://www.hse.ru/ba/political/courses/470889625.html',\n",
              "  'Обязательный',\n",
              "  '1-й курс, 4 модуль'],\n",
              " ['Высшая математика',\n",
              "  'https://www.hse.ru/ba/political/courses/470884821.html',\n",
              "  'Обязательный',\n",
              "  '1-й курс, 1, 2 модуль'],\n",
              " ['Gender Studies',\n",
              "  'https://www.hse.ru/ba/political/courses/476609800.html',\n",
              "  'По выбору',\n",
              "  '3-й курс, 4 модуль'],\n",
              " ['Городская политика',\n",
              "  'https://www.hse.ru/ba/political/courses/452720253.html',\n",
              "  'По выбору',\n",
              "  '4-й курс, 1 модуль'],\n",
              " ['Государственная власть в РФ',\n",
              "  'https://www.hse.ru/ba/political/courses/470905597.html',\n",
              "  'Обязательный',\n",
              "  '2-й курс, 1, 2 модуль'],\n",
              " ['Гражданское общество и НКО',\n",
              "  'https://www.hse.ru/ba/political/courses/395877737.html',\n",
              "  'По выбору',\n",
              "  '4-й курс, 1 модуль'],\n",
              " ['Защита выпускной квалификационной работы',\n",
              "  'https://www.hse.ru/ba/political/courses/470996268.html',\n",
              "  'Обязательный',\n",
              "  '4-й курс, 4 модуль'],\n",
              " ['Project Proposal',\n",
              "  'https://www.hse.ru/ba/political/courses/452718728.html',\n",
              "  'Обязательный',\n",
              "  '4-й курс, 3 модуль'],\n",
              " ['Интегрированные коммуникации',\n",
              "  'https://www.hse.ru/ba/political/courses/452724947.html',\n",
              "  'Обязательный',\n",
              "  '3-й курс, 4 модуль'],\n",
              " ['Ислам и политика',\n",
              "  'https://www.hse.ru/ba/political/courses/452722954.html',\n",
              "  'По выбору',\n",
              "  '4-й курс, 3 модуль'],\n",
              " ['История политических учений',\n",
              "  'https://www.hse.ru/ba/political/courses/470895492.html',\n",
              "  'Обязательный',\n",
              "  '1-й курс, 1-4 модуль'],\n",
              " ['История России новейшего времени',\n",
              "  'https://www.hse.ru/ba/political/courses/470889172.html',\n",
              "  'Обязательный',\n",
              "  '1-й курс, 1, 2 модуль']]"
            ]
          },
          "metadata": {},
          "execution_count": 12
        }
      ],
      "source": [
        "list_per_course = []\n",
        "\n",
        "\n",
        "for tag in soup.find_all('div', {'class': 'edu-events__item'})[1:]:\n",
        "    \n",
        "    title = tag.find('div', {'class' : \"edu-events_title title large\"}).get_text().strip()\n",
        "    link = tag.find('div', {'class' : \"edu-events_title title large\"}).find(\"a\").get('href')\n",
        "    status = tag.find('div', {'class' : \"edu-program_status\"}).get_text().strip()\n",
        "    modules = tag.find('ul', {'class' : \"edu-filter_modules__list ui-sortable\"}).get('data-tooltip')\n",
        "    \n",
        "    list_per_course.append([title, link, \n",
        "                              status, modules])\n",
        "list_per_course"
      ]
    },
    {
      "cell_type": "markdown",
      "metadata": {
        "id": "M4pMb2_tL2To"
      },
      "source": [
        "**Шаг 12.** Напишите цикл, который пройдётся по всем четырём страницам с курсами и соберёт данные обо всех курсах в список списков.  \n",
        "Для этого: \n",
        "* создайте пустой список `all_data`\n",
        "* пройдитесь циклом `for` по всем однотипным ссылкам на страницы с курсами\n",
        "* [в цикле] повторите для каждой страницы действия по отправке запроса, структурированию html-кода, сбору данных со всей страницы с помощью цикла из шага 11. Всё это вы уже успешно проделали выше для одной страницы\n",
        "* [в цикле] на последнем шаге присоединяйте нужные данные к списку `all_data`, а не `list_per_page`\n",
        "* выведите на экран `all_data`\n",
        "\n",
        "Внимание! У одного из курсов (Современная российская политика) не указано время проведения - возникнет ошибка. Обработайте этот случай с помощью конструкции try-except."
      ]
    },
    {
      "cell_type": "code",
      "execution_count": null,
      "metadata": {
        "colab": {
          "base_uri": "https://localhost:8080/"
        },
        "id": "crB7-vOFL2To",
        "outputId": "41a3c846-389e-4360-f37b-a80ce40f8cb3"
      },
      "outputs": [
        {
          "output_type": "execute_result",
          "data": {
            "text/plain": [
              "[['GR-практики в системе государственного управления',\n",
              "  'https://www.hse.ru/ba/political/courses/395894430.html',\n",
              "  'Обязательный',\n",
              "  '2-й курс, 1 модуль',\n",
              "  'русский'],\n",
              " ['Академическое письмо на английском языке',\n",
              "  'https://www.hse.ru/ba/political/courses/339493143.html',\n",
              "  'Факультатив',\n",
              "  '4-й курс, 1-3 модуль',\n",
              "  'русский'],\n",
              " ['Анализ данных в Python',\n",
              "  'https://www.hse.ru/ba/political/courses/476629299.html',\n",
              "  'По выбору',\n",
              "  '3-й курс, 3, 4 модуль',\n",
              "  'русский'],\n",
              " ['Анализ категориальных данных в статистических пакетах',\n",
              "  'https://www.hse.ru/ba/political/courses/476613338.html',\n",
              "  'По выбору',\n",
              "  '3-й курс, 3, 4 модуль',\n",
              "  'русский'],\n",
              " ['Безопасность жизнедеятельности',\n",
              "  'https://www.hse.ru/ba/political/courses/470900387.html',\n",
              "  'Обязательный',\n",
              "  '1-й курс, 1 модуль',\n",
              "  'русский'],\n",
              " ['Введение в многомерный статистический анализ',\n",
              "  'https://www.hse.ru/ba/political/courses/470909651.html',\n",
              "  'Обязательный',\n",
              "  '2-й курс, 4 модуль',\n",
              "  'русский'],\n",
              " ['Введение в специальность',\n",
              "  'https://www.hse.ru/ba/political/courses/470999603.html',\n",
              "  'Обязательный',\n",
              "  '1-й курс, 1 модуль',\n",
              "  'русский'],\n",
              " ['Введение в теорию вероятностей и математическую статистику',\n",
              "  'https://www.hse.ru/ba/political/courses/470989869.html',\n",
              "  'Обязательный',\n",
              "  '1-й курс, 3, 4 модуль',\n",
              "  'русский'],\n",
              " ['English Language Integrative Exam',\n",
              "  'https://www.hse.ru/ba/political/courses/470889625.html',\n",
              "  'Обязательный',\n",
              "  '1-й курс, 4 модуль',\n",
              "  'английский'],\n",
              " ['Высшая математика',\n",
              "  'https://www.hse.ru/ba/political/courses/470884821.html',\n",
              "  'Обязательный',\n",
              "  '1-й курс, 1, 2 модуль',\n",
              "  'русский'],\n",
              " ['Gender Studies',\n",
              "  'https://www.hse.ru/ba/political/courses/476609800.html',\n",
              "  'По выбору',\n",
              "  '3-й курс, 4 модуль',\n",
              "  'английский'],\n",
              " ['Городская политика',\n",
              "  'https://www.hse.ru/ba/political/courses/452720253.html',\n",
              "  'По выбору',\n",
              "  '4-й курс, 1 модуль',\n",
              "  'русский'],\n",
              " ['Государственная власть в РФ',\n",
              "  'https://www.hse.ru/ba/political/courses/470905597.html',\n",
              "  'Обязательный',\n",
              "  '2-й курс, 1, 2 модуль',\n",
              "  'русский'],\n",
              " ['Гражданское общество и НКО',\n",
              "  'https://www.hse.ru/ba/political/courses/395877737.html',\n",
              "  'По выбору',\n",
              "  '4-й курс, 1 модуль',\n",
              "  'русский'],\n",
              " ['Защита выпускной квалификационной работы',\n",
              "  'https://www.hse.ru/ba/political/courses/470996268.html',\n",
              "  'Обязательный',\n",
              "  '4-й курс, 4 модуль',\n",
              "  'русский'],\n",
              " ['Project Proposal',\n",
              "  'https://www.hse.ru/ba/political/courses/452718728.html',\n",
              "  'Обязательный',\n",
              "  '4-й курс, 3 модуль',\n",
              "  'английский'],\n",
              " ['Интегрированные коммуникации',\n",
              "  'https://www.hse.ru/ba/political/courses/452724947.html',\n",
              "  'Обязательный',\n",
              "  '3-й курс, 4 модуль',\n",
              "  'русский'],\n",
              " ['Ислам и политика',\n",
              "  'https://www.hse.ru/ba/political/courses/452722954.html',\n",
              "  'По выбору',\n",
              "  '4-й курс, 3 модуль',\n",
              "  'русский'],\n",
              " ['История политических учений',\n",
              "  'https://www.hse.ru/ba/political/courses/470895492.html',\n",
              "  'Обязательный',\n",
              "  '1-й курс, 1-4 модуль',\n",
              "  'русский'],\n",
              " ['История России новейшего времени',\n",
              "  'https://www.hse.ru/ba/political/courses/470889172.html',\n",
              "  'Обязательный',\n",
              "  '1-й курс, 1, 2 модуль',\n",
              "  'русский'],\n",
              " ['Категории политической науки',\n",
              "  'https://www.hse.ru/ba/political/courses/470888070.html',\n",
              "  'Обязательный',\n",
              "  '1-й курс, 3, 4 модуль',\n",
              "  'русский'],\n",
              " ['Качественные методы политических исследований',\n",
              "  'https://www.hse.ru/ba/political/courses/470993062.html',\n",
              "  'Обязательный',\n",
              "  '2-й курс, 1, 2 модуль',\n",
              "  'русский'],\n",
              " ['Количественные методы и модели оценки эффективности государства',\n",
              "  'https://www.hse.ru/ba/political/courses/452802636.html',\n",
              "  'По выбору',\n",
              "  '4-й курс, 1, 2 модуль',\n",
              "  'русский'],\n",
              " ['Коллективный выбор: теория и эмпирические исследования',\n",
              "  'https://www.hse.ru/ba/political/courses/476602956.html',\n",
              "  'По выбору',\n",
              "  '3-й курс, 4 модуль',\n",
              "  'русский'],\n",
              " ['Конституционное право и политические институты',\n",
              "  'https://www.hse.ru/ba/political/courses/476625041.html',\n",
              "  'По выбору',\n",
              "  '3-й курс, 3, 4 модуль',\n",
              "  'русский'],\n",
              " ['Линейная алгебра',\n",
              "  'https://www.hse.ru/ba/political/courses/470891505.html',\n",
              "  'Обязательный',\n",
              "  '2-й курс, 1 модуль',\n",
              "  'русский'],\n",
              " ['Мастерская карьеры',\n",
              "  'https://www.hse.ru/ba/political/courses/395898310.html',\n",
              "  'По выбору',\n",
              "  '4-й курс, 1 модуль',\n",
              "  'русский'],\n",
              " ['Математические модели политэкономии',\n",
              "  'https://www.hse.ru/ba/political/courses/452726190.html',\n",
              "  'Обязательный',\n",
              "  '3-й курс, 3, 4 модуль',\n",
              "  'русский'],\n",
              " ['Методы исследований общественного мнения в политической науке',\n",
              "  'https://www.hse.ru/ba/political/courses/476604426.html',\n",
              "  'По выбору',\n",
              "  '4-й курс, 1 модуль',\n",
              "  'русский'],\n",
              " ['World Politics and International Relations',\n",
              "  'https://www.hse.ru/ba/political/courses/452722132.html',\n",
              "  'Обязательный',\n",
              "  '3-й курс, 3, 4 модуль',\n",
              "  'английский'],\n",
              " ['Научно-исследовательский семинар',\n",
              "  'https://www.hse.ru/ba/political/courses/339497492.html',\n",
              "  'Обязательный',\n",
              "  '4-й курс, 3 модуль',\n",
              "  'русский'],\n",
              " ['Научно-исследовательский семинар',\n",
              "  'https://www.hse.ru/ba/political/courses/452799772.html',\n",
              "  'Обязательный',\n",
              "  '3-й курс, 1-3 модуль',\n",
              "  'русский'],\n",
              " ['Научно-исследовательский семинар',\n",
              "  'https://www.hse.ru/ba/political/courses/470997353.html',\n",
              "  'Обязательный',\n",
              "  '1-й курс, 2, 4 модуль',\n",
              "  'русский'],\n",
              " ['Научно-исследовательский семинар',\n",
              "  'https://www.hse.ru/ba/political/courses/548071802.html',\n",
              "  'Обязательный',\n",
              "  '2-й курс, 2, 4 модуль',\n",
              "  'русский'],\n",
              " ['Research Seminar: Research Design',\n",
              "  'https://www.hse.ru/ba/political/courses/504360197.html',\n",
              "  'Обязательный',\n",
              "  '2-й курс, 1 модуль',\n",
              "  'английский'],\n",
              " ['Независимый экзамен по английскому языку',\n",
              "  'https://www.hse.ru/ba/political/courses/470886435.html',\n",
              "  'Обязательный',\n",
              "  '3-й курс, 3 модуль',\n",
              "  'русский'],\n",
              " ['Независимый экзамен по английскому языку',\n",
              "  'https://www.hse.ru/ba/political/courses/470886439.html',\n",
              "  'Обязательный',\n",
              "  '2-й курс, 4 модуль',\n",
              "  'русский'],\n",
              " ['Основания нормативного мышления о современной политике',\n",
              "  'https://www.hse.ru/ba/political/courses/452802806.html',\n",
              "  'По выбору',\n",
              "  '4-й курс, 1, 2 модуль',\n",
              "  'русский'],\n",
              " ['Основы программирования в Python',\n",
              "  'https://www.hse.ru/ba/political/courses/452722629.html',\n",
              "  'Обязательный',\n",
              "  '3-й курс, 1, 2 модуль',\n",
              "  'русский'],\n",
              " ['Основы программирования в Python',\n",
              "  'https://www.hse.ru/ba/political/courses/470961871.html',\n",
              "  'Обязательный',\n",
              "  '2-й курс, 3, 4 модуль',\n",
              "  'русский'],\n",
              " ['Основы программирования в R',\n",
              "  'https://www.hse.ru/ba/political/courses/395864606.html',\n",
              "  'По выбору',\n",
              "  '3-й курс, 3, 4 модуль',\n",
              "  'русский'],\n",
              " ['Политика и религия',\n",
              "  'https://www.hse.ru/ba/political/courses/395866900.html',\n",
              "  'По выбору',\n",
              "  '3-й курс, 3, 4 модуль',\n",
              "  'русский'],\n",
              " ['Политическая антропология',\n",
              "  'https://www.hse.ru/ba/political/courses/452720337.html',\n",
              "  'По выбору',\n",
              "  '4-й курс, 3 модуль',\n",
              "  'русский'],\n",
              " ['Политическая география',\n",
              "  'https://www.hse.ru/ba/political/courses/476608198.html',\n",
              "  'По выбору',\n",
              "  '3-й курс, 3, 4 модуль',\n",
              "  'русский'],\n",
              " ['Политическая демография',\n",
              "  'https://www.hse.ru/ba/political/courses/452717344.html',\n",
              "  'По выбору',\n",
              "  '4-й курс, 1, 2 модуль',\n",
              "  'русский'],\n",
              " ['Политическая пропаганда: история и современность',\n",
              "  'https://www.hse.ru/ba/political/courses/452801341.html',\n",
              "  'По выбору',\n",
              "  '4-й курс, 1, 2 модуль',\n",
              "  'русский'],\n",
              " ['Политическая психология',\n",
              "  'https://www.hse.ru/ba/political/courses/476623495.html',\n",
              "  'По выбору',\n",
              "  '3-й курс, 3, 4 модуль',\n",
              "  'русский'],\n",
              " ['Политическая система современной России',\n",
              "  'https://www.hse.ru/ba/political/courses/452717463.html',\n",
              "  'По выбору',\n",
              "  '4-й курс, 3 модуль',\n",
              "  'русский'],\n",
              " ['Политическая социология',\n",
              "  'https://www.hse.ru/ba/political/courses/452717507.html',\n",
              "  'Обязательный',\n",
              "  '3-й курс, 2, 3 модуль',\n",
              "  'русский'],\n",
              " ['Политическая теория',\n",
              "  'https://www.hse.ru/ba/political/courses/470899272.html',\n",
              "  'Обязательный',\n",
              "  '2-й курс, 2-4 модуль',\n",
              "  'русский'],\n",
              " ['Рolitical Economy',\n",
              "  'https://www.hse.ru/ba/political/courses/452720582.html',\n",
              "  'По выбору',\n",
              "  '4-й курс, 3 модуль',\n",
              "  'английский'],\n",
              " ['Политическая экспертиза',\n",
              "  'https://www.hse.ru/ba/political/courses/395887185.html',\n",
              "  'Обязательный',\n",
              "  '4-й курс, 2, 3 модуль',\n",
              "  'русский'],\n",
              " ['Политическая юриспруденция',\n",
              "  'https://www.hse.ru/ba/political/courses/476608398.html',\n",
              "  'По выбору',\n",
              "  '4-й курс, 1, 2 модуль',\n",
              "  'русский'],\n",
              " ['Политические конфликты на постсоветском пространстве',\n",
              "  'https://www.hse.ru/ba/political/courses/452723706.html',\n",
              "  'По выбору',\n",
              "  '4-й курс, 3 модуль',\n",
              "  'русский'],\n",
              " ['Political Projects in the XX Сentury',\n",
              "  'https://www.hse.ru/ba/political/courses/499693113.html',\n",
              "  'По выбору',\n",
              "  '4-й курс, 1, 2 модуль',\n",
              "  'английский'],\n",
              " ['Политические технологии в российской политике',\n",
              "  'https://www.hse.ru/ba/political/courses/452719909.html',\n",
              "  'По выбору',\n",
              "  '3-й курс, 4 модуль',\n",
              "  'русский'],\n",
              " ['Политическое управление',\n",
              "  'https://www.hse.ru/ba/political/courses/452720691.html',\n",
              "  'Обязательный',\n",
              "  '3-й курс, 1, 2 модуль',\n",
              "  'русский'],\n",
              " ['Правовая грамотность',\n",
              "  'https://www.hse.ru/ba/political/courses/548057924.html',\n",
              "  'Обязательный',\n",
              "  '1-й курс, 3, 4 модуль',\n",
              "  'русский'],\n",
              " ['Профориентационный семинар',\n",
              "  'https://www.hse.ru/ba/political/courses/470890577.html',\n",
              "  'Обязательный',\n",
              "  '1-й курс, 2 модуль',\n",
              "  'русский'],\n",
              " ['Разработка и продвижение онлайн-продукта',\n",
              "  'https://www.hse.ru/ba/political/courses/452798460.html',\n",
              "  'По выбору',\n",
              "  '4-й курс, 1, 2 модуль',\n",
              "  'русский'],\n",
              " ['Регрессионный анализ: панельные данные и каузальность',\n",
              "  'https://www.hse.ru/ba/political/courses/452722708.html',\n",
              "  'Обязательный',\n",
              "  '3-й курс, 1, 2 модуль',\n",
              "  'русский'],\n",
              " ['Россия в системе современной мировой политики',\n",
              "  'https://www.hse.ru/ba/political/courses/452798633.html',\n",
              "  'По выбору',\n",
              "  '4-й курс, 3 модуль',\n",
              "  'русский'],\n",
              " ['Modern Political Science',\n",
              "  'https://www.hse.ru/ba/political/courses/452722742.html',\n",
              "  'По выбору',\n",
              "  '4-й курс, 1, 2 модуль',\n",
              "  'английский'],\n",
              " ['Современная российская политика',\n",
              "  'https://www.hse.ru/ba/political/courses/470887060.html',\n",
              "  'Обязательный',\n",
              "  '2-й курс, 3, 4 модуль',\n",
              "  'русский'],\n",
              " ['Современный GR:как все работает на практике',\n",
              "  'https://www.hse.ru/ba/political/courses/452715951.html',\n",
              "  'По выбору',\n",
              "  '4-й курс, 1, 2 модуль',\n",
              "  'русский'],\n",
              " ['Социология',\n",
              "  'https://www.hse.ru/ba/political/courses/470900670.html',\n",
              "  'Обязательный',\n",
              "  '1-й курс, 1, 2 модуль',\n",
              "  'русский'],\n",
              " ['Comparative Politics',\n",
              "  'https://www.hse.ru/ba/political/courses/470911007.html',\n",
              "  'Обязательный',\n",
              "  '2-й курс, 1, 2 модуль',\n",
              "  'английский'],\n",
              " ['Теория вероятностей и математическая статистика',\n",
              "  'https://www.hse.ru/ba/political/courses/470909567.html',\n",
              "  'Обязательный',\n",
              "  '2-й курс, 1-3 модуль',\n",
              "  'русский'],\n",
              " ['Теория игр',\n",
              "  'https://www.hse.ru/ba/political/courses/339499266.html',\n",
              "  'Обязательный',\n",
              "  '3-й курс, 1, 2 модуль',\n",
              "  'русский'],\n",
              " ['Технологии символической политики',\n",
              "  'https://www.hse.ru/ba/political/courses/452720004.html',\n",
              "  'По выбору',\n",
              "  '3-й курс, 4 модуль',\n",
              "  'русский'],\n",
              " ['Управление конфликтами',\n",
              "  'https://www.hse.ru/ba/political/courses/452802000.html',\n",
              "  'Обязательный',\n",
              "  '3-й курс, 1 модуль',\n",
              "  'русский'],\n",
              " ['Физическая культура',\n",
              "  'https://www.hse.ru/ba/political/courses/395901013.html',\n",
              "  'Обязательный',\n",
              "  '2-й курс, 1-4 модуль',\n",
              "  'русский'],\n",
              " ['Физическая культура',\n",
              "  'https://www.hse.ru/ba/political/courses/470895882.html',\n",
              "  'Обязательный',\n",
              "  '1-й курс, 1-4 модуль',\n",
              "  'русский'],\n",
              " ['Формирование государственной политики',\n",
              "  'https://www.hse.ru/ba/political/courses/395869229.html',\n",
              "  'Обязательный',\n",
              "  '2-й курс, 3, 4 модуль',\n",
              "  'русский'],\n",
              " ['Экономика',\n",
              "  'https://www.hse.ru/ba/political/courses/548056508.html',\n",
              "  'Обязательный',\n",
              "  '1-й курс, 3, 4 модуль',\n",
              "  'русский'],\n",
              " ['Электоральный анализ',\n",
              "  'https://www.hse.ru/ba/political/courses/452801113.html',\n",
              "  'По выбору',\n",
              "  '4-й курс, 1, 2 модуль',\n",
              "  'русский'],\n",
              " ['Электоральный анализ',\n",
              "  'https://www.hse.ru/ba/political/courses/476613207.html',\n",
              "  'По выбору',\n",
              "  '3-й курс, 3, 4 модуль',\n",
              "  'русский']]"
            ]
          },
          "metadata": {},
          "execution_count": 13
        }
      ],
      "source": [
        "all_data = []\n",
        "\n",
        "for i in range(1,5):\n",
        "    url = f'https://www.hse.ru/ba/political/courses/page{i}.html?year=2021'\n",
        "    response = requests.get(url)\n",
        "    soup = BeautifulSoup(response.text)\n",
        "    \n",
        "    for tag in soup.find_all(\"div\", {\"class\" : \"edu-events__item\"})[1:]:\n",
        "        try:\n",
        "            title = tag.find(\"div\", {\"class\" : \"edu-events_title title large\"}).get_text().strip()\n",
        "            link = tag.find(\"div\", {\"class\" : \"edu-events_title title large\"}).find(\"a\").get(\"href\")\n",
        "            status = tag.find(\"div\", {\"class\" : \"edu-program_status\"}).get_text().strip()\n",
        "            language = tag.find(\"div\", {\"class\" : \"edu-program_languges b-events__languges with-indent1\"}).get_text().strip()\n",
        "            modules = tag.find(\"ul\", {\"class\" : \"edu-filter_modules__list ui-sortable\"}).get(\"data-tooltip\")\n",
        "    \n",
        "            all_data.append([title, link, status, modules, language])\n",
        "        except:\n",
        "            continue\n",
        "    \n",
        "all_data"
      ]
    },
    {
      "cell_type": "markdown",
      "metadata": {
        "id": "iI66zhvQL2Tp"
      },
      "source": [
        "**Шаг 13.** Переделайте список списков `all_data` в датафрейм. Придумайте ему собственное имя. Дайте названия колонкам."
      ]
    },
    {
      "cell_type": "code",
      "execution_count": null,
      "metadata": {
        "colab": {
          "base_uri": "https://localhost:8080/",
          "height": 423
        },
        "id": "1hDbqYOHL2Tp",
        "outputId": "9141d30c-b87c-4da6-dc9a-5c1f25a260cb"
      },
      "outputs": [
        {
          "output_type": "execute_result",
          "data": {
            "text/plain": [
              "                                             Название  \\\n",
              "0   GR-практики в системе государственного управления   \n",
              "1            Академическое письмо на английском языке   \n",
              "2                              Анализ данных в Python   \n",
              "3   Анализ категориальных данных в статистических ...   \n",
              "4                      Безопасность жизнедеятельности   \n",
              "..                                                ...   \n",
              "72                                Физическая культура   \n",
              "73              Формирование государственной политики   \n",
              "74                                          Экономика   \n",
              "75                               Электоральный анализ   \n",
              "76                               Электоральный анализ   \n",
              "\n",
              "                                               Ссылка        Статус  \\\n",
              "0   https://www.hse.ru/ba/political/courses/395894...  Обязательный   \n",
              "1   https://www.hse.ru/ba/political/courses/339493...   Факультатив   \n",
              "2   https://www.hse.ru/ba/political/courses/476629...     По выбору   \n",
              "3   https://www.hse.ru/ba/political/courses/476613...     По выбору   \n",
              "4   https://www.hse.ru/ba/political/courses/470900...  Обязательный   \n",
              "..                                                ...           ...   \n",
              "72  https://www.hse.ru/ba/political/courses/470895...  Обязательный   \n",
              "73  https://www.hse.ru/ba/political/courses/395869...  Обязательный   \n",
              "74  https://www.hse.ru/ba/political/courses/548056...  Обязательный   \n",
              "75  https://www.hse.ru/ba/political/courses/452801...     По выбору   \n",
              "76  https://www.hse.ru/ba/political/courses/476613...     По выбору   \n",
              "\n",
              "                   Модуль     Язык  \n",
              "0      2-й курс, 1 модуль  русский  \n",
              "1    4-й курс, 1-3 модуль  русский  \n",
              "2   3-й курс, 3, 4 модуль  русский  \n",
              "3   3-й курс, 3, 4 модуль  русский  \n",
              "4      1-й курс, 1 модуль  русский  \n",
              "..                    ...      ...  \n",
              "72   1-й курс, 1-4 модуль  русский  \n",
              "73  2-й курс, 3, 4 модуль  русский  \n",
              "74  1-й курс, 3, 4 модуль  русский  \n",
              "75  4-й курс, 1, 2 модуль  русский  \n",
              "76  3-й курс, 3, 4 модуль  русский  \n",
              "\n",
              "[77 rows x 5 columns]"
            ],
            "text/html": [
              "\n",
              "  <div id=\"df-0543415a-7192-4dcd-8cf0-424ed6fc9e23\">\n",
              "    <div class=\"colab-df-container\">\n",
              "      <div>\n",
              "<style scoped>\n",
              "    .dataframe tbody tr th:only-of-type {\n",
              "        vertical-align: middle;\n",
              "    }\n",
              "\n",
              "    .dataframe tbody tr th {\n",
              "        vertical-align: top;\n",
              "    }\n",
              "\n",
              "    .dataframe thead th {\n",
              "        text-align: right;\n",
              "    }\n",
              "</style>\n",
              "<table border=\"1\" class=\"dataframe\">\n",
              "  <thead>\n",
              "    <tr style=\"text-align: right;\">\n",
              "      <th></th>\n",
              "      <th>Название</th>\n",
              "      <th>Ссылка</th>\n",
              "      <th>Статус</th>\n",
              "      <th>Модуль</th>\n",
              "      <th>Язык</th>\n",
              "    </tr>\n",
              "  </thead>\n",
              "  <tbody>\n",
              "    <tr>\n",
              "      <th>0</th>\n",
              "      <td>GR-практики в системе государственного управления</td>\n",
              "      <td>https://www.hse.ru/ba/political/courses/395894...</td>\n",
              "      <td>Обязательный</td>\n",
              "      <td>2-й курс, 1 модуль</td>\n",
              "      <td>русский</td>\n",
              "    </tr>\n",
              "    <tr>\n",
              "      <th>1</th>\n",
              "      <td>Академическое письмо на английском языке</td>\n",
              "      <td>https://www.hse.ru/ba/political/courses/339493...</td>\n",
              "      <td>Факультатив</td>\n",
              "      <td>4-й курс, 1-3 модуль</td>\n",
              "      <td>русский</td>\n",
              "    </tr>\n",
              "    <tr>\n",
              "      <th>2</th>\n",
              "      <td>Анализ данных в Python</td>\n",
              "      <td>https://www.hse.ru/ba/political/courses/476629...</td>\n",
              "      <td>По выбору</td>\n",
              "      <td>3-й курс, 3, 4 модуль</td>\n",
              "      <td>русский</td>\n",
              "    </tr>\n",
              "    <tr>\n",
              "      <th>3</th>\n",
              "      <td>Анализ категориальных данных в статистических ...</td>\n",
              "      <td>https://www.hse.ru/ba/political/courses/476613...</td>\n",
              "      <td>По выбору</td>\n",
              "      <td>3-й курс, 3, 4 модуль</td>\n",
              "      <td>русский</td>\n",
              "    </tr>\n",
              "    <tr>\n",
              "      <th>4</th>\n",
              "      <td>Безопасность жизнедеятельности</td>\n",
              "      <td>https://www.hse.ru/ba/political/courses/470900...</td>\n",
              "      <td>Обязательный</td>\n",
              "      <td>1-й курс, 1 модуль</td>\n",
              "      <td>русский</td>\n",
              "    </tr>\n",
              "    <tr>\n",
              "      <th>...</th>\n",
              "      <td>...</td>\n",
              "      <td>...</td>\n",
              "      <td>...</td>\n",
              "      <td>...</td>\n",
              "      <td>...</td>\n",
              "    </tr>\n",
              "    <tr>\n",
              "      <th>72</th>\n",
              "      <td>Физическая культура</td>\n",
              "      <td>https://www.hse.ru/ba/political/courses/470895...</td>\n",
              "      <td>Обязательный</td>\n",
              "      <td>1-й курс, 1-4 модуль</td>\n",
              "      <td>русский</td>\n",
              "    </tr>\n",
              "    <tr>\n",
              "      <th>73</th>\n",
              "      <td>Формирование государственной политики</td>\n",
              "      <td>https://www.hse.ru/ba/political/courses/395869...</td>\n",
              "      <td>Обязательный</td>\n",
              "      <td>2-й курс, 3, 4 модуль</td>\n",
              "      <td>русский</td>\n",
              "    </tr>\n",
              "    <tr>\n",
              "      <th>74</th>\n",
              "      <td>Экономика</td>\n",
              "      <td>https://www.hse.ru/ba/political/courses/548056...</td>\n",
              "      <td>Обязательный</td>\n",
              "      <td>1-й курс, 3, 4 модуль</td>\n",
              "      <td>русский</td>\n",
              "    </tr>\n",
              "    <tr>\n",
              "      <th>75</th>\n",
              "      <td>Электоральный анализ</td>\n",
              "      <td>https://www.hse.ru/ba/political/courses/452801...</td>\n",
              "      <td>По выбору</td>\n",
              "      <td>4-й курс, 1, 2 модуль</td>\n",
              "      <td>русский</td>\n",
              "    </tr>\n",
              "    <tr>\n",
              "      <th>76</th>\n",
              "      <td>Электоральный анализ</td>\n",
              "      <td>https://www.hse.ru/ba/political/courses/476613...</td>\n",
              "      <td>По выбору</td>\n",
              "      <td>3-й курс, 3, 4 модуль</td>\n",
              "      <td>русский</td>\n",
              "    </tr>\n",
              "  </tbody>\n",
              "</table>\n",
              "<p>77 rows × 5 columns</p>\n",
              "</div>\n",
              "      <button class=\"colab-df-convert\" onclick=\"convertToInteractive('df-0543415a-7192-4dcd-8cf0-424ed6fc9e23')\"\n",
              "              title=\"Convert this dataframe to an interactive table.\"\n",
              "              style=\"display:none;\">\n",
              "        \n",
              "  <svg xmlns=\"http://www.w3.org/2000/svg\" height=\"24px\"viewBox=\"0 0 24 24\"\n",
              "       width=\"24px\">\n",
              "    <path d=\"M0 0h24v24H0V0z\" fill=\"none\"/>\n",
              "    <path d=\"M18.56 5.44l.94 2.06.94-2.06 2.06-.94-2.06-.94-.94-2.06-.94 2.06-2.06.94zm-11 1L8.5 8.5l.94-2.06 2.06-.94-2.06-.94L8.5 2.5l-.94 2.06-2.06.94zm10 10l.94 2.06.94-2.06 2.06-.94-2.06-.94-.94-2.06-.94 2.06-2.06.94z\"/><path d=\"M17.41 7.96l-1.37-1.37c-.4-.4-.92-.59-1.43-.59-.52 0-1.04.2-1.43.59L10.3 9.45l-7.72 7.72c-.78.78-.78 2.05 0 2.83L4 21.41c.39.39.9.59 1.41.59.51 0 1.02-.2 1.41-.59l7.78-7.78 2.81-2.81c.8-.78.8-2.07 0-2.86zM5.41 20L4 18.59l7.72-7.72 1.47 1.35L5.41 20z\"/>\n",
              "  </svg>\n",
              "      </button>\n",
              "      \n",
              "  <style>\n",
              "    .colab-df-container {\n",
              "      display:flex;\n",
              "      flex-wrap:wrap;\n",
              "      gap: 12px;\n",
              "    }\n",
              "\n",
              "    .colab-df-convert {\n",
              "      background-color: #E8F0FE;\n",
              "      border: none;\n",
              "      border-radius: 50%;\n",
              "      cursor: pointer;\n",
              "      display: none;\n",
              "      fill: #1967D2;\n",
              "      height: 32px;\n",
              "      padding: 0 0 0 0;\n",
              "      width: 32px;\n",
              "    }\n",
              "\n",
              "    .colab-df-convert:hover {\n",
              "      background-color: #E2EBFA;\n",
              "      box-shadow: 0px 1px 2px rgba(60, 64, 67, 0.3), 0px 1px 3px 1px rgba(60, 64, 67, 0.15);\n",
              "      fill: #174EA6;\n",
              "    }\n",
              "\n",
              "    [theme=dark] .colab-df-convert {\n",
              "      background-color: #3B4455;\n",
              "      fill: #D2E3FC;\n",
              "    }\n",
              "\n",
              "    [theme=dark] .colab-df-convert:hover {\n",
              "      background-color: #434B5C;\n",
              "      box-shadow: 0px 1px 3px 1px rgba(0, 0, 0, 0.15);\n",
              "      filter: drop-shadow(0px 1px 2px rgba(0, 0, 0, 0.3));\n",
              "      fill: #FFFFFF;\n",
              "    }\n",
              "  </style>\n",
              "\n",
              "      <script>\n",
              "        const buttonEl =\n",
              "          document.querySelector('#df-0543415a-7192-4dcd-8cf0-424ed6fc9e23 button.colab-df-convert');\n",
              "        buttonEl.style.display =\n",
              "          google.colab.kernel.accessAllowed ? 'block' : 'none';\n",
              "\n",
              "        async function convertToInteractive(key) {\n",
              "          const element = document.querySelector('#df-0543415a-7192-4dcd-8cf0-424ed6fc9e23');\n",
              "          const dataTable =\n",
              "            await google.colab.kernel.invokeFunction('convertToInteractive',\n",
              "                                                     [key], {});\n",
              "          if (!dataTable) return;\n",
              "\n",
              "          const docLinkHtml = 'Like what you see? Visit the ' +\n",
              "            '<a target=\"_blank\" href=https://colab.research.google.com/notebooks/data_table.ipynb>data table notebook</a>'\n",
              "            + ' to learn more about interactive tables.';\n",
              "          element.innerHTML = '';\n",
              "          dataTable['output_type'] = 'display_data';\n",
              "          await google.colab.output.renderOutput(dataTable, element);\n",
              "          const docLink = document.createElement('div');\n",
              "          docLink.innerHTML = docLinkHtml;\n",
              "          element.appendChild(docLink);\n",
              "        }\n",
              "      </script>\n",
              "    </div>\n",
              "  </div>\n",
              "  "
            ]
          },
          "metadata": {},
          "execution_count": 14
        }
      ],
      "source": [
        "variables = [\"Название\", \"Ссылка\", \"Статус\", \"Модуль\", \"Язык\"]\n",
        "df = pd.DataFrame(all_data, columns = variables)\n",
        "df"
      ]
    },
    {
      "cell_type": "markdown",
      "metadata": {
        "id": "JHUssFe8L2Tp"
      },
      "source": [
        "**Шаг 14.** Чтобы не заканчивать на несчастливом 13 шаге, экспортируйте собранную базу в excel-файл."
      ]
    },
    {
      "cell_type": "code",
      "execution_count": null,
      "metadata": {
        "id": "32ZHhWXXL2Tp"
      },
      "outputs": [],
      "source": [
        "df.to_excel('Courses.xlsx')"
      ]
    }
  ],
  "metadata": {
    "kernelspec": {
      "display_name": "Python 3",
      "language": "python",
      "name": "python3"
    },
    "language_info": {
      "codemirror_mode": {
        "name": "ipython",
        "version": 3
      },
      "file_extension": ".py",
      "mimetype": "text/x-python",
      "name": "python",
      "nbconvert_exporter": "python",
      "pygments_lexer": "ipython3",
      "version": "3.8.3"
    },
    "colab": {
      "name": "requests_guide.ipynb",
      "provenance": []
    }
  },
  "nbformat": 4,
  "nbformat_minor": 0
}
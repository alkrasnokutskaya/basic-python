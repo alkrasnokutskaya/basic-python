{
  "cells": [
    {
      "cell_type": "markdown",
      "metadata": {
        "id": "hhnBnaSB74qF"
      },
      "source": [
        "# Прикладное программное обеспечение\n",
        "#### Python для извлечения и обработки данных\n",
        "\n",
        "\n",
        "## Списки и кортежи, цикл `for`\n",
        "\n",
        "*Автор: Александра Краснокутская, Валентина Лебедева, НИУ ВШЭ*"
      ]
    },
    {
      "cell_type": "markdown",
      "metadata": {
        "id": "cWqPo-0Z74qL"
      },
      "source": [
        "### Списки — `list`\n",
        "\n",
        "Давайте представим, что при написании программы нам нужно работать, например, с большой базой данных студентов ОП \"Социология\". \n",
        "\n",
        "Если студентов несколько сотен, нет смысла создавать для каждого отдельную переменную — нам нужно научиться сохранять их всех в одной переменной. Начиная с этого семинара, мы будем изучать типы данных, которые позволяют это делать.\n",
        "\n",
        "Начнем мы со **списков**. Если вы изучали другие языки программирования, то наверняка знакомы с аналогичным типом данных - массивами.\n",
        "\n",
        "Давайте для начала попробуем создать список из 3 студентов."
      ]
    },
    {
      "cell_type": "code",
      "execution_count": null,
      "metadata": {
        "id": "FahsnilM74qN"
      },
      "outputs": [],
      "source": [
        "students = ['Ivan Ivanov', 'Tatiana Sidorova', 'Maria Smirnova']\n",
        "print(students)\n",
        "print(type(students))"
      ]
    },
    {
      "cell_type": "markdown",
      "metadata": {
        "id": "0A7fc7VF74qP"
      },
      "source": [
        "Пустой список можно создать двумя способами — оператором `[]` и функцией `list()`."
      ]
    },
    {
      "cell_type": "code",
      "execution_count": null,
      "metadata": {
        "id": "S2lQJmBm74qQ"
      },
      "outputs": [],
      "source": [
        "print([])\n",
        "print(list())"
      ]
    },
    {
      "cell_type": "markdown",
      "metadata": {
        "id": "nozjY0jE74qQ"
      },
      "source": [
        "Список может содержать любые данные — например, числа.  \n",
        "Давайте создадим список оценок студента."
      ]
    },
    {
      "cell_type": "code",
      "execution_count": null,
      "metadata": {
        "id": "hPDMsxFV74qR"
      },
      "outputs": [],
      "source": [
        "notes = [6, 5, 7, 5, 8]\n",
        "print(notes)"
      ]
    },
    {
      "cell_type": "markdown",
      "metadata": {
        "id": "AAuaH-0o74qS"
      },
      "source": [
        "Список может быть даже смешанным. Например, давайте сохраним в одном списке имя студента, его год рождения, средний балл, и логическую переменную, которая будет равна `True`, если студент учится на бюджете."
      ]
    },
    {
      "cell_type": "code",
      "execution_count": null,
      "metadata": {
        "id": "Mp2Y7--H74qU"
      },
      "outputs": [],
      "source": [
        "student1 = ['Ivan Ivanov', 2001, 7.5, True]\n",
        "print(student1)"
      ]
    },
    {
      "cell_type": "markdown",
      "metadata": {
        "id": "QzXessU874qV"
      },
      "source": [
        "Список может даже содержать другие списки.  \n",
        "Давайте создадим еще одного студента по аналогии со `student1` и положим этих двух студентов в еще один список."
      ]
    },
    {
      "cell_type": "code",
      "execution_count": null,
      "metadata": {
        "id": "6L3lw_RB74qW"
      },
      "outputs": [],
      "source": [
        "student2 = ['Maria Smirnova', 2000, 7.9, False]\n",
        "students = [student1, student2]\n",
        "print(students)"
      ]
    },
    {
      "cell_type": "markdown",
      "metadata": {
        "id": "URWtaaYo74qX"
      },
      "source": [
        "Как и символы строк, элементы списков нумеруются, начиная с 0.  \n",
        "И аналогичным образом мы можем получить доступ к элементу списка по его индексу."
      ]
    },
    {
      "cell_type": "code",
      "execution_count": null,
      "metadata": {
        "id": "XknLAhwh74qX"
      },
      "outputs": [],
      "source": [
        "students = ['Ivan Ivanov', 'Tatiana Sidorova', 'Maria Smirnova']\n",
        "print(students[0])\n",
        "print(students[1])\n",
        "print(students[-1])"
      ]
    },
    {
      "cell_type": "markdown",
      "metadata": {
        "id": "TSBkTMX874qY"
      },
      "source": [
        "И как и в случае строки, мы можем узнать длину списка с помощью функции `len()`."
      ]
    },
    {
      "cell_type": "code",
      "execution_count": null,
      "metadata": {
        "id": "ODRAVufO74qZ"
      },
      "outputs": [],
      "source": [
        "print(len(students))"
      ]
    },
    {
      "cell_type": "markdown",
      "metadata": {
        "id": "1IseVuq074qZ"
      },
      "source": [
        "Но, в отличие от строк, список можно изменить."
      ]
    },
    {
      "cell_type": "code",
      "execution_count": null,
      "metadata": {
        "id": "po7ImCjD74qZ"
      },
      "outputs": [],
      "source": [
        "students[1] = 'Petr Petrov'\n",
        "print(students)"
      ]
    },
    {
      "cell_type": "markdown",
      "metadata": {
        "id": "9HRBfLaC74qa"
      },
      "source": [
        "### Метод `.split()`\n",
        "\n",
        "Метод строки `.split()` получает на вход строку-разделитель и возвращает список строк, разбитый по этому разделителю.\n",
        "\n",
        "По умолчанию метод разбивает строку по пробелу"
      ]
    },
    {
      "cell_type": "code",
      "execution_count": null,
      "metadata": {
        "id": "s1a0GCcN74qa"
      },
      "outputs": [],
      "source": [
        "print('Hello darkness my old friend'.split())\n",
        "\n",
        "# Несколько разделителей подряд? не беда, они будут прочитаны как один\n",
        "print('Hello    darkness  my old     friend'.split()) "
      ]
    },
    {
      "cell_type": "code",
      "execution_count": null,
      "metadata": {
        "id": "toNI1gDV74qb"
      },
      "outputs": [],
      "source": [
        "print('Ночь. Улица. Фонарь. Аптека'.split('. '))"
      ]
    },
    {
      "cell_type": "markdown",
      "metadata": {
        "id": "gT-rQnHI74qb"
      },
      "source": [
        "Также можно совмещать `.split()` с `input()`."
      ]
    },
    {
      "cell_type": "code",
      "execution_count": null,
      "metadata": {
        "id": "F9kSTE1974qc"
      },
      "outputs": [],
      "source": [
        "L = input().split(', ')\n",
        "print(L)"
      ]
    },
    {
      "cell_type": "markdown",
      "metadata": {
        "id": "ZNxlKP3k74qc"
      },
      "source": [
        "### Кортежи — `tuple`\n",
        "Кортежи очень похожи на списки."
      ]
    },
    {
      "cell_type": "code",
      "execution_count": null,
      "metadata": {
        "id": "4fpiOn0374qc"
      },
      "outputs": [],
      "source": [
        "student = ('Ivan Ivanov', 2001, 7.5, True)\n",
        "print(student)\n",
        "print(type(student))"
      ]
    },
    {
      "cell_type": "markdown",
      "metadata": {
        "id": "bmH9gqeL74qd"
      },
      "source": [
        "Пустой кортеж можно создать с помощью оператора `()` либо функции `tuple()`."
      ]
    },
    {
      "cell_type": "code",
      "execution_count": null,
      "metadata": {
        "id": "DYQaaAr874qd"
      },
      "outputs": [],
      "source": [
        "print(())\n",
        "print(tuple())"
      ]
    },
    {
      "cell_type": "markdown",
      "metadata": {
        "id": "xXZTKab274qd"
      },
      "source": [
        "Основное отличие кортежей от списков состоит в том, что кортежи нельзя изменять (да-да, прямо как строки)."
      ]
    },
    {
      "cell_type": "code",
      "execution_count": null,
      "metadata": {
        "id": "T5AXqT4f74qd"
      },
      "outputs": [],
      "source": [
        "student[1] = 2002"
      ]
    },
    {
      "cell_type": "markdown",
      "metadata": {
        "id": "mx6Wf4vB74qe"
      },
      "source": [
        "Списки и кортежи могут быть вложены друг в друга.\n",
        "Например, пусть в информации о студенте у нас будет храниться не его средний балл, а список всех его оценок."
      ]
    },
    {
      "cell_type": "code",
      "execution_count": null,
      "metadata": {
        "id": "U4QlOWSZ74qe"
      },
      "outputs": [],
      "source": [
        "student = ('Ivan Ivanov', 2001, [8, 7, 7, 9, 6], True)\n",
        "print(student)"
      ]
    },
    {
      "cell_type": "markdown",
      "metadata": {
        "id": "LR5mNy8v74qe"
      },
      "source": [
        "Мы можем обратиться к элементу вложенного списка или кортежа с помощью двойной индексации."
      ]
    },
    {
      "cell_type": "code",
      "execution_count": null,
      "metadata": {
        "id": "6YkNPPul74qf"
      },
      "outputs": [],
      "source": [
        "print(student[2][1]) # Получили вторую оценку"
      ]
    },
    {
      "cell_type": "markdown",
      "metadata": {
        "id": "W13DclIk74qf"
      },
      "source": [
        "Иногда бывает полезно обезопасить себя от изменений массивов данных и использовать кортежи, но чаще всего мы все-таки будем работать со списками."
      ]
    },
    {
      "cell_type": "markdown",
      "metadata": {
        "id": "tM-joG_474qf"
      },
      "source": [
        "### Цикл `for`\n",
        "\n",
        "Мы уже умеем писать циклы с помощью оператора `while`, но теперь мы готовы познакомиться с еще одним способом.\n",
        "\n",
        "Давайте вспомним про наш список студентов и выведем их имена по очереди. Для начала уже знакомым способом."
      ]
    },
    {
      "cell_type": "code",
      "execution_count": null,
      "metadata": {
        "id": "ZSO15aSe74qf"
      },
      "outputs": [],
      "source": [
        "students = ['Ivan Ivanov', 'Tatiana Sidorova', 'Maria Smirnova']\n",
        "\n",
        "i = 0\n",
        "while i < len(students):\n",
        "    print(students[i])\n",
        "    i += 1"
      ]
    },
    {
      "cell_type": "markdown",
      "metadata": {
        "id": "cqiQt-Tn74qg"
      },
      "source": [
        "А теперь напишем то же самое с помощью цикла `for`.\n",
        "\n",
        "Теперь мы будем перебирать список `students`, доставая из него по одному элементу."
      ]
    },
    {
      "cell_type": "code",
      "execution_count": null,
      "metadata": {
        "id": "13dGwE9x74qg"
      },
      "outputs": [],
      "source": [
        "students = ['Ivan Ivanov', 'Tatiana Sidorova', 'Maria Smirnova']\n",
        "\n",
        "for student in students:\n",
        "    print(student)"
      ]
    },
    {
      "cell_type": "markdown",
      "metadata": {
        "id": "GK6TvtfZ74qg"
      },
      "source": [
        "В примере выше на каждом шаге цикл `for` достает очередной элемент из списка `students` и сохраняет его в переменную `student`.\n",
        "\n",
        "Обратите внимание, что переменную `student` нам не надо создавать заранее, она создается прямо во время работы цикла.\n",
        "\n",
        "Получившийся код гораздо короче и проще варианта с использованием `while`.\n",
        "\n",
        "Цикл `for` может перебирать и элементы `range()`, это дает нам еще один способ решения задачи."
      ]
    },
    {
      "cell_type": "code",
      "execution_count": null,
      "metadata": {
        "id": "U_u5lw1a74qh"
      },
      "outputs": [],
      "source": [
        "students = ['Ivan Ivanov', 'Tatiana Sidorova', 'Maria Smirnova']\n",
        "\n",
        "for i in range(len(students)): # Здесь не надо преобразовывать range в список или кортеж\n",
        "    print(students[i])"
      ]
    },
    {
      "cell_type": "markdown",
      "metadata": {
        "id": "xcT2HhjY74qh"
      },
      "source": [
        "Цикл `for` может перебирать и кортежи, и даже строки."
      ]
    },
    {
      "cell_type": "code",
      "execution_count": null,
      "metadata": {
        "id": "IUu-9QKF74qh"
      },
      "outputs": [],
      "source": [
        "myStr = 'Hello'\n",
        "\n",
        "for char in myStr:\n",
        "    print(char)"
      ]
    },
    {
      "cell_type": "markdown",
      "metadata": {
        "id": "1_gkmPAp74qh"
      },
      "source": [
        "# Задачи для тренировки\n",
        "Часть из этих задач мы решим в классе. Но если мы даже не успеем - попытайтесь сделать их дома сами.\n",
        "\n",
        "### Задание 1. Корпоративная почта \n",
        "\n",
        "Компания \"Пампарам\" регистрирует сотрудникам корпоративные почты и хочет оставить им логины, которыми они уже привыкли пользоваться. Единственное условие — почты не должна начинаться с цифр или c точки, тире, нижнего подчеркивания, поэтому если такие символы встречаются, то они должны быть отброшены. Помогите компании сформировать новый список почт на домене pamparam.ru\n",
        "\n",
        "**ФОРМАТ ВВОДА**\n",
        "\n",
        "+ Список почтовых адресов сотрудников компании через точку с запятой и пробел.\n",
        "\n",
        "**ФОРМАТ ВЫВОДА**\n",
        "\n",
        "+ Список новых почтовых адресов сотрудников компании — домены (то, что идет после @), должны быть заменены на домен pamparam.ru, а с левой стороны должны быть отброшены символы, на которые не должен начинаться почтовый адрес. Список выведите через точку с запятой и пробел.\n",
        ".\n",
        "\n",
        "**ПРИМЕР**\n",
        "\n",
        "Входные данные:  \n",
        "0-1in.ianv00@gmail.com; 42.petr.petrov@mail.ru; _1990_olg0a@hse.ru   \n",
        "Вывод программы:  \n",
        "in.ianv00@pamparam.ru; petr.petrov@pamparam.ru; olg0a@pamparam.ru"
      ]
    },
    {
      "cell_type": "code",
      "execution_count": null,
      "metadata": {
        "id": "vyJhsKcK74qi"
      },
      "outputs": [],
      "source": [
        "L = input().split('; ')\n",
        "L_new = []\n",
        "\n",
        "for i in L:\n",
        "    L_new.append(i.lstrip('_-.0123456789').split('@')[0] + '@pamparam.ru')\n",
        "    \n",
        "print(\"; \".join(L_new))"
      ]
    },
    {
      "cell_type": "markdown",
      "metadata": {
        "id": "0I9Ps7D174qi"
      },
      "source": [
        "### Задание 2. Повышенная стипендия\n",
        "\n",
        "Студент может подать документы на повышенную стипендию, если его средний балл по итогам сессии не ниже 8.\n",
        "\n",
        "**ФОРМАТ ВВОДА**\n",
        "\n",
        "+ Вводятся оценки студента за сессию (целые числа от 1 до 10) в одну строку через пробел\n",
        "\n",
        "**ФОРМАТ ВЫВОДА**\n",
        "\n",
        "+ Выведите YES, если студент может подать документы на повышенную стипендию, и NO, если нет.\n",
        "\n",
        "**ПРИМЕР**  \n",
        "  \n",
        "Входные данные:  \n",
        "6 8 7 6   \n",
        "Вывод программы:  \n",
        "NO"
      ]
    },
    {
      "cell_type": "code",
      "execution_count": null,
      "metadata": {
        "id": "tA9q8Re374qi",
        "outputId": "c45f2ef0-01bc-4fbb-97fa-cc700d239dfc"
      },
      "outputs": [
        {
          "name": "stdout",
          "output_type": "stream",
          "text": [
            "10 8 9\n",
            "['10', '8', '9']\n",
            "27\n"
          ]
        }
      ],
      "source": [
        "L = input().split()\n",
        "\n",
        "print(L)\n",
        "\n",
        "x = 0\n",
        "\n",
        "for i in L:\n",
        "    x += int(i)\n",
        "    \n",
        "print(x)"
      ]
    },
    {
      "cell_type": "code",
      "execution_count": null,
      "metadata": {
        "id": "qbETzyS574qk",
        "outputId": "ffb09823-eaf9-4576-d8c0-53c4654f0e2f"
      },
      "outputs": [
        {
          "name": "stdout",
          "output_type": "stream",
          "text": [
            "YES\n"
          ]
        }
      ],
      "source": [
        "if x/len(L) >= 8:\n",
        "    print('YES')\n",
        "else:\n",
        "    print('NO')"
      ]
    },
    {
      "cell_type": "markdown",
      "metadata": {
        "id": "jUyogHu574qk"
      },
      "source": [
        "### Задание 3. Несовершеннолетние студенты\n",
        "\n",
        "Студсовет факультета организует вечеринку, но после 23 часов им нужно отвезти в общежитие всех несовершеннолетних студентов. Несовершеннолетними считаются все студенты, родившиеся после 2001 года.\n",
        "\n",
        "**ФОРМАТ ВВОДА**\n",
        "\n",
        "+ Вводится целое неотрицательное число N <= 1000  \n",
        "+ Далее, вводится N строк формата \"Имя Фамилия; Год рождения\"\n",
        "\n",
        "**ФОРМАТ ВЫВОДА**\n",
        "\n",
        "+ Вывести список всех несовершеннолетних студентов\n",
        "\n",
        "**ПРИМЕР**  \n",
        "  \n",
        "Входные данные:  \n",
        "5  \n",
        "Ivan Ivanov; 2001  \n",
        "Petr Petrov; 2002  \n",
        "Maria Smirnova; 2002  \n",
        "Makar Makarov; 2002  \n",
        "Tatiana Kuznetsova; 2000  \n",
        "\n",
        "Вывод программы:   \n",
        "Petr Petrov  \n",
        "Maria Smirnova  \n",
        "Makar Makarov  "
      ]
    },
    {
      "cell_type": "code",
      "execution_count": null,
      "metadata": {
        "id": "2R5KO-fM74qk",
        "outputId": "fe0e8a54-32ba-4479-fa78-5c57a9adbe9c"
      },
      "outputs": [
        {
          "name": "stdout",
          "output_type": "stream",
          "text": [
            "5\n",
            "Ivan Ivanov; 2001\n",
            "Petr Petrov; 2002\n",
            "Maria Smirnova; 2002\n",
            "Makar Makarov; 2002\n",
            "Tatiana Kuznetsova; 2000\n"
          ]
        }
      ],
      "source": [
        "N = int(input())\n",
        "string = ''\n",
        "\n",
        "i = 0\n",
        "\n",
        "while i < N:\n",
        "    st = input().split('; ')\n",
        "    if int(st[1]) > 2001:\n",
        "        string += st[0] + ' '\n",
        "    i += 1"
      ]
    },
    {
      "cell_type": "code",
      "execution_count": null,
      "metadata": {
        "id": "0fhVGJ1174ql",
        "outputId": "43ec3a38-3c25-4a18-c683-6a43e8d6d079"
      },
      "outputs": [
        {
          "data": {
            "text/plain": [
              "['Petr', 'Petrov', 'Maria', 'Smirnova', 'Makar', 'Makarov']"
            ]
          },
          "execution_count": 15,
          "metadata": {},
          "output_type": "execute_result"
        }
      ],
      "source": [
        "string.split()"
      ]
    },
    {
      "cell_type": "code",
      "execution_count": null,
      "metadata": {
        "id": "OCyKwyaH74ql",
        "outputId": "ec049059-e4c0-4adb-b7b0-6de1cc02e80e"
      },
      "outputs": [
        {
          "name": "stdout",
          "output_type": "stream",
          "text": [
            "Petr Petrov\n",
            "Maria Smirnova\n",
            "Makar Makarov\n"
          ]
        }
      ],
      "source": [
        "for i in range(0, len(string.split()), 2):        # Обратите внимание, что установлен шаг = 2\n",
        "    print(string.split()[i], string.split()[i+1])"
      ]
    }
  ],
  "metadata": {
    "kernelspec": {
      "display_name": "Python 3",
      "language": "python",
      "name": "python3"
    },
    "language_info": {
      "codemirror_mode": {
        "name": "ipython",
        "version": 3
      },
      "file_extension": ".py",
      "mimetype": "text/x-python",
      "name": "python",
      "nbconvert_exporter": "python",
      "pygments_lexer": "ipython3",
      "version": "3.6.5"
    },
    "colab": {
      "name": "sw_04.ipynb",
      "provenance": [],
      "collapsed_sections": []
    }
  },
  "nbformat": 4,
  "nbformat_minor": 0
}
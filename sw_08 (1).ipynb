{
  "cells": [
    {
      "cell_type": "markdown",
      "metadata": {
        "id": "16w3oDIP8ve1"
      },
      "source": [
        "# Прикладное программное обеспечение\n",
        "#### Python для извлечения и обработки данных\n",
        "\n",
        "\n",
        "##  Функции и модули\n",
        "\n",
        "*Автор: Александра Краснокутская, Валентина Лебедева, НИУ ВШЭ*"
      ]
    },
    {
      "cell_type": "markdown",
      "metadata": {
        "id": "SZaT-R2A8ve7"
      },
      "source": [
        "Начиная с первого семинара, мы активно используем встроенные функции python (такие, как `print()`, `int()` и другие).  \n",
        "Настало время научиться создавать свои.\n",
        "\n",
        "Когда нам может понадобиться создать функцию?\n",
        "\n",
        "* Когда какой-то блок кода потребуется переиспользовать (и не подряд, как в случае цикла, а из разных мест программы)\n",
        "* Когда код становится очень большим, мы можем какие-то его части оформлять в виде функций, чтобы улучшить его читаемость"
      ]
    },
    {
      "cell_type": "markdown",
      "metadata": {
        "id": "KPJSMxqo8ve8"
      },
      "source": [
        "Давайте научимся создавать функции на примере функции для подсчета факториала числа.  \n",
        "\n",
        "Напомним, что факториал целого числа `n` — это произведение целых чисел от 1 до `n`:  4! = 1 * 2 * 3 * 4\n",
        "\n",
        "Сначала решим эту задачу без создания функции."
      ]
    },
    {
      "cell_type": "code",
      "execution_count": null,
      "metadata": {
        "id": "3EAh3OW-8ve9"
      },
      "outputs": [],
      "source": [
        "n = int(input('Number here: '))\n",
        "\n",
        "fact = 1 # 0! и 1! равны 1, так что наше стартовое значение факториала будет равно 1\n",
        "\n",
        "for i in range(2, n + 1):\n",
        "    fact *= i\n",
        "    \n",
        "print(fact)"
      ]
    },
    {
      "cell_type": "markdown",
      "metadata": {
        "id": "7dVX_YWB8vfA"
      },
      "source": [
        "Теперь вынесем подсчет факториала в функцию:"
      ]
    },
    {
      "cell_type": "code",
      "execution_count": null,
      "metadata": {
        "id": "2E6Em8F38vfB"
      },
      "outputs": [],
      "source": [
        "def factorial(n): # factorial — название функции, n — ее аргумент, параметр, от которого зависит результат\n",
        "    fact = 1\n",
        "\n",
        "    for i in range(2, n + 1):\n",
        "        fact *= i\n",
        "    return fact  # Когда результат получен, его надо вернуть с помощью ключевого слова return"
      ]
    },
    {
      "cell_type": "markdown",
      "metadata": {
        "id": "Ky56DvRY8vfC"
      },
      "source": [
        "Теперь мы можем вызывать нашу функцию и пользоваться ей, как если бы она была встроенной."
      ]
    },
    {
      "cell_type": "code",
      "execution_count": null,
      "metadata": {
        "id": "hPx6pJNx8vfD"
      },
      "outputs": [],
      "source": [
        "n = int(input('Number here: '))\n",
        "print(factorial(n))"
      ]
    },
    {
      "cell_type": "markdown",
      "metadata": {
        "id": "5p1HJr2_8vfE"
      },
      "source": [
        "Функции могут иметь много аргументов/параметров. В качестве аргументов могут выступать:\n",
        "* константные значения \n",
        "* переменные\n",
        "* результаты вычисления выражений и исполнения других функций\n",
        "\n",
        "Команда `return` завершает исполнение функции, возвращая ее значение.  \n",
        "\n",
        "Можно прописать возвращение нескольких значений в разных местах. Например, вернемся снова к поиску минимума на двух числах:"
      ]
    },
    {
      "cell_type": "code",
      "execution_count": null,
      "metadata": {
        "id": "519ciC3P8vfF"
      },
      "outputs": [],
      "source": [
        "def min1(a, b):\n",
        "    if a < b:\n",
        "        return a\n",
        "    else:\n",
        "        return b"
      ]
    },
    {
      "cell_type": "code",
      "execution_count": null,
      "metadata": {
        "id": "hsG4zvLx8vfG"
      },
      "outputs": [],
      "source": [
        "a = int(input())\n",
        "b = int(input())\n",
        "print(min1(a, b))"
      ]
    },
    {
      "cell_type": "code",
      "execution_count": null,
      "metadata": {
        "id": "GgVz1sUJ8vfH"
      },
      "outputs": [],
      "source": [
        "def min1():\n",
        "    a = int(input())\n",
        "    b = int(input())\n",
        "    if a < b:\n",
        "        return a\n",
        "    else:\n",
        "        return b"
      ]
    },
    {
      "cell_type": "code",
      "execution_count": null,
      "metadata": {
        "id": "_vPmqfvd8vfH"
      },
      "outputs": [],
      "source": [
        "min1()"
      ]
    },
    {
      "cell_type": "markdown",
      "metadata": {
        "id": "k_UKvTrL8vfI"
      },
      "source": [
        "Теперь с использованием этой функции можно написать поиск минимума на трех числах."
      ]
    },
    {
      "cell_type": "code",
      "execution_count": null,
      "metadata": {
        "id": "Tb4F-Hn48vfI"
      },
      "outputs": [],
      "source": [
        "# Только не забудем занова запустить первую функцию min1\n",
        "def min2(a, b, c):\n",
        "    return min1(a, min1(b, c))"
      ]
    },
    {
      "cell_type": "code",
      "execution_count": null,
      "metadata": {
        "id": "F01Kpah_8vfJ"
      },
      "outputs": [],
      "source": [
        "a = int(input())\n",
        "b = int(input())\n",
        "c = int(input())\n",
        "print(min2(a, b, c))"
      ]
    },
    {
      "cell_type": "markdown",
      "metadata": {
        "id": "A_ReIFEL8vfJ"
      },
      "source": [
        "Можно вернуть и несколько значений в одном месте. Например, отсортируем два числа в порядке возрастания:"
      ]
    },
    {
      "cell_type": "code",
      "execution_count": null,
      "metadata": {
        "id": "J0cYXQts8vfK"
      },
      "outputs": [],
      "source": [
        "def sort2(a, b):\n",
        "    if a < b:\n",
        "        return a, b\n",
        "    else:\n",
        "        return b, a"
      ]
    },
    {
      "cell_type": "code",
      "execution_count": null,
      "metadata": {
        "id": "TvCk1crd8vfK"
      },
      "outputs": [],
      "source": [
        "a = int(input())\n",
        "b = int(input())\n",
        "print(sort2(a, b))"
      ]
    },
    {
      "cell_type": "markdown",
      "metadata": {
        "id": "6FBi0PFD8vfL"
      },
      "source": [
        "### Глобальные и локальные переменные\n",
        "\n",
        "Если переменная задается вне тела функции — это **глобальная переменная**, она \"видна\" и может использоваться в любом месте программы.\n",
        "\n",
        "Если переменная задается внутри тела функции — это **локальная переменная**, которая существует только внутри функции."
      ]
    },
    {
      "cell_type": "code",
      "execution_count": null,
      "metadata": {
        "id": "137vdbwe8vfL"
      },
      "outputs": [],
      "source": [
        "def f():\n",
        "    x = 1\n",
        "\n",
        "\n",
        "f()\n",
        "print(x) # Программа видит переменную x только внутри функции"
      ]
    },
    {
      "cell_type": "markdown",
      "metadata": {
        "id": "2F60svT68vfL"
      },
      "source": [
        "Переменную, созданную внутри функции, можно объявить как глобальную с помощью ключевого слова `global` (лучше этим не злоупотреблять)."
      ]
    },
    {
      "cell_type": "code",
      "execution_count": null,
      "metadata": {
        "id": "AYK1nnTV8vfM"
      },
      "outputs": [],
      "source": [
        "def f():\n",
        "    global x  # Объявляем переменную x - глобальной, она сохранится и вне функции.\n",
        "    x = 1\n",
        "\n",
        "\n",
        "f()\n",
        "print(x)"
      ]
    },
    {
      "cell_type": "markdown",
      "metadata": {
        "id": "PPYgsuU88vfM"
      },
      "source": [
        "### Распаковка и оператор `*` "
      ]
    },
    {
      "cell_type": "markdown",
      "metadata": {
        "id": "iJ0CJx-B8vfM"
      },
      "source": [
        "В примере выше мы увидели, что при возвращении из функции нескольких значений эти значения оборачиваются в кортеж.  \n",
        "Мы можем \"распаковать\" этот кортеж и извлечь эти значения в отдельные переменные."
      ]
    },
    {
      "cell_type": "code",
      "execution_count": null,
      "metadata": {
        "id": "4ISKZZLd8vfN"
      },
      "outputs": [],
      "source": [
        "minimum, maximum = sort2(a, b)\n",
        "print(minimum, maximum)"
      ]
    },
    {
      "cell_type": "markdown",
      "metadata": {
        "id": "oVZw8heY8vfN"
      },
      "source": [
        "Распаковка работает не только с результатами вызова функции, но и с любыми кортежами и списками."
      ]
    },
    {
      "cell_type": "code",
      "execution_count": null,
      "metadata": {
        "id": "fz_zJAwC8vfN"
      },
      "outputs": [],
      "source": [
        "first, second, third = (1, 2, 3)\n",
        "print(first, second, third)"
      ]
    },
    {
      "cell_type": "code",
      "execution_count": null,
      "metadata": {
        "id": "4M5hQu6d8vfN"
      },
      "outputs": [],
      "source": [
        "first, second, third = [4, 5, 6]\n",
        "print(first, second, third)"
      ]
    },
    {
      "cell_type": "markdown",
      "metadata": {
        "id": "SFz51P-m8vfO"
      },
      "source": [
        "Мы можем извлечь из списка или кортежа несколько переменных, а остаток сохранить в новый список с помощью оператора `*`."
      ]
    },
    {
      "cell_type": "code",
      "execution_count": null,
      "metadata": {
        "id": "LTKVG4vU8vfO"
      },
      "outputs": [],
      "source": [
        "first, second, *newList = list(range(10))\n",
        "print(first, second, newList)"
      ]
    },
    {
      "cell_type": "markdown",
      "metadata": {
        "id": "ALSJu3348vfO"
      },
      "source": [
        "Что делает это оператор `*`? Он \"раскрывает\" список `newList` и заставляет программу видеть его так, будто это не список, а просто все его элементы, записанные через запятую.\n",
        "\n",
        "Таким образом мы можем выводить элементы списка через пробел без использования `.join()` и `map()`."
      ]
    },
    {
      "cell_type": "code",
      "execution_count": null,
      "metadata": {
        "id": "hsK5cOkp8vfP"
      },
      "outputs": [],
      "source": [
        "print(*list(range(10)))"
      ]
    },
    {
      "cell_type": "markdown",
      "metadata": {
        "id": "B7h0u4Vm8vfP"
      },
      "source": [
        "Еще один интересный эффект оператора `*` — возможность создания функций с неограниченным числом параметров.  \n",
        "\n",
        "В качестве примера можно рассмотреть функцию, которая суммирует свои аргументы."
      ]
    },
    {
      "cell_type": "code",
      "execution_count": null,
      "metadata": {
        "id": "U9cut_8q8vfP"
      },
      "outputs": [],
      "source": [
        "def mySum(*args):\n",
        "    numSum = 0\n",
        "    for number in args:\n",
        "        numSum += number\n",
        "    return numSum"
      ]
    },
    {
      "cell_type": "code",
      "execution_count": null,
      "metadata": {
        "id": "CEGVgFkA8vfP"
      },
      "outputs": [],
      "source": [
        "print(mySum(1, 2))\n",
        "print(mySum(1, 2, 3, 4))"
      ]
    },
    {
      "cell_type": "markdown",
      "metadata": {
        "id": "gNOFHfXJ8vfQ"
      },
      "source": [
        "# Задачи для тренировки\n",
        "Часть из этих задач мы решим в классе. Но если мы даже не успеем  — попытайтесь сделать их дома сами.\n",
        "\n",
        "### Задание 1. Округление списка чисел\n",
        "\n",
        "На вход подается список чисел с плавающей точкой через пробел. Верните список, содержащий результаты округления этих чисел.  \n",
        "Решите задание двумя способами — через списковые включения (List comprehensions) или через функцию `map()`.\n",
        "\n",
        "#### Вариант полегче\n",
        "\n",
        "Решите задачу с помощью встроенной функции `round()`.  \n",
        "\n",
        "#### Вариант посложнее — 1 \n",
        "\n",
        "Решите задачу с помощью библиотеки `math`. Округлите в большую сторону.\n",
        "\n",
        "#### Вариант посложнее — 2\n",
        "Решите задачу, написав свою функцию, округляющую числа по российским правилам (дробная часть, равная 0.5, округляется вверх). "
      ]
    },
    {
      "cell_type": "code",
      "execution_count": null,
      "metadata": {
        "id": "CwpjYaA88vfQ"
      },
      "outputs": [],
      "source": [
        "L = [4.5, 7.3, 2.4, 3.5]"
      ]
    },
    {
      "cell_type": "code",
      "execution_count": null,
      "metadata": {
        "id": "NFLkvMUy8vfQ"
      },
      "outputs": [],
      "source": [
        "for i in range(len(L)):\n",
        "    L[i] = round(L[i])\n",
        "L"
      ]
    },
    {
      "cell_type": "code",
      "execution_count": null,
      "metadata": {
        "id": "GAKl4CVf8vfR"
      },
      "outputs": [],
      "source": [
        "[round(i) for i in L]"
      ]
    },
    {
      "cell_type": "code",
      "execution_count": null,
      "metadata": {
        "id": "qyz6npVb8vfR"
      },
      "outputs": [],
      "source": [
        "list(map(round, L))"
      ]
    },
    {
      "cell_type": "code",
      "execution_count": null,
      "metadata": {
        "id": "0rZQtDmf8vfR"
      },
      "outputs": [],
      "source": [
        "from math import ceil\n",
        "\n",
        "list(map(ceil, L))"
      ]
    },
    {
      "cell_type": "code",
      "execution_count": null,
      "metadata": {
        "id": "HhEvqf1c8vfS"
      },
      "outputs": [],
      "source": [
        "from math import modf\n",
        "\n",
        "L_new = []\n",
        "for x in L:\n",
        "    if modf(x)[0] < 0.5:\n",
        "        L_new.append(int(modf(x)[1]))\n",
        "    else:\n",
        "        L_new.append(int(modf(x)[1]) + 1)"
      ]
    },
    {
      "cell_type": "code",
      "execution_count": null,
      "metadata": {
        "id": "9b0EBPHt8vfS"
      },
      "outputs": [],
      "source": [
        "[int(modf(x)[1]) if modf(x)[0] < 0.5 else int(modf(x)[1]) + 1 for x in L]"
      ]
    },
    {
      "cell_type": "code",
      "execution_count": null,
      "metadata": {
        "id": "b8Nv58Ag8vfS"
      },
      "outputs": [],
      "source": [
        "def new_round(L):\n",
        "    return [int(modf(x)[1]) if modf(x)[0] < 0.5 else int(modf(x)[1]) + 1 for x in L]"
      ]
    },
    {
      "cell_type": "code",
      "execution_count": null,
      "metadata": {
        "id": "PDEGUKoi8vfS"
      },
      "outputs": [],
      "source": [
        "new_round(L)"
      ]
    },
    {
      "cell_type": "code",
      "execution_count": null,
      "metadata": {
        "id": "E4EszLYF8vfT"
      },
      "outputs": [],
      "source": [
        "def new_round2(x):\n",
        "    if modf(x)[0] < 0.5:\n",
        "        return int(modf(x)[1])\n",
        "    else:\n",
        "        return int(modf(x)[1])+1"
      ]
    },
    {
      "cell_type": "code",
      "execution_count": null,
      "metadata": {
        "id": "76vxBL638vfT"
      },
      "outputs": [],
      "source": [
        "list(map(new_round2, L))"
      ]
    },
    {
      "cell_type": "markdown",
      "metadata": {
        "id": "Q47aLlRu8vfT"
      },
      "source": [
        "### Задание 2. Суммы цифр\n",
        "\n",
        "На вход подается список целых чисел. Верните список, содержащий суммы цифр этих чисел.  \n",
        "Решите задание через цикл `for` и функцию `map()`.\n",
        "\n",
        "\n",
        "**Пример ввода**  \n",
        "765 98 7 5555 13\n",
        "\n"
      ]
    },
    {
      "cell_type": "code",
      "execution_count": null,
      "metadata": {
        "id": "m2xCq_958vfT"
      },
      "outputs": [],
      "source": [
        "L = input().split()"
      ]
    },
    {
      "cell_type": "code",
      "execution_count": null,
      "metadata": {
        "id": "Pyqpgy8Q8vfU"
      },
      "outputs": [],
      "source": [
        "L"
      ]
    },
    {
      "cell_type": "code",
      "execution_count": null,
      "metadata": {
        "id": "fi4QRq2y8vfU"
      },
      "outputs": [],
      "source": [
        "L_new = []\n",
        "for i in L:\n",
        "    L_new.append(sum(list(map(int, list(i)))))"
      ]
    },
    {
      "cell_type": "code",
      "execution_count": null,
      "metadata": {
        "id": "_MxpkDsP8vfU"
      },
      "outputs": [],
      "source": [
        "L_new"
      ]
    },
    {
      "cell_type": "code",
      "execution_count": null,
      "metadata": {
        "id": "MxVOq9hU8vfV"
      },
      "outputs": [],
      "source": [
        "[sum(list(map(int, list(i)))) for i in L]"
      ]
    },
    {
      "cell_type": "code",
      "execution_count": null,
      "metadata": {
        "id": "Vea5330i8vfV"
      },
      "outputs": [],
      "source": [
        "def summ_list():\n",
        "    L = input().split()\n",
        "    return [sum(list(map(int, list(i)))) for i in L]"
      ]
    },
    {
      "cell_type": "code",
      "execution_count": null,
      "metadata": {
        "id": "qHAi9BKr8vfV"
      },
      "outputs": [],
      "source": [
        "summ_list()"
      ]
    }
  ],
  "metadata": {
    "kernelspec": {
      "display_name": "Python 3",
      "language": "python",
      "name": "python3"
    },
    "language_info": {
      "codemirror_mode": {
        "name": "ipython",
        "version": 3
      },
      "file_extension": ".py",
      "mimetype": "text/x-python",
      "name": "python",
      "nbconvert_exporter": "python",
      "pygments_lexer": "ipython3",
      "version": "3.6.5"
    },
    "colab": {
      "name": "sw_08.ipynb",
      "provenance": [],
      "collapsed_sections": [
        "6FBi0PFD8vfL",
        "PPYgsuU88vfM",
        "Q47aLlRu8vfT"
      ]
    }
  },
  "nbformat": 4,
  "nbformat_minor": 0
}
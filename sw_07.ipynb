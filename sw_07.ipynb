{
  "cells": [
    {
      "cell_type": "markdown",
      "metadata": {
        "id": "w2Yd8chh8g-V"
      },
      "source": [
        "# Прикладное программное обеспечение\n",
        "#### Python для извлечения и обработки данных\n",
        "\n",
        "\n",
        "##  Вложенные структуры данных\n",
        "\n",
        "*Автор: Татьяна Рогович, Александра Краснокутская, НИУ ВШЭ*"
      ]
    },
    {
      "cell_type": "markdown",
      "metadata": {
        "id": "3hd34Q8b8g-b"
      },
      "source": [
        "Частично мы уже затрагивали эту тему при решении задач с использованием списков и словарей. \n",
        "\n",
        "Поговорим о словарях. Раз уж питоновские словари так похожи на обычные, давайте представим, что у нас есть словарь, где все слова многозначные. Ключом будет слово, а значением — целый список."
      ]
    },
    {
      "cell_type": "code",
      "execution_count": null,
      "metadata": {
        "id": "QjI0H6PS8g-c"
      },
      "outputs": [],
      "source": [
        "my_dict = {'swear' : ['клясться', 'ругаться'], \n",
        "           'dream' : ['спать', 'мечтать']}"
      ]
    },
    {
      "cell_type": "markdown",
      "metadata": {
        "id": "s_czmZrX8g-f"
      },
      "source": [
        "По ключу мы получим значение в виде списка:"
      ]
    },
    {
      "cell_type": "code",
      "execution_count": null,
      "metadata": {
        "id": "si0NQjr38g-f",
        "outputId": "14dd34fc-adba-433b-8f07-284c29e33534"
      },
      "outputs": [
        {
          "data": {
            "text/plain": [
              "['клясться', 'ругаться']"
            ]
          },
          "execution_count": 3,
          "metadata": {},
          "output_type": "execute_result"
        }
      ],
      "source": [
        "my_dict['swear']"
      ]
    },
    {
      "cell_type": "markdown",
      "metadata": {
        "id": "r18ItKns8g-h"
      },
      "source": [
        "Так как значением является список, можем отдельно обращаться к его элементам:"
      ]
    },
    {
      "cell_type": "code",
      "execution_count": null,
      "metadata": {
        "id": "6eZTK1tb8g-i",
        "outputId": "d42ccb50-e866-4083-877f-71271d19670f"
      },
      "outputs": [
        {
          "data": {
            "text/plain": [
              "'клясться'"
            ]
          },
          "execution_count": 4,
          "metadata": {},
          "output_type": "execute_result"
        }
      ],
      "source": [
        "my_dict['swear'][0] # Первый элемент"
      ]
    },
    {
      "cell_type": "markdown",
      "metadata": {
        "id": "GHlLaz9o8g-k"
      },
      "source": [
        "Можем пойти дальше и создать словарь, где значениями являются словари! Например, представим, что в некотором сообществе проходят выборы, и каждый участник может проголосовать за любое число кандидатов. Данные сохраняются в виде словаря, где ключами являются имена пользователей, а значениями — пары кандидат-голос."
      ]
    },
    {
      "cell_type": "code",
      "execution_count": null,
      "metadata": {
        "id": "PP18LLjM8g-l"
      },
      "outputs": [],
      "source": [
        "votes = {'user1': {'cand1': '+', 'cand2': '-'}, # '+' - за, '-' - против, 0 - воздержался\n",
        "         'user2' : {'cand1': 0, 'cand3' : '+'}} "
      ]
    },
    {
      "cell_type": "code",
      "execution_count": null,
      "metadata": {
        "id": "bKM1o4zJ8g-m",
        "outputId": "46c78421-c8ed-4e33-d63a-8fba7f1d91d6"
      },
      "outputs": [
        {
          "data": {
            "text/plain": [
              "{'user1': {'cand1': '+', 'cand2': '-'}, 'user2': {'cand1': 0, 'cand3': '+'}}"
            ]
          },
          "execution_count": 6,
          "metadata": {},
          "output_type": "execute_result"
        }
      ],
      "source": [
        "votes"
      ]
    },
    {
      "cell_type": "markdown",
      "metadata": {
        "id": "i-sNhoCS8g-n"
      },
      "source": [
        "По аналогии с вложенными списками по ключам мы сможем обратиться к значению в словаре, который сам является значением в votes (да, эту фразу нужно осмыслить):"
      ]
    },
    {
      "cell_type": "code",
      "execution_count": null,
      "metadata": {
        "id": "rujVbrqi8g-o",
        "outputId": "e39c95b6-83f5-4b5e-83dd-c0c5c3985bf8"
      },
      "outputs": [
        {
          "data": {
            "text/plain": [
              "'+'"
            ]
          },
          "execution_count": 7,
          "metadata": {},
          "output_type": "execute_result"
        }
      ],
      "source": [
        "votes['user1']['cand1'] # Берем значение, соответствующее ключу user1, в нем – ключу cand1"
      ]
    },
    {
      "cell_type": "markdown",
      "metadata": {
        "id": "30I0L5BH8g-o"
      },
      "source": [
        "Объединять словари можно через метод `.update()`. Обратите внимание, что если в словарях есть одинаковые ключи, то они перезапишутся ключами того словаря, который добавляем."
      ]
    },
    {
      "cell_type": "code",
      "execution_count": null,
      "metadata": {
        "id": "Uhq9v2SK8g-p",
        "outputId": "43b72ec8-5a77-47f8-a76b-15706c55e3a7"
      },
      "outputs": [
        {
          "data": {
            "text/plain": [
              "{'user1': {'cand1': '+', 'cand2': '-'},\n",
              " 'user2': {'cand1': 0, 'cand3': '+'},\n",
              " 'swear': ['клясться', 'ругаться'],\n",
              " 'dream': ['спать', 'мечтать']}"
            ]
          },
          "execution_count": 8,
          "metadata": {},
          "output_type": "execute_result"
        }
      ],
      "source": [
        "votes.update(my_dict)\n",
        "votes"
      ]
    },
    {
      "cell_type": "code",
      "execution_count": null,
      "metadata": {
        "id": "4083ftP-8g-p",
        "outputId": "70c71f25-a019-465e-d23a-e33850c4cd49"
      },
      "outputs": [
        {
          "name": "stdout",
          "output_type": "stream",
          "text": [
            "{'user1': {'cand1': '+', 'cand2': '-'}, 'user2': {'cand1': 0, 'cand3': '+'}, 'swear': ['клясться', 'ругаться'], 'dream': ['спать', 'мечтать']}\n"
          ]
        }
      ],
      "source": [
        "votes['swear'] = 1      # Добавим в словарь votes ключ swear, чтобы проверить, что произойдет, \n",
        "                        # когда объединим с my_dict, в котором есть такой ключ\\n\",\n",
        "votes.update(my_dict)\n",
        "print(votes)            # swear в votes перезаписался swear из mydict"
      ]
    },
    {
      "cell_type": "markdown",
      "metadata": {
        "id": "AH7Bq7058g-q"
      },
      "source": [
        "На самом деле, все это вы уже знаете — мы умеем работать со списками, словарями, кортежами. Порпактикуемся на задачах!"
      ]
    },
    {
      "cell_type": "markdown",
      "metadata": {
        "id": "F0nXwN4B8g-q"
      },
      "source": [
        "# Задачи для тренировки\n",
        "Часть из этих задач мы решим в классе. Но если мы даже не успеем  — попытайтесь сделать их дома сами.\n",
        "\n",
        "### Задание 1. \n",
        "\n",
        "Дан список, содержащий строки, целые числа и числа с плавающей точкой. \n",
        "\n",
        "+ Разбейте его на три списка так, чтобы в одном остались только строки, в другом  — только целые числа, а в третьем  — только числа с плавающей точкой. Заметьте, что при проверке типов название типа пишется без кавычек, например `int`. Напечатайте их.\n",
        "\n",
        "+ Создайте словарь с одноименными ключами (ints, floats, strings), где значениями будут являться полученные списки."
      ]
    },
    {
      "cell_type": "code",
      "execution_count": null,
      "metadata": {
        "id": "7pAnWQZR8g-r",
        "outputId": "c1d2eb6e-b161-49f8-99c7-11d62e2c2e8e"
      },
      "outputs": [
        {
          "name": "stdout",
          "output_type": "stream",
          "text": [
            "[1, 2, 1]\n",
            "[5.6, 7.5]\n",
            "['Boo', 'RocknRoll']\n"
          ]
        }
      ],
      "source": [
        "list1 = [1, 2, 5.6, 7.5, 'Boo', 1, 'RocknRoll']\n",
        "\n",
        "ints, floats, strings = [], [], []\n",
        "for i in list1:\n",
        "    if type(i) == int:\n",
        "        ints.append(i)\n",
        "    elif type(i) == float:\n",
        "        floats.append(i)\n",
        "    else:\n",
        "        strings.append(i)\n",
        "print(ints)\n",
        "print(floats)\n",
        "print(strings)"
      ]
    },
    {
      "cell_type": "code",
      "execution_count": null,
      "metadata": {
        "id": "VPNBsBNf8g-s",
        "outputId": "c8376ba4-264a-4cdf-e17d-8892a43832b9"
      },
      "outputs": [
        {
          "data": {
            "text/plain": [
              "{'ints': [1, 2, 1], 'floats': [5.6, 7.5], 'strings': ['Boo', 'RocknRoll']}"
            ]
          },
          "execution_count": 11,
          "metadata": {},
          "output_type": "execute_result"
        }
      ],
      "source": [
        "my_dict = dict(ints=ints, floats=floats, strings=strings)\n",
        "my_dict"
      ]
    },
    {
      "cell_type": "markdown",
      "metadata": {
        "id": "nPZd3khZ8g-s"
      },
      "source": [
        "### Задание 2. Вложенные словари\n",
        "\n",
        "Вам дан словарь, содержащий в себе списки словарей. Напишите код, который выведет на экран 'разработчик' из списка ключа Windows в в первом словаре из списка 2.\n",
        "\n",
        "\n"
      ]
    },
    {
      "cell_type": "code",
      "execution_count": null,
      "metadata": {
        "id": "HgX4o5GE8g-t"
      },
      "outputs": [],
      "source": [
        "dict_of_lists = {'Список1': [{'Python': 'язык программирования'}, \n",
        "                             {'R':'язык программирования', 'LaTEX' : 'язык верстки' }\n",
        "                            ], \n",
        "                 'Список2' : [{'Windows' : ['операционная система', 'разработчик'], 'UNIX' : 'операционная система'},\n",
        "                              {'IBM': ['компания-производитель', 'разработчик'], 'IPv6' : 'интернет-протокол' }]}\n"
      ]
    },
    {
      "cell_type": "code",
      "execution_count": null,
      "metadata": {
        "id": "nmnqoihd8g-t",
        "outputId": "50d12905-aed2-401e-a409-7f3f8956f2af"
      },
      "outputs": [
        {
          "data": {
            "text/plain": [
              "'операционная система'"
            ]
          },
          "execution_count": 16,
          "metadata": {},
          "output_type": "execute_result"
        }
      ],
      "source": [
        "dict_of_lists['Список2'][0]['Windows'][0]"
      ]
    },
    {
      "cell_type": "markdown",
      "metadata": {
        "id": "dNckehBr8g-u"
      },
      "source": [
        "### Задание 3. Оценки — 1\n",
        "\n",
        "Вам дан словарь с именами студентов и их оценками за курс по десятибаллной шкале. Напишите программу, которая бы считала среднюю оценку за курс и округляла ее (используйте функцию `round()`). Чтобы найти среднюю оценку нужно сложить оценки всех студентов за курс и разделить сумму на количество студентов. Найти сумму элементов списка, можно функцией `sum()`. Так, первый курс — это нулевой элемент списка оценок каждого студента.\n",
        "\n",
        "Программа должна приниматься на ввод номер курса (от 1 до 8, обратите внимание, что не от 0 до 7), а выводить среднюю оценку за этот курс."
      ]
    },
    {
      "cell_type": "code",
      "execution_count": null,
      "metadata": {
        "id": "lUoeVFFq8g-u"
      },
      "outputs": [],
      "source": [
        "marks = {'Mary' : [5, 8, 9, 10, 3, 5, 6, 6],\n",
        "         'John' : [3, 3, 6, 8, 2, 1, 8, 5],\n",
        "         'Alex' : [4, 4, 7, 4, 7, 3, 2, 9],\n",
        "         'Patricia' : [2, 1, 6, 8, 2, 3, 7, 4]}\n",
        "\n",
        "categories = {'отлично' : [8, 9, 10],\n",
        "              'хорошо' : [6, 7],\n",
        "              'удовлетворительно' : [4, 5],\n",
        "              'неуд' : [0, 1, 2, 3]}"
      ]
    },
    {
      "cell_type": "code",
      "execution_count": null,
      "metadata": {
        "id": "fzj19RuQ8g-v",
        "outputId": "90716dc4-107d-4164-cc7e-88a2488df6f4"
      },
      "outputs": [
        {
          "name": "stdout",
          "output_type": "stream",
          "text": [
            "Номер курса: 1\n",
            "Курс 1 - 4\n"
          ]
        }
      ],
      "source": [
        "course = int(input('Номер курса: ')) - 1\n",
        "\n",
        "L = []\n",
        "\n",
        "for i in marks:\n",
        "    L.append(marks[i][course])\n",
        "    \n",
        "print('Курс %i - %i' % (course + 1, round(sum(L)/len(L))))"
      ]
    },
    {
      "cell_type": "markdown",
      "metadata": {
        "id": "j7ohZmyL8g-v"
      },
      "source": [
        "### Задание 3. Оценки — 2\n",
        "\n",
        "Напишите программу, которая бы сопостовляла оценку, найденную в предыдущем пункте, со вторым словарем, где оценкам в числах соответсвуют категории \"хорошо\", \"отлично\" и так далее. Программа принимает на ввод номер курса (от 1 до 8, обратите внимание, что не от 0 до 7), подсчитывает среднюю оценку за этот курс, а выводит буквенное значение оценки от \"неуд\" до \"отлично\" из словаря `categories`."
      ]
    },
    {
      "cell_type": "code",
      "execution_count": null,
      "metadata": {
        "id": "S52tO9OW8g-w",
        "outputId": "aaabb84e-b336-4fab-eee7-1aec489a6988"
      },
      "outputs": [
        {
          "name": "stdout",
          "output_type": "stream",
          "text": [
            "Номер курса: 4\n",
            "Курс 4 - 8\n",
            "Курс 4 - отлично\n"
          ]
        }
      ],
      "source": [
        "course = int(input('Номер курса: ')) - 1\n",
        "\n",
        "L = []\n",
        "\n",
        "for i in marks:\n",
        "    L.append(marks[i][course])\n",
        "    \n",
        "print('Курс %i - %i' % (course + 1, round(sum(L)/len(L))))\n",
        "\n",
        "av = round(sum(L)/len(L))\n",
        "\n",
        "for key in categories:\n",
        "    if av in categories[key]:\n",
        "        print('Курс %i - %s' % (course + 1, key))"
      ]
    },
    {
      "cell_type": "markdown",
      "metadata": {
        "id": "wcTrfmOb8g-w"
      },
      "source": [
        "### Задание 4. Магнолия \n",
        "\n",
        "В магазине \"Магнолия\" проходит акция — даются скидки на товары, название которых начинается на заданную букву.\n",
        "\n",
        "У Маши есть список покупок, состоящий из строк вида \"цена, название, количество\". Помогите ей посчитать, сколько денег она сэкономит (общую сумму скидки).\n",
        "\n",
        "Количество записей в Машином списке покупок может быть любым. Каждая запись вводится с новой строки. Записи вводятся до тех пор, пока пользователь не введет \"Конец списка\". После этого одной строкой вводится буква, по которой сегодня определяется скидка. Если название продукта начинается на заданную букву, то на этот продукт действует скидка 15 процентов.\n",
        "\n",
        "Образец вывода смотрите в примере. Если ни на один товар скидка не действует, то программа должна вывести \"Скидка: 0 рублей\"\n",
        "\n",
        "  \n",
        "`[цена (int), название (str), количество (int)]`  \n",
        "Например, `[120, мандарины (1 кг), 2]`\n",
        "\n",
        "**ФОРМАТ ВВОДА**  \n",
        "120 руб., мандарины (1 кг), 2 кг.  \n",
        "70 руб., молоко, 3 пакета  \n",
        "15 руб., батон сдобный, 1 штука  \n",
        "345 руб., белое вино, 1 бутылка  \n",
        "120 руб., моцарелла, 2 упаковки  \n",
        "Конец списка  \n",
        "м  \n",
        "\n",
        "**ФОРМАТ ВЫВОДА**\n",
        "\n",
        "Cкидка: 103.5 руб.\n"
      ]
    },
    {
      "cell_type": "code",
      "execution_count": null,
      "metadata": {
        "id": "uV2zRriC8g-x",
        "outputId": "c0694480-aee4-4124-c1ac-1dabed9faf23"
      },
      "outputs": [
        {
          "name": "stdout",
          "output_type": "stream",
          "text": [
            "120 руб., мандарины (1 кг), 2 кг.\n",
            "70 руб., молоко, 3 пакета\n",
            "15 руб., батон сдобный, 1 штука\n",
            "345 руб., белое вино, 1 бутылка\n",
            "120 руб., моцарелла, 2 упаковки\n",
            "Конец списка\n",
            "м\n",
            "[[120, 'мандарины (1 кг)', 2], [70, 'молоко', 3], [15, 'батон сдобный', 1], [345, 'белое вино', 1], [120, 'моцарелла', 2]] м\n"
          ]
        }
      ],
      "source": [
        "item = input()\n",
        "\n",
        "shopping_list = []\n",
        "\n",
        "while item != 'Конец списка':\n",
        "    L = []\n",
        "    L.append(int(item.split(', ')[0].split()[0]))\n",
        "    L.append(item.split(', ')[1])\n",
        "    L.append(int(item.split(', ')[2].split()[0]))\n",
        "    \n",
        "    shopping_list.append(L)\n",
        "    \n",
        "    item = input()\n",
        "    \n",
        "letter = input()\n",
        "\n",
        "print(shopping_list, letter)"
      ]
    },
    {
      "cell_type": "code",
      "execution_count": null,
      "metadata": {
        "id": "TacRL3bZ8g-x",
        "outputId": "9dec94ac-670a-40ae-b6b6-8e30bcbbf2f3"
      },
      "outputs": [
        {
          "name": "stdout",
          "output_type": "stream",
          "text": [
            "Скидка: 103.50 руб.\n"
          ]
        }
      ],
      "source": [
        "discount = 0\n",
        "\n",
        "for item in shopping_list:\n",
        "    if item[1][0] == letter:\n",
        "        discount += item[0]*item[2]*0.15\n",
        "        \n",
        "print('Скидка: %.2f руб.' % (discount))"
      ]
    }
  ],
  "metadata": {
    "kernelspec": {
      "display_name": "Python 3",
      "language": "python",
      "name": "python3"
    },
    "language_info": {
      "codemirror_mode": {
        "name": "ipython",
        "version": 3
      },
      "file_extension": ".py",
      "mimetype": "text/x-python",
      "name": "python",
      "nbconvert_exporter": "python",
      "pygments_lexer": "ipython3",
      "version": "3.6.5"
    },
    "colab": {
      "name": "sw_07.ipynb",
      "provenance": [],
      "collapsed_sections": []
    }
  },
  "nbformat": 4,
  "nbformat_minor": 0
}
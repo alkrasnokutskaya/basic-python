{
  "cells": [
    {
      "cell_type": "markdown",
      "metadata": {
        "id": "egPSGUCt8Tbl"
      },
      "source": [
        "# Прикладное программное обеспечение\n",
        "#### Python для извлечения и обработки данных\n",
        "\n",
        "\n",
        "## Сортировки, словари, множества\n",
        "\n",
        "*Автор: Валентин Бирюков, Татьяна Рогович, Александра Краснокутская, НИУ ВШЭ*"
      ]
    },
    {
      "cell_type": "markdown",
      "metadata": {
        "id": "6T_ZlnhV8Tbq"
      },
      "source": [
        "Мы продолжаем работать со структурами данных — контейнерами. Мы уже знаем списки и кортежи — упорядоченные структуры, которые могут хранить в себе объекты любых типов, к которым мы можем обратиться по индексу. Сегодня мы поговорим о стуктурах неупорядоченных — множествах и словарях. \n",
        "\n",
        "### Множества\n",
        "Множества хранят некоторое количество объектов, но, в отличие от списка, один объект может храниться в множестве не более одного раза. Кроме того, порядок элементов множества произволен, им нельзя управлять.\n",
        "\n",
        "Тип называется `set`, это же является конструктором типа, т.е. в функцию `set()` можно передать произвольную последовательность, и из этой последовательности будет построено множество:"
      ]
    },
    {
      "cell_type": "code",
      "execution_count": null,
      "metadata": {
        "id": "juLQ2Jqw8Tbr",
        "outputId": "829e917a-3442-42ac-ff46-66a882bb217e"
      },
      "outputs": [
        {
          "name": "stdout",
          "output_type": "stream",
          "text": [
            "{10, 20, 30}\n",
            "{4, 5, 6}\n",
            "{0, 1, 2, 3, 4, 5, 6, 7, 8, 9}\n",
            "set()\n"
          ]
        }
      ],
      "source": [
        "print(set([10, 20, 30])) # Передаем список\n",
        "print(set((4, 5, 6)))    # Передаем кортеж\n",
        "print(set(range(10)))\n",
        "print(set())             # Пустое множество"
      ]
    },
    {
      "cell_type": "markdown",
      "metadata": {
        "id": "Ne6qJBJl8Tbv"
      },
      "source": [
        "Другой способ создать множество — это перечислить его элементы в фигурных скобках (список — в квадратных, кортеж в круглых, а множество — в фигурных)."
      ]
    },
    {
      "cell_type": "code",
      "execution_count": null,
      "metadata": {
        "id": "CIkdpZxu8Tbv",
        "outputId": "a2829212-27ba-43bd-9323-21c70135c915"
      },
      "outputs": [
        {
          "name": "stdout",
          "output_type": "stream",
          "text": [
            "{2, 3, 5, 7}\n",
            "{'cat', 'horse', 'dog'}\n"
          ]
        }
      ],
      "source": [
        "primes = {2, 3, 5, 7}\n",
        "animals = {\"cat\", \"dog\", \"horse\", 'cat'}\n",
        "print(primes)\n",
        "print(animals)"
      ]
    },
    {
      "cell_type": "markdown",
      "metadata": {
        "id": "01TUPgiR8Tbw"
      },
      "source": [
        "Кстати, обратите внимание, что множество может состоять только из уникальных объектов. Выше множество `animals` включает в себя только одну кошку несмотря на то, что в конструктор мы передали `'cat'` два раза. Преобразовать в список в множество — самый простой способ узнать количество уникальных объектов.\n",
        "\n",
        "Множества — это последовательности, с ними работает почти всё, что работает с последовательностями:"
      ]
    },
    {
      "cell_type": "code",
      "execution_count": null,
      "metadata": {
        "id": "NXb7kJoH8Tbx",
        "outputId": "e298ae3b-2f7e-4dda-ade0-b826ad95117a"
      },
      "outputs": [
        {
          "name": "stdout",
          "output_type": "stream",
          "text": [
            "4\n",
            "False\n",
            "False\n",
            "2\n",
            "3\n",
            "5\n",
            "7\n"
          ]
        }
      ],
      "source": [
        "print(len(primes))      # Длина\n",
        "print(11 in primes)     # in хорошо и быстро работает для множеств\n",
        "print(\"cow\" in animals)\n",
        "for p in primes:        # Можно перебирать множество\n",
        "    print(p)"
      ]
    },
    {
      "cell_type": "code",
      "execution_count": null,
      "metadata": {
        "id": "rN-sMxyM8Tbz",
        "outputId": "e7710bba-6e60-4de0-d349-8554f2706a2b"
      },
      "outputs": [
        {
          "ename": "TypeError",
          "evalue": "'set' object does not support indexing",
          "output_type": "error",
          "traceback": [
            "\u001b[1;31m---------------------------------------------------------------------------\u001b[0m",
            "\u001b[1;31mTypeError\u001b[0m                                 Traceback (most recent call last)",
            "\u001b[1;32m<ipython-input-4-8c51614e1a2d>\u001b[0m in \u001b[0;36m<module>\u001b[1;34m\u001b[0m\n\u001b[1;32m----> 1\u001b[1;33m \u001b[0mprimes\u001b[0m\u001b[1;33m[\u001b[0m\u001b[1;36m0\u001b[0m\u001b[1;33m]\u001b[0m\u001b[1;33m\u001b[0m\u001b[0m\n\u001b[0m",
            "\u001b[1;31mTypeError\u001b[0m: 'set' object does not support indexing"
          ]
        }
      ],
      "source": [
        "primes[0]"
      ]
    },
    {
      "cell_type": "markdown",
      "metadata": {
        "id": "SXOU8JN88Tbz"
      },
      "source": [
        "Все возможные операции с множествами: https://python-scripts.com/sets \n",
        "\n",
        "Отдельно мы посмотрим на так называемые операции над множествами. Если вы знаете круги Эйлера, то помните как различают объекты множеств — пересечение, объекты, которые принадлежат множеству а, но не принадлежат b и так далее. Давайте посмотрим, как эти операции реализовани в питоне."
      ]
    },
    {
      "cell_type": "code",
      "execution_count": null,
      "metadata": {
        "id": "lt_Wksdu8Tb0",
        "outputId": "b75824dd-0da8-4f60-c6e4-e382e40fd406"
      },
      "outputs": [
        {
          "name": "stdout",
          "output_type": "stream",
          "text": [
            "True\n",
            "False\n",
            "True\n",
            "{1, 2, 3, 4, 5, 6}\n",
            "{3, 4}\n",
            "{1, 2}\n",
            "{1, 2, 5, 6}\n",
            "{1, 2, 3, 4}\n"
          ]
        }
      ],
      "source": [
        "a = {1, 2, 3, 4}\n",
        "b = {3, 4, 5, 6}\n",
        "c = {2, 3}\n",
        "\n",
        "print(c <= a) # Проверка на подмножество (с подномжество a)\n",
        "print(c <= b) # Не подмножество, т.к. в b нет 2 \n",
        "print(a >= c) \n",
        "print(a | b)  # Объединение\n",
        "print(a & b)  # Пересечение\n",
        "print(a - b)  # Разность множеств (все что в a, кроме b)\n",
        "print(a ^ b)  # Симметрическая разность множеств (объединение без пересечения)\n",
        "\n",
        "c = a.copy()  # Копирование множества, или set(a)\n",
        "print(c)"
      ]
    },
    {
      "cell_type": "markdown",
      "metadata": {
        "id": "AXfzw3_O8Tb1"
      },
      "source": [
        "Предыдущие операции не меняли множества, создавали новые. А как менять множество:"
      ]
    },
    {
      "cell_type": "code",
      "execution_count": null,
      "metadata": {
        "id": "t4V-R8m88Tb1",
        "outputId": "fd364f38-4547-452f-fa54-1ced53bd1112"
      },
      "outputs": [
        {
          "name": "stdout",
          "output_type": "stream",
          "text": [
            "{10, 1, 2, 3}\n",
            "{10, 2, 3}\n",
            "{2, 3}\n",
            "10\n",
            "set()\n"
          ]
        }
      ],
      "source": [
        "s = {1, 2, 3}\n",
        "s.add(10)    # Добавить\n",
        "print(s)     # Обратите внимание, что порядок элементов непредсказуем\n",
        "s.remove(1)  # Удаление элемента\n",
        "s.discard(1) # Аналогично, но не будет ошибки, если вдруг такого элемента нет в множестве\n",
        "print(s)\n",
        "x = s.pop()  # Удаляет и возвращает один произвольный элемент множества (можем сохранить его в переменную)\n",
        "print(s)\n",
        "print(x)\n",
        "s.clear()    # Очистить\n",
        "print(s)"
      ]
    },
    {
      "cell_type": "markdown",
      "metadata": {
        "id": "0Oh9tjsf8Tb2"
      },
      "source": [
        "Как мы сокращали арифметические операции раньше (например, `+=`), так же можно сокращать операции над множествами."
      ]
    },
    {
      "cell_type": "code",
      "execution_count": null,
      "metadata": {
        "id": "nUwCzl598Tb2",
        "outputId": "bc428bf3-e084-41b4-8f14-f807b69538ab"
      },
      "outputs": [
        {
          "name": "stdout",
          "output_type": "stream",
          "text": [
            "{1, 2, 3, 20, 10}\n"
          ]
        }
      ],
      "source": [
        "s = {1, 2, 3}\n",
        "s |= {10, 20} # s = s | {10, 20} # объединение множества s с {10,20}\n",
        "print(s)      # s ^=, s &= и т.п."
      ]
    },
    {
      "cell_type": "markdown",
      "metadata": {
        "id": "7lnwxJTK8Tb2"
      },
      "source": [
        "### Словари (ассоциативные массивы)\n",
        "Обычный массив (в питоне это список) можно понимать как функцию, которая сопоставляет начальному отрезку натурального ряда какие-то значения.\n",
        "\n",
        "Представьте себе настоящий словарь или телефонную книжку. Имени человека соответствует номер телефона.\n",
        "\n",
        "Классическое использование словарей в анализе данных: хранить частоту слова в тексте.\n",
        "\n",
        "кот $\\rightarrow$ 10\n",
        "\n",
        "и $\\rightarrow$ 100\n",
        "\n",
        "Тейлора $\\rightarrow$ 2\n",
        "\n",
        "Словарь состоит из набора ключей и соответствующих им значений. Значения могут быть любыми объектами (также как и в списке, хранить можно произвольные объекты). А ключи могут быть почти любыми объектами, но только неизменяемыми. В частности числами, строками, кортежами. Список или множество не могут быть ключом.\n",
        "\n",
        "Одному ключу соответствует ровно одно значение. Но одно и то же значение, в принципе, можно сопоставить разным ключа"
      ]
    },
    {
      "cell_type": "markdown",
      "metadata": {
        "id": "VdWJ-Epl8Tb3"
      },
      "source": [
        "#### Создание словаря\n",
        "В фигурных скобках (как множество), через двоеточие ключ:значение"
      ]
    },
    {
      "cell_type": "code",
      "execution_count": null,
      "metadata": {
        "id": "1bOQHb-u8Tb4",
        "outputId": "a26994aa-faa5-4099-c148-c4fd0720c41c"
      },
      "outputs": [
        {
          "name": "stdout",
          "output_type": "stream",
          "text": [
            "{'кот': 10, 'и': 100, 'Тейлора': 2}\n"
          ]
        }
      ],
      "source": [
        "d1 = {\"кот\": 10, \"и\": 100, \"Тейлора\": 2}\n",
        "print(d1)"
      ]
    },
    {
      "cell_type": "markdown",
      "metadata": {
        "id": "3XqUAPfX8Tb4"
      },
      "source": [
        "Через функцию `dict()`. Обратите внимание, что тогда ключ-значение задаются не через двоеточие, а через знак присваивания. А строковые ключи пишем без кавычек — по сути мы создаем переменные с такими названиями и присваиваим им значения (а потом функция `dict()` уже превратит их в строки)."
      ]
    },
    {
      "cell_type": "code",
      "execution_count": null,
      "metadata": {
        "id": "WiFdP6Lg8Tb4",
        "outputId": "8fe32a1a-ba7d-4027-e67f-b661e99416ce"
      },
      "outputs": [
        {
          "name": "stdout",
          "output_type": "stream",
          "text": [
            "{'кот': 10, 'и': 100, 'Тейлора': 2}\n"
          ]
        }
      ],
      "source": [
        "d2 = dict(кот=10, и=100, Тейлора=2)\n",
        "print(d2) # Получили тот же результат, что выше"
      ]
    },
    {
      "cell_type": "markdown",
      "metadata": {
        "id": "FhkG6rch8Tb5"
      },
      "source": [
        "И третий способ — передаем функции `dict()` список списков или кортежей с парами ключ-значение."
      ]
    },
    {
      "cell_type": "code",
      "execution_count": null,
      "metadata": {
        "id": "JLVi9tu48Tb5",
        "outputId": "dffec644-12c7-4f0b-9a34-279270291378"
      },
      "outputs": [
        {
          "name": "stdout",
          "output_type": "stream",
          "text": [
            "{'кот': 10, 'и': 100, 'Тейлора': 2}\n"
          ]
        }
      ],
      "source": [
        "d3 = dict([(\"кот\", 10), (\"и\", 100), (\"Тейлора\", 2)]) # Перечисление (например, список) tuple\n",
        "print(d3)"
      ]
    },
    {
      "cell_type": "markdown",
      "metadata": {
        "id": "zmsC3Yld8Tb5"
      },
      "source": [
        "Помните, когда мы говорили про списки, мы обсуждали проблему того, что важно создавать именно копию объекта, чтобы сохранять исходный список. Копию словаря можно сделать так:"
      ]
    },
    {
      "cell_type": "code",
      "execution_count": null,
      "metadata": {
        "id": "okPG4xEX8Tb6",
        "outputId": "01e6228e-ced3-4043-ca65-cca650aef8a8"
      },
      "outputs": [
        {
          "name": "stdout",
          "output_type": "stream",
          "text": [
            "{'кот': 10, 'и': 100, 'Тейлора': 2}\n"
          ]
        }
      ],
      "source": [
        "d4 = dict(d3) # Фактически, копируем dict который строчкой выше\n",
        "print(d4)"
      ]
    },
    {
      "cell_type": "code",
      "execution_count": null,
      "metadata": {
        "id": "h825PE458Tb6",
        "outputId": "a2a3a919-7415-469e-c91b-d35f92c4ca7f"
      },
      "outputs": [
        {
          "data": {
            "text/plain": [
              "True"
            ]
          },
          "execution_count": 16,
          "metadata": {},
          "output_type": "execute_result"
        }
      ],
      "source": [
        "d1 == d2 == d3 == d4 # Содержание всех словарей одинаковое"
      ]
    },
    {
      "cell_type": "markdown",
      "metadata": {
        "id": "bXHCMhmr8Tb6"
      },
      "source": [
        "Пустой словарь можно создать двумя способами."
      ]
    },
    {
      "cell_type": "code",
      "execution_count": null,
      "metadata": {
        "id": "ZEj7thGg8Tb6",
        "outputId": "951fcdd6-483f-49f0-fae8-53d5e72cad57"
      },
      "outputs": [
        {
          "name": "stdout",
          "output_type": "stream",
          "text": [
            "{} {}\n"
          ]
        }
      ],
      "source": [
        "d2 = {} # Это пустой словарь (но не пустое множество)\n",
        "d4 = dict()\n",
        "print(d2, d4)"
      ]
    },
    {
      "cell_type": "markdown",
      "metadata": {
        "id": "E68Dz4Dr8Tb6"
      },
      "source": [
        "#### Операции со словарями\n",
        "\n",
        "Как мы уже говорили, словари неупорядоченные структуры и обратиться по индексу к объекту уже больше не удастся."
      ]
    },
    {
      "cell_type": "code",
      "execution_count": null,
      "metadata": {
        "id": "4y7mSOdO8Tb7",
        "outputId": "17ac5fea-678e-4138-9e22-2ed920d3ea36"
      },
      "outputs": [
        {
          "ename": "KeyError",
          "evalue": "1",
          "output_type": "error",
          "traceback": [
            "\u001b[1;31m---------------------------------------------------------------------------\u001b[0m",
            "\u001b[1;31mKeyError\u001b[0m                                  Traceback (most recent call last)",
            "\u001b[1;32m<ipython-input-18-4cda4cdd3f61>\u001b[0m in \u001b[0;36m<module>\u001b[1;34m\u001b[0m\n\u001b[1;32m----> 1\u001b[1;33m \u001b[0md1\u001b[0m\u001b[1;33m[\u001b[0m\u001b[1;36m1\u001b[0m\u001b[1;33m]\u001b[0m \u001b[1;31m# Выдаст ошибку во всех случах кроме того, если в вашем словаре вдруг есть ключ 1\u001b[0m\u001b[1;33m\u001b[0m\u001b[0m\n\u001b[0m",
            "\u001b[1;31mKeyError\u001b[0m: 1"
          ]
        }
      ],
      "source": [
        "d1[1] # Выдаст ошибку во всех случах кроме того, если в вашем словаре вдруг есть ключ 1"
      ]
    },
    {
      "cell_type": "markdown",
      "metadata": {
        "id": "fzh1cfZ28Tb7"
      },
      "source": [
        "Но можно обращаться к значению по ключу."
      ]
    },
    {
      "cell_type": "code",
      "execution_count": null,
      "metadata": {
        "id": "4SD4aJv98Tb7",
        "outputId": "eaa1fa88-49a0-49ca-a39f-7166cd17079f"
      },
      "outputs": [
        {
          "name": "stdout",
          "output_type": "stream",
          "text": [
            "10\n",
            "11\n"
          ]
        }
      ],
      "source": [
        "print(d1['кот'])\n",
        "d1[\"кот\"] = 11   # Так же как в списке по индексу —  можно присвоить новое значение по ключу\n",
        "print(d1['кот'])"
      ]
    },
    {
      "cell_type": "markdown",
      "metadata": {
        "id": "OuwbZY1C8Tb8"
      },
      "source": [
        "Можно создать новую пару ключ-значение. Для этого просто указываем в квадратных скобках название нового ключа."
      ]
    },
    {
      "cell_type": "code",
      "execution_count": null,
      "metadata": {
        "id": "socDcup48Tb8",
        "outputId": "93006212-9b1b-4bfc-e669-d9a063d39757"
      },
      "outputs": [
        {
          "name": "stdout",
          "output_type": "stream",
          "text": [
            "test\n"
          ]
        }
      ],
      "source": [
        "d1[1] = 'test'\n",
        "print(d1[1]) # Теперь работает!"
      ]
    },
    {
      "cell_type": "markdown",
      "metadata": {
        "id": "sL8NhduH8Tb8"
      },
      "source": [
        "Кроме обращения по ключу, можно достать значение с помощью метода `.get()`. Отличие работы метода в том, что если ключа еще нет в словаре, он не генерирует ошибку, а возвращает объект типа `None` (ничего). Это очень полезно в решении некоторых задач."
      ]
    },
    {
      "cell_type": "code",
      "execution_count": null,
      "metadata": {
        "id": "u86aqLbe8Tb8",
        "outputId": "7256d722-82f5-452a-9165-658c7de66f43"
      },
      "outputs": [
        {
          "name": "stdout",
          "output_type": "stream",
          "text": [
            "11\n",
            "None\n"
          ]
        },
        {
          "ename": "KeyError",
          "evalue": "'ктоо'",
          "output_type": "error",
          "traceback": [
            "\u001b[1;31m---------------------------------------------------------------------------\u001b[0m",
            "\u001b[1;31mKeyError\u001b[0m                                  Traceback (most recent call last)",
            "\u001b[1;32m<ipython-input-21-3e82bb80ba61>\u001b[0m in \u001b[0;36m<module>\u001b[1;34m\u001b[0m\n\u001b[0;32m      1\u001b[0m \u001b[0mprint\u001b[0m\u001b[1;33m(\u001b[0m\u001b[0md1\u001b[0m\u001b[1;33m.\u001b[0m\u001b[0mget\u001b[0m\u001b[1;33m(\u001b[0m\u001b[1;34m\"кот\"\u001b[0m\u001b[1;33m)\u001b[0m\u001b[1;33m)\u001b[0m  \u001b[1;31m# Вернул значение 11\u001b[0m\u001b[1;33m\u001b[0m\u001b[0m\n\u001b[0;32m      2\u001b[0m \u001b[0mprint\u001b[0m\u001b[1;33m(\u001b[0m\u001b[0md1\u001b[0m\u001b[1;33m.\u001b[0m\u001b[0mget\u001b[0m\u001b[1;33m(\u001b[0m\u001b[1;34m\"ктоо\"\u001b[0m\u001b[1;33m)\u001b[0m\u001b[1;33m)\u001b[0m \u001b[1;31m# Вернут None\u001b[0m\u001b[1;33m\u001b[0m\u001b[0m\n\u001b[1;32m----> 3\u001b[1;33m \u001b[0mprint\u001b[0m\u001b[1;33m(\u001b[0m\u001b[0md1\u001b[0m\u001b[1;33m[\u001b[0m\u001b[1;34m'ктоо'\u001b[0m\u001b[1;33m]\u001b[0m\u001b[1;33m)\u001b[0m     \u001b[1;31m# Ошибка\u001b[0m\u001b[1;33m\u001b[0m\u001b[0m\n\u001b[0m",
            "\u001b[1;31mKeyError\u001b[0m: 'ктоо'"
          ]
        }
      ],
      "source": [
        "print(d1.get(\"кот\"))  # Вернул значение 11\n",
        "print(d1.get(\"ктоо\")) # Вернут None\n",
        "print(d1['ктоо'])     # Ошибка"
      ]
    },
    {
      "cell_type": "markdown",
      "metadata": {
        "id": "Qn4tSqcO8Tb8"
      },
      "source": [
        "Также со словарями работают уже знакомые нам операции - проверка количества элементов, проверка на наличие объектов."
      ]
    },
    {
      "cell_type": "code",
      "execution_count": null,
      "metadata": {
        "id": "NN6pltzT8Tb8",
        "outputId": "a74512d8-cf5b-4334-9b39-0533962245b0"
      },
      "outputs": [
        {
          "name": "stdout",
          "output_type": "stream",
          "text": [
            "{'кот': 11, 'и': 100, 'Тейлора': 2, 1: 'test'}\n",
            "True\n",
            "True\n"
          ]
        }
      ],
      "source": [
        "print(d1)\n",
        "print(\"кот\" in d1)      # Проверка на наличие ключа\n",
        "print(\"ктоо\" not in d1) # Проверка на отстуствие ключа"
      ]
    },
    {
      "cell_type": "markdown",
      "metadata": {
        "id": "nJYntAtf8Tb9"
      },
      "source": [
        "Удалить отдельный ключ или же очистить весь словарь можно специальными операциями."
      ]
    },
    {
      "cell_type": "code",
      "execution_count": null,
      "metadata": {
        "id": "n1liQcji8Tb9",
        "outputId": "eccad803-6c9f-4953-b800-fa01315326d4"
      },
      "outputs": [
        {
          "name": "stdout",
          "output_type": "stream",
          "text": [
            "{'и': 100, 'Тейлора': 2, 1: 'test'}\n",
            "{}\n"
          ]
        }
      ],
      "source": [
        "del d1[\"кот\"] # Удалить ключ со своим значением\n",
        "print(d1)\n",
        "d1.clear()    # Удалить все\n",
        "print(d1)"
      ]
    },
    {
      "cell_type": "markdown",
      "metadata": {
        "id": "iu7xeaps8Tb9"
      },
      "source": [
        "#### Перебор элементов словаря\n",
        "Со словарями тоже можно использовать цикл `for`. Но тут есть некоторые хитрости. Если просто применить цикл `for` к словарю, то нам напечаются только ключи."
      ]
    },
    {
      "cell_type": "code",
      "execution_count": null,
      "metadata": {
        "id": "e8J0W2Gi8Tb9",
        "outputId": "9cec6329-c27c-4aa6-d22b-4baff3360e3b"
      },
      "outputs": [
        {
          "name": "stdout",
          "output_type": "stream",
          "text": [
            "кот\n",
            "и\n",
            "Тейлора\n"
          ]
        }
      ],
      "source": [
        "d = {\"кот\": 10, \"и\": 100, \"Тейлора\": 2}\n",
        "\n",
        "for something in d:\n",
        "    print(something)"
      ]
    },
    {
      "cell_type": "markdown",
      "metadata": {
        "id": "AGolU8IJ8Tb9"
      },
      "source": [
        "В принципе добыть значения несложно."
      ]
    },
    {
      "cell_type": "code",
      "execution_count": null,
      "metadata": {
        "id": "KFWSVq9Y8Tb9",
        "outputId": "97f0e463-497f-4b86-9d26-aa3f1b3eae35"
      },
      "outputs": [
        {
          "name": "stdout",
          "output_type": "stream",
          "text": [
            "10\n",
            "100\n",
            "2\n",
            "----------\n",
            "кот 10\n",
            "и 100\n",
            "Тейлора 2\n"
          ]
        }
      ],
      "source": [
        "d = {\"кот\": 10, \"и\": 100, \"Тейлора\": 2}\n",
        "\n",
        "for something in d:\n",
        "    print(d[something]) # Передаем ключ в словарь и печатаем только значение\n",
        "print('-'*10)\n",
        "    \n",
        "for something in d:\n",
        "    print(something, d[something]) # Печатаем и ключ и значение"
      ]
    },
    {
      "cell_type": "markdown",
      "metadata": {
        "id": "oMhtXLIg8Tb-"
      },
      "source": [
        "Так же у нас есть специальные методы словарей, которые могут обратиться сразу к ключам, значениям или парам ключ-значение."
      ]
    },
    {
      "cell_type": "code",
      "execution_count": null,
      "metadata": {
        "id": "DE96Qzgu8Tb-",
        "outputId": "7de44097-3e3e-4a72-d8a0-4b05b015b866"
      },
      "outputs": [
        {
          "name": "stdout",
          "output_type": "stream",
          "text": [
            "d.keys():\n",
            "ключу ' кот ' соответствует значение 10\n",
            "ключу ' и ' соответствует значение 100\n",
            "ключу ' Тейлора ' соответствует значение 2\n",
            "d.values():\n",
            "10\n",
            "100\n",
            "2\n",
            "d.items():\n",
            "ключу ' кот ' соответствует значение 10\n",
            "ключу ' и ' соответствует значение 100\n",
            "ключу ' Тейлора ' соответствует значение 2\n"
          ]
        }
      ],
      "source": [
        "print(\"d.keys():\")\n",
        "for key in d.keys(): # d.keys() —  перечисление всех ключей словаря\n",
        "    print(f\"ключу '\",key, \"' соответствует значение\",d[key])\n",
        "    \n",
        "print(\"d.values():\")\n",
        "for value in d.values(): # d.values() —  перечисление всех значений словаря\n",
        "     print(value) # Тут уже ключи не достанем, потому что по значению обратить к ключу нельзя\n",
        "\n",
        "print(\"d.items():\")\n",
        "for key, value in d.items(): # d.items() —  перечисление всех записей в словре как tuple\n",
        "    print(\"ключу '\",key, \"' соответствует значение\", value)"
      ]
    },
    {
      "cell_type": "markdown",
      "metadata": {
        "id": "McxUkeVM8Tb-"
      },
      "source": [
        "Отдельно следует обратить внимание, как работает функция `sorted()`. Примененная к словарю — она отсортирует словарям по ключам. Но часто нам нужно отсортировать словарь по значениям, давайте подумаем, как это сделать."
      ]
    },
    {
      "cell_type": "code",
      "execution_count": null,
      "metadata": {
        "id": "___VT-MH8Tb-",
        "outputId": "2e7a8b47-6e15-41ea-83b1-1006d2ca4042"
      },
      "outputs": [
        {
          "name": "stdout",
          "output_type": "stream",
          "text": [
            "a 2\n",
            "c 100\n",
            "w 5\n",
            "b 3\n",
            "----------\n",
            "a 2\n",
            "b 3\n",
            "c 100\n",
            "w 5\n"
          ]
        }
      ],
      "source": [
        "d = dict(a=2, c=100, w=5, b=3)\n",
        "\n",
        "for key in d:\n",
        "    print(key, d[key]) # Неотсортированный вывод\n",
        "print('-'*10)\n",
        "\n",
        "for key in sorted(d):\n",
        "    print(key, d[key]) # Отсортированный вывод"
      ]
    },
    {
      "cell_type": "markdown",
      "metadata": {
        "id": "wQ_aH9lO8Tb-"
      },
      "source": [
        "Теперь давайте попробуем отсортировать только значения и потом через отдельный цикл вывести в нужном порядке и ключи."
      ]
    },
    {
      "cell_type": "code",
      "execution_count": null,
      "metadata": {
        "id": "xwYtvsBE8Tb-",
        "outputId": "4916349d-67f8-4dd9-f7aa-0fee58eaa2c8"
      },
      "outputs": [
        {
          "name": "stdout",
          "output_type": "stream",
          "text": [
            "[2, 3, 5, 100]\n",
            "a 2\n",
            "b 3\n",
            "w 5\n",
            "c 100\n"
          ]
        }
      ],
      "source": [
        "print(sorted(d.values()))\n",
        "      \n",
        "for value in sorted(d.values()): # Сортируем значения\n",
        "    for key in d:                # Запускаем цикл внутри цикла, чтобы теперь проверять, каким ключам соответствуют значения\n",
        "        if d[key] == value:      # Проверяем лежит ли в этом ключе значение\n",
        "            print(key, value)    # Если да, то печатаем пару"
      ]
    },
    {
      "cell_type": "markdown",
      "metadata": {
        "id": "nxZS9yor8Tb_"
      },
      "source": [
        "# Задачи для тренировки\n",
        "Часть из этих задач мы решим в классе. Но если мы даже не успеем - попытайтесь сделать их дома сами.\n",
        "\n",
        "### Задание 1. Количество различных чисел\n",
        "\n",
        "Дан список чисел, который может содержать до 100000 чисел. \n",
        "\n",
        "+ Определите, сколько в нем встречается различных чисел.\n",
        "+ Определите, сколько раз в нем встречается каждое уникальное число. По итогу получите словарь, где ключ — уникальный элемент списка, а значение — сколько раз этот элемент встречается в списке."
      ]
    },
    {
      "cell_type": "code",
      "execution_count": null,
      "metadata": {
        "id": "1_TORCse8Tb_",
        "outputId": "c4c46909-8405-4ee4-d270-0448fcbd2d8b"
      },
      "outputs": [
        {
          "name": "stdout",
          "output_type": "stream",
          "text": [
            "4 5 6 8 3 4 5 2 3 6 8\n",
            "Количество уникальных элементов:6\n"
          ]
        }
      ],
      "source": [
        "nums = input().split()\n",
        "\n",
        "print(f'Количество уникальных элементов:{len(set(nums))}')"
      ]
    },
    {
      "cell_type": "code",
      "execution_count": null,
      "metadata": {
        "id": "kp14KDPD8Tb_"
      },
      "outputs": [],
      "source": [
        "nums_dict = {}\n",
        "\n",
        "for i in set(nums):\n",
        "    nums_dict[i] = nums.count(i)"
      ]
    },
    {
      "cell_type": "code",
      "execution_count": null,
      "metadata": {
        "id": "Dgkq4oWx8Tb_",
        "outputId": "62ba7cb4-de10-42a3-a0f5-22b9f61db6df"
      },
      "outputs": [
        {
          "data": {
            "text/plain": [
              "{'8': 2, '6': 2, '3': 2, '2': 1, '5': 2, '4': 2}"
            ]
          },
          "execution_count": 3,
          "metadata": {},
          "output_type": "execute_result"
        }
      ],
      "source": [
        "nums_dict"
      ]
    },
    {
      "cell_type": "markdown",
      "metadata": {
        "id": "q9jDOvnw8Tb_"
      },
      "source": [
        "### Задание 2. Объединение словарей\n",
        "\n",
        "Напишите программу, которая объединяет значения из двух списков.\n",
        "\n",
        "**Ввод:**   \n",
        "shops = [{'товар': 'яблоки', 'количество': 400}, {'товар': 'конфеты', 'количество': 300}, {'товар': 'яблоки', 'количество': 750}]  \n",
        "**Вывод:**  \n",
        "{'яблоки': 1150, 'конфеты': 300}\n"
      ]
    },
    {
      "cell_type": "code",
      "execution_count": null,
      "metadata": {
        "id": "b6ekXTAF8Tb_",
        "outputId": "dbf484a3-46a8-4576-8c6f-404fbe28301e"
      },
      "outputs": [
        {
          "name": "stdout",
          "output_type": "stream",
          "text": [
            "{'товар': 'яблоки', 'количество': 400}\n",
            "{'товар': 'конфеты', 'количество': 300}\n",
            "{'товар': 'яблоки', 'количество': 750}\n"
          ]
        }
      ],
      "source": [
        "shops = [{'товар': 'яблоки', 'количество': 400}, \n",
        "         {'товар': 'конфеты', 'количество': 300}, \n",
        "         {'товар': 'яблоки', 'количество': 750}]\n",
        "\n",
        "for i in shops:\n",
        "    print(i)"
      ]
    },
    {
      "cell_type": "code",
      "execution_count": null,
      "metadata": {
        "id": "DKww_9yW8TcA"
      },
      "outputs": [],
      "source": [
        "new_dict = {}\n",
        "\n",
        "for i in shops:\n",
        "    if i['товар'] in new_dict:\n",
        "        new_dict[i['товар']] += i['количество']\n",
        "    else:\n",
        "        new_dict[i['товар']] = i['количество']"
      ]
    },
    {
      "cell_type": "code",
      "execution_count": null,
      "metadata": {
        "id": "ViX49GGP8TcA",
        "outputId": "9c68c8f0-41cd-4f89-fdef-9fe0ddce68a1"
      },
      "outputs": [
        {
          "data": {
            "text/plain": [
              "{'яблоки': 1150, 'конфеты': 300}"
            ]
          },
          "execution_count": 36,
          "metadata": {},
          "output_type": "execute_result"
        }
      ],
      "source": [
        "new_dict"
      ]
    }
  ],
  "metadata": {
    "kernelspec": {
      "display_name": "Python 3",
      "language": "python",
      "name": "python3"
    },
    "language_info": {
      "codemirror_mode": {
        "name": "ipython",
        "version": 3
      },
      "file_extension": ".py",
      "mimetype": "text/x-python",
      "name": "python",
      "nbconvert_exporter": "python",
      "pygments_lexer": "ipython3",
      "version": "3.6.5"
    },
    "colab": {
      "name": "sw_06.ipynb",
      "provenance": [],
      "collapsed_sections": []
    }
  },
  "nbformat": 4,
  "nbformat_minor": 0
}